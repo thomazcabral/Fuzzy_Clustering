{
 "cells": [
  {
   "cell_type": "markdown",
   "id": "e1fa0c66e1e20fab",
   "metadata": {},
   "source": [
    "# Multivariate Fuzzy C-means method: Implementation\n",
    "\n",
    "## Equations\n",
    "\n",
    "### $J= \\sum_{i=1}^{c} \\sum_{k=1}^{n} \\sum_{j=1}^{p} \\left(u_{ijk} \\right)^{m} d_{ijk}$ - Objective function to minimize.\n",
    "\n",
    "### $d_{ijk} = \\left(x_{jk} - y_{ij} \\right)^{2}$ - euclidian distance squared.\n",
    "\n",
    "### $ y_{ij} = \\frac{\\sum_{k=1}^{n} \\left(u_{ijk} \\right)^{m} x_{jk}} {\\sum_{k=1}^{n} \\left(u_{ijk}\\right)^{m}}$ - prototype coordinate of a given cluster in feature j.\n",
    "\n",
    "### $ u_{ijk} =  \\left[\\sum_{h=1}^{c}\\sum_{l=1}^{p} \\left(\\frac{d_{ijk}}{d_{hlk}}\\right)^{(1/(m-1))}  \\right]^{-1} $ - membership degree of pattern k in cluster $C_{i}$ on the feature j.\n",
    "\n",
    "### $\\delta_{ik} = \\sum_{j=1}^{p} u_{ijk}$ - represents an aggregation measure for all the p features.\n",
    "\n",
    "## Constraints:\n",
    "\n",
    "### - $u_{ijk} \\in [0, 1]$ for all i, j and k;\n",
    "### - $0 < \\sum_{j=1}^{p} \\sum_{k=1}^{n} u_{ijk} < n$ for all i and\n",
    "### - $\\sum_{i=1}^{c}\\sum_{j=1}^{p}u_{ijk} = 1$ for all k."
   ]
  },
  {
   "cell_type": "code",
   "execution_count": 90,
   "id": "d24bcb9352fbc662",
   "metadata": {
    "ExecuteTime": {
     "end_time": "2024-07-23T22:47:35.174123Z",
     "start_time": "2024-07-23T22:47:33.507128Z"
    }
   },
   "outputs": [],
   "source": [
    "import numpy as np\n",
    "import pandas as pd\n",
    "from sklearn.metrics import adjusted_rand_score\n",
    "import seaborn as sns"
   ]
  },
  {
   "cell_type": "code",
   "execution_count": 91,
   "id": "0615bda0",
   "metadata": {},
   "outputs": [],
   "source": [
    "df = sns.load_dataset('iris')\n",
    "df[\"species\"].replace({\"setosa\": 0, \"versicolor\": 1, \"virginica\": 2}, inplace=True)\n",
    "df.columns = [\"SepalLengthCm\", \"SepalWidthCm\", \"PetalLengthCm\", \"PetalWidthCm\", \"Class\"]\n",
    "labels = df[\"Class\"].values\n",
    "df.drop(\"Class\", axis=1, inplace=True)\n",
    "dados = df.to_numpy()"
   ]
  },
  {
   "cell_type": "code",
   "execution_count": 92,
   "id": "549c38ec38602e04",
   "metadata": {},
   "outputs": [],
   "source": [
    "class MFCM():\n",
    "    def __init__(self, c, X, m):\n",
    "        self.c = c\n",
    "        self.n = X.shape[0]\n",
    "        self.p = X.shape[1]\n",
    "        self.m = m\n",
    "    \n",
    "    def initialize_u(self):\n",
    "        return np.random.dirichlet(alpha=np.ones(self.c * self.p),\n",
    "                                   size=self.n).reshape(self.n, self.c, self.p)\n",
    "    \n",
    "    def find_centroides(self, X, U):\n",
    "        return np.sum((U ** self.m) * X[:, np.newaxis, :], axis=0) / np.sum(U ** self.m, axis=0)\n",
    "    \n",
    "    def get_distances(self, X, V): # as vezes tem umas distâncias muito pequenas\n",
    "        return (X[:, np.newaxis, :] - V[np.newaxis, :, :]) ** 2\n",
    "    \n",
    "    def update_u(self, D):\n",
    "        ratio = (D[:, np.newaxis, np.newaxis, :, :] / D[:, :, :, np.newaxis, np.newaxis]) ** (1/(self.m-1))\n",
    "        return 1 / (np.sum(ratio, axis=(3, 4)))\n",
    "    \n",
    "    def get_objective_function(self, U, D):\n",
    "        return np.sum((U ** self.m)*D)"
   ]
  },
  {
   "cell_type": "code",
   "execution_count": 93,
   "id": "024b9c00",
   "metadata": {},
   "outputs": [],
   "source": [
    "def mfcm_run(dados, num_clusters, m=2, max_iter=10**3, epsilon=1e-5):\n",
    "    mfcm = MFCM(c=num_clusters, X=dados, m=m) # create the MFCM object\n",
    "    \n",
    "    U = mfcm.initialize_u() # initialize the membership matrix\n",
    "    \n",
    "    for _ in range(max_iter):\n",
    "        #print(_)\n",
    "        centroids = mfcm.find_centroides(dados, U)\n",
    "        D = mfcm.get_distances(dados, centroids)\n",
    "        new_U = mfcm.update_u(D)\n",
    "        if np.linalg.norm(U - new_U) < epsilon:\n",
    "            break\n",
    "        U = new_U\n",
    "    \n",
    "    #print(f\"Membership matrix:\\n{U}\")\n",
    "    Delta = np.sum(U, axis=2)  # summing over the second axis (variables `j`)\n",
    "    #print(f\"Delta matrix:\\n{Delta}\")\n",
    "    \n",
    "    return centroids, U, Delta"
   ]
  },
  {
   "cell_type": "code",
   "execution_count": 94,
   "id": "5915dfc5",
   "metadata": {},
   "outputs": [],
   "source": [
    "#dados = np.array([[1, 1], [1, 2], [2, 1], [2, 2], [4, 4], [4, 5], [5, 4], [5, 5]])\n",
    "#centroids, U, Delta = mfcm_run(dados, 3, m=2)"
   ]
  },
  {
   "cell_type": "code",
   "execution_count": 95,
   "id": "eb6ea49f",
   "metadata": {},
   "outputs": [],
   "source": [
    "def monte_carlo_simulation(dados, labels, num_clusters, num_trials):\n",
    "    results = []\n",
    "    for _ in range(num_trials):\n",
    "        centroids, U, Delta = mfcm_run(dados, num_clusters)\n",
    "        #print(f\"Centroids:\\n{centroids}\")\n",
    "        if np.array_equal(centroids[0], centroids[1]) or np.array_equal(centroids[0], centroids[2]) or np.array_equal(centroids[1], centroids[2]):\n",
    "            print(\"Centroids are equal\")\n",
    "            exemplo_matriz = U\n",
    "        predicted_labels = np.argmax(Delta, axis=1)\n",
    "        #print(predicted_labels)\n",
    "        ari = adjusted_rand_score(labels, predicted_labels)\n",
    "        results.append(ari)\n",
    "    mean_rand_index = np.mean(results)\n",
    "    std_rand_index = np.std(results)\n",
    "    return mean_rand_index, std_rand_index, exemplo_matriz"
   ]
  },
  {
   "cell_type": "code",
   "execution_count": 96,
   "id": "db4a1eec",
   "metadata": {},
   "outputs": [
    {
     "name": "stdout",
     "output_type": "stream",
     "text": [
      "Centroids are equal\n",
      "Centroids are equal\n",
      "Centroids are equal\n",
      "Centroids are equal\n",
      "Centroids are equal\n",
      "Centroids are equal\n",
      "Centroids are equal\n",
      "Centroids are equal\n",
      "Centroids are equal\n",
      "Centroids are equal\n",
      "Centroids are equal\n",
      "Centroids are equal\n",
      "Centroids are equal\n",
      "Centroids are equal\n",
      "Centroids are equal\n",
      "Centroids are equal\n",
      "Centroids are equal\n",
      "Centroids are equal\n",
      "Centroids are equal\n",
      "Centroids are equal\n",
      "Centroids are equal\n",
      "Centroids are equal\n",
      "Centroids are equal\n",
      "Centroids are equal\n",
      "Centroids are equal\n",
      "Centroids are equal\n",
      "Centroids are equal\n",
      "Centroids are equal\n",
      "Centroids are equal\n",
      "Centroids are equal\n",
      "Centroids are equal\n",
      "Centroids are equal\n",
      "Centroids are equal\n",
      "Centroids are equal\n",
      "Mean ARI: 0.5212346670417246\n",
      "Std ARI: 0.09169499694768228\n"
     ]
    }
   ],
   "source": [
    "num_clusters = 3\n",
    "num_trials = 100\n",
    "mean_rand_index, std_rand_index, U_exemplo = monte_carlo_simulation(dados, labels, num_clusters, num_trials)\n",
    "\n",
    "print(f\"Mean ARI: {mean_rand_index}\")\n",
    "print(f\"Std ARI: {std_rand_index}\")"
   ]
  },
  {
   "cell_type": "code",
   "execution_count": 97,
   "id": "3d0c5b6b",
   "metadata": {},
   "outputs": [
    {
     "data": {
      "text/plain": [
       "array([[4.97521453, 3.81245839, 5.09127594, 0.28939754],\n",
       "       [4.97521453, 3.81245839, 5.09127594, 0.28939754],\n",
       "       [4.97521453, 3.81245839, 1.50896196, 1.93417016]])"
      ]
     },
     "execution_count": 97,
     "metadata": {},
     "output_type": "execute_result"
    }
   ],
   "source": [
    "mfcm = MFCM(c=num_clusters, X=dados, m=2)\n",
    "centroids = mfcm.find_centroides(dados, U_exemplo)\n",
    "centroids"
   ]
  }
 ],
 "metadata": {
  "kernelspec": {
   "display_name": "Python 3",
   "language": "python",
   "name": "python3"
  },
  "language_info": {
   "codemirror_mode": {
    "name": "ipython",
    "version": 3
   },
   "file_extension": ".py",
   "mimetype": "text/x-python",
   "name": "python",
   "nbconvert_exporter": "python",
   "pygments_lexer": "ipython3",
   "version": "3.11.3"
  }
 },
 "nbformat": 4,
 "nbformat_minor": 5
}
