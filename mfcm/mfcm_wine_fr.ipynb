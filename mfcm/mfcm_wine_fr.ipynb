{
 "cells": [
  {
   "cell_type": "markdown",
   "id": "e1fa0c66e1e20fab",
   "metadata": {},
   "source": [
    "# Multivariate Fuzzy C-means method: Implementation\n",
    "\n",
    "## Equations\n",
    "\n",
    "### $J= \\sum_{i=1}^{c} \\sum_{k=1}^{n} \\sum_{j=1}^{p} \\left(u_{ijk} \\right)^{m} d_{ijk}$ - Objective function to minimize.\n",
    "\n",
    "### $d_{ijk} = \\left(x_{jk} - y_{ij} \\right)^{2}$ - euclidian distance squared.\n",
    "\n",
    "### $ y_{ij} = \\frac{\\sum_{k=1}^{n} \\left(u_{ijk} \\right)^{m} x_{jk}} {\\sum_{k=1}^{n} \\left(u_{ijk}\\right)^{m}}$ - prototype coordinate of a given cluster in feature j.\n",
    "\n",
    "### $ u_{ijk} =  \\left[\\sum_{h=1}^{c}\\sum_{l=1}^{p} \\left(\\frac{d_{ijk}}{d_{hlk}}\\right)^{(1/(m-1))}  \\right]^{-1} $ - membership degree of pattern k in cluster $C_{i}$ on the feature j.\n",
    "\n",
    "### $\\delta_{ik} = \\sum_{j=1}^{p} u_{ijk}$ - represents an aggregation measure for all the p features.\n",
    "\n",
    "## Constraints:\n",
    "\n",
    "### - $u_{ijk} \\in [0, 1]$ for all i, j and k;\n",
    "### - $0 < \\sum_{j=1}^{p} \\sum_{k=1}^{n} u_{ijk} < n$ for all i and\n",
    "### - $\\sum_{i=1}^{c}\\sum_{j=1}^{p}u_{ijk} = 1$ for all k."
   ]
  },
  {
   "cell_type": "markdown",
   "id": "8a6aa752",
   "metadata": {},
   "source": [
    "## Importando bibliotecas"
   ]
  },
  {
   "cell_type": "code",
   "execution_count": 1,
   "id": "d24bcb9352fbc662",
   "metadata": {
    "ExecuteTime": {
     "end_time": "2024-07-23T22:47:35.174123Z",
     "start_time": "2024-07-23T22:47:33.507128Z"
    }
   },
   "outputs": [],
   "source": [
    "import numpy as np\n",
    "import pandas as pd\n",
    "import seaborn as sns"
   ]
  },
  {
   "cell_type": "markdown",
   "id": "2ae6467e",
   "metadata": {},
   "source": [
    "## Tratamento de dados"
   ]
  },
  {
   "cell_type": "code",
   "execution_count": null,
   "id": "0615bda0",
   "metadata": {},
   "outputs": [],
   "source": [
    "df = pd.read_csv('wine.csv')\n",
    "df = df.rename(columns={'Wine': 'Class'})\n",
    "df[\"Class\"].replace({1: 0, 2: 1, 3: 2}, inplace=True)\n",
    "labels = df[\"Class\"].values\n",
    "df.drop(\"Class\", axis=1, inplace=True)\n",
    "dados = df.to_numpy()"
   ]
  },
  {
   "cell_type": "markdown",
   "id": "481f9be8",
   "metadata": {},
   "source": [
    "## Agrupamento"
   ]
  },
  {
   "cell_type": "code",
   "execution_count": 3,
   "id": "549c38ec38602e04",
   "metadata": {},
   "outputs": [],
   "source": [
    "class MFCM():\n",
    "    def __init__(self, c, X, m):\n",
    "        self.c = c\n",
    "        self.n = X.shape[0]\n",
    "        self.p = X.shape[1]\n",
    "        self.m = m\n",
    "    \n",
    "    def initialize_u(self):\n",
    "        return np.random.dirichlet(alpha=np.ones(self.c * self.p),\n",
    "                                   size=self.n).reshape(self.n, self.c, self.p)\n",
    "    \n",
    "    def find_centroides(self, X, U):\n",
    "        return np.sum((U ** self.m) * X[:, np.newaxis, :], axis=0) / np.sum(U ** self.m, axis=0)\n",
    "    \n",
    "    def get_distances(self, X, V): # as vezes tem umas distâncias muito pequenas\n",
    "        return (X[:, np.newaxis, :] - V[np.newaxis, :, :]) ** 2\n",
    "    \n",
    "    def update_u(self, D):\n",
    "        ratio = (D[:, np.newaxis, np.newaxis, :, :] / D[:, :, :, np.newaxis, np.newaxis]) ** (1/(self.m-1))\n",
    "        return 1 / (np.sum(ratio, axis=(3, 4)))\n",
    "    \n",
    "    def get_objective_function(self, U, D):\n",
    "        return np.sum((U ** self.m)*D)"
   ]
  },
  {
   "cell_type": "markdown",
   "id": "48bc28b4",
   "metadata": {},
   "source": [
    "## Clustering"
   ]
  },
  {
   "cell_type": "code",
   "execution_count": 4,
   "id": "024b9c00",
   "metadata": {},
   "outputs": [],
   "source": [
    "def mfcm_run(dados, num_clusters, m=2, max_iter=10**3, epsilon=1e-5):\n",
    "    mfcm = MFCM(c=num_clusters, X=dados, m=m) # create the MFCM object\n",
    "    \n",
    "    U = mfcm.initialize_u() # initialize the membership matrix\n",
    "    \n",
    "    for _ in range(max_iter):\n",
    "        centroids = mfcm.find_centroides(dados, U)\n",
    "        D = mfcm.get_distances(dados, centroids)\n",
    "        new_U = mfcm.update_u(D)\n",
    "        if np.linalg.norm(U - new_U) < epsilon:\n",
    "            break\n",
    "        U = new_U\n",
    "    \n",
    "    Delta = np.sum(U, axis=2)  # summing over the second axis (variables `j`)\n",
    "    \n",
    "    return centroids, U, Delta"
   ]
  },
  {
   "cell_type": "markdown",
   "id": "8cd45289",
   "metadata": {},
   "source": [
    "## Fuzzyficação dos labels"
   ]
  },
  {
   "cell_type": "code",
   "execution_count": 5,
   "id": "8bb81d35",
   "metadata": {},
   "outputs": [],
   "source": [
    "def crisp_to_fuzzy(y, n_clusters): # transforma o dataset em fuzzy\n",
    "    fuzzy_labels = np.zeros((len(y), n_clusters)) # cria uma array do dataset preenchida só com zeros\n",
    "    for i, label in enumerate(y):\n",
    "        fuzzy_labels[i, label] = 1 # com base na classe, o zero é substituído por um\n",
    "    return fuzzy_labels\n",
    "\n",
    "labels = crisp_to_fuzzy(labels, 3)"
   ]
  },
  {
   "cell_type": "markdown",
   "id": "770ea77c",
   "metadata": {},
   "source": [
    "## Índice de Rand Difuso"
   ]
  },
  {
   "cell_type": "code",
   "execution_count": 6,
   "id": "322a5151",
   "metadata": {},
   "outputs": [],
   "source": [
    "def pertinence_distance(delta_k, delta_k_linha, c):\n",
    "    # calcula a distância entre δ_k e δ_k' (matrizes de pertinência)\n",
    "    return (1/c) * np.sum((delta_k - delta_k_linha) ** 2)\n",
    "\n",
    "def fuzzy_rand_index(particao1, particao2, c):\n",
    "    n = particao1.shape[0]\n",
    "    total_sum = 0\n",
    "\n",
    "    for k in range(n):\n",
    "        for k_linha in range(k+1, n):\n",
    "            if k != k_linha:\n",
    "                # calcula a métrica para P\n",
    "                delta_k = particao1[k]\n",
    "                delta_k_prime = particao1[k_linha]\n",
    "                EP = 1 - pertinence_distance(delta_k, delta_k_prime, c)\n",
    "\n",
    "                # calcula a métrica para Q\n",
    "                delta_k_Q = particao2[k]\n",
    "                delta_k_prime_Q = particao2[k_linha]\n",
    "                EQ = 1 - pertinence_distance(delta_k_Q, delta_k_prime_Q, c)\n",
    "\n",
    "                total_sum += np.abs(EP - EQ) # soma a diferença absoluta entre EP e EQ\n",
    "\n",
    "    denominador = n * (n - 1) / 2\n",
    "    if denominador == 0:\n",
    "        raise ValueError\n",
    "\n",
    "    return 1- (total_sum / denominador)"
   ]
  },
  {
   "cell_type": "markdown",
   "id": "f064e032",
   "metadata": {},
   "source": [
    "## Simulação de Monte Carlo"
   ]
  },
  {
   "cell_type": "code",
   "execution_count": 9,
   "id": "eb6ea49f",
   "metadata": {},
   "outputs": [],
   "source": [
    "def monte_carlo_simulation(dados, labels, num_clusters, num_trials):\n",
    "    results = []\n",
    "    for _ in range(num_trials):\n",
    "        centroids, U, Delta = mfcm_run(dados, num_clusters)\n",
    "        fr = fuzzy_rand_index(labels, Delta, num_clusters)\n",
    "        results.append(fr)\n",
    "    mean_fr = np.mean(results)\n",
    "    std_fr = np.std(results)\n",
    "    return mean_fr, std_fr"
   ]
  },
  {
   "cell_type": "code",
   "execution_count": 10,
   "id": "db4a1eec",
   "metadata": {},
   "outputs": [
    {
     "name": "stdout",
     "output_type": "stream",
     "text": [
      "Mean ARI: 0.6870709007797062\n",
      "Std ARI: 0.004519741742797884\n"
     ]
    }
   ],
   "source": [
    "num_clusters = 3\n",
    "num_trials = 100\n",
    "mean_fr, std_fr = monte_carlo_simulation(dados, labels, num_clusters, num_trials)\n",
    "\n",
    "print(f\"Mean ARI: {mean_fr}\")\n",
    "print(f\"Std ARI: {std_fr}\")"
   ]
  }
 ],
 "metadata": {
  "kernelspec": {
   "display_name": "Python 3",
   "language": "python",
   "name": "python3"
  },
  "language_info": {
   "codemirror_mode": {
    "name": "ipython",
    "version": 3
   },
   "file_extension": ".py",
   "mimetype": "text/x-python",
   "name": "python",
   "nbconvert_exporter": "python",
   "pygments_lexer": "ipython3",
   "version": "3.11.3"
  }
 },
 "nbformat": 4,
 "nbformat_minor": 5
}
