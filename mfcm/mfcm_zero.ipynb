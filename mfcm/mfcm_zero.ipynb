{
 "cells": [
  {
   "cell_type": "code",
   "execution_count": 14,
   "id": "3dc9492b",
   "metadata": {},
   "outputs": [],
   "source": [
    "import pandas as pd\n",
    "import numpy as np"
   ]
  },
  {
   "cell_type": "markdown",
   "id": "edb1ea60",
   "metadata": {},
   "source": [
    "### 0. Tratamento de dados"
   ]
  },
  {
   "cell_type": "code",
   "execution_count": 15,
   "id": "c7550d3f",
   "metadata": {},
   "outputs": [
    {
     "name": "stderr",
     "output_type": "stream",
     "text": [
      "/var/folders/rd/2w0dpjn11nz05hr2v2bp3zy80000gn/T/ipykernel_935/2586103573.py:4: FutureWarning: A value is trying to be set on a copy of a DataFrame or Series through chained assignment using an inplace method.\n",
      "The behavior will change in pandas 3.0. This inplace method will never work because the intermediate object on which we are setting values always behaves as a copy.\n",
      "\n",
      "For example, when doing 'df[col].method(value, inplace=True)', try using 'df.method({col: value}, inplace=True)' or df[col] = df[col].method(value) instead, to perform the operation inplace on the original object.\n",
      "\n",
      "\n",
      "  df[\"Species\"].replace({\"Iris-setosa\": 0, \"Iris-versicolor\": 1, \"Iris-virginica\": 2}, inplace=True)\n",
      "/var/folders/rd/2w0dpjn11nz05hr2v2bp3zy80000gn/T/ipykernel_935/2586103573.py:4: FutureWarning: Downcasting behavior in `replace` is deprecated and will be removed in a future version. To retain the old behavior, explicitly call `result.infer_objects(copy=False)`. To opt-in to the future behavior, set `pd.set_option('future.no_silent_downcasting', True)`\n",
      "  df[\"Species\"].replace({\"Iris-setosa\": 0, \"Iris-versicolor\": 1, \"Iris-virginica\": 2}, inplace=True)\n"
     ]
    },
    {
     "data": {
      "text/plain": [
       "array([[5.1, 3.5, 1.4, 0.2],\n",
       "       [4.9, 3. , 1.4, 0.2],\n",
       "       [4.7, 3.2, 1.3, 0.2],\n",
       "       [4.6, 3.1, 1.5, 0.2],\n",
       "       [5. , 3.6, 1.4, 0.2],\n",
       "       [5.4, 3.9, 1.7, 0.4],\n",
       "       [4.6, 3.4, 1.4, 0.3],\n",
       "       [5. , 3.4, 1.5, 0.2],\n",
       "       [4.4, 2.9, 1.4, 0.2],\n",
       "       [4.9, 3.1, 1.5, 0.1],\n",
       "       [5.4, 3.7, 1.5, 0.2],\n",
       "       [4.8, 3.4, 1.6, 0.2],\n",
       "       [4.8, 3. , 1.4, 0.1],\n",
       "       [4.3, 3. , 1.1, 0.1],\n",
       "       [5.8, 4. , 1.2, 0.2],\n",
       "       [5.7, 4.4, 1.5, 0.4],\n",
       "       [5.4, 3.9, 1.3, 0.4],\n",
       "       [5.1, 3.5, 1.4, 0.3],\n",
       "       [5.7, 3.8, 1.7, 0.3],\n",
       "       [5.1, 3.8, 1.5, 0.3],\n",
       "       [5.4, 3.4, 1.7, 0.2],\n",
       "       [5.1, 3.7, 1.5, 0.4],\n",
       "       [4.6, 3.6, 1. , 0.2],\n",
       "       [5.1, 3.3, 1.7, 0.5],\n",
       "       [4.8, 3.4, 1.9, 0.2],\n",
       "       [5. , 3. , 1.6, 0.2],\n",
       "       [5. , 3.4, 1.6, 0.4],\n",
       "       [5.2, 3.5, 1.5, 0.2],\n",
       "       [5.2, 3.4, 1.4, 0.2],\n",
       "       [4.7, 3.2, 1.6, 0.2],\n",
       "       [4.8, 3.1, 1.6, 0.2],\n",
       "       [5.4, 3.4, 1.5, 0.4],\n",
       "       [5.2, 4.1, 1.5, 0.1],\n",
       "       [5.5, 4.2, 1.4, 0.2],\n",
       "       [4.9, 3.1, 1.5, 0.1],\n",
       "       [5. , 3.2, 1.2, 0.2],\n",
       "       [5.5, 3.5, 1.3, 0.2],\n",
       "       [4.9, 3.1, 1.5, 0.1],\n",
       "       [4.4, 3. , 1.3, 0.2],\n",
       "       [5.1, 3.4, 1.5, 0.2],\n",
       "       [5. , 3.5, 1.3, 0.3],\n",
       "       [4.5, 2.3, 1.3, 0.3],\n",
       "       [4.4, 3.2, 1.3, 0.2],\n",
       "       [5. , 3.5, 1.6, 0.6],\n",
       "       [5.1, 3.8, 1.9, 0.4],\n",
       "       [4.8, 3. , 1.4, 0.3],\n",
       "       [5.1, 3.8, 1.6, 0.2],\n",
       "       [4.6, 3.2, 1.4, 0.2],\n",
       "       [5.3, 3.7, 1.5, 0.2],\n",
       "       [5. , 3.3, 1.4, 0.2],\n",
       "       [7. , 3.2, 4.7, 1.4],\n",
       "       [6.4, 3.2, 4.5, 1.5],\n",
       "       [6.9, 3.1, 4.9, 1.5],\n",
       "       [5.5, 2.3, 4. , 1.3],\n",
       "       [6.5, 2.8, 4.6, 1.5],\n",
       "       [5.7, 2.8, 4.5, 1.3],\n",
       "       [6.3, 3.3, 4.7, 1.6],\n",
       "       [4.9, 2.4, 3.3, 1. ],\n",
       "       [6.6, 2.9, 4.6, 1.3],\n",
       "       [5.2, 2.7, 3.9, 1.4],\n",
       "       [5. , 2. , 3.5, 1. ],\n",
       "       [5.9, 3. , 4.2, 1.5],\n",
       "       [6. , 2.2, 4. , 1. ],\n",
       "       [6.1, 2.9, 4.7, 1.4],\n",
       "       [5.6, 2.9, 3.6, 1.3],\n",
       "       [6.7, 3.1, 4.4, 1.4],\n",
       "       [5.6, 3. , 4.5, 1.5],\n",
       "       [5.8, 2.7, 4.1, 1. ],\n",
       "       [6.2, 2.2, 4.5, 1.5],\n",
       "       [5.6, 2.5, 3.9, 1.1],\n",
       "       [5.9, 3.2, 4.8, 1.8],\n",
       "       [6.1, 2.8, 4. , 1.3],\n",
       "       [6.3, 2.5, 4.9, 1.5],\n",
       "       [6.1, 2.8, 4.7, 1.2],\n",
       "       [6.4, 2.9, 4.3, 1.3],\n",
       "       [6.6, 3. , 4.4, 1.4],\n",
       "       [6.8, 2.8, 4.8, 1.4],\n",
       "       [6.7, 3. , 5. , 1.7],\n",
       "       [6. , 2.9, 4.5, 1.5],\n",
       "       [5.7, 2.6, 3.5, 1. ],\n",
       "       [5.5, 2.4, 3.8, 1.1],\n",
       "       [5.5, 2.4, 3.7, 1. ],\n",
       "       [5.8, 2.7, 3.9, 1.2],\n",
       "       [6. , 2.7, 5.1, 1.6],\n",
       "       [5.4, 3. , 4.5, 1.5],\n",
       "       [6. , 3.4, 4.5, 1.6],\n",
       "       [6.7, 3.1, 4.7, 1.5],\n",
       "       [6.3, 2.3, 4.4, 1.3],\n",
       "       [5.6, 3. , 4.1, 1.3],\n",
       "       [5.5, 2.5, 4. , 1.3],\n",
       "       [5.5, 2.6, 4.4, 1.2],\n",
       "       [6.1, 3. , 4.6, 1.4],\n",
       "       [5.8, 2.6, 4. , 1.2],\n",
       "       [5. , 2.3, 3.3, 1. ],\n",
       "       [5.6, 2.7, 4.2, 1.3],\n",
       "       [5.7, 3. , 4.2, 1.2],\n",
       "       [5.7, 2.9, 4.2, 1.3],\n",
       "       [6.2, 2.9, 4.3, 1.3],\n",
       "       [5.1, 2.5, 3. , 1.1],\n",
       "       [5.7, 2.8, 4.1, 1.3],\n",
       "       [6.3, 3.3, 6. , 2.5],\n",
       "       [5.8, 2.7, 5.1, 1.9],\n",
       "       [7.1, 3. , 5.9, 2.1],\n",
       "       [6.3, 2.9, 5.6, 1.8],\n",
       "       [6.5, 3. , 5.8, 2.2],\n",
       "       [7.6, 3. , 6.6, 2.1],\n",
       "       [4.9, 2.5, 4.5, 1.7],\n",
       "       [7.3, 2.9, 6.3, 1.8],\n",
       "       [6.7, 2.5, 5.8, 1.8],\n",
       "       [7.2, 3.6, 6.1, 2.5],\n",
       "       [6.5, 3.2, 5.1, 2. ],\n",
       "       [6.4, 2.7, 5.3, 1.9],\n",
       "       [6.8, 3. , 5.5, 2.1],\n",
       "       [5.7, 2.5, 5. , 2. ],\n",
       "       [5.8, 2.8, 5.1, 2.4],\n",
       "       [6.4, 3.2, 5.3, 2.3],\n",
       "       [6.5, 3. , 5.5, 1.8],\n",
       "       [7.7, 3.8, 6.7, 2.2],\n",
       "       [7.7, 2.6, 6.9, 2.3],\n",
       "       [6. , 2.2, 5. , 1.5],\n",
       "       [6.9, 3.2, 5.7, 2.3],\n",
       "       [5.6, 2.8, 4.9, 2. ],\n",
       "       [7.7, 2.8, 6.7, 2. ],\n",
       "       [6.3, 2.7, 4.9, 1.8],\n",
       "       [6.7, 3.3, 5.7, 2.1],\n",
       "       [7.2, 3.2, 6. , 1.8],\n",
       "       [6.2, 2.8, 4.8, 1.8],\n",
       "       [6.1, 3. , 4.9, 1.8],\n",
       "       [6.4, 2.8, 5.6, 2.1],\n",
       "       [7.2, 3. , 5.8, 1.6],\n",
       "       [7.4, 2.8, 6.1, 1.9],\n",
       "       [7.9, 3.8, 6.4, 2. ],\n",
       "       [6.4, 2.8, 5.6, 2.2],\n",
       "       [6.3, 2.8, 5.1, 1.5],\n",
       "       [6.1, 2.6, 5.6, 1.4],\n",
       "       [7.7, 3. , 6.1, 2.3],\n",
       "       [6.3, 3.4, 5.6, 2.4],\n",
       "       [6.4, 3.1, 5.5, 1.8],\n",
       "       [6. , 3. , 4.8, 1.8],\n",
       "       [6.9, 3.1, 5.4, 2.1],\n",
       "       [6.7, 3.1, 5.6, 2.4],\n",
       "       [6.9, 3.1, 5.1, 2.3],\n",
       "       [5.8, 2.7, 5.1, 1.9],\n",
       "       [6.8, 3.2, 5.9, 2.3],\n",
       "       [6.7, 3.3, 5.7, 2.5],\n",
       "       [6.7, 3. , 5.2, 2.3],\n",
       "       [6.3, 2.5, 5. , 1.9],\n",
       "       [6.5, 3. , 5.2, 2. ],\n",
       "       [6.2, 3.4, 5.4, 2.3],\n",
       "       [5.9, 3. , 5.1, 1.8]])"
      ]
     },
     "execution_count": 15,
     "metadata": {},
     "output_type": "execute_result"
    }
   ],
   "source": [
    "df = pd.read_csv('/Users/thomazaraujo/Documents/CIn - UFPE/PIBIC/datasets/iris.csv')\n",
    "df.head()\n",
    "df.drop(\"Id\", axis=1, inplace=True)\n",
    "df[\"Species\"].replace({\"Iris-setosa\": 0, \"Iris-versicolor\": 1, \"Iris-virginica\": 2}, inplace=True)\n",
    "df.columns = [\"SepalLengthCm\", \"SepalWidthCm\", \"PetalLengthCm\", \"PetalWidthCm\", \"Class\"]\n",
    "labels = df[\"Class\"].values\n",
    "df.drop(\"Class\", axis=1, inplace=True)\n",
    "dados = df.to_numpy()\n",
    "dados"
   ]
  },
  {
   "cell_type": "markdown",
   "id": "c5773c61",
   "metadata": {},
   "source": [
    "### 1. Inicialização da matriz de pertinência"
   ]
  },
  {
   "cell_type": "code",
   "execution_count": 16,
   "id": "0921852d",
   "metadata": {},
   "outputs": [],
   "source": [
    "def inicializacao_matriz_pertinencia(n, c, p):\n",
    "    matriz_pertinencia = np.random.rand(n, c, p) # gera uma matriz inicial aleatória com valores entre 0 e 1\n",
    "    matriz_pertinencia = matriz_pertinencia / matriz_pertinencia.sum(axis=(1, 2), keepdims=True) # normalização da matriz pra garantir que a soma dos graus dê um\n",
    "    return matriz_pertinencia"
   ]
  },
  {
   "cell_type": "markdown",
   "id": "bb2272d7",
   "metadata": {},
   "source": [
    "### 2. Atualização dos protótipos"
   ]
  },
  {
   "cell_type": "code",
   "execution_count": 17,
   "id": "4cf5c45a",
   "metadata": {},
   "outputs": [],
   "source": [
    "def atualizacao_prototipos(x, u, m):\n",
    "    n = u.shape[0]\n",
    "    c = u.shape[1]\n",
    "    p = u.shape[2]\n",
    "    u = u ** m\n",
    "    y = np.zeros((c, p))\n",
    "    for i in range(c):\n",
    "        for j in range(p):\n",
    "                soma_denominador = 0\n",
    "                soma_numerador = 0\n",
    "                for k in range(n):\n",
    "                    soma_numerador += u[k, i, j] * x[k, j]\n",
    "                    soma_denominador += u[k, i, j]\n",
    "                y[i, j] = soma_numerador / soma_denominador\n",
    "    return y"
   ]
  },
  {
   "cell_type": "markdown",
   "id": "7cee1833",
   "metadata": {},
   "source": [
    "### 3. Cálculo das distâncias"
   ]
  },
  {
   "cell_type": "code",
   "execution_count": 18,
   "id": "aa8ca18c",
   "metadata": {},
   "outputs": [],
   "source": [
    "def get_distancia(x, y):\n",
    "    n = x.shape[0]\n",
    "    c = y.shape[0]\n",
    "    p = x.shape[1]\n",
    "    d = np.zeros((n, c, p))\n",
    "    for k in range(n):\n",
    "        for i in range(c):\n",
    "            for j in range(p):\n",
    "                d[k, i, j] = (x[k, j] - y[i, j]) ** 2\n",
    "    return d"
   ]
  },
  {
   "cell_type": "markdown",
   "id": "07f6ca0f",
   "metadata": {},
   "source": [
    "### 4. Atualização da matriz de pertinência"
   ]
  },
  {
   "cell_type": "code",
   "execution_count": null,
   "id": "2f8fca58",
   "metadata": {},
   "outputs": [],
   "source": [
    "def atualizacao_matriz_pertinencia(D, m=2):\n",
    "    eps = 1e-10 # if (a, b) == (i, j) then the division is zero; eps is there to avoid it\n",
    "    n = D.shape[0]\n",
    "    c = D.shape[1]\n",
    "    p = D.shape[2]\n",
    "    U = np.zeros((n, c, p))\n",
    "    for k in range(n):\n",
    "        for i in range(c):\n",
    "            for j in range(p):\n",
    "                dijk = max(D[k, i, j], eps)\n",
    "                soma = 0\n",
    "                for a in range(c):\n",
    "                    for b in range(p):\n",
    "                        dabk = max(D[k, a, b], eps)\n",
    "                        soma += (dijk / dabk) ** (1 / (m - 1))\n",
    "                U[k, i, j] = 1 / soma\n",
    "        soma_total = np.sum(U[k]) \n",
    "        U[k] /= soma_total # 3rd restriction\n",
    "    return U"
   ]
  },
  {
   "cell_type": "markdown",
   "id": "b9bf2615",
   "metadata": {},
   "source": [
    "### 5. Cálculo da função de perda"
   ]
  },
  {
   "cell_type": "code",
   "execution_count": 21,
   "id": "b155496d",
   "metadata": {},
   "outputs": [],
   "source": [
    "def loss_function(U, D, m=2):\n",
    "    n = D.shape[0]\n",
    "    c = D.shape[1]\n",
    "    p = D.shape[2]\n",
    "    U = U ** m\n",
    "    J = 0\n",
    "    for k in range(n):\n",
    "        for i in range(c):\n",
    "            for j in range(p):\n",
    "                J += U[k, i, j] * D[k, i, j]\n",
    "    return J"
   ]
  },
  {
   "cell_type": "markdown",
   "id": "1dc258f7",
   "metadata": {},
   "source": [
    "### 6. Algoritmo"
   ]
  },
  {
   "cell_type": "code",
   "execution_count": null,
   "id": "31637dc4",
   "metadata": {},
   "outputs": [],
   "source": [
    "def mfcm(x, c, m=2, max_iter = 10**6, eps=1e-6):\n",
    "    n, p = x.shape\n",
    "    U = inicializacao_matriz_pertinencia(n, c, p)\n",
    "    loss = 10**6\n",
    "    for trial in range(max_iter):\n",
    "        prototipo = atualizacao_prototipos(x, U, m)\n",
    "        D = get_distancia(x, prototipo)\n",
    "        U = atualizacao_matriz_pertinencia(D, m)\n",
    "        new_loss = loss_function(U, D, m)\n",
    "        if (loss - new_loss < eps):\n",
    "            break\n",
    "        loss = new_loss\n",
    "    Delta = np.sum(U, axis=2)\n",
    "    return Delta"
   ]
  }
 ],
 "metadata": {
  "kernelspec": {
   "display_name": ".venv",
   "language": "python",
   "name": "python3"
  },
  "language_info": {
   "codemirror_mode": {
    "name": "ipython",
    "version": 3
   },
   "file_extension": ".py",
   "mimetype": "text/x-python",
   "name": "python",
   "nbconvert_exporter": "python",
   "pygments_lexer": "ipython3",
   "version": "3.13.3"
  }
 },
 "nbformat": 4,
 "nbformat_minor": 5
}
