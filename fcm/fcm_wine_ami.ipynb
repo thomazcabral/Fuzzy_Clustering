{
  "cells": [
    {
      "cell_type": "markdown",
      "metadata": {
        "id": "X-5_kzR-_0cO"
      },
      "source": [
        "## Tratamento dos dados"
      ]
    },
    {
      "cell_type": "markdown",
      "metadata": {
        "id": "VnzujkKg_6xC"
      },
      "source": [
        "### Importando bibliotecas"
      ]
    },
    {
      "cell_type": "code",
      "execution_count": 1,
      "metadata": {
        "id": "v9xQo6eL_vTW"
      },
      "outputs": [],
      "source": [
        "import numpy as np\n",
        "from sklearn.metrics import adjusted_mutual_info_score\n",
        "import pandas as pd"
      ]
    },
    {
      "cell_type": "markdown",
      "metadata": {
        "id": "97ZB6HLiABGf"
      },
      "source": [
        "### Importando o dataset"
      ]
    },
    {
      "cell_type": "code",
      "execution_count": 2,
      "metadata": {
        "colab": {
          "base_uri": "https://localhost:8080/",
          "height": 206
        },
        "id": "HAoOUquR_vTX",
        "outputId": "d07900db-5815-4b45-8181-163fabc899fc"
      },
      "outputs": [
        {
          "data": {
            "text/html": [
              "<div>\n",
              "<style scoped>\n",
              "    .dataframe tbody tr th:only-of-type {\n",
              "        vertical-align: middle;\n",
              "    }\n",
              "\n",
              "    .dataframe tbody tr th {\n",
              "        vertical-align: top;\n",
              "    }\n",
              "\n",
              "    .dataframe thead th {\n",
              "        text-align: right;\n",
              "    }\n",
              "</style>\n",
              "<table border=\"1\" class=\"dataframe\">\n",
              "  <thead>\n",
              "    <tr style=\"text-align: right;\">\n",
              "      <th></th>\n",
              "      <th>Wine</th>\n",
              "      <th>Alcohol</th>\n",
              "      <th>Malic.acid</th>\n",
              "      <th>Ash</th>\n",
              "      <th>Acl</th>\n",
              "      <th>Mg</th>\n",
              "      <th>Phenols</th>\n",
              "      <th>Flavanoids</th>\n",
              "      <th>Nonflavanoid.phenols</th>\n",
              "      <th>Proanth</th>\n",
              "      <th>Color.int</th>\n",
              "      <th>Hue</th>\n",
              "      <th>OD</th>\n",
              "      <th>Proline</th>\n",
              "    </tr>\n",
              "  </thead>\n",
              "  <tbody>\n",
              "    <tr>\n",
              "      <th>0</th>\n",
              "      <td>1</td>\n",
              "      <td>14.23</td>\n",
              "      <td>1.71</td>\n",
              "      <td>2.43</td>\n",
              "      <td>15.6</td>\n",
              "      <td>127</td>\n",
              "      <td>2.80</td>\n",
              "      <td>3.06</td>\n",
              "      <td>0.28</td>\n",
              "      <td>2.29</td>\n",
              "      <td>5.64</td>\n",
              "      <td>1.04</td>\n",
              "      <td>3.92</td>\n",
              "      <td>1065</td>\n",
              "    </tr>\n",
              "    <tr>\n",
              "      <th>1</th>\n",
              "      <td>1</td>\n",
              "      <td>13.20</td>\n",
              "      <td>1.78</td>\n",
              "      <td>2.14</td>\n",
              "      <td>11.2</td>\n",
              "      <td>100</td>\n",
              "      <td>2.65</td>\n",
              "      <td>2.76</td>\n",
              "      <td>0.26</td>\n",
              "      <td>1.28</td>\n",
              "      <td>4.38</td>\n",
              "      <td>1.05</td>\n",
              "      <td>3.40</td>\n",
              "      <td>1050</td>\n",
              "    </tr>\n",
              "    <tr>\n",
              "      <th>2</th>\n",
              "      <td>1</td>\n",
              "      <td>13.16</td>\n",
              "      <td>2.36</td>\n",
              "      <td>2.67</td>\n",
              "      <td>18.6</td>\n",
              "      <td>101</td>\n",
              "      <td>2.80</td>\n",
              "      <td>3.24</td>\n",
              "      <td>0.30</td>\n",
              "      <td>2.81</td>\n",
              "      <td>5.68</td>\n",
              "      <td>1.03</td>\n",
              "      <td>3.17</td>\n",
              "      <td>1185</td>\n",
              "    </tr>\n",
              "    <tr>\n",
              "      <th>3</th>\n",
              "      <td>1</td>\n",
              "      <td>14.37</td>\n",
              "      <td>1.95</td>\n",
              "      <td>2.50</td>\n",
              "      <td>16.8</td>\n",
              "      <td>113</td>\n",
              "      <td>3.85</td>\n",
              "      <td>3.49</td>\n",
              "      <td>0.24</td>\n",
              "      <td>2.18</td>\n",
              "      <td>7.80</td>\n",
              "      <td>0.86</td>\n",
              "      <td>3.45</td>\n",
              "      <td>1480</td>\n",
              "    </tr>\n",
              "    <tr>\n",
              "      <th>4</th>\n",
              "      <td>1</td>\n",
              "      <td>13.24</td>\n",
              "      <td>2.59</td>\n",
              "      <td>2.87</td>\n",
              "      <td>21.0</td>\n",
              "      <td>118</td>\n",
              "      <td>2.80</td>\n",
              "      <td>2.69</td>\n",
              "      <td>0.39</td>\n",
              "      <td>1.82</td>\n",
              "      <td>4.32</td>\n",
              "      <td>1.04</td>\n",
              "      <td>2.93</td>\n",
              "      <td>735</td>\n",
              "    </tr>\n",
              "  </tbody>\n",
              "</table>\n",
              "</div>"
            ],
            "text/plain": [
              "   Wine  Alcohol  Malic.acid   Ash   Acl   Mg  Phenols  Flavanoids  \\\n",
              "0     1    14.23        1.71  2.43  15.6  127     2.80        3.06   \n",
              "1     1    13.20        1.78  2.14  11.2  100     2.65        2.76   \n",
              "2     1    13.16        2.36  2.67  18.6  101     2.80        3.24   \n",
              "3     1    14.37        1.95  2.50  16.8  113     3.85        3.49   \n",
              "4     1    13.24        2.59  2.87  21.0  118     2.80        2.69   \n",
              "\n",
              "   Nonflavanoid.phenols  Proanth  Color.int   Hue    OD  Proline  \n",
              "0                  0.28     2.29       5.64  1.04  3.92     1065  \n",
              "1                  0.26     1.28       4.38  1.05  3.40     1050  \n",
              "2                  0.30     2.81       5.68  1.03  3.17     1185  \n",
              "3                  0.24     2.18       7.80  0.86  3.45     1480  \n",
              "4                  0.39     1.82       4.32  1.04  2.93      735  "
            ]
          },
          "execution_count": 2,
          "metadata": {},
          "output_type": "execute_result"
        }
      ],
      "source": [
        "df = pd.read_csv('/workspaces/Fuzzy_Clustering/datasets/wine.csv')\n",
        "df.head()"
      ]
    },
    {
      "cell_type": "markdown",
      "metadata": {
        "id": "0OgIuCvSAC-H"
      },
      "source": [
        "### Verificando as classes"
      ]
    },
    {
      "cell_type": "code",
      "execution_count": 3,
      "metadata": {
        "colab": {
          "base_uri": "https://localhost:8080/"
        },
        "id": "lAoGnG8I_vTY",
        "outputId": "365dddb6-378f-4ae5-d434-92870c361dec"
      },
      "outputs": [
        {
          "data": {
            "text/plain": [
              "array([1, 2, 3])"
            ]
          },
          "execution_count": 3,
          "metadata": {},
          "output_type": "execute_result"
        }
      ],
      "source": [
        "df[\"Wine\"].unique()"
      ]
    },
    {
      "cell_type": "markdown",
      "metadata": {
        "id": "yM8ClaGCAFFe"
      },
      "source": [
        "### Verificando o nome exato das colunas"
      ]
    },
    {
      "cell_type": "code",
      "execution_count": 4,
      "metadata": {
        "colab": {
          "base_uri": "https://localhost:8080/"
        },
        "id": "aq_ASvf0_vTZ",
        "outputId": "3368b285-d4cb-4fdb-9993-95192e56d770"
      },
      "outputs": [
        {
          "data": {
            "text/plain": [
              "Index(['Wine', 'Alcohol', 'Malic.acid', 'Ash', 'Acl', 'Mg', 'Phenols',\n",
              "       'Flavanoids', 'Nonflavanoid.phenols', 'Proanth', 'Color.int', 'Hue',\n",
              "       'OD', 'Proline'],\n",
              "      dtype='object')"
            ]
          },
          "execution_count": 4,
          "metadata": {},
          "output_type": "execute_result"
        }
      ],
      "source": [
        "df.columns"
      ]
    },
    {
      "cell_type": "markdown",
      "metadata": {
        "id": "UgRt0wHhAJSV"
      },
      "source": [
        "### Retirando variáveis inúteis e transformando classes em números"
      ]
    },
    {
      "cell_type": "code",
      "execution_count": 5,
      "metadata": {
        "colab": {
          "base_uri": "https://localhost:8080/",
          "height": 347
        },
        "id": "lEgGq8A7_vTZ",
        "outputId": "6e49a70a-f3f5-464a-94f7-e05ee5da06f5"
      },
      "outputs": [
        {
          "name": "stderr",
          "output_type": "stream",
          "text": [
            "/tmp/ipykernel_19803/2132288527.py:2: FutureWarning: A value is trying to be set on a copy of a DataFrame or Series through chained assignment using an inplace method.\n",
            "The behavior will change in pandas 3.0. This inplace method will never work because the intermediate object on which we are setting values always behaves as a copy.\n",
            "\n",
            "For example, when doing 'df[col].method(value, inplace=True)', try using 'df.method({col: value}, inplace=True)' or df[col] = df[col].method(value) instead, to perform the operation inplace on the original object.\n",
            "\n",
            "\n",
            "  df[\"Class\"].replace({1: 0, 2: 1, 3: 2}, inplace=True)\n"
          ]
        },
        {
          "data": {
            "text/html": [
              "<div>\n",
              "<style scoped>\n",
              "    .dataframe tbody tr th:only-of-type {\n",
              "        vertical-align: middle;\n",
              "    }\n",
              "\n",
              "    .dataframe tbody tr th {\n",
              "        vertical-align: top;\n",
              "    }\n",
              "\n",
              "    .dataframe thead th {\n",
              "        text-align: right;\n",
              "    }\n",
              "</style>\n",
              "<table border=\"1\" class=\"dataframe\">\n",
              "  <thead>\n",
              "    <tr style=\"text-align: right;\">\n",
              "      <th></th>\n",
              "      <th>Class</th>\n",
              "      <th>Alcohol</th>\n",
              "      <th>Malic.acid</th>\n",
              "      <th>Ash</th>\n",
              "      <th>Acl</th>\n",
              "      <th>Mg</th>\n",
              "      <th>Phenols</th>\n",
              "      <th>Flavanoids</th>\n",
              "      <th>Nonflavanoid.phenols</th>\n",
              "      <th>Proanth</th>\n",
              "      <th>Color.int</th>\n",
              "      <th>Hue</th>\n",
              "      <th>OD</th>\n",
              "      <th>Proline</th>\n",
              "    </tr>\n",
              "  </thead>\n",
              "  <tbody>\n",
              "    <tr>\n",
              "      <th>0</th>\n",
              "      <td>0</td>\n",
              "      <td>14.23</td>\n",
              "      <td>1.71</td>\n",
              "      <td>2.43</td>\n",
              "      <td>15.6</td>\n",
              "      <td>127</td>\n",
              "      <td>2.80</td>\n",
              "      <td>3.06</td>\n",
              "      <td>0.28</td>\n",
              "      <td>2.29</td>\n",
              "      <td>5.64</td>\n",
              "      <td>1.04</td>\n",
              "      <td>3.92</td>\n",
              "      <td>1065</td>\n",
              "    </tr>\n",
              "    <tr>\n",
              "      <th>1</th>\n",
              "      <td>0</td>\n",
              "      <td>13.20</td>\n",
              "      <td>1.78</td>\n",
              "      <td>2.14</td>\n",
              "      <td>11.2</td>\n",
              "      <td>100</td>\n",
              "      <td>2.65</td>\n",
              "      <td>2.76</td>\n",
              "      <td>0.26</td>\n",
              "      <td>1.28</td>\n",
              "      <td>4.38</td>\n",
              "      <td>1.05</td>\n",
              "      <td>3.40</td>\n",
              "      <td>1050</td>\n",
              "    </tr>\n",
              "    <tr>\n",
              "      <th>2</th>\n",
              "      <td>0</td>\n",
              "      <td>13.16</td>\n",
              "      <td>2.36</td>\n",
              "      <td>2.67</td>\n",
              "      <td>18.6</td>\n",
              "      <td>101</td>\n",
              "      <td>2.80</td>\n",
              "      <td>3.24</td>\n",
              "      <td>0.30</td>\n",
              "      <td>2.81</td>\n",
              "      <td>5.68</td>\n",
              "      <td>1.03</td>\n",
              "      <td>3.17</td>\n",
              "      <td>1185</td>\n",
              "    </tr>\n",
              "    <tr>\n",
              "      <th>3</th>\n",
              "      <td>0</td>\n",
              "      <td>14.37</td>\n",
              "      <td>1.95</td>\n",
              "      <td>2.50</td>\n",
              "      <td>16.8</td>\n",
              "      <td>113</td>\n",
              "      <td>3.85</td>\n",
              "      <td>3.49</td>\n",
              "      <td>0.24</td>\n",
              "      <td>2.18</td>\n",
              "      <td>7.80</td>\n",
              "      <td>0.86</td>\n",
              "      <td>3.45</td>\n",
              "      <td>1480</td>\n",
              "    </tr>\n",
              "    <tr>\n",
              "      <th>4</th>\n",
              "      <td>0</td>\n",
              "      <td>13.24</td>\n",
              "      <td>2.59</td>\n",
              "      <td>2.87</td>\n",
              "      <td>21.0</td>\n",
              "      <td>118</td>\n",
              "      <td>2.80</td>\n",
              "      <td>2.69</td>\n",
              "      <td>0.39</td>\n",
              "      <td>1.82</td>\n",
              "      <td>4.32</td>\n",
              "      <td>1.04</td>\n",
              "      <td>2.93</td>\n",
              "      <td>735</td>\n",
              "    </tr>\n",
              "  </tbody>\n",
              "</table>\n",
              "</div>"
            ],
            "text/plain": [
              "   Class  Alcohol  Malic.acid   Ash   Acl   Mg  Phenols  Flavanoids  \\\n",
              "0      0    14.23        1.71  2.43  15.6  127     2.80        3.06   \n",
              "1      0    13.20        1.78  2.14  11.2  100     2.65        2.76   \n",
              "2      0    13.16        2.36  2.67  18.6  101     2.80        3.24   \n",
              "3      0    14.37        1.95  2.50  16.8  113     3.85        3.49   \n",
              "4      0    13.24        2.59  2.87  21.0  118     2.80        2.69   \n",
              "\n",
              "   Nonflavanoid.phenols  Proanth  Color.int   Hue    OD  Proline  \n",
              "0                  0.28     2.29       5.64  1.04  3.92     1065  \n",
              "1                  0.26     1.28       4.38  1.05  3.40     1050  \n",
              "2                  0.30     2.81       5.68  1.03  3.17     1185  \n",
              "3                  0.24     2.18       7.80  0.86  3.45     1480  \n",
              "4                  0.39     1.82       4.32  1.04  2.93      735  "
            ]
          },
          "execution_count": 5,
          "metadata": {},
          "output_type": "execute_result"
        }
      ],
      "source": [
        "df = df.rename(columns={'Wine': 'Class'})\n",
        "df[\"Class\"].replace({1: 0, 2: 1, 3: 2}, inplace=True)\n",
        "df.head()"
      ]
    },
    {
      "cell_type": "markdown",
      "metadata": {
        "id": "_F_lqJvUAMNS"
      },
      "source": [
        "### Verificando a corretude das classes"
      ]
    },
    {
      "cell_type": "code",
      "execution_count": 6,
      "metadata": {
        "colab": {
          "base_uri": "https://localhost:8080/"
        },
        "id": "qyG27x5r_vTZ",
        "outputId": "83f3e6db-0b14-4f95-cb2f-d03c8497bf05"
      },
      "outputs": [
        {
          "data": {
            "text/plain": [
              "array([0, 1, 2])"
            ]
          },
          "execution_count": 6,
          "metadata": {},
          "output_type": "execute_result"
        }
      ],
      "source": [
        "df[\"Class\"].unique()"
      ]
    },
    {
      "cell_type": "markdown",
      "metadata": {
        "id": "JaUr6zV-APT_"
      },
      "source": [
        "### Armazenando as classes em uma variável separada"
      ]
    },
    {
      "cell_type": "code",
      "execution_count": 7,
      "metadata": {
        "colab": {
          "base_uri": "https://localhost:8080/"
        },
        "id": "DVYRw-XH_vTa",
        "outputId": "c1e16dff-31b9-4d88-fa0f-5b3890cde2e0"
      },
      "outputs": [
        {
          "data": {
            "text/plain": [
              "array([0, 0, 0, 0, 0, 0, 0, 0, 0, 0, 0, 0, 0, 0, 0, 0, 0, 0, 0, 0, 0, 0,\n",
              "       0, 0, 0, 0, 0, 0, 0, 0, 0, 0, 0, 0, 0, 0, 0, 0, 0, 0, 0, 0, 0, 0,\n",
              "       0, 0, 0, 0, 0, 0, 0, 0, 0, 0, 0, 0, 0, 0, 0, 1, 1, 1, 1, 1, 1, 1,\n",
              "       1, 1, 1, 1, 1, 1, 1, 1, 1, 1, 1, 1, 1, 1, 1, 1, 1, 1, 1, 1, 1, 1,\n",
              "       1, 1, 1, 1, 1, 1, 1, 1, 1, 1, 1, 1, 1, 1, 1, 1, 1, 1, 1, 1, 1, 1,\n",
              "       1, 1, 1, 1, 1, 1, 1, 1, 1, 1, 1, 1, 1, 1, 1, 1, 1, 1, 1, 1, 2, 2,\n",
              "       2, 2, 2, 2, 2, 2, 2, 2, 2, 2, 2, 2, 2, 2, 2, 2, 2, 2, 2, 2, 2, 2,\n",
              "       2, 2, 2, 2, 2, 2, 2, 2, 2, 2, 2, 2, 2, 2, 2, 2, 2, 2, 2, 2, 2, 2,\n",
              "       2, 2])"
            ]
          },
          "execution_count": 7,
          "metadata": {},
          "output_type": "execute_result"
        }
      ],
      "source": [
        "labels = df[\"Class\"].values\n",
        "labels"
      ]
    },
    {
      "cell_type": "code",
      "execution_count": 8,
      "metadata": {
        "colab": {
          "base_uri": "https://localhost:8080/",
          "height": 206
        },
        "id": "ioHrpg_i_vTa",
        "outputId": "903a4cd7-3c4b-4c98-d2c9-54bf5868d27a"
      },
      "outputs": [
        {
          "data": {
            "text/html": [
              "<div>\n",
              "<style scoped>\n",
              "    .dataframe tbody tr th:only-of-type {\n",
              "        vertical-align: middle;\n",
              "    }\n",
              "\n",
              "    .dataframe tbody tr th {\n",
              "        vertical-align: top;\n",
              "    }\n",
              "\n",
              "    .dataframe thead th {\n",
              "        text-align: right;\n",
              "    }\n",
              "</style>\n",
              "<table border=\"1\" class=\"dataframe\">\n",
              "  <thead>\n",
              "    <tr style=\"text-align: right;\">\n",
              "      <th></th>\n",
              "      <th>Alcohol</th>\n",
              "      <th>Malic.acid</th>\n",
              "      <th>Ash</th>\n",
              "      <th>Acl</th>\n",
              "      <th>Mg</th>\n",
              "      <th>Phenols</th>\n",
              "      <th>Flavanoids</th>\n",
              "      <th>Nonflavanoid.phenols</th>\n",
              "      <th>Proanth</th>\n",
              "      <th>Color.int</th>\n",
              "      <th>Hue</th>\n",
              "      <th>OD</th>\n",
              "      <th>Proline</th>\n",
              "    </tr>\n",
              "  </thead>\n",
              "  <tbody>\n",
              "    <tr>\n",
              "      <th>0</th>\n",
              "      <td>14.23</td>\n",
              "      <td>1.71</td>\n",
              "      <td>2.43</td>\n",
              "      <td>15.6</td>\n",
              "      <td>127</td>\n",
              "      <td>2.80</td>\n",
              "      <td>3.06</td>\n",
              "      <td>0.28</td>\n",
              "      <td>2.29</td>\n",
              "      <td>5.64</td>\n",
              "      <td>1.04</td>\n",
              "      <td>3.92</td>\n",
              "      <td>1065</td>\n",
              "    </tr>\n",
              "    <tr>\n",
              "      <th>1</th>\n",
              "      <td>13.20</td>\n",
              "      <td>1.78</td>\n",
              "      <td>2.14</td>\n",
              "      <td>11.2</td>\n",
              "      <td>100</td>\n",
              "      <td>2.65</td>\n",
              "      <td>2.76</td>\n",
              "      <td>0.26</td>\n",
              "      <td>1.28</td>\n",
              "      <td>4.38</td>\n",
              "      <td>1.05</td>\n",
              "      <td>3.40</td>\n",
              "      <td>1050</td>\n",
              "    </tr>\n",
              "    <tr>\n",
              "      <th>2</th>\n",
              "      <td>13.16</td>\n",
              "      <td>2.36</td>\n",
              "      <td>2.67</td>\n",
              "      <td>18.6</td>\n",
              "      <td>101</td>\n",
              "      <td>2.80</td>\n",
              "      <td>3.24</td>\n",
              "      <td>0.30</td>\n",
              "      <td>2.81</td>\n",
              "      <td>5.68</td>\n",
              "      <td>1.03</td>\n",
              "      <td>3.17</td>\n",
              "      <td>1185</td>\n",
              "    </tr>\n",
              "    <tr>\n",
              "      <th>3</th>\n",
              "      <td>14.37</td>\n",
              "      <td>1.95</td>\n",
              "      <td>2.50</td>\n",
              "      <td>16.8</td>\n",
              "      <td>113</td>\n",
              "      <td>3.85</td>\n",
              "      <td>3.49</td>\n",
              "      <td>0.24</td>\n",
              "      <td>2.18</td>\n",
              "      <td>7.80</td>\n",
              "      <td>0.86</td>\n",
              "      <td>3.45</td>\n",
              "      <td>1480</td>\n",
              "    </tr>\n",
              "    <tr>\n",
              "      <th>4</th>\n",
              "      <td>13.24</td>\n",
              "      <td>2.59</td>\n",
              "      <td>2.87</td>\n",
              "      <td>21.0</td>\n",
              "      <td>118</td>\n",
              "      <td>2.80</td>\n",
              "      <td>2.69</td>\n",
              "      <td>0.39</td>\n",
              "      <td>1.82</td>\n",
              "      <td>4.32</td>\n",
              "      <td>1.04</td>\n",
              "      <td>2.93</td>\n",
              "      <td>735</td>\n",
              "    </tr>\n",
              "  </tbody>\n",
              "</table>\n",
              "</div>"
            ],
            "text/plain": [
              "   Alcohol  Malic.acid   Ash   Acl   Mg  Phenols  Flavanoids  \\\n",
              "0    14.23        1.71  2.43  15.6  127     2.80        3.06   \n",
              "1    13.20        1.78  2.14  11.2  100     2.65        2.76   \n",
              "2    13.16        2.36  2.67  18.6  101     2.80        3.24   \n",
              "3    14.37        1.95  2.50  16.8  113     3.85        3.49   \n",
              "4    13.24        2.59  2.87  21.0  118     2.80        2.69   \n",
              "\n",
              "   Nonflavanoid.phenols  Proanth  Color.int   Hue    OD  Proline  \n",
              "0                  0.28     2.29       5.64  1.04  3.92     1065  \n",
              "1                  0.26     1.28       4.38  1.05  3.40     1050  \n",
              "2                  0.30     2.81       5.68  1.03  3.17     1185  \n",
              "3                  0.24     2.18       7.80  0.86  3.45     1480  \n",
              "4                  0.39     1.82       4.32  1.04  2.93      735  "
            ]
          },
          "execution_count": 8,
          "metadata": {},
          "output_type": "execute_result"
        }
      ],
      "source": [
        "df.drop(\"Class\", axis=1, inplace=True)\n",
        "df.head()"
      ]
    },
    {
      "cell_type": "markdown",
      "metadata": {
        "id": "8KVaor6pAX3k"
      },
      "source": [
        "### Retirando a classe para isolar as variáveis"
      ]
    },
    {
      "cell_type": "code",
      "execution_count": 9,
      "metadata": {
        "colab": {
          "base_uri": "https://localhost:8080/"
        },
        "id": "rL-WKL9K_vTa",
        "outputId": "ecee7991-5501-4dc9-f9ad-b4decd7f2f3c"
      },
      "outputs": [
        {
          "data": {
            "text/plain": [
              "array([[1.423e+01, 1.710e+00, 2.430e+00, ..., 1.040e+00, 3.920e+00,\n",
              "        1.065e+03],\n",
              "       [1.320e+01, 1.780e+00, 2.140e+00, ..., 1.050e+00, 3.400e+00,\n",
              "        1.050e+03],\n",
              "       [1.316e+01, 2.360e+00, 2.670e+00, ..., 1.030e+00, 3.170e+00,\n",
              "        1.185e+03],\n",
              "       ...,\n",
              "       [1.327e+01, 4.280e+00, 2.260e+00, ..., 5.900e-01, 1.560e+00,\n",
              "        8.350e+02],\n",
              "       [1.317e+01, 2.590e+00, 2.370e+00, ..., 6.000e-01, 1.620e+00,\n",
              "        8.400e+02],\n",
              "       [1.413e+01, 4.100e+00, 2.740e+00, ..., 6.100e-01, 1.600e+00,\n",
              "        5.600e+02]], shape=(178, 13))"
            ]
          },
          "execution_count": 9,
          "metadata": {},
          "output_type": "execute_result"
        }
      ],
      "source": [
        "dados = df.to_numpy()\n",
        "dados"
      ]
    },
    {
      "cell_type": "markdown",
      "metadata": {
        "id": "d5iBHEpvAmkq"
      },
      "source": [
        "## Clustering"
      ]
    },
    {
      "cell_type": "markdown",
      "metadata": {
        "id": "7eqKU05YAn_b"
      },
      "source": [
        "### Inicialização da matriz de pertinência"
      ]
    },
    {
      "cell_type": "markdown",
      "metadata": {
        "id": "xgjmQE_OAp21"
      },
      "source": [
        "A matriz de pertinência é inicializada aleatoriamente $u_{ik}(i=1,...c$ e $k=1,...,n)$ do objeto $k$ pertencente ao grupo $C_i$ tal que:\n",
        "- $u_{ik} \\in [0,1]$;\n",
        "- $0 < \\sum_{k=1}^nu_{ik} < n$;\n",
        "- $\\sum_{i=1}^cu_{ik} = 1$ para todo $k \\in \\Omega$."
      ]
    },
    {
      "cell_type": "code",
      "execution_count": 10,
      "metadata": {
        "id": "-wfMM6QjAr71"
      },
      "outputs": [],
      "source": [
        "def inicializao_matriz_pertinencia(num_amostras, num_clusters):\n",
        "    matriz_pertinencia = np.random.rand(num_amostras, num_clusters) # gera uma matriz inicial aleatória com valores entre 0 e 1\n",
        "    matriz_pertinencia = matriz_pertinencia / matriz_pertinencia.sum(axis=1, keepdims=True) # normalização da matriz pra garantir que a soma dos graus dê um\n",
        "    return matriz_pertinencia"
      ]
    },
    {
      "cell_type": "markdown",
      "metadata": {
        "id": "pzZVWXpcAw61"
      },
      "source": [
        "### Atualização dos centroides"
      ]
    },
    {
      "cell_type": "markdown",
      "metadata": {
        "id": "Q-7TBwkIAy2H"
      },
      "source": [
        "Fixo os graus de pertinência, os centroides são atualizados com base nessa equação:\n",
        "\n",
        "### $y_i = \\frac{\\sum_{k=1}^n(u_{ik})^mx_k}{\\sum_{k=1}^n(u_{ik})^m}$"
      ]
    },
    {
      "cell_type": "code",
      "execution_count": 11,
      "metadata": {
        "id": "5UEHGtMMA7bD"
      },
      "outputs": [],
      "source": [
        "def atualizacao_centroides(dados, matriz_pertinencia, m):\n",
        "    matriz_pertinencia_m = matriz_pertinencia ** m # preparação dos graus de pertinência\n",
        "    centroides = np.dot(matriz_pertinencia_m.T, dados) / np.sum(matriz_pertinencia_m.T, axis=1, keepdims=True) # fórmula para o cálculo dos centroides\n",
        "    return centroides"
      ]
    },
    {
      "cell_type": "markdown",
      "metadata": {
        "id": "iwNFRpw_A81-"
      },
      "source": [
        "### Atualização da matriz de pertinência"
      ]
    },
    {
      "cell_type": "markdown",
      "metadata": {
        "id": "E-kg2pxRA9Te"
      },
      "source": [
        "Fixo o protótipo, os graus de pertinência são atualizados com base nessa equação:\n",
        "\n",
        "### $u_{ik}[\\sum_{h=1}^c\\{\\frac{d(x_k,y_i)}{d(x_k,y_h)}\\}^\\frac{1}{m-1}]^{-1}$\n",
        "\n",
        "onde\n",
        "\n",
        "$d(x_k,y_i) = \\sum_{j=1}^p(x_k^j-y_i^j)^2$"
      ]
    },
    {
      "cell_type": "code",
      "execution_count": 12,
      "metadata": {
        "id": "e75eiSY2BAeI"
      },
      "outputs": [],
      "source": [
        "def atualizacao_matriz_pertinencia(dados, centroides, m): # talvez a fórmula para calcular a matriz de pertinência esteja errada\n",
        "    # dados[:, np.newaxis] - centroides cria uma matriz de diferenças entre os pontos de dados e os centroides\n",
        "    # np.linalg.norm(..., axis=2) calcula a norma (distância euclidiana) das diferenças\n",
        "    # ** 2 para a distância ser a quadrada\n",
        "    matriz_distancias = np.linalg.norm(dados[:, np.newaxis] - centroides, axis=2) ** 2\n",
        "    matriz_distancias = np.fmax(matriz_distancias, np.finfo(np.float64).eps) # evita que matriz_distancias seja 0, np.finfo... é o menor número maior que zero aaqui\n",
        "    matriz_distancias_inversa = 1 / matriz_distancias\n",
        "    potencia = 1 / (m-1)\n",
        "    matriz_pertinencia_atualizada = matriz_distancias_inversa ** potencia/ np.sum(matriz_distancias_inversa ** potencia, axis=1, keepdims=True) # fórmula para atualizar os graus de pertinência\n",
        "    return matriz_pertinencia_atualizada"
      ]
    },
    {
      "cell_type": "markdown",
      "metadata": {
        "id": "GN4qqayDBCfP"
      },
      "source": [
        "### Fuzzy C-Means"
      ]
    },
    {
      "cell_type": "markdown",
      "metadata": {
        "id": "ES1PPCEYBDsv"
      },
      "source": [
        "Ações:\n",
        "1. Inicialização da matriz de pertinência\n",
        "2. Atualização dos centroides\n",
        "3. Atualização da matriz de pertinência\n",
        "\n",
        "Critérios de parada:\n",
        "1. Número máximo de iterações atingido\n",
        "2. Pouca diferença (erro) entre as matrizes de pertinência de iterações consecutivas"
      ]
    },
    {
      "cell_type": "code",
      "execution_count": 13,
      "metadata": {
        "id": "LGX-CxDmBF4l"
      },
      "outputs": [],
      "source": [
        "def fcm(dados, num_clusters, m=2, max_iter=1000, erro=1e-5):\n",
        "    num_amostras = dados.shape[0]\n",
        "    matriz_pertinencia = inicializao_matriz_pertinencia(num_amostras, num_clusters)\n",
        "    for _ in range(max_iter): # primeiro critério de parada\n",
        "        centroides = atualizacao_centroides(dados, matriz_pertinencia, m)\n",
        "        nova_matriz_pertinencia = atualizacao_matriz_pertinencia(dados, centroides, m)\n",
        "        if np.linalg.norm(nova_matriz_pertinencia - matriz_pertinencia) < erro: # segundo critério de parada\n",
        "            break\n",
        "        matriz_pertinencia = nova_matriz_pertinencia\n",
        "    return centroides, matriz_pertinencia"
      ]
    },
    {
      "cell_type": "markdown",
      "metadata": {
        "id": "0L2ILGCdBKAr"
      },
      "source": [
        "### Índice de Rand Ajustado (IRA)"
      ]
    },
    {
      "cell_type": "code",
      "execution_count": 14,
      "metadata": {
        "id": "yupjY7ZoBNpL"
      },
      "outputs": [],
      "source": [
        "def indice_ami(labels, predicted_labels):\n",
        "    return adjusted_mutual_info_score(labels, predicted_labels)"
      ]
    },
    {
      "cell_type": "markdown",
      "metadata": {
        "id": "NwsraaD_BOYI"
      },
      "source": [
        "### Simulação de Monte Carlo"
      ]
    },
    {
      "cell_type": "code",
      "execution_count": 15,
      "metadata": {
        "id": "iunOfj51_vTb"
      },
      "outputs": [],
      "source": [
        "def simulacao_monte_carlo(dados, labels, num_clusters, num_trials):\n",
        "    indices_rand = []\n",
        "    for _ in range(num_trials):\n",
        "        centroides, matriz_pertinencia = fcm(dados, num_clusters)\n",
        "        predicted_labels = np.argmax(matriz_pertinencia, axis=1)\n",
        "        idx_ami = indice_ami(labels, predicted_labels)\n",
        "        indices_rand.append(idx_ami)\n",
        "    mean_ami = np.mean(indices_rand)\n",
        "    std_ami = np.std(indices_rand)\n",
        "    return mean_ami, std_ami"
      ]
    },
    {
      "cell_type": "markdown",
      "metadata": {
        "id": "7njVCaopBW1L"
      },
      "source": [
        "### Definição de parâmetros e execução do método"
      ]
    },
    {
      "cell_type": "code",
      "execution_count": 16,
      "metadata": {
        "colab": {
          "base_uri": "https://localhost:8080/"
        },
        "id": "bwMeGgYu_vTb",
        "outputId": "f02a3cee-a800-43be-e781-3cd6d50bc570"
      },
      "outputs": [
        {
          "name": "stdout",
          "output_type": "stream",
          "text": [
            "Monte Carlo FCM Clustering Results (100 trials)\n",
            "Mean Rand Index: 0.4106\n",
            "Standard Deviation of Rand Index: 0.0000\n"
          ]
        }
      ],
      "source": [
        "num_clusters = 3\n",
        "num_trials = 100\n",
        "media_indice_ami, dp_indice_ami = simulacao_monte_carlo(dados, labels, num_clusters, num_trials)\n",
        "\n",
        "print(f\"Monte Carlo FCM Clustering Results ({num_trials} trials)\")\n",
        "print(f\"Mean Rand Index: {media_indice_ami:.4f}\")\n",
        "print(f\"Standard Deviation of Rand Index: {dp_indice_ami:.4f}\")"
      ]
    }
  ],
  "metadata": {
    "colab": {
      "provenance": []
    },
    "kernelspec": {
      "display_name": "Python 3",
      "language": "python",
      "name": "python3"
    },
    "language_info": {
      "codemirror_mode": {
        "name": "ipython",
        "version": 3
      },
      "file_extension": ".py",
      "mimetype": "text/x-python",
      "name": "python",
      "nbconvert_exporter": "python",
      "pygments_lexer": "ipython3",
      "version": "3.12.1"
    }
  },
  "nbformat": 4,
  "nbformat_minor": 0
}
