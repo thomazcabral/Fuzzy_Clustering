{
 "cells": [
  {
   "cell_type": "markdown",
   "id": "e1fa0c66e1e20fab",
   "metadata": {},
   "source": [
    "# Multivariate Fuzzy C-means method: Implementation\n",
    "\n",
    "## Equations\n",
    "\n",
    "### $J= \\sum_{i=1}^{c} \\sum_{k=1}^{n} \\sum_{j=1}^{p} \\left(u_{ijk} \\right)^{m} d_{ijk}$ - Objective function to minimize.\n",
    "\n",
    "### $d_{ijk} = \\left(x_{jk} - y_{ij} \\right)^{2}$ - euclidian distance squared.\n",
    "\n",
    "### $ y_{ij} = \\frac{\\sum_{k=1}^{n} \\left(u_{ijk} \\right)^{m} x_{jk}} {\\sum_{k=1}^{n} \\left(u_{ijk}\\right)^{m}}$ - prototype coordinate of a given cluster in feature j.\n",
    "\n",
    "### $ u_{ijk} =  \\left[\\sum_{h=1}^{c}\\sum_{l=1}^{p} \\left(\\frac{d_{ijk}}{d_{hlk}}\\right)^{(1/(m-1))}  \\right]^{-1} $ - membership degree of pattern k in cluster $C_{i}$ on the feature j.\n",
    "\n",
    "### $\\delta_{ik} = \\sum_{j=1}^{p} u_{ijk}$ - represents an aggregation measure for all the p features.\n",
    "\n",
    "## Constraints:\n",
    "\n",
    "### - $u_{ijk} \\in [0, 1]$ for all i, j and k;\n",
    "### - $0 < \\sum_{j=1}^{p} \\sum_{k=1}^{n} u_{ijk} < n$ for all i and\n",
    "### - $\\sum_{i=1}^{c}\\sum_{j=1}^{p}u_{ijk} = 1$ for all k."
   ]
  },
  {
   "cell_type": "markdown",
   "id": "8a6aa752",
   "metadata": {},
   "source": [
    "## Importando bibliotecas"
   ]
  },
  {
   "cell_type": "code",
   "execution_count": 89,
   "id": "d24bcb9352fbc662",
   "metadata": {
    "ExecuteTime": {
     "end_time": "2024-07-23T22:47:35.174123Z",
     "start_time": "2024-07-23T22:47:33.507128Z"
    }
   },
   "outputs": [],
   "source": [
    "import numpy as np\n",
    "import pandas as pd\n",
    "import seaborn as sns"
   ]
  },
  {
   "cell_type": "markdown",
   "id": "2ae6467e",
   "metadata": {},
   "source": [
    "## Tratamento de dados"
   ]
  },
  {
   "cell_type": "code",
   "execution_count": 90,
   "id": "0615bda0",
   "metadata": {},
   "outputs": [],
   "source": [
    "df = sns.load_dataset('iris')\n",
    "df[\"species\"].replace({\"setosa\": 0, \"versicolor\": 1, \"virginica\": 2}, inplace=True)\n",
    "df.columns = [\"SepalLengthCm\", \"SepalWidthCm\", \"PetalLengthCm\", \"PetalWidthCm\", \"Class\"]\n",
    "labels = df[\"Class\"].values\n",
    "df.drop(\"Class\", axis=1, inplace=True)\n",
    "dados = df.to_numpy()"
   ]
  },
  {
   "cell_type": "markdown",
   "id": "481f9be8",
   "metadata": {},
   "source": [
    "## Agrupamento"
   ]
  },
  {
   "cell_type": "code",
   "execution_count": 91,
   "id": "549c38ec38602e04",
   "metadata": {},
   "outputs": [],
   "source": [
    "class MFCM():\n",
    "    def __init__(self, c, X, m):\n",
    "        self.c = c\n",
    "        self.n = X.shape[0]\n",
    "        self.p = X.shape[1]\n",
    "        self.m = m\n",
    "    \n",
    "    def initialize_u(self):\n",
    "        return np.random.dirichlet(alpha=np.ones(self.c * self.p),\n",
    "                                   size=self.n).reshape(self.n, self.c, self.p)\n",
    "    \n",
    "    def find_centroides(self, X, U):\n",
    "        return np.sum((U ** self.m) * X[:, np.newaxis, :], axis=0) / np.sum(U ** self.m, axis=0)\n",
    "    \n",
    "    def get_distances(self, X, V): # as vezes tem umas distâncias muito pequenas\n",
    "        return (X[:, np.newaxis, :] - V[np.newaxis, :, :]) ** 2\n",
    "    \n",
    "    def update_u(self, D):\n",
    "        ratio = (D[:, np.newaxis, np.newaxis, :, :] / D[:, :, :, np.newaxis, np.newaxis]) ** (1/(self.m-1))\n",
    "        return 1 / (np.sum(ratio, axis=(3, 4)))\n",
    "    \n",
    "    def get_objective_function(self, U, D):\n",
    "        return np.sum((U ** self.m)*D)"
   ]
  },
  {
   "cell_type": "markdown",
   "id": "48bc28b4",
   "metadata": {},
   "source": [
    "## Clustering"
   ]
  },
  {
   "cell_type": "code",
   "execution_count": 92,
   "id": "024b9c00",
   "metadata": {},
   "outputs": [],
   "source": [
    "def mfcm_run(dados, num_clusters, m=2, max_iter=10**3, epsilon=1e-5):\n",
    "    mfcm = MFCM(c=num_clusters, X=dados, m=m) # create the MFCM object\n",
    "    \n",
    "    U = mfcm.initialize_u() # initialize the membership matrix\n",
    "    \n",
    "    for _ in range(max_iter):\n",
    "        centroids = mfcm.find_centroides(dados, U)\n",
    "        D = mfcm.get_distances(dados, centroids)\n",
    "        new_U = mfcm.update_u(D)\n",
    "        if np.linalg.norm(U - new_U) < epsilon:\n",
    "            break\n",
    "        U = new_U\n",
    "    \n",
    "    Delta = np.sum(U, axis=2)  # summing over the second axis (variables `j`)\n",
    "    \n",
    "    return centroids, U, Delta"
   ]
  },
  {
   "cell_type": "markdown",
   "id": "8cd45289",
   "metadata": {},
   "source": [
    "## Fuzzyficação dos labels"
   ]
  },
  {
   "cell_type": "code",
   "execution_count": 93,
   "id": "16e6b93b",
   "metadata": {},
   "outputs": [
    {
     "data": {
      "text/plain": [
       "array([[5.91764136e-04, 3.16296805e-01, 6.83111431e-01],\n",
       "       [5.85950088e-03, 3.09194732e-01, 6.84945767e-01],\n",
       "       [4.70910466e-03, 3.17821853e-01, 6.77469043e-01],\n",
       "       [7.93587532e-03, 3.09960717e-01, 6.82103408e-01],\n",
       "       [1.03025761e-03, 3.18878107e-01, 6.80091636e-01],\n",
       "       [1.57064159e-02, 3.07538189e-01, 6.76755395e-01],\n",
       "       [4.79656050e-03, 3.17602314e-01, 6.77601125e-01],\n",
       "       [1.34277354e-04, 3.11427567e-01, 6.88438156e-01],\n",
       "       [1.72290722e-02, 3.12449613e-01, 6.70321315e-01],\n",
       "       [4.23412365e-03, 3.08120031e-01, 6.87645845e-01],\n",
       "       [7.28305731e-03, 3.14051639e-01, 6.78665304e-01],\n",
       "       [1.98542835e-03, 3.09344170e-01, 6.88670402e-01],\n",
       "       [7.07957067e-03, 3.11268267e-01, 6.81652163e-01],\n",
       "       [1.90330556e-02, 3.24484226e-01, 6.56482718e-01],\n",
       "       [2.76899906e-02, 3.27495489e-01, 6.44814520e-01],\n",
       "       [4.20457138e-02, 3.24056308e-01, 6.33897979e-01],\n",
       "       [1.23681302e-02, 3.23183710e-01, 6.64448160e-01],\n",
       "       [6.26019541e-04, 3.15241268e-01, 6.84132712e-01],\n",
       "       [2.36867909e-02, 3.04036089e-01, 6.72277120e-01],\n",
       "       [4.61067899e-03, 3.17256325e-01, 6.78132996e-01],\n",
       "       [7.53998918e-03, 2.98597052e-01, 6.93862959e-01],\n",
       "       [3.37958675e-03, 3.14199285e-01, 6.82421129e-01],\n",
       "       [9.49505784e-03, 3.32789572e-01, 6.57715370e-01],\n",
       "       [5.25619328e-03, 2.95007241e-01, 6.99736566e-01],\n",
       "       [8.23202896e-03, 2.95880737e-01, 6.95887234e-01],\n",
       "       [6.60315900e-03, 2.99577292e-01, 6.93819549e-01],\n",
       "       [1.44232749e-03, 3.04684963e-01, 6.93872710e-01],\n",
       "       [1.45106858e-03, 3.11615945e-01, 6.86932987e-01],\n",
       "       [1.34030558e-03, 3.13666297e-01, 6.84993398e-01],\n",
       "       [5.08614362e-03, 3.06671222e-01, 6.88242634e-01],\n",
       "       [5.33612607e-03, 3.03710674e-01, 6.90953200e-01],\n",
       "       [6.04016849e-03, 3.05351287e-01, 6.88608545e-01],\n",
       "       [1.45177267e-02, 3.24145635e-01, 6.61336638e-01],\n",
       "       [2.36382192e-02, 3.26429506e-01, 6.49932275e-01],\n",
       "       [3.73015911e-03, 3.06864017e-01, 6.89405824e-01],\n",
       "       [3.34894867e-03, 3.18923998e-01, 6.77727053e-01],\n",
       "       [8.18717369e-03, 3.17142286e-01, 6.74670540e-01],\n",
       "       [1.84814552e-03, 3.20578795e-01, 6.77573059e-01],\n",
       "       [1.47564194e-02, 3.17209527e-01, 6.68034054e-01],\n",
       "       [4.10041959e-04, 3.10526580e-01, 6.89063378e-01],\n",
       "       [9.79078477e-04, 3.19617919e-01, 6.79403002e-01],\n",
       "       [3.94050191e-02, 3.06047352e-01, 6.54547629e-01],\n",
       "       [1.13965027e-02, 3.20157036e-01, 6.68446461e-01],\n",
       "       [5.05142402e-03, 3.04330635e-01, 6.90617941e-01],\n",
       "       [1.32270869e-02, 2.98496244e-01, 6.88276669e-01],\n",
       "       [6.79000131e-03, 3.09014660e-01, 6.84195338e-01],\n",
       "       [5.24211028e-03, 3.14541311e-01, 6.80216578e-01],\n",
       "       [6.15131404e-03, 3.15249239e-01, 6.78599446e-01],\n",
       "       [5.08341349e-03, 3.14803106e-01, 6.80113481e-01],\n",
       "       [6.61577193e-04, 3.13479751e-01, 6.85858672e-01],\n",
       "       [8.47336004e-01, 8.10774792e-02, 7.15865168e-02],\n",
       "       [8.67308363e-01, 3.30782975e-02, 9.96133392e-02],\n",
       "       [8.81679970e-01, 7.62669134e-02, 4.20531167e-02],\n",
       "       [6.42180643e-01, 3.39383248e-02, 3.23881032e-01],\n",
       "       [8.92837029e-01, 2.95497313e-02, 7.76132397e-02],\n",
       "       [8.13733345e-01, 8.33380974e-03, 1.77932845e-01],\n",
       "       [8.87336348e-01, 4.32034251e-02, 6.94602270e-02],\n",
       "       [3.02900751e-01, 1.35183136e-01, 5.61916113e-01],\n",
       "       [8.72514954e-01, 3.63551803e-02, 9.11298659e-02],\n",
       "       [5.74699219e-01, 4.99486644e-02, 3.75352117e-01],\n",
       "       [3.83116314e-01, 1.21990597e-01, 4.94893090e-01],\n",
       "       [7.90327161e-01, 6.92485099e-03, 2.02747988e-01],\n",
       "       [6.59448193e-01, 3.48852019e-02, 3.05666605e-01],\n",
       "       [8.92303648e-01, 1.63042355e-02, 9.13921166e-02],\n",
       "       [5.17563744e-01, 4.64044716e-02, 4.36031784e-01],\n",
       "       [8.39991193e-01, 4.65843759e-02, 1.13424431e-01],\n",
       "       [8.12650536e-01, 1.81819589e-02, 1.69167506e-01],\n",
       "       [6.84079340e-01, 1.22258991e-02, 3.03694761e-01],\n",
       "       [8.40042586e-01, 2.95070923e-02, 1.30450322e-01],\n",
       "       [6.04796300e-01, 2.81014139e-02, 3.67102286e-01],\n",
       "       [8.86568497e-01, 4.32241199e-02, 7.02073831e-02],\n",
       "       [7.34786945e-01, 7.72043898e-03, 2.57492616e-01],\n",
       "       [9.05891785e-01, 3.66993557e-02, 5.74088596e-02],\n",
       "       [8.71550939e-01, 1.59244535e-02, 1.12524608e-01],\n",
       "       [8.27734023e-01, 1.70437678e-02, 1.55222209e-01],\n",
       "       [8.50017808e-01, 3.47623771e-02, 1.15219815e-01],\n",
       "       [8.85648044e-01, 5.75027808e-02, 5.68491749e-02],\n",
       "       [9.10034307e-01, 6.81364540e-02, 2.18292387e-02],\n",
       "       [8.67492912e-01, 7.82562018e-03, 1.24681468e-01],\n",
       "       [4.58321491e-01, 5.98058190e-02, 4.81872690e-01],\n",
       "       [5.54209695e-01, 4.35946336e-02, 4.02195671e-01],\n",
       "       [5.04967016e-01, 5.48337921e-02, 4.40199192e-01],\n",
       "       [6.52071184e-01, 1.37398732e-02, 3.34188943e-01],\n",
       "       [9.12209066e-01, 4.34299683e-02, 4.43609656e-02],\n",
       "       [7.75584432e-01, 2.98020336e-02, 1.94613534e-01],\n",
       "       [8.36877386e-01, 3.70588776e-02, 1.26063737e-01],\n",
       "       [8.85320400e-01, 5.39677298e-02, 6.07118705e-02],\n",
       "       [8.21084810e-01, 2.41786098e-02, 1.54736580e-01],\n",
       "       [6.93457313e-01, 1.54768815e-02, 2.91065806e-01],\n",
       "       [6.49332201e-01, 2.48459242e-02, 3.25821875e-01],\n",
       "       [7.44828314e-01, 1.81002247e-02, 2.37071461e-01],\n",
       "       [8.78442030e-01, 1.40502825e-02, 1.07507688e-01],\n",
       "       [6.85170540e-01, 1.03454066e-02, 3.04484053e-01],\n",
       "       [3.17386282e-01, 1.29216701e-01, 5.53397017e-01],\n",
       "       [7.28983308e-01, 9.37670044e-03, 2.61639992e-01],\n",
       "       [7.25781443e-01, 1.02465371e-02, 2.63972020e-01],\n",
       "       [7.43853429e-01, 6.10393071e-03, 2.50042640e-01],\n",
       "       [8.22888728e-01, 6.72811342e-03, 1.70383158e-01],\n",
       "       [2.44977649e-01, 1.48939352e-01, 6.06083000e-01],\n",
       "       [7.16650063e-01, 6.63876110e-03, 2.76711176e-01],\n",
       "       [8.34326362e-01, 1.46935063e-01, 1.87385750e-02],\n",
       "       [8.96645698e-01, 5.54004082e-02, 4.79538939e-02],\n",
       "       [8.44881693e-01, 1.43241667e-01, 1.18766396e-02],\n",
       "       [9.02890149e-01, 9.11525321e-02, 5.95731938e-03],\n",
       "       [8.74148919e-01, 1.22354706e-01, 3.49637515e-03],\n",
       "       [7.69221785e-01, 1.86222088e-01, 4.45561271e-02],\n",
       "       [6.84497014e-01, 7.52898639e-02, 2.40213122e-01],\n",
       "       [8.09371543e-01, 1.61647103e-01, 2.89813542e-02],\n",
       "       [8.73885396e-01, 1.13869557e-01, 1.22450471e-02],\n",
       "       [7.90282199e-01, 1.77251519e-01, 3.24662820e-02],\n",
       "       [9.06117906e-01, 8.10277547e-02, 1.28543398e-02],\n",
       "       [9.16311999e-01, 7.49656759e-02, 8.72232546e-03],\n",
       "       [8.85595654e-01, 1.12345745e-01, 2.05860110e-03],\n",
       "       [8.73667043e-01, 5.83142799e-02, 6.80186767e-02],\n",
       "       [8.68010272e-01, 8.62735041e-02, 4.57162236e-02],\n",
       "       [8.87479294e-01, 1.02986748e-01, 9.53395809e-03],\n",
       "       [9.05899142e-01, 9.14348826e-02, 2.66597494e-03],\n",
       "       [7.31913504e-01, 2.06220696e-01, 6.18657998e-02],\n",
       "       [7.44432734e-01, 1.97263389e-01, 5.83038770e-02],\n",
       "       [8.72071857e-01, 4.76822925e-02, 8.02458503e-02],\n",
       "       [8.54908033e-01, 1.36966315e-01, 8.12565239e-03],\n",
       "       [8.66514614e-01, 5.41542969e-02, 7.93310886e-02],\n",
       "       [7.59188011e-01, 1.89382788e-01, 5.14292002e-02],\n",
       "       [9.21217826e-01, 4.32429113e-02, 3.55392632e-02],\n",
       "       [8.68294330e-01, 1.26478165e-01, 5.22750517e-03],\n",
       "       [8.29922315e-01, 1.49908719e-01, 2.01689668e-02],\n",
       "       [9.17413360e-01, 3.50131958e-02, 4.75734441e-02],\n",
       "       [9.16153226e-01, 4.18961629e-02, 4.19506107e-02],\n",
       "       [8.95072881e-01, 1.02057942e-01, 2.86917665e-03],\n",
       "       [8.44701127e-01, 1.34939137e-01, 2.03597356e-02],\n",
       "       [8.15640662e-01, 1.57348897e-01, 2.70104410e-02],\n",
       "       [7.33422669e-01, 2.02898740e-01, 6.36785911e-02],\n",
       "       [8.90111641e-01, 1.06133481e-01, 3.75487733e-03],\n",
       "       [9.20202628e-01, 4.73979834e-02, 3.23993890e-02],\n",
       "       [8.85524551e-01, 8.08522000e-02, 3.36232486e-02],\n",
       "       [7.84508356e-01, 1.77352711e-01, 3.81389336e-02],\n",
       "       [8.57809735e-01, 1.27309058e-01, 1.48812073e-02],\n",
       "       [9.04563637e-01, 9.08637208e-02, 4.57264257e-03],\n",
       "       [9.05545351e-01, 3.52464965e-02, 5.92081527e-02],\n",
       "       [8.80294193e-01, 1.14192299e-01, 5.51350825e-03],\n",
       "       [8.66480865e-01, 1.27544125e-01, 5.97501031e-03],\n",
       "       [8.72695765e-01, 1.11103757e-01, 1.62004786e-02],\n",
       "       [8.96645698e-01, 5.54004082e-02, 4.79538939e-02],\n",
       "       [8.48289571e-01, 1.42592585e-01, 9.11784335e-03],\n",
       "       [8.47042894e-01, 1.41019461e-01, 1.19376451e-02],\n",
       "       [8.87940591e-01, 1.03190193e-01, 8.86921593e-03],\n",
       "       [9.12270765e-01, 5.55129447e-02, 3.22162900e-02],\n",
       "       [9.13552510e-01, 8.02051905e-02, 6.24229921e-03],\n",
       "       [8.70563858e-01, 1.11731165e-01, 1.77049773e-02],\n",
       "       [9.06581900e-01, 5.36606605e-02, 3.97574393e-02]])"
      ]
     },
     "execution_count": 93,
     "metadata": {},
     "output_type": "execute_result"
    }
   ],
   "source": [
    "def crisp_to_fuzzy(dados, y, n_clusters, m=2):\n",
    "    mfcm = MFCM(c=n_clusters, X=dados, m=m)  # Criar objeto MFCM\n",
    "    \n",
    "    # Calcular os protótipos reais (médias das amostras de cada classe)\n",
    "    prototipos = np.array([dados[y == c].mean(axis=0) for c in range(n_clusters)])\n",
    "    \n",
    "    # Calcular distâncias entre os pontos e os protótipos\n",
    "    distancias = mfcm.get_distances(dados, prototipos)\n",
    "    distancias = np.fmax(distancias, np.finfo(np.float64).eps)  # Evitar divisão por zero\n",
    "    \n",
    "    # Atualizar matriz de pertinência com a fórmula do MFCM\n",
    "    matriz_pertinencia = mfcm.update_u(distancias)\n",
    "    \n",
    "    # Somar as pertinências sobre as variáveis (eixo 2) para obter pertinências por classe\n",
    "    matriz_pertinencia_final = np.sum(matriz_pertinencia, axis=2)  \n",
    "    \n",
    "    return matriz_pertinencia_final\n",
    "\n",
    "\n",
    "\n",
    "labels = crisp_to_fuzzy(dados, labels, 3)\n",
    "labels"
   ]
  },
  {
   "cell_type": "markdown",
   "id": "770ea77c",
   "metadata": {},
   "source": [
    "## Índice de Rand Difuso"
   ]
  },
  {
   "cell_type": "code",
   "execution_count": 94,
   "id": "322a5151",
   "metadata": {},
   "outputs": [],
   "source": [
    "def pertinence_distance(delta_k, delta_k_linha, c):\n",
    "    # calcula a distância entre δ_k e δ_k' (matrizes de pertinência)\n",
    "    return (1/c) * np.sum((delta_k - delta_k_linha) ** 2)\n",
    "\n",
    "def fuzzy_rand_index(particao1, particao2, c):\n",
    "    n = particao1.shape[0]\n",
    "    total_sum = 0\n",
    "\n",
    "    for k in range(n):\n",
    "        for k_linha in range(k+1, n):\n",
    "            if k != k_linha:\n",
    "                # calcula a métrica para P\n",
    "                delta_k = particao1[k]\n",
    "                delta_k_prime = particao1[k_linha]\n",
    "                EP = 1 - pertinence_distance(delta_k, delta_k_prime, c)\n",
    "\n",
    "                # calcula a métrica para Q\n",
    "                delta_k_Q = particao2[k]\n",
    "                delta_k_prime_Q = particao2[k_linha]\n",
    "                EQ = 1 - pertinence_distance(delta_k_Q, delta_k_prime_Q, c)\n",
    "\n",
    "                total_sum += np.abs(EP - EQ) # soma a diferença absoluta entre EP e EQ\n",
    "\n",
    "    denominador = n * (n - 1) / 2\n",
    "    if denominador == 0:\n",
    "        raise ValueError\n",
    "\n",
    "    return 1- (total_sum / denominador)"
   ]
  },
  {
   "cell_type": "markdown",
   "id": "f064e032",
   "metadata": {},
   "source": [
    "## Simulação de Monte Carlo"
   ]
  },
  {
   "cell_type": "code",
   "execution_count": 95,
   "id": "eb6ea49f",
   "metadata": {},
   "outputs": [],
   "source": [
    "def monte_carlo_simulation(dados, labels, num_clusters, num_trials):\n",
    "    results = []\n",
    "    for _ in range(num_trials):\n",
    "        centroids, U, Delta = mfcm_run(dados, num_clusters)\n",
    "        fr = fuzzy_rand_index(labels, Delta, num_clusters)\n",
    "        results.append(fr)\n",
    "    mean_fr = np.mean(results)\n",
    "    std_fr = np.std(results)\n",
    "    return mean_fr, std_fr"
   ]
  },
  {
   "cell_type": "code",
   "execution_count": 96,
   "id": "db4a1eec",
   "metadata": {},
   "outputs": [
    {
     "name": "stdout",
     "output_type": "stream",
     "text": [
      "Mean ARI: 0.9056141665900617\n",
      "Std ARI: 0.028310422618390257\n"
     ]
    }
   ],
   "source": [
    "num_clusters = 3\n",
    "num_trials = 100\n",
    "mean_fr, std_fr = monte_carlo_simulation(dados, labels, num_clusters, num_trials)\n",
    "\n",
    "print(f\"Mean ARI: {mean_fr}\")\n",
    "print(f\"Std ARI: {std_fr}\")"
   ]
  }
 ],
 "metadata": {
  "kernelspec": {
   "display_name": "Python 3",
   "language": "python",
   "name": "python3"
  },
  "language_info": {
   "codemirror_mode": {
    "name": "ipython",
    "version": 3
   },
   "file_extension": ".py",
   "mimetype": "text/x-python",
   "name": "python",
   "nbconvert_exporter": "python",
   "pygments_lexer": "ipython3",
   "version": "3.11.3"
  }
 },
 "nbformat": 4,
 "nbformat_minor": 5
}
