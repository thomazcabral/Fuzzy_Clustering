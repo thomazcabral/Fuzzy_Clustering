{
 "cells": [
  {
   "cell_type": "markdown",
   "metadata": {
    "id": "X-5_kzR-_0cO"
   },
   "source": [
    "## Tratamento dos dados"
   ]
  },
  {
   "cell_type": "markdown",
   "metadata": {
    "id": "VnzujkKg_6xC"
   },
   "source": [
    "### Importando bibliotecas"
   ]
  },
  {
   "cell_type": "code",
   "execution_count": 88,
   "metadata": {
    "id": "v9xQo6eL_vTW"
   },
   "outputs": [],
   "source": [
    "import numpy as np\n",
    "from sklearn.metrics import adjusted_rand_score\n",
    "import pandas as pd"
   ]
  },
  {
   "cell_type": "markdown",
   "metadata": {},
   "source": [
    "### Geração de dados sintéticos"
   ]
  },
  {
   "cell_type": "code",
   "execution_count": 89,
   "metadata": {},
   "outputs": [],
   "source": [
    "def gerar_configuracao(mu_list, sigma_list, tamanhos, config_id):\n",
    "    dfs = []\n",
    "    for i, (mu, sigma2, n) in enumerate(zip(mu_list, sigma_list, tamanhos)):\n",
    "        Sigma = np.diag(sigma2)\n",
    "        data = np.random.multivariate_normal(mu, Sigma, n)\n",
    "        df = pd.DataFrame(data, columns=[\"x1\", \"x2\"])\n",
    "        df[\"class\"] = i + 1\n",
    "        dfs.append(df)\n",
    "    df_config = pd.concat(dfs, ignore_index=True)\n",
    "    df_config[\"config\"] = config_id\n",
    "    return df_config\n",
    "\n",
    "np.random.seed(42)  # reprodutibilidade\n",
    "\n",
    "# -------------------------------\n",
    "# Configuração 1\n",
    "mu_1 = [[5, 0], [15, 5], [18, 14]]\n",
    "sigma2_1 = [[81, 9], [9, 100], [25, 36]]\n",
    "n1 = [200, 100, 50]\n",
    "df1 = gerar_configuracao(mu_1, sigma2_1, n1, config_id=1)\n",
    "l1 = \"Classes elípticas de tamanhos diferentes\"\n",
    "\n",
    "# -------------------------------\n",
    "# Configuração 2\n",
    "mu_2 = [[0, 0], [30, 0], [12, 25]]\n",
    "sigma2_2 = [[100, 100], [49, 49], [16, 16]]\n",
    "n2 = [200, 100, 50]\n",
    "df2 = gerar_configuracao(mu_2, sigma2_2, n2, config_id=2)\n",
    "l2 = \"Classes esféricas de tamanhos diferentes\"\n",
    "\n",
    "# -------------------------------\n",
    "# Configuração 3\n",
    "mu_3 = [[0, 0], [15, 5], [15, -5]]\n",
    "sigma2_3 = [[100, 4], [100, 4], [100, 4]]\n",
    "n3 = [100, 100, 100]\n",
    "df3 = gerar_configuracao(mu_3, sigma2_3, n3, config_id=3)\n",
    "l3 = \"Classes elípticas de tamanhos iguais\"\n",
    "\n",
    "# -------------------------------\n",
    "# Configuração 4\n",
    "mu_4 = [[0, 0], [15, 0], [-15, 0]]\n",
    "sigma2_4 = [[16, 16], [16, 16], [16, 16]]\n",
    "n4 = [100, 100, 100]\n",
    "df4 = gerar_configuracao(mu_4, sigma2_4, n4, config_id=4)\n",
    "l4 = \"Classes elípticas de tamanhos iguais\"\n",
    "\n",
    "# -------------------------------\n",
    "# Configuração 5\n",
    "mu_5 = [[5, 0], [15, 5], [10, -7], [3, 15]]\n",
    "sigma2_5 = [[81, 9], [9, 100], [49, 16], [25, 25]]\n",
    "n5 = [50, 50, 50, 50]\n",
    "df5 = gerar_configuracao(mu_5, sigma2_5, n5, config_id=5)\n",
    "l5 = \"3 classes elípticas e 1 esférica\"\n",
    "\n",
    "# -------------------------------\n",
    "# Configuração 6\n",
    "mu_6 = [[5, 0], [15, 5], [12, -12], [7, 17]]\n",
    "sigma2_6 = [[81, 9], [9, 100], [16, 16], [25, 25]]\n",
    "n6 = [50, 50, 50, 50]\n",
    "df6 = gerar_configuracao(mu_6, sigma2_6, n6, config_id=6)\n",
    "l6 = \"2 classes elípticas e 2 esféricas\"\n",
    "\n",
    "# -------------------------------\n",
    "# Configuração 7\n",
    "mu_7 = [[0, 0], [18, 0], [-18, 0], [0, -12]]\n",
    "sigma2_7 = [[12, 12], [20, 20], [16, 16], [81, 20]]\n",
    "n7 = [50, 50, 50, 50]\n",
    "df7 = gerar_configuracao(mu_7, sigma2_7, n7, config_id=7)\n",
    "l7 = \"1 classe elíptica e 3 esféricas\""
   ]
  },
  {
   "cell_type": "markdown",
   "metadata": {
    "id": "97ZB6HLiABGf"
   },
   "source": [
    "### Escolhendo e verificando um dos conjuntos gerados"
   ]
  },
  {
   "cell_type": "code",
   "execution_count": 90,
   "metadata": {
    "colab": {
     "base_uri": "https://localhost:8080/",
     "height": 206
    },
    "id": "HAoOUquR_vTX",
    "outputId": "e23a4b05-d9d3-43b4-95a2-9e8bf1fe7422"
   },
   "outputs": [
    {
     "data": {
      "text/html": [
       "<div>\n",
       "<style scoped>\n",
       "    .dataframe tbody tr th:only-of-type {\n",
       "        vertical-align: middle;\n",
       "    }\n",
       "\n",
       "    .dataframe tbody tr th {\n",
       "        vertical-align: top;\n",
       "    }\n",
       "\n",
       "    .dataframe thead th {\n",
       "        text-align: right;\n",
       "    }\n",
       "</style>\n",
       "<table border=\"1\" class=\"dataframe\">\n",
       "  <thead>\n",
       "    <tr style=\"text-align: right;\">\n",
       "      <th></th>\n",
       "      <th>x1</th>\n",
       "      <th>x2</th>\n",
       "      <th>class</th>\n",
       "      <th>config</th>\n",
       "    </tr>\n",
       "  </thead>\n",
       "  <tbody>\n",
       "    <tr>\n",
       "      <th>0</th>\n",
       "      <td>1.702362</td>\n",
       "      <td>1.973708</td>\n",
       "      <td>1</td>\n",
       "      <td>7</td>\n",
       "    </tr>\n",
       "    <tr>\n",
       "      <th>1</th>\n",
       "      <td>0.677169</td>\n",
       "      <td>-0.342410</td>\n",
       "      <td>1</td>\n",
       "      <td>7</td>\n",
       "    </tr>\n",
       "    <tr>\n",
       "      <th>2</th>\n",
       "      <td>1.510263</td>\n",
       "      <td>-8.771958</td>\n",
       "      <td>1</td>\n",
       "      <td>7</td>\n",
       "    </tr>\n",
       "    <tr>\n",
       "      <th>3</th>\n",
       "      <td>2.362758</td>\n",
       "      <td>0.437093</td>\n",
       "      <td>1</td>\n",
       "      <td>7</td>\n",
       "    </tr>\n",
       "    <tr>\n",
       "      <th>4</th>\n",
       "      <td>-0.770676</td>\n",
       "      <td>7.090539</td>\n",
       "      <td>1</td>\n",
       "      <td>7</td>\n",
       "    </tr>\n",
       "  </tbody>\n",
       "</table>\n",
       "</div>"
      ],
      "text/plain": [
       "         x1        x2  class  config\n",
       "0  1.702362  1.973708      1       7\n",
       "1  0.677169 -0.342410      1       7\n",
       "2  1.510263 -8.771958      1       7\n",
       "3  2.362758  0.437093      1       7\n",
       "4 -0.770676  7.090539      1       7"
      ]
     },
     "execution_count": 90,
     "metadata": {},
     "output_type": "execute_result"
    }
   ],
   "source": [
    "df = df7\n",
    "df.head()"
   ]
  },
  {
   "cell_type": "markdown",
   "metadata": {
    "id": "0OgIuCvSAC-H"
   },
   "source": [
    "### Verificando as classes"
   ]
  },
  {
   "cell_type": "code",
   "execution_count": 91,
   "metadata": {
    "colab": {
     "base_uri": "https://localhost:8080/"
    },
    "id": "lAoGnG8I_vTY",
    "outputId": "e2432532-947c-4281-ed30-54d5e7ec5b65"
   },
   "outputs": [
    {
     "data": {
      "text/plain": [
       "array([1, 2, 3, 4])"
      ]
     },
     "execution_count": 91,
     "metadata": {},
     "output_type": "execute_result"
    }
   ],
   "source": [
    "df[\"class\"].unique()"
   ]
  },
  {
   "cell_type": "markdown",
   "metadata": {
    "id": "yM8ClaGCAFFe"
   },
   "source": [
    "### Verificando o nome exato das colunas"
   ]
  },
  {
   "cell_type": "code",
   "execution_count": 92,
   "metadata": {
    "colab": {
     "base_uri": "https://localhost:8080/"
    },
    "id": "aq_ASvf0_vTZ",
    "outputId": "efbf7324-796c-4997-c822-a153fd4f6ab8"
   },
   "outputs": [
    {
     "data": {
      "text/plain": [
       "Index(['x1', 'x2', 'class', 'config'], dtype='object')"
      ]
     },
     "execution_count": 92,
     "metadata": {},
     "output_type": "execute_result"
    }
   ],
   "source": [
    "df.columns"
   ]
  },
  {
   "cell_type": "markdown",
   "metadata": {
    "id": "UgRt0wHhAJSV"
   },
   "source": [
    "### Retirando variáveis inúteis e transformando classes em números"
   ]
  },
  {
   "cell_type": "code",
   "execution_count": 93,
   "metadata": {
    "colab": {
     "base_uri": "https://localhost:8080/",
     "height": 382
    },
    "id": "lEgGq8A7_vTZ",
    "outputId": "e0c7a61a-62ff-45f4-827d-db6300c88a2a"
   },
   "outputs": [
    {
     "name": "stderr",
     "output_type": "stream",
     "text": [
      "/tmp/ipykernel_1573/207842191.py:2: FutureWarning: A value is trying to be set on a copy of a DataFrame or Series through chained assignment using an inplace method.\n",
      "The behavior will change in pandas 3.0. This inplace method will never work because the intermediate object on which we are setting values always behaves as a copy.\n",
      "\n",
      "For example, when doing 'df[col].method(value, inplace=True)', try using 'df.method({col: value}, inplace=True)' or df[col] = df[col].method(value) instead, to perform the operation inplace on the original object.\n",
      "\n",
      "\n",
      "  df[\"class\"].replace({1: 0, 2: 1, 3: 2, 4: 3}, inplace=True)\n"
     ]
    },
    {
     "data": {
      "text/html": [
       "<div>\n",
       "<style scoped>\n",
       "    .dataframe tbody tr th:only-of-type {\n",
       "        vertical-align: middle;\n",
       "    }\n",
       "\n",
       "    .dataframe tbody tr th {\n",
       "        vertical-align: top;\n",
       "    }\n",
       "\n",
       "    .dataframe thead th {\n",
       "        text-align: right;\n",
       "    }\n",
       "</style>\n",
       "<table border=\"1\" class=\"dataframe\">\n",
       "  <thead>\n",
       "    <tr style=\"text-align: right;\">\n",
       "      <th></th>\n",
       "      <th>x1</th>\n",
       "      <th>x2</th>\n",
       "      <th>class</th>\n",
       "    </tr>\n",
       "  </thead>\n",
       "  <tbody>\n",
       "    <tr>\n",
       "      <th>0</th>\n",
       "      <td>1.702362</td>\n",
       "      <td>1.973708</td>\n",
       "      <td>0</td>\n",
       "    </tr>\n",
       "    <tr>\n",
       "      <th>1</th>\n",
       "      <td>0.677169</td>\n",
       "      <td>-0.342410</td>\n",
       "      <td>0</td>\n",
       "    </tr>\n",
       "    <tr>\n",
       "      <th>2</th>\n",
       "      <td>1.510263</td>\n",
       "      <td>-8.771958</td>\n",
       "      <td>0</td>\n",
       "    </tr>\n",
       "    <tr>\n",
       "      <th>3</th>\n",
       "      <td>2.362758</td>\n",
       "      <td>0.437093</td>\n",
       "      <td>0</td>\n",
       "    </tr>\n",
       "    <tr>\n",
       "      <th>4</th>\n",
       "      <td>-0.770676</td>\n",
       "      <td>7.090539</td>\n",
       "      <td>0</td>\n",
       "    </tr>\n",
       "  </tbody>\n",
       "</table>\n",
       "</div>"
      ],
      "text/plain": [
       "         x1        x2  class\n",
       "0  1.702362  1.973708      0\n",
       "1  0.677169 -0.342410      0\n",
       "2  1.510263 -8.771958      0\n",
       "3  2.362758  0.437093      0\n",
       "4 -0.770676  7.090539      0"
      ]
     },
     "execution_count": 93,
     "metadata": {},
     "output_type": "execute_result"
    }
   ],
   "source": [
    "df.drop(\"config\", axis=1, inplace=True)\n",
    "df[\"class\"].replace({1: 0, 2: 1, 3: 2, 4: 3}, inplace=True)\n",
    "df.head()"
   ]
  },
  {
   "cell_type": "markdown",
   "metadata": {
    "id": "_F_lqJvUAMNS"
   },
   "source": [
    "### Verificando a corretude das classes"
   ]
  },
  {
   "cell_type": "code",
   "execution_count": 94,
   "metadata": {
    "colab": {
     "base_uri": "https://localhost:8080/"
    },
    "id": "qyG27x5r_vTZ",
    "outputId": "0412cc86-c86d-4a6b-96c9-161241665849"
   },
   "outputs": [
    {
     "data": {
      "text/plain": [
       "array([0, 1, 2, 3])"
      ]
     },
     "execution_count": 94,
     "metadata": {},
     "output_type": "execute_result"
    }
   ],
   "source": [
    "df[\"class\"].unique()"
   ]
  },
  {
   "cell_type": "markdown",
   "metadata": {
    "id": "JaUr6zV-APT_"
   },
   "source": [
    "### Armazenando as classes em uma variável separada"
   ]
  },
  {
   "cell_type": "code",
   "execution_count": 95,
   "metadata": {
    "colab": {
     "base_uri": "https://localhost:8080/"
    },
    "id": "DVYRw-XH_vTa",
    "outputId": "e61929f6-2864-4fde-81c7-d9fd138ffe8a"
   },
   "outputs": [
    {
     "data": {
      "text/plain": [
       "array([0, 0, 0, 0, 0, 0, 0, 0, 0, 0, 0, 0, 0, 0, 0, 0, 0, 0, 0, 0, 0, 0,\n",
       "       0, 0, 0, 0, 0, 0, 0, 0, 0, 0, 0, 0, 0, 0, 0, 0, 0, 0, 0, 0, 0, 0,\n",
       "       0, 0, 0, 0, 0, 0, 1, 1, 1, 1, 1, 1, 1, 1, 1, 1, 1, 1, 1, 1, 1, 1,\n",
       "       1, 1, 1, 1, 1, 1, 1, 1, 1, 1, 1, 1, 1, 1, 1, 1, 1, 1, 1, 1, 1, 1,\n",
       "       1, 1, 1, 1, 1, 1, 1, 1, 1, 1, 1, 1, 2, 2, 2, 2, 2, 2, 2, 2, 2, 2,\n",
       "       2, 2, 2, 2, 2, 2, 2, 2, 2, 2, 2, 2, 2, 2, 2, 2, 2, 2, 2, 2, 2, 2,\n",
       "       2, 2, 2, 2, 2, 2, 2, 2, 2, 2, 2, 2, 2, 2, 2, 2, 2, 2, 3, 3, 3, 3,\n",
       "       3, 3, 3, 3, 3, 3, 3, 3, 3, 3, 3, 3, 3, 3, 3, 3, 3, 3, 3, 3, 3, 3,\n",
       "       3, 3, 3, 3, 3, 3, 3, 3, 3, 3, 3, 3, 3, 3, 3, 3, 3, 3, 3, 3, 3, 3,\n",
       "       3, 3])"
      ]
     },
     "execution_count": 95,
     "metadata": {},
     "output_type": "execute_result"
    }
   ],
   "source": [
    "labels = df[\"class\"].values\n",
    "labels"
   ]
  },
  {
   "cell_type": "code",
   "execution_count": 96,
   "metadata": {
    "colab": {
     "base_uri": "https://localhost:8080/",
     "height": 206
    },
    "id": "ioHrpg_i_vTa",
    "outputId": "ca563ef4-160d-42b8-8145-389bf127b198"
   },
   "outputs": [
    {
     "data": {
      "text/html": [
       "<div>\n",
       "<style scoped>\n",
       "    .dataframe tbody tr th:only-of-type {\n",
       "        vertical-align: middle;\n",
       "    }\n",
       "\n",
       "    .dataframe tbody tr th {\n",
       "        vertical-align: top;\n",
       "    }\n",
       "\n",
       "    .dataframe thead th {\n",
       "        text-align: right;\n",
       "    }\n",
       "</style>\n",
       "<table border=\"1\" class=\"dataframe\">\n",
       "  <thead>\n",
       "    <tr style=\"text-align: right;\">\n",
       "      <th></th>\n",
       "      <th>x1</th>\n",
       "      <th>x2</th>\n",
       "    </tr>\n",
       "  </thead>\n",
       "  <tbody>\n",
       "    <tr>\n",
       "      <th>0</th>\n",
       "      <td>1.702362</td>\n",
       "      <td>1.973708</td>\n",
       "    </tr>\n",
       "    <tr>\n",
       "      <th>1</th>\n",
       "      <td>0.677169</td>\n",
       "      <td>-0.342410</td>\n",
       "    </tr>\n",
       "    <tr>\n",
       "      <th>2</th>\n",
       "      <td>1.510263</td>\n",
       "      <td>-8.771958</td>\n",
       "    </tr>\n",
       "    <tr>\n",
       "      <th>3</th>\n",
       "      <td>2.362758</td>\n",
       "      <td>0.437093</td>\n",
       "    </tr>\n",
       "    <tr>\n",
       "      <th>4</th>\n",
       "      <td>-0.770676</td>\n",
       "      <td>7.090539</td>\n",
       "    </tr>\n",
       "  </tbody>\n",
       "</table>\n",
       "</div>"
      ],
      "text/plain": [
       "         x1        x2\n",
       "0  1.702362  1.973708\n",
       "1  0.677169 -0.342410\n",
       "2  1.510263 -8.771958\n",
       "3  2.362758  0.437093\n",
       "4 -0.770676  7.090539"
      ]
     },
     "execution_count": 96,
     "metadata": {},
     "output_type": "execute_result"
    }
   ],
   "source": [
    "df.drop(\"class\", axis=1, inplace=True)\n",
    "df.head()"
   ]
  },
  {
   "cell_type": "markdown",
   "metadata": {
    "id": "8KVaor6pAX3k"
   },
   "source": [
    "### Retirando a classe para isolar as variáveis"
   ]
  },
  {
   "cell_type": "code",
   "execution_count": 97,
   "metadata": {
    "colab": {
     "base_uri": "https://localhost:8080/"
    },
    "id": "rL-WKL9K_vTa",
    "outputId": "36c27908-30a7-4a98-9919-012a56d27089"
   },
   "outputs": [
    {
     "data": {
      "text/plain": [
       "array([[ 1.70236156e+00,  1.97370777e+00],\n",
       "       [ 6.77168582e-01, -3.42409821e-01],\n",
       "       [ 1.51026305e+00, -8.77195775e+00],\n",
       "       [ 2.36275802e+00,  4.37093080e-01],\n",
       "       [-7.70675649e-01,  7.09053864e+00],\n",
       "       [-2.33804002e+00, -1.39629618e+00],\n",
       "       [ 6.89894301e+00, -2.88234491e+00],\n",
       "       [-1.90565524e+00, -5.09311007e-01],\n",
       "       [ 2.91238968e+00,  7.19849001e-01],\n",
       "       [-4.47778555e+00, -1.84348598e+00],\n",
       "       [-2.10393747e+00, -2.67501547e-01],\n",
       "       [ 1.47516571e+00,  1.44870723e+00],\n",
       "       [-6.15228519e+00,  3.68559969e+00],\n",
       "       [ 8.74924147e-01,  4.79615970e+00],\n",
       "       [ 1.53874814e+00,  3.81509464e+00],\n",
       "       [ 1.61616037e+00,  4.66346282e+00],\n",
       "       [ 1.80912927e+00, -3.39188363e-01],\n",
       "       [ 7.87194479e+00,  3.07971493e+00],\n",
       "       [ 1.98750898e+00, -4.42124819e+00],\n",
       "       [-4.46282850e+00,  1.01399617e+00],\n",
       "       [ 5.04100216e-01, -2.12738297e+00],\n",
       "       [ 4.88378397e-01,  5.50316511e+00],\n",
       "       [ 2.40894484e+00, -3.95256942e+00],\n",
       "       [-3.86277908e-01, -2.78848569e+00],\n",
       "       [-1.34303191e+00, -1.43280670e+00],\n",
       "       [-1.65461283e+00, -4.34791647e+00],\n",
       "       [-4.42208788e-01, -1.94200182e+00],\n",
       "       [-1.01479079e+01,  7.11170371e+00],\n",
       "       [ 3.77160872e+00, -1.30354395e+00],\n",
       "       [ 6.51911006e-02, -4.05872972e+00],\n",
       "       [ 5.87415636e+00,  6.57240083e+00],\n",
       "       [ 5.42802997e-01,  3.54561416e+00],\n",
       "       [ 6.07211214e-01, -4.63055275e+00],\n",
       "       [-1.42659800e+00,  4.57011883e-01],\n",
       "       [-1.57459949e+00, -7.57437172e-01],\n",
       "       [-3.16617355e-01, -2.80171335e-01],\n",
       "       [ 1.81028721e-01, -3.67404372e+00],\n",
       "       [-2.48381680e+00, -4.44993043e+00],\n",
       "       [ 3.38725242e+00, -7.29417497e+00],\n",
       "       [ 3.99615417e+00,  4.80245519e+00],\n",
       "       [-1.04678426e+00, -9.01753139e+00],\n",
       "       [-1.25161650e+00, -2.22340457e-01],\n",
       "       [-3.50081493e+00, -1.78476887e+00],\n",
       "       [ 5.30075166e+00,  2.30337526e+00],\n",
       "       [-3.20278404e+00, -5.53424586e+00],\n",
       "       [-1.13282122e+00, -7.39435974e-01],\n",
       "       [ 1.71888441e+00, -1.85439149e+00],\n",
       "       [ 1.77188651e+00,  6.70357024e+00],\n",
       "       [ 2.82497841e+00, -1.66583476e-01],\n",
       "       [-6.34451843e-01, -1.23555198e+00],\n",
       "       [ 2.32799867e+01, -2.80543102e+00],\n",
       "       [ 1.82022421e+01,  2.28963978e-01],\n",
       "       [ 1.57559529e+01, -6.13785252e+00],\n",
       "       [ 1.94443859e+01, -2.72818056e-01],\n",
       "       [ 2.02371434e+01, -2.38633312e+00],\n",
       "       [ 2.34596788e+01, -3.92105155e+00],\n",
       "       [ 2.56564769e+01, -7.81566807e+00],\n",
       "       [ 1.99443508e+01,  2.12619065e+00],\n",
       "       [ 1.44421606e+01,  1.89794739e+00],\n",
       "       [ 2.37221814e+01, -9.91391524e+00],\n",
       "       [ 2.02483431e+01, -1.11502461e+01],\n",
       "       [ 1.36814157e+01,  7.28585348e+00],\n",
       "       [ 1.53981917e+01, -5.24975080e+00],\n",
       "       [ 1.71147956e+01,  9.24795829e+00],\n",
       "       [ 9.80846796e+00, -4.70160086e+00],\n",
       "       [ 2.46967181e+01,  8.30789744e+00],\n",
       "       [ 1.75374415e+01, -5.54121214e+00],\n",
       "       [ 2.73728971e+01,  7.13056315e+00],\n",
       "       [ 2.10363432e+01, -3.63317375e+00],\n",
       "       [ 1.77807341e+01, -7.17152084e-01],\n",
       "       [ 1.94796120e+01,  6.48907570e+00],\n",
       "       [ 2.19328726e+01, -4.81817229e+00],\n",
       "       [ 2.41558793e+01,  1.40036950e+00],\n",
       "       [ 2.10726516e+01,  6.55857011e+00],\n",
       "       [ 1.30288620e+01, -1.60216859e-01],\n",
       "       [ 1.56232630e+01, -7.01168051e+00],\n",
       "       [ 1.95505342e+01,  1.12320224e+01],\n",
       "       [ 9.77092216e+00, -1.44363281e-01],\n",
       "       [ 2.08645951e+01,  5.50422451e-01],\n",
       "       [ 1.74940760e+01, -5.81027221e+00],\n",
       "       [ 1.90410540e+01, -3.38435139e+00],\n",
       "       [ 8.20637240e+00,  5.34237882e+00],\n",
       "       [ 2.22860317e+01,  2.31034912e-01],\n",
       "       [ 1.90244531e+01,  4.80449621e+00],\n",
       "       [ 1.90032774e+01,  4.04288941e+00],\n",
       "       [ 1.66696192e+01,  5.86736965e+00],\n",
       "       [ 1.94345974e+01,  8.67826674e-01],\n",
       "       [ 1.23201141e+01,  1.28330559e+00],\n",
       "       [ 1.42793845e+01, -2.85448713e+00],\n",
       "       [ 1.43535293e+01, -4.76834758e+00],\n",
       "       [ 2.75022666e+01,  5.95392929e+00],\n",
       "       [ 2.65881446e+01, -5.46895279e+00],\n",
       "       [ 1.83186565e+01, -5.78474196e+00],\n",
       "       [ 1.48887579e+01, -4.10598869e+00],\n",
       "       [ 2.35435882e+01, -1.77199299e+00],\n",
       "       [ 2.27779376e+01,  2.70171075e+00],\n",
       "       [ 2.83021857e+01, -6.61627570e+00],\n",
       "       [ 2.36314622e+01,  5.12703944e+00],\n",
       "       [ 1.36469175e+01,  4.50403721e+00],\n",
       "       [ 1.95032860e+01, -1.01730476e+00],\n",
       "       [-2.12957419e+01, -2.87643781e+00],\n",
       "       [-9.80075162e+00,  2.73127583e-03],\n",
       "       [-1.48714800e+01, -3.16359753e+00],\n",
       "       [-2.11194118e+01,  4.32793924e+00],\n",
       "       [-2.33983048e+01, -1.66085507e+00],\n",
       "       [-1.78638904e+01,  4.45490407e-01],\n",
       "       [-1.87163731e+01,  1.58327912e+00],\n",
       "       [-1.52285770e+01,  2.93855018e+00],\n",
       "       [-2.19432152e+01, -1.13662039e+00],\n",
       "       [-1.32209486e+01,  3.57858875e+00],\n",
       "       [-2.34914378e+01,  1.40591960e+00],\n",
       "       [-2.59129010e+01,  1.87739608e-01],\n",
       "       [-1.04089319e+01, -3.79157087e+00],\n",
       "       [-2.13372922e+01,  3.05611913e+00],\n",
       "       [-2.41712061e+01, -2.53102012e+00],\n",
       "       [-1.56142354e+01, -2.53714339e+00],\n",
       "       [-1.89438799e+01,  2.97674284e+00],\n",
       "       [-1.63138157e+01,  1.06727359e+00],\n",
       "       [-1.93564891e+01,  1.48024446e+00],\n",
       "       [-1.84949307e+01,  1.83122244e+00],\n",
       "       [-1.99877281e+01, -7.30275898e-01],\n",
       "       [-2.19598312e+01, -1.40030440e-01],\n",
       "       [-2.12440035e+01, -4.45618580e+00],\n",
       "       [-1.69653554e+01,  8.50959103e-01],\n",
       "       [-1.48685051e+01, -1.72450228e+00],\n",
       "       [-1.63677886e+01,  2.20319029e+00],\n",
       "       [-1.62209048e+01, -3.30261473e+00],\n",
       "       [-1.74025461e+01,  1.45656118e+00],\n",
       "       [-1.79712861e+01, -8.34591063e+00],\n",
       "       [-1.73580415e+01,  8.85012416e+00],\n",
       "       [-1.94401571e+01, -2.91230839e+00],\n",
       "       [-1.65066058e+01,  1.24951284e+00],\n",
       "       [-1.32290593e+01, -5.03147262e+00],\n",
       "       [-1.50744790e+01,  2.36168825e+00],\n",
       "       [-1.85685861e+01,  1.35474927e+00],\n",
       "       [-1.38821701e+01,  3.48926152e+00],\n",
       "       [-2.25720772e+01,  3.28063275e+00],\n",
       "       [-1.82587544e+01,  2.91496392e-01],\n",
       "       [-1.77072120e+01, -6.00971955e-01],\n",
       "       [-1.32331700e+01, -3.34871839e-01],\n",
       "       [-2.24781845e+01, -1.57411942e+00],\n",
       "       [-1.72852211e+01,  4.91685914e+00],\n",
       "       [-1.55876213e+01, -3.40214111e+00],\n",
       "       [-8.05924033e+00,  1.05910124e+00],\n",
       "       [-1.28984370e+01, -6.06857734e-01],\n",
       "       [-1.58665630e+01,  3.35787402e+00],\n",
       "       [-1.31272212e+01,  4.22947322e+00],\n",
       "       [-1.45112120e+01, -1.26034692e+00],\n",
       "       [-2.02869842e+01,  1.33043004e+00],\n",
       "       [-1.42674877e+01, -8.90882803e-01],\n",
       "       [ 9.58654769e+00, -5.50370042e+00],\n",
       "       [-8.24688827e+00, -1.57428232e+01],\n",
       "       [-1.26337553e+00, -1.06243143e+01],\n",
       "       [-4.72110312e+00, -5.95276578e+00],\n",
       "       [ 3.81660175e+00, -1.18235874e+01],\n",
       "       [-1.29231857e+01, -1.78845072e+01],\n",
       "       [ 2.52908325e+00, -2.15372576e+01],\n",
       "       [ 9.11373669e+00, -1.27072855e+01],\n",
       "       [ 2.91878367e+01, -1.67868475e+00],\n",
       "       [-1.63304162e+00, -1.24755535e+01],\n",
       "       [ 8.96023363e+00, -4.38318053e+00],\n",
       "       [-1.47422615e+01, -1.99889139e+01],\n",
       "       [-5.59831325e+00, -9.39391830e+00],\n",
       "       [ 4.47186231e+00, -7.21583661e+00],\n",
       "       [-1.07972778e+01, -2.23581102e+01],\n",
       "       [ 7.72212776e+00, -1.57038063e+01],\n",
       "       [-1.81663908e+01, -1.13512552e+01],\n",
       "       [ 7.13858119e+00, -1.25458561e+01],\n",
       "       [-4.12063548e+00, -1.27126896e+01],\n",
       "       [-3.33524486e+00, -1.80286500e+01],\n",
       "       [-6.43212609e+00, -9.66876539e+00],\n",
       "       [ 2.89510687e+00, -1.12484137e+01],\n",
       "       [-8.95633634e+00, -1.28117068e+01],\n",
       "       [-1.95935854e+01, -1.12018281e+01],\n",
       "       [ 1.28597194e+01, -1.85925193e+01],\n",
       "       [-5.27334906e+00, -1.05281897e+01],\n",
       "       [ 1.12755837e+01, -1.40045214e+01],\n",
       "       [-6.23025296e+00, -2.08052920e+01],\n",
       "       [ 9.30943164e-01, -2.86755832e+00],\n",
       "       [ 2.49622616e+00, -1.20996346e+01],\n",
       "       [ 2.89874080e+00, -1.20496049e+01],\n",
       "       [-7.31712935e+00, -8.31818029e+00],\n",
       "       [ 2.03185371e+00, -1.19212311e+01],\n",
       "       [-8.77829425e+00, -6.17053531e+00],\n",
       "       [ 5.98232471e+00, -1.44727372e+01],\n",
       "       [ 9.01642368e+00, -1.42252044e+01],\n",
       "       [-7.03803143e+00, -1.53974956e+01],\n",
       "       [-1.59396170e+01, -9.89119837e+00],\n",
       "       [-1.64803039e+01, -1.74937678e+01],\n",
       "       [-1.86802921e+01, -1.23849154e+01],\n",
       "       [-1.35288414e+00, -1.34610299e+01],\n",
       "       [-9.38319925e+00, -1.72423887e+01],\n",
       "       [ 4.17932877e+00, -1.44621431e+01],\n",
       "       [ 2.84722489e+00, -1.59589525e+01],\n",
       "       [ 1.62956468e+00, -6.17156343e+00],\n",
       "       [ 5.27549220e+00, -1.38443707e+01],\n",
       "       [ 2.31479073e+00, -1.30762874e+01],\n",
       "       [ 7.09216623e-02, -1.34561769e+01],\n",
       "       [-1.47901685e+00, -1.10514897e+01],\n",
       "       [-8.94022830e+00, -1.65431482e+01]])"
      ]
     },
     "execution_count": 97,
     "metadata": {},
     "output_type": "execute_result"
    }
   ],
   "source": [
    "dados = df.to_numpy()\n",
    "dados"
   ]
  },
  {
   "cell_type": "markdown",
   "metadata": {
    "id": "d5iBHEpvAmkq"
   },
   "source": [
    "## Clustering"
   ]
  },
  {
   "cell_type": "markdown",
   "metadata": {
    "id": "7eqKU05YAn_b"
   },
   "source": [
    "### Inicialização da matriz de pertinência"
   ]
  },
  {
   "cell_type": "markdown",
   "metadata": {
    "id": "xgjmQE_OAp21"
   },
   "source": [
    "A matriz de pertinência é inicializada aleatoriamente $u_{ik}(i=1,...c$ e $k=1,...,n)$ do objeto $k$ pertencente ao grupo $C_i$ tal que:\n",
    "- $u_{ik} \\in [0,1]$;\n",
    "- $0 < \\sum_{k=1}^nu_{ik} < n$;\n",
    "- $\\sum_{i=1}^cu_{ik} = 1$ para todo $k \\in \\Omega$."
   ]
  },
  {
   "cell_type": "code",
   "execution_count": 98,
   "metadata": {
    "id": "-wfMM6QjAr71"
   },
   "outputs": [],
   "source": [
    "def inicializacao_matriz_pertinencia(num_amostras, num_clusters):\n",
    "    matriz_pertinencia = np.random.rand(num_amostras, num_clusters) # gera uma matriz inicial aleatória com valores entre 0 e 1\n",
    "    matriz_pertinencia = matriz_pertinencia / matriz_pertinencia.sum(axis=1, keepdims=True) # normalização da matriz pra garantir que a soma dos graus dê um\n",
    "    return matriz_pertinencia"
   ]
  },
  {
   "cell_type": "markdown",
   "metadata": {
    "id": "pzZVWXpcAw61"
   },
   "source": [
    "### Atualização dos centroides"
   ]
  },
  {
   "cell_type": "markdown",
   "metadata": {
    "id": "Q-7TBwkIAy2H"
   },
   "source": [
    "Fixo os graus de pertinência, os centroides são atualizados com base nessa equação:\n",
    "\n",
    "### $y_i = \\frac{\\sum_{k=1}^n(u_{ik})^mx_k}{\\sum_{k=1}^n(u_{ik})^m}$"
   ]
  },
  {
   "cell_type": "code",
   "execution_count": 99,
   "metadata": {
    "id": "5UEHGtMMA7bD"
   },
   "outputs": [],
   "source": [
    "def atualizacao_centroides(dados, matriz_pertinencia, m):\n",
    "    matriz_pertinencia_m = matriz_pertinencia ** m # preparação dos graus de pertinência\n",
    "    centroides = np.dot(matriz_pertinencia_m.T, dados) / np.sum(matriz_pertinencia_m.T, axis=1, keepdims=True) # fórmula para o cálculo dos centroides\n",
    "    return centroides"
   ]
  },
  {
   "cell_type": "markdown",
   "metadata": {
    "id": "iwNFRpw_A81-"
   },
   "source": [
    "### Atualização da matriz de pertinência"
   ]
  },
  {
   "cell_type": "markdown",
   "metadata": {
    "id": "E-kg2pxRA9Te"
   },
   "source": [
    "Fixo o protótipo, os graus de pertinência são atualizados com base nessa equação:\n",
    "\n",
    "### $u_{ik} = [\\sum_{h=1}^c\\{\\frac{d(x_k,y_i)}{d(x_k,y_h)}\\}^\\frac{1}{m-1}]^{-1}$\n",
    "\n",
    "onde\n",
    "\n",
    "$d(x_k,y_i) = \\sum_{j=1}^p(x_k^j-y_i^j)^2$"
   ]
  },
  {
   "cell_type": "code",
   "execution_count": 100,
   "metadata": {
    "id": "e75eiSY2BAeI"
   },
   "outputs": [],
   "source": [
    "def atualizacao_matriz_pertinencia(dados, centroides, m):\n",
    "    # dados[:, np.newaxis] - centroides cria uma matriz de diferenças entre os pontos de dados e os centroides\n",
    "    # np.linalg.norm(..., axis=2) calcula a norma (distância euclidiana) das diferenças\n",
    "    # ** 2 para a distância ser a quadrada\n",
    "    matriz_distancias = np.linalg.norm(dados[:, np.newaxis] - centroides, axis=2) ** 2\n",
    "    matriz_distancias = np.fmax(matriz_distancias, np.finfo(np.float64).eps) # evita que matriz_distancias seja 0, np.finfo... é o menor número maior que zero aaqui\n",
    "    matriz_distancias_inversa = 1 / matriz_distancias\n",
    "    potencia = 1 / (m-1)\n",
    "    matriz_pertinencia_atualizada = matriz_distancias_inversa ** potencia/ np.sum(matriz_distancias_inversa ** potencia, axis=1, keepdims=True) # fórmula para atualizar os graus de pertinência\n",
    "    return matriz_pertinencia_atualizada"
   ]
  },
  {
   "cell_type": "markdown",
   "metadata": {
    "id": "GN4qqayDBCfP"
   },
   "source": [
    "### Fuzzy C-Means"
   ]
  },
  {
   "cell_type": "markdown",
   "metadata": {
    "id": "ES1PPCEYBDsv"
   },
   "source": [
    "Ações:\n",
    "1. Inicialização da matriz de pertinência\n",
    "2. Atualização dos centroides\n",
    "3. Atualização da matriz de pertinência\n",
    "\n",
    "Critérios de parada:\n",
    "1. Número máximo de iterações atingido\n",
    "2. Pouca diferença (erro) entre as matrizes de pertinência de iterações consecutivas"
   ]
  },
  {
   "cell_type": "code",
   "execution_count": 101,
   "metadata": {
    "id": "LGX-CxDmBF4l"
   },
   "outputs": [],
   "source": [
    "def fcm(dados, num_clusters, m=2, max_iter=10**6, erro=1e-9):\n",
    "    num_amostras = dados.shape[0]\n",
    "    matriz_pertinencia = inicializacao_matriz_pertinencia(num_amostras, num_clusters)\n",
    "    for _ in range(max_iter): # primeiro critério de parada\n",
    "        centroides = atualizacao_centroides(dados, matriz_pertinencia, m)\n",
    "        nova_matriz_pertinencia = atualizacao_matriz_pertinencia(dados, centroides, m)\n",
    "        if np.linalg.norm(nova_matriz_pertinencia - matriz_pertinencia) < erro: # segundo critério de parada\n",
    "            break\n",
    "        matriz_pertinencia = nova_matriz_pertinencia\n",
    "    return centroides, matriz_pertinencia"
   ]
  },
  {
   "cell_type": "markdown",
   "metadata": {
    "id": "0L2ILGCdBKAr"
   },
   "source": [
    "### Índice de Rand Ajustado (IRA)"
   ]
  },
  {
   "cell_type": "code",
   "execution_count": 102,
   "metadata": {
    "id": "yupjY7ZoBNpL"
   },
   "outputs": [],
   "source": [
    "def indice_rand(labels, predicted_labels):\n",
    "    return adjusted_rand_score(labels, predicted_labels)"
   ]
  },
  {
   "cell_type": "markdown",
   "metadata": {
    "id": "NwsraaD_BOYI"
   },
   "source": [
    "### Simulação de Monte Carlo"
   ]
  },
  {
   "cell_type": "code",
   "execution_count": 103,
   "metadata": {
    "id": "iunOfj51_vTb"
   },
   "outputs": [],
   "source": [
    "def simulacao_monte_carlo(dados, labels, num_clusters, num_trials):\n",
    "    indices_rand = []\n",
    "    for _ in range(num_trials):\n",
    "        centroides, matriz_pertinencia = fcm(dados, num_clusters)\n",
    "        predicted_labels = np.argmax(matriz_pertinencia, axis=1)\n",
    "        #print(predicted_labels)\n",
    "        idx_rand = indice_rand(labels, predicted_labels)\n",
    "        indices_rand.append(idx_rand)\n",
    "    mean_rand_index = np.mean(indices_rand)\n",
    "    std_rand_index = np.std(indices_rand)\n",
    "    return mean_rand_index, std_rand_index"
   ]
  },
  {
   "cell_type": "markdown",
   "metadata": {
    "id": "7njVCaopBW1L"
   },
   "source": [
    "### Definição de parâmetros e execução do método"
   ]
  },
  {
   "cell_type": "code",
   "execution_count": 104,
   "metadata": {
    "colab": {
     "base_uri": "https://localhost:8080/"
    },
    "id": "bwMeGgYu_vTb",
    "outputId": "14ebb19e-2c9e-4cc9-fa5e-53eda3416024"
   },
   "outputs": [
    {
     "name": "stdout",
     "output_type": "stream",
     "text": [
      "Monte Carlo FCM Clustering Results (100 trials)\n",
      "Mean Rand Index: 0.7653\n",
      "Standard Deviation of Rand Index: 0.0000\n"
     ]
    }
   ],
   "source": [
    "num_clusters = 4\n",
    "num_trials = 100\n",
    "media_indice_rand, dp_indice_rand = simulacao_monte_carlo(dados, labels, num_clusters, num_trials)\n",
    "\n",
    "print(f\"Monte Carlo FCM Clustering Results ({num_trials} trials)\")\n",
    "print(f\"Mean Rand Index: {media_indice_rand:.4f}\")\n",
    "print(f\"Standard Deviation of Rand Index: {dp_indice_rand:.4f}\")"
   ]
  },
  {
   "cell_type": "markdown",
   "metadata": {},
   "source": [
    "### Resultados\n",
    "\n",
    "Configuração 1:  \n",
    "Mean Rand Index: 0.2943  \n",
    "Standard Deviation of Rand Index: 0.0000  \n",
    "\n",
    "Configuração 2:  \n",
    "Mean Rand Index: 0.6129  \n",
    "Standard Deviation of Rand Index: 0.0000  \n",
    "\n",
    "Configuração 3:  \n",
    "Mean Rand Index: 0.1285  \n",
    "Standard Deviation of Rand Index: 0.0000  \n",
    "\n",
    "Configuração 4:  \n",
    "Mean Rand Index: 0.8470  \n",
    "Standard Deviation of Rand Index: 0.0000  \n",
    "\n",
    "Configuração 5:  \n",
    "Mean Rand Index: 0.4291  \n",
    "Standard Deviation of Rand Index: 0.0000  \n",
    "\n",
    "Configuração 6:  \n",
    "Mean Rand Index: 0.4814  \n",
    "Standard Deviation of Rand Index: 0.0000  \n",
    "\n",
    "Configuração 7:  \n",
    "Mean Rand Index: 0.7653  \n",
    "Standard Deviation of Rand Index: 0.0000"
   ]
  }
 ],
 "metadata": {
  "colab": {
   "provenance": []
  },
  "kernelspec": {
   "display_name": "Python 3",
   "language": "python",
   "name": "python3"
  },
  "language_info": {
   "codemirror_mode": {
    "name": "ipython",
    "version": 3
   },
   "file_extension": ".py",
   "mimetype": "text/x-python",
   "name": "python",
   "nbconvert_exporter": "python",
   "pygments_lexer": "ipython3",
   "version": "3.12.1"
  }
 },
 "nbformat": 4,
 "nbformat_minor": 0
}
