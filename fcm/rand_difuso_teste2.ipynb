{
  "nbformat": 4,
  "nbformat_minor": 0,
  "metadata": {
    "colab": {
      "provenance": []
    },
    "kernelspec": {
      "name": "python3",
      "display_name": "Python 3"
    },
    "language_info": {
      "name": "python"
    }
  },
  "cells": [
    {
      "cell_type": "code",
      "source": [
        "pip install numpy -q"
      ],
      "metadata": {
        "id": "z1YIaln2H5PU"
      },
      "execution_count": 26,
      "outputs": []
    },
    {
      "cell_type": "code",
      "source": [
        "pip install pandas -q"
      ],
      "metadata": {
        "id": "c6ZC3QRjH9il"
      },
      "execution_count": 27,
      "outputs": []
    },
    {
      "cell_type": "code",
      "source": [
        "pip install scikit-learn -q"
      ],
      "metadata": {
        "id": "zl9zKAV-H-98"
      },
      "execution_count": 28,
      "outputs": []
    },
    {
      "cell_type": "code",
      "source": [
        "import seaborn as sns\n",
        "df = sns.load_dataset('iris')\n",
        "df.columns"
      ],
      "metadata": {
        "colab": {
          "base_uri": "https://localhost:8080/"
        },
        "id": "6w5UOuQ_Tc61",
        "outputId": "6bc0c24f-b50d-4262-cb88-56f15b53d25d"
      },
      "execution_count": 38,
      "outputs": [
        {
          "output_type": "execute_result",
          "data": {
            "text/plain": [
              "Index(['sepal_length', 'sepal_width', 'petal_length', 'petal_width',\n",
              "       'species'],\n",
              "      dtype='object')"
            ]
          },
          "metadata": {},
          "execution_count": 38
        }
      ]
    },
    {
      "cell_type": "code",
      "execution_count": 39,
      "metadata": {
        "colab": {
          "base_uri": "https://localhost:8080/",
          "height": 532
        },
        "id": "Ms-cOIc5DtwX",
        "outputId": "fe99f0e1-fee7-49a6-935c-f4106cfde007"
      },
      "outputs": [
        {
          "output_type": "stream",
          "name": "stderr",
          "text": [
            "<ipython-input-39-e277cb62eff8>:7: FutureWarning: A value is trying to be set on a copy of a DataFrame or Series through chained assignment using an inplace method.\n",
            "The behavior will change in pandas 3.0. This inplace method will never work because the intermediate object on which we are setting values always behaves as a copy.\n",
            "\n",
            "For example, when doing 'df[col].method(value, inplace=True)', try using 'df.method({col: value}, inplace=True)' or df[col] = df[col].method(value) instead, to perform the operation inplace on the original object.\n",
            "\n",
            "\n",
            "  df[\"species\"].replace({\"setosa\": 0, \"versicolor\": 1, \"virginica\": 2}, inplace=True)\n",
            "<ipython-input-39-e277cb62eff8>:7: FutureWarning: Downcasting behavior in `replace` is deprecated and will be removed in a future version. To retain the old behavior, explicitly call `result.infer_objects(copy=False)`. To opt-in to the future behavior, set `pd.set_option('future.no_silent_downcasting', True)`\n",
            "  df[\"species\"].replace({\"setosa\": 0, \"versicolor\": 1, \"virginica\": 2}, inplace=True)\n"
          ]
        },
        {
          "output_type": "error",
          "ename": "KeyboardInterrupt",
          "evalue": "",
          "traceback": [
            "\u001b[0;31m---------------------------------------------------------------------------\u001b[0m",
            "\u001b[0;31mKeyboardInterrupt\u001b[0m                         Traceback (most recent call last)",
            "\u001b[0;32m<ipython-input-39-e277cb62eff8>\u001b[0m in \u001b[0;36m<cell line: 129>\u001b[0;34m()\u001b[0m\n\u001b[1;32m    127\u001b[0m \u001b[0;34m\u001b[0m\u001b[0m\n\u001b[1;32m    128\u001b[0m \u001b[0;31m# Executando o Bootstrap\u001b[0m\u001b[0;34m\u001b[0m\u001b[0;34m\u001b[0m\u001b[0m\n\u001b[0;32m--> 129\u001b[0;31m \u001b[0mmedia_indice_rand\u001b[0m\u001b[0;34m,\u001b[0m \u001b[0mdp_indice_rand\u001b[0m \u001b[0;34m=\u001b[0m \u001b[0mbootstrap_experimento\u001b[0m\u001b[0;34m(\u001b[0m\u001b[0mdados\u001b[0m\u001b[0;34m,\u001b[0m \u001b[0mlabels_fuzzy\u001b[0m\u001b[0;34m,\u001b[0m \u001b[0mnum_clusters\u001b[0m\u001b[0;34m,\u001b[0m \u001b[0mnum_trials\u001b[0m\u001b[0;34m)\u001b[0m\u001b[0;34m\u001b[0m\u001b[0;34m\u001b[0m\u001b[0m\n\u001b[0m\u001b[1;32m    130\u001b[0m \u001b[0;34m\u001b[0m\u001b[0m\n\u001b[1;32m    131\u001b[0m \u001b[0mprint\u001b[0m\u001b[0;34m(\u001b[0m\u001b[0;34mf\"Bootstrap FCM Clustering Results ({num_trials} reamostragens)\"\u001b[0m\u001b[0;34m)\u001b[0m\u001b[0;34m\u001b[0m\u001b[0;34m\u001b[0m\u001b[0m\n",
            "\u001b[0;32m<ipython-input-39-e277cb62eff8>\u001b[0m in \u001b[0;36mbootstrap_experimento\u001b[0;34m(dados, labels_fuzzy, num_clusters, num_trials, num_execucoes)\u001b[0m\n\u001b[1;32m    106\u001b[0m \u001b[0;34m\u001b[0m\u001b[0m\n\u001b[1;32m    107\u001b[0m         \u001b[0;32mfor\u001b[0m \u001b[0m_\u001b[0m \u001b[0;32min\u001b[0m \u001b[0mrange\u001b[0m\u001b[0;34m(\u001b[0m\u001b[0mnum_execucoes\u001b[0m\u001b[0;34m)\u001b[0m\u001b[0;34m:\u001b[0m\u001b[0;34m\u001b[0m\u001b[0;34m\u001b[0m\u001b[0m\n\u001b[0;32m--> 108\u001b[0;31m             \u001b[0mcentroides\u001b[0m\u001b[0;34m,\u001b[0m \u001b[0mmatriz_pertinencia\u001b[0m \u001b[0;34m=\u001b[0m \u001b[0mfcm\u001b[0m\u001b[0;34m(\u001b[0m\u001b[0mdados_resample\u001b[0m\u001b[0;34m,\u001b[0m \u001b[0mnum_clusters\u001b[0m\u001b[0;34m)\u001b[0m\u001b[0;34m\u001b[0m\u001b[0;34m\u001b[0m\u001b[0m\n\u001b[0m\u001b[1;32m    109\u001b[0m             \u001b[0midx_rand_difuso\u001b[0m \u001b[0;34m=\u001b[0m \u001b[0mindice_rand_difuso\u001b[0m\u001b[0;34m(\u001b[0m\u001b[0mlabels_resample\u001b[0m\u001b[0;34m,\u001b[0m \u001b[0mmatriz_pertinencia\u001b[0m\u001b[0;34m)\u001b[0m\u001b[0;34m\u001b[0m\u001b[0;34m\u001b[0m\u001b[0m\n\u001b[1;32m    110\u001b[0m \u001b[0;34m\u001b[0m\u001b[0m\n",
            "\u001b[0;32m<ipython-input-39-e277cb62eff8>\u001b[0m in \u001b[0;36mfcm\u001b[0;34m(dados, num_clusters, m, max_iter, erro)\u001b[0m\n\u001b[1;32m     68\u001b[0m     \u001b[0;32mfor\u001b[0m \u001b[0m_\u001b[0m \u001b[0;32min\u001b[0m \u001b[0mrange\u001b[0m\u001b[0;34m(\u001b[0m\u001b[0mmax_iter\u001b[0m\u001b[0;34m)\u001b[0m\u001b[0;34m:\u001b[0m\u001b[0;34m\u001b[0m\u001b[0;34m\u001b[0m\u001b[0m\n\u001b[1;32m     69\u001b[0m         \u001b[0mcentroides\u001b[0m \u001b[0;34m=\u001b[0m \u001b[0matualizacao_centroides\u001b[0m\u001b[0;34m(\u001b[0m\u001b[0mdados\u001b[0m\u001b[0;34m,\u001b[0m \u001b[0mmatriz_pertinencia\u001b[0m\u001b[0;34m,\u001b[0m \u001b[0mm\u001b[0m\u001b[0;34m)\u001b[0m\u001b[0;34m\u001b[0m\u001b[0;34m\u001b[0m\u001b[0m\n\u001b[0;32m---> 70\u001b[0;31m         \u001b[0mnova_matriz_pertinencia\u001b[0m \u001b[0;34m=\u001b[0m \u001b[0matualizacao_matriz_pertinencia\u001b[0m\u001b[0;34m(\u001b[0m\u001b[0mdados\u001b[0m\u001b[0;34m,\u001b[0m \u001b[0mcentroides\u001b[0m\u001b[0;34m,\u001b[0m \u001b[0mm\u001b[0m\u001b[0;34m)\u001b[0m\u001b[0;34m\u001b[0m\u001b[0;34m\u001b[0m\u001b[0m\n\u001b[0m\u001b[1;32m     71\u001b[0m \u001b[0;34m\u001b[0m\u001b[0m\n\u001b[1;32m     72\u001b[0m         \u001b[0;32mif\u001b[0m \u001b[0mnp\u001b[0m\u001b[0;34m.\u001b[0m\u001b[0mlinalg\u001b[0m\u001b[0;34m.\u001b[0m\u001b[0mnorm\u001b[0m\u001b[0;34m(\u001b[0m\u001b[0mnova_matriz_pertinencia\u001b[0m \u001b[0;34m-\u001b[0m \u001b[0mmatriz_pertinencia\u001b[0m\u001b[0;34m)\u001b[0m \u001b[0;34m<\u001b[0m \u001b[0merro\u001b[0m\u001b[0;34m:\u001b[0m\u001b[0;34m\u001b[0m\u001b[0;34m\u001b[0m\u001b[0m\n",
            "\u001b[0;32m<ipython-input-39-e277cb62eff8>\u001b[0m in \u001b[0;36matualizacao_matriz_pertinencia\u001b[0;34m(dados, centroides, m)\u001b[0m\n\u001b[1;32m     55\u001b[0m             \u001b[0msum_ratio\u001b[0m \u001b[0;34m=\u001b[0m \u001b[0;36m0\u001b[0m\u001b[0;34m\u001b[0m\u001b[0;34m\u001b[0m\u001b[0m\n\u001b[1;32m     56\u001b[0m             \u001b[0;32mfor\u001b[0m \u001b[0mj\u001b[0m \u001b[0;32min\u001b[0m \u001b[0mrange\u001b[0m\u001b[0;34m(\u001b[0m\u001b[0mnum_clusters\u001b[0m\u001b[0;34m)\u001b[0m\u001b[0;34m:\u001b[0m\u001b[0;34m\u001b[0m\u001b[0;34m\u001b[0m\u001b[0m\n\u001b[0;32m---> 57\u001b[0;31m                 \u001b[0mdist_kj\u001b[0m \u001b[0;34m=\u001b[0m \u001b[0mdistancia_euclidiana\u001b[0m\u001b[0;34m(\u001b[0m\u001b[0mdados\u001b[0m\u001b[0;34m[\u001b[0m\u001b[0mk\u001b[0m\u001b[0;34m]\u001b[0m\u001b[0;34m,\u001b[0m \u001b[0mcentroides\u001b[0m\u001b[0;34m[\u001b[0m\u001b[0mj\u001b[0m\u001b[0;34m]\u001b[0m\u001b[0;34m)\u001b[0m\u001b[0;34m\u001b[0m\u001b[0;34m\u001b[0m\u001b[0m\n\u001b[0m\u001b[1;32m     58\u001b[0m                 \u001b[0msum_ratio\u001b[0m \u001b[0;34m+=\u001b[0m \u001b[0;34m(\u001b[0m\u001b[0mdist_ki\u001b[0m \u001b[0;34m/\u001b[0m \u001b[0mdist_kj\u001b[0m\u001b[0;34m)\u001b[0m \u001b[0;34m**\u001b[0m \u001b[0;34m(\u001b[0m\u001b[0;36m2\u001b[0m \u001b[0;34m/\u001b[0m \u001b[0;34m(\u001b[0m\u001b[0mm\u001b[0m \u001b[0;34m-\u001b[0m \u001b[0;36m1\u001b[0m\u001b[0;34m)\u001b[0m\u001b[0;34m)\u001b[0m\u001b[0;34m\u001b[0m\u001b[0;34m\u001b[0m\u001b[0m\n\u001b[1;32m     59\u001b[0m             \u001b[0mmatriz_pertinencia\u001b[0m\u001b[0;34m[\u001b[0m\u001b[0mk\u001b[0m\u001b[0;34m,\u001b[0m \u001b[0mi\u001b[0m\u001b[0;34m]\u001b[0m \u001b[0;34m=\u001b[0m \u001b[0;36m1\u001b[0m \u001b[0;34m/\u001b[0m \u001b[0msum_ratio\u001b[0m\u001b[0;34m\u001b[0m\u001b[0;34m\u001b[0m\u001b[0m\n",
            "\u001b[0;32m<ipython-input-39-e277cb62eff8>\u001b[0m in \u001b[0;36mdistancia_euclidiana\u001b[0;34m(x_k, y_j)\u001b[0m\n\u001b[1;32m     29\u001b[0m \u001b[0;31m# Função de distância Euclidiana\u001b[0m\u001b[0;34m\u001b[0m\u001b[0;34m\u001b[0m\u001b[0m\n\u001b[1;32m     30\u001b[0m \u001b[0;32mdef\u001b[0m \u001b[0mdistancia_euclidiana\u001b[0m\u001b[0;34m(\u001b[0m\u001b[0mx_k\u001b[0m\u001b[0;34m,\u001b[0m \u001b[0my_j\u001b[0m\u001b[0;34m)\u001b[0m\u001b[0;34m:\u001b[0m\u001b[0;34m\u001b[0m\u001b[0;34m\u001b[0m\u001b[0m\n\u001b[0;32m---> 31\u001b[0;31m     \u001b[0;32mreturn\u001b[0m \u001b[0mnp\u001b[0m\u001b[0;34m.\u001b[0m\u001b[0msum\u001b[0m\u001b[0;34m(\u001b[0m\u001b[0;34m(\u001b[0m\u001b[0mx_k\u001b[0m \u001b[0;34m-\u001b[0m \u001b[0my_j\u001b[0m\u001b[0;34m)\u001b[0m \u001b[0;34m**\u001b[0m \u001b[0;36m2\u001b[0m\u001b[0;34m)\u001b[0m\u001b[0;34m\u001b[0m\u001b[0;34m\u001b[0m\u001b[0m\n\u001b[0m\u001b[1;32m     32\u001b[0m \u001b[0;34m\u001b[0m\u001b[0m\n\u001b[1;32m     33\u001b[0m \u001b[0;31m# Inicialização da matriz de pertinência aleatória\u001b[0m\u001b[0;34m\u001b[0m\u001b[0;34m\u001b[0m\u001b[0m\n",
            "\u001b[0;32m/usr/local/lib/python3.10/dist-packages/numpy/core/fromnumeric.py\u001b[0m in \u001b[0;36msum\u001b[0;34m(a, axis, dtype, out, keepdims, initial, where)\u001b[0m\n\u001b[1;32m   2311\u001b[0m         \u001b[0;32mreturn\u001b[0m \u001b[0mres\u001b[0m\u001b[0;34m\u001b[0m\u001b[0;34m\u001b[0m\u001b[0m\n\u001b[1;32m   2312\u001b[0m \u001b[0;34m\u001b[0m\u001b[0m\n\u001b[0;32m-> 2313\u001b[0;31m     return _wrapreduction(a, np.add, 'sum', axis, dtype, out, keepdims=keepdims,\n\u001b[0m\u001b[1;32m   2314\u001b[0m                           initial=initial, where=where)\n\u001b[1;32m   2315\u001b[0m \u001b[0;34m\u001b[0m\u001b[0m\n",
            "\u001b[0;32m/usr/local/lib/python3.10/dist-packages/numpy/core/fromnumeric.py\u001b[0m in \u001b[0;36m_wrapreduction\u001b[0;34m(obj, ufunc, method, axis, dtype, out, **kwargs)\u001b[0m\n\u001b[1;32m     69\u001b[0m \u001b[0;34m\u001b[0m\u001b[0m\n\u001b[1;32m     70\u001b[0m \u001b[0;34m\u001b[0m\u001b[0m\n\u001b[0;32m---> 71\u001b[0;31m \u001b[0;32mdef\u001b[0m \u001b[0m_wrapreduction\u001b[0m\u001b[0;34m(\u001b[0m\u001b[0mobj\u001b[0m\u001b[0;34m,\u001b[0m \u001b[0mufunc\u001b[0m\u001b[0;34m,\u001b[0m \u001b[0mmethod\u001b[0m\u001b[0;34m,\u001b[0m \u001b[0maxis\u001b[0m\u001b[0;34m,\u001b[0m \u001b[0mdtype\u001b[0m\u001b[0;34m,\u001b[0m \u001b[0mout\u001b[0m\u001b[0;34m,\u001b[0m \u001b[0;34m**\u001b[0m\u001b[0mkwargs\u001b[0m\u001b[0;34m)\u001b[0m\u001b[0;34m:\u001b[0m\u001b[0;34m\u001b[0m\u001b[0;34m\u001b[0m\u001b[0m\n\u001b[0m\u001b[1;32m     72\u001b[0m     passkwargs = {k: v for k, v in kwargs.items()\n\u001b[1;32m     73\u001b[0m                   if v is not np._NoValue}\n",
            "\u001b[0;31mKeyboardInterrupt\u001b[0m: "
          ]
        }
      ],
      "source": [
        "import numpy as np\n",
        "from sklearn.metrics import adjusted_rand_score\n",
        "import pandas as pd\n",
        "from sklearn.preprocessing import MinMaxScaler\n",
        "from sklearn.utils import resample\n",
        "\n",
        "df[\"species\"].replace({\"setosa\": 0, \"versicolor\": 1, \"virginica\": 2}, inplace=True)\n",
        "\n",
        "# Renomeando as colunas\n",
        "df.columns = [\"SepalLengthCm\", \"SepalWidthCm\", \"PetalLengthCm\", \"PetalWidthCm\", \"Class\"]\n",
        "\n",
        "# Separando os labels (classes)\n",
        "labels = df[\"Class\"].values\n",
        "df.drop(\"Class\", axis=1, inplace=True)\n",
        "\n",
        "# Normalizando os dados via Min-Max\n",
        "scaler = MinMaxScaler()\n",
        "dados = scaler.fit_transform(df).astype(np.float64)\n",
        "\n",
        "# Fuzzyficar os labels\n",
        "def fuzzyficar_labels(labels, num_clusters):\n",
        "    fuzzy_labels = np.zeros((len(labels), num_clusters))\n",
        "    for i, label in enumerate(labels):\n",
        "        fuzzy_labels[i, label] = 1\n",
        "    return fuzzy_labels\n",
        "\n",
        "# Funções para FCM, corrigidas conforme as fórmulas fornecidas\n",
        "\n",
        "# Função de distância Euclidiana\n",
        "def distancia_euclidiana(x_k, y_j):\n",
        "    return np.sum((x_k - y_j) ** 2)\n",
        "\n",
        "# Inicialização da matriz de pertinência aleatória\n",
        "def inicializao_matriz_pertinencia(num_amostras, num_clusters):\n",
        "    matriz_pertinencia = np.random.rand(num_amostras, num_clusters)\n",
        "    matriz_pertinencia = matriz_pertinencia / matriz_pertinencia.sum(axis=1, keepdims=True)\n",
        "    return matriz_pertinencia\n",
        "\n",
        "# Atualização dos centroides usando a fórmula corrigida (equação 2.3)\n",
        "def atualizacao_centroides(dados, matriz_pertinencia, m):\n",
        "    matriz_pertinencia_m = matriz_pertinencia ** m\n",
        "    num = np.dot(matriz_pertinencia_m.T, dados)\n",
        "    den = np.sum(matriz_pertinencia_m.T, axis=1, keepdims=True)\n",
        "    centroides = num / den\n",
        "    return centroides\n",
        "\n",
        "# Atualização da matriz de pertinência (equação 2.4)\n",
        "def atualizacao_matriz_pertinencia(dados, centroides, m):\n",
        "    num_clusters = centroides.shape[0]\n",
        "    matriz_pertinencia = np.zeros((dados.shape[0], num_clusters))\n",
        "\n",
        "    for k in range(dados.shape[0]):\n",
        "        for i in range(num_clusters):\n",
        "            dist_ki = distancia_euclidiana(dados[k], centroides[i])\n",
        "            sum_ratio = 0\n",
        "            for j in range(num_clusters):\n",
        "                dist_kj = distancia_euclidiana(dados[k], centroides[j])\n",
        "                sum_ratio += (dist_ki / dist_kj) ** (2 / (m - 1))\n",
        "            matriz_pertinencia[k, i] = 1 / sum_ratio\n",
        "\n",
        "    return matriz_pertinencia\n",
        "\n",
        "# Função principal do FCM\n",
        "def fcm(dados, num_clusters, m=2, max_iter=1000, erro=1e-5):\n",
        "    num_amostras = dados.shape[0]\n",
        "    matriz_pertinencia = inicializao_matriz_pertinencia(num_amostras, num_clusters)\n",
        "\n",
        "    for _ in range(max_iter):\n",
        "        centroides = atualizacao_centroides(dados, matriz_pertinencia, m)\n",
        "        nova_matriz_pertinencia = atualizacao_matriz_pertinencia(dados, centroides, m)\n",
        "\n",
        "        if np.linalg.norm(nova_matriz_pertinencia - matriz_pertinencia) < erro:\n",
        "            break\n",
        "\n",
        "        matriz_pertinencia = nova_matriz_pertinencia\n",
        "\n",
        "    return centroides, matriz_pertinencia\n",
        "\n",
        "# Função de similaridade fuzzy\n",
        "def similaridade_fuzzy(pertinencia_k, pertinencia_l):\n",
        "    return 1 - np.linalg.norm(pertinencia_k - pertinencia_l)**2\n",
        "\n",
        "# Índice de Rand Difuso\n",
        "def indice_rand_difuso(labels_fuzzy, matriz_pertinencia):\n",
        "    n = labels_fuzzy.shape[0]\n",
        "    somatorio_diferencas = 0\n",
        "    num_total_pares = n * (n - 1) / 2\n",
        "\n",
        "    for k in range(n):\n",
        "        for l in range(k + 1, n):\n",
        "            EP = similaridade_fuzzy(labels_fuzzy[k], labels_fuzzy[l])\n",
        "            EQ = similaridade_fuzzy(matriz_pertinencia[k], matriz_pertinencia[l])\n",
        "            somatorio_diferencas += abs(EP - EQ)\n",
        "\n",
        "    FR = 1 - (somatorio_diferencas / num_total_pares)\n",
        "    return FR\n",
        "\n",
        "# Implementação do Bootstrap\n",
        "def bootstrap_experimento(dados, labels_fuzzy, num_clusters, num_trials, num_execucoes=200):\n",
        "    melhores_indices_rand = []\n",
        "\n",
        "    for trial in range(num_trials):\n",
        "        dados_resample, labels_resample = resample(dados, labels_fuzzy)\n",
        "\n",
        "        melhor_indice_rand = -np.inf\n",
        "\n",
        "        for _ in range(num_execucoes):\n",
        "            centroides, matriz_pertinencia = fcm(dados_resample, num_clusters)\n",
        "            idx_rand_difuso = indice_rand_difuso(labels_resample, matriz_pertinencia)\n",
        "\n",
        "            if idx_rand_difuso > melhor_indice_rand:\n",
        "                melhor_indice_rand = idx_rand_difuso\n",
        "\n",
        "        melhores_indices_rand.append(melhor_indice_rand)\n",
        "        print(f\"Trial {trial} - Índice Rand: {melhor_indice_rand}\")\n",
        "\n",
        "    mean_rand_index = np.mean(melhores_indices_rand)\n",
        "    std_rand_index = np.std(melhores_indices_rand)\n",
        "    return mean_rand_index, std_rand_index\n",
        "\n",
        "# Fuzzyficando os labels\n",
        "labels_fuzzy = fuzzyficar_labels(labels, num_clusters=3)\n",
        "\n",
        "# Parâmetros do experimento\n",
        "num_clusters = 3\n",
        "num_trials = 1000\n",
        "\n",
        "# Executando o Bootstrap\n",
        "media_indice_rand, dp_indice_rand = bootstrap_experimento(dados, labels_fuzzy, num_clusters, num_trials)\n",
        "\n",
        "print(f\"Bootstrap FCM Clustering Results ({num_trials} reamostragens)\")\n",
        "print(f\"Mean Fuzzy Rand Index: {media_indice_rand:.4f}\")\n",
        "print(f\"Standard Deviation of Fuzzy Rand Index: {dp_indice_rand:.4f}\")"
      ]
    }
  ]
}