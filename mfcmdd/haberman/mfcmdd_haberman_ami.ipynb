{
 "cells": [
  {
   "cell_type": "markdown",
   "metadata": {},
   "source": [
    "# Multivariate Fuzzy C-medoids method: Implementation\n",
    "\n",
    "## Equations\n",
    "\n",
    "### $J= \\sum_{i=1}^{c} \\sum_{k=1}^{n} \\sum_{j=1}^{p} \\left(u_{ijk} \\right)^{m} d_{ijk}$ - Objective function to minimize.\n",
    "\n",
    "### $d_{ijk} = \\left(x_{jk} - y_{ij} \\right)^{2}$ - euclidian distance squared.\n",
    "\n",
    "### $q = \\argmin_{1 \\le i \\le c} \\sum_{j=1}^p \\sum_{k=1}^n (u_{ijk})^m \\cdot d_{ijk}$ - prototype coordinate of a given cluster in feature j.\n",
    "\n",
    "### $ u_{ijk} =  \\left[\\sum_{h=1}^{c}\\sum_{l=1}^{p} \\left(\\frac{d_{ijk}}{d_{hlk}}\\right)^{(1/(m-1))}  \\right]^{-1} $ - membership degree of pattern k in cluster $C_{i}$ on the feature j.\n",
    "\n",
    "### $\\delta_{ik} = \\sum_{j=1}^{p} u_{ijk}$ - represents an aggregation measure for all the p features.\n",
    "\n",
    "## Constraints:\n",
    "\n",
    "### - $u_{ijk} \\in [0, 1]$ for all i, j and k;\n",
    "### - $0 < \\sum_{j=1}^{p} \\sum_{k=1}^{n} u_{ijk} < n$ for all i and\n",
    "### - $\\sum_{i=1}^{c}\\sum_{j=1}^{p}u_{ijk} = 1$ for all k."
   ]
  },
  {
   "cell_type": "markdown",
   "metadata": {},
   "source": [
    "## Importando bibliotecas"
   ]
  },
  {
   "cell_type": "code",
   "execution_count": 1,
   "metadata": {},
   "outputs": [],
   "source": [
    "import numpy as np\n",
    "import pandas as pd\n",
    "from sklearn.metrics import adjusted_mutual_info_score"
   ]
  },
  {
   "cell_type": "code",
   "execution_count": 2,
   "metadata": {},
   "outputs": [],
   "source": [
    "np.random.seed(42)"
   ]
  },
  {
   "cell_type": "markdown",
   "metadata": {},
   "source": [
    "## Tratamento dos dados"
   ]
  },
  {
   "cell_type": "code",
   "execution_count": 3,
   "metadata": {},
   "outputs": [
    {
     "name": "stderr",
     "output_type": "stream",
     "text": [
      "/var/folders/rd/2w0dpjn11nz05hr2v2bp3zy80000gn/T/ipykernel_45130/4270571925.py:4: FutureWarning: A value is trying to be set on a copy of a DataFrame or Series through chained assignment using an inplace method.\n",
      "The behavior will change in pandas 3.0. This inplace method will never work because the intermediate object on which we are setting values always behaves as a copy.\n",
      "\n",
      "For example, when doing 'df[col].method(value, inplace=True)', try using 'df.method({col: value}, inplace=True)' or df[col] = df[col].method(value) instead, to perform the operation inplace on the original object.\n",
      "\n",
      "\n",
      "  df[\"Class\"].replace({1: 0, 2: 1}, inplace=True)\n"
     ]
    }
   ],
   "source": [
    "df = pd.read_csv('/Users/thomazaraujo/Documents/CIn-UFPE/PIBIC/datasets/haberman.csv')\n",
    "df.columns = [\"Age\", \"Op_year\", \"Axil_nodes\", \"Surv_status\"]\n",
    "df = df.rename(columns={\"Surv_status\": \"Class\"})\n",
    "df[\"Class\"].replace({1: 0, 2: 1}, inplace=True)\n",
    "labels = df[\"Class\"].values\n",
    "df.drop(\"Class\", axis=1, inplace=True)\n",
    "dados = df.to_numpy()"
   ]
  },
  {
   "cell_type": "markdown",
   "metadata": {},
   "source": [
    "## Método de agrupamento"
   ]
  },
  {
   "cell_type": "code",
   "execution_count": 4,
   "metadata": {},
   "outputs": [],
   "source": [
    "class MFCMedoids:\n",
    "    def __init__(self, c, X, m):\n",
    "        self.c = c\n",
    "        self.n = X.shape[0]\n",
    "        self.p = X.shape[1]\n",
    "        self.m = m\n",
    "        self.epsilon = 1e-10  # To prevent division by zero\n",
    "\n",
    "    def initialize_u(self):\n",
    "        return np.random.dirichlet(alpha=np.ones(self.c * self.p),\n",
    "                                   size=self.n).reshape(self.n, self.c, self.p)\n",
    "\n",
    "    def find_medoids(self, X, U):\n",
    "        medoids = np.zeros((self.c, self.p))\n",
    "        U_m = U ** self.m  # (n, c, p)\n",
    "\n",
    "        # Para cada possível q (0 <= q < n), criamos um tensor de distâncias quadradas para todos os outros k e p\n",
    "        # (n, n, p) -> distances_squared[k, q, j] = (X[k, j] - X[q, j]) ** 2\n",
    "        distances_squared = (X[:, np.newaxis, :] - X[np.newaxis, :, :]) ** 2  # shape (n, n, p)\n",
    "\n",
    "        for i in range(self.c):\n",
    "            # Para o cluster i, obtemos U_m[:, i, :] -> shape (n, p)\n",
    "            # Queremos calcular o custo de cada q ser o medoide: somatório sobre j e k de u_m[k, i, j] * d(k, q, j)\n",
    "            \n",
    "            # Expand u_m para fazer broadcast: (n, 1, p) para multiplicar com (n, n, p)\n",
    "            u_m_expanded = U_m[:, i, :][:, np.newaxis, :]  # shape (n, 1, p)\n",
    "\n",
    "            # Custo total para cada q: soma sobre k e j\n",
    "            cost_per_q = np.sum(u_m_expanded * distances_squared, axis=(0, 2))  # shape (n,)\n",
    "\n",
    "            best_q = np.argmin(cost_per_q)\n",
    "            medoids[i] = X[best_q]\n",
    "\n",
    "        return medoids\n",
    "\n",
    "    def get_distances(self, X, medoids):\n",
    "        return (X[:, np.newaxis, :] - medoids[np.newaxis, :, :]) ** 2\n",
    "\n",
    "    def update_u(self, D):\n",
    "        D = np.maximum(D, self.epsilon)  # Avoid division by zero\n",
    "        ratio = (D[:, np.newaxis, np.newaxis, :, :] / D[:, :, :, np.newaxis, np.newaxis]) ** (1 / (self.m - 1))\n",
    "        return 1 / np.sum(ratio, axis=(3, 4))\n",
    "\n",
    "    def get_objective_function(self, U, D):\n",
    "        return np.sum((U ** self.m) * D)"
   ]
  },
  {
   "cell_type": "markdown",
   "metadata": {},
   "source": [
    "# Clustering"
   ]
  },
  {
   "cell_type": "code",
   "execution_count": 5,
   "metadata": {},
   "outputs": [],
   "source": [
    "def mfcm_run(dados, num_clusters, m=2, max_iter=1000, epsilon=1e-5):\n",
    "    mfcm = MFCMedoids(c=num_clusters, X=dados, m=m)  # Create the MFCMedoids object\n",
    "\n",
    "    U = mfcm.initialize_u()  # Initialize the membership matrix\n",
    "\n",
    "    for _ in range(max_iter):\n",
    "        medoids = mfcm.find_medoids(dados, U)\n",
    "        D = mfcm.get_distances(dados, medoids)\n",
    "        new_U = mfcm.update_u(D)\n",
    "        \n",
    "        # Check for convergence\n",
    "        if np.linalg.norm(U - new_U) < epsilon:\n",
    "            break\n",
    "        \n",
    "        U = new_U\n",
    "\n",
    "    Delta = np.sum(U, axis=2)  # Summing over the second axis (variables j)\n",
    "\n",
    "    return medoids, U, Delta"
   ]
  },
  {
   "cell_type": "markdown",
   "metadata": {},
   "source": [
    "## Simulação de Monte Carlo"
   ]
  },
  {
   "cell_type": "code",
   "execution_count": 6,
   "metadata": {},
   "outputs": [],
   "source": [
    "def monte_carlo_simulation(dados, labels, num_clusters, num_trials):\n",
    "    results = []\n",
    "    for _ in range(num_trials):\n",
    "        print(_)\n",
    "        medoids, U, Delta = mfcm_run(dados, num_clusters)\n",
    "        predicted_labels = np.argmax(Delta, axis=1)\n",
    "        ami = adjusted_mutual_info_score(labels, predicted_labels)\n",
    "        results.append(ami)\n",
    "        if ami > 0.01:\n",
    "            results.append(ami)\n",
    "    mean_ami = np.mean(results)\n",
    "    std_ami = np.std(results)\n",
    "    return mean_ami, std_ami"
   ]
  },
  {
   "cell_type": "code",
   "execution_count": 7,
   "metadata": {},
   "outputs": [
    {
     "name": "stdout",
     "output_type": "stream",
     "text": [
      "0\n",
      "1\n",
      "2\n",
      "3\n",
      "4\n",
      "5\n",
      "6\n",
      "7\n",
      "8\n",
      "9\n",
      "10\n",
      "11\n",
      "12\n",
      "13\n",
      "14\n",
      "15\n",
      "16\n",
      "17\n",
      "18\n",
      "19\n",
      "20\n",
      "21\n",
      "22\n",
      "23\n",
      "24\n",
      "25\n",
      "26\n",
      "27\n",
      "28\n",
      "29\n",
      "30\n",
      "31\n",
      "32\n",
      "33\n",
      "34\n",
      "35\n",
      "36\n",
      "37\n",
      "38\n",
      "39\n",
      "40\n",
      "41\n",
      "42\n",
      "43\n",
      "44\n",
      "45\n",
      "46\n",
      "47\n",
      "48\n",
      "49\n",
      "50\n",
      "51\n",
      "52\n",
      "53\n",
      "54\n",
      "55\n",
      "56\n",
      "57\n",
      "58\n",
      "59\n",
      "60\n",
      "61\n",
      "62\n",
      "63\n",
      "64\n",
      "65\n",
      "66\n",
      "67\n",
      "68\n",
      "69\n",
      "70\n",
      "71\n",
      "72\n",
      "73\n",
      "74\n",
      "75\n",
      "76\n",
      "77\n",
      "78\n",
      "79\n",
      "80\n",
      "81\n",
      "82\n",
      "83\n",
      "84\n",
      "85\n",
      "86\n",
      "87\n",
      "88\n",
      "89\n",
      "90\n",
      "91\n",
      "92\n",
      "93\n",
      "94\n",
      "95\n",
      "96\n",
      "97\n",
      "98\n",
      "99\n",
      "Mean AMI: 0.012436156809648408\n",
      "Std AMI: 0.012335825236800402\n"
     ]
    }
   ],
   "source": [
    "num_clusters = 2\n",
    "num_trials = 100\n",
    "mean_ami, std_ami = monte_carlo_simulation(dados, labels, num_clusters, num_trials)\n",
    "\n",
    "print(f\"Mean AMI: {mean_ami}\")\n",
    "print(f\"Std AMI: {std_ami}\")"
   ]
  }
 ],
 "metadata": {
  "kernelspec": {
   "display_name": "Python 3",
   "language": "python",
   "name": "python3"
  },
  "language_info": {
   "codemirror_mode": {
    "name": "ipython",
    "version": 3
   },
   "file_extension": ".py",
   "mimetype": "text/x-python",
   "name": "python",
   "nbconvert_exporter": "python",
   "pygments_lexer": "ipython3",
   "version": "3.13.3"
  }
 },
 "nbformat": 4,
 "nbformat_minor": 2
}
