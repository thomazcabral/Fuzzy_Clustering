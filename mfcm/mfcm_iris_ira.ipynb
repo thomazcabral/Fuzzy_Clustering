{
  "nbformat": 4,
  "nbformat_minor": 0,
  "metadata": {
    "colab": {
      "provenance": []
    },
    "kernelspec": {
      "name": "python3",
      "display_name": "Python 3"
    },
    "language_info": {
      "name": "python"
    }
  },
  "cells": [
    {
      "cell_type": "markdown",
      "source": [
        "### Instalação de módulos"
      ],
      "metadata": {
        "id": "XDOT9svELFVL"
      }
    },
    {
      "cell_type": "code",
      "source": [
        "pip install numpy -q"
      ],
      "metadata": {
        "id": "47dGuKurCq7u"
      },
      "execution_count": 100,
      "outputs": []
    },
    {
      "cell_type": "code",
      "source": [
        "pip install pandas -q"
      ],
      "metadata": {
        "id": "PuGdOzCTCtHz"
      },
      "execution_count": 101,
      "outputs": []
    },
    {
      "cell_type": "code",
      "source": [
        "pip install scikit-learn -q"
      ],
      "metadata": {
        "id": "RB-iX7djCuev"
      },
      "execution_count": 102,
      "outputs": []
    },
    {
      "cell_type": "markdown",
      "source": [
        "### Importando bibliotecas"
      ],
      "metadata": {
        "id": "VnKl_skfLJtY"
      }
    },
    {
      "cell_type": "code",
      "execution_count": 103,
      "metadata": {
        "id": "iFo0xA88CQbz"
      },
      "outputs": [],
      "source": [
        "import numpy as np\n",
        "from sklearn.metrics import adjusted_rand_score\n",
        "import pandas as pd\n",
        "from sklearn.preprocessing import MinMaxScaler\n",
        "from sklearn.utils import resample\n",
        "import seaborn as sns"
      ]
    },
    {
      "cell_type": "markdown",
      "source": [
        "## Tratamento de dados"
      ],
      "metadata": {
        "id": "Dgj-rxSbLMmW"
      }
    },
    {
      "cell_type": "markdown",
      "source": [
        "### Carregando os dados"
      ],
      "metadata": {
        "id": "hv7oCv49LPFY"
      }
    },
    {
      "cell_type": "code",
      "source": [
        "df = sns.load_dataset('iris')\n",
        "df.columns"
      ],
      "metadata": {
        "colab": {
          "base_uri": "https://localhost:8080/"
        },
        "id": "YmC4C5LZCYQe",
        "outputId": "f082c4fb-f870-4a50-cc95-ca1c9a182474"
      },
      "execution_count": 104,
      "outputs": [
        {
          "output_type": "execute_result",
          "data": {
            "text/plain": [
              "Index(['sepal_length', 'sepal_width', 'petal_length', 'petal_width',\n",
              "       'species'],\n",
              "      dtype='object')"
            ]
          },
          "metadata": {},
          "execution_count": 104
        }
      ]
    },
    {
      "cell_type": "markdown",
      "source": [
        "### Ajustando os dados"
      ],
      "metadata": {
        "id": "I9rTHx82LRmE"
      }
    },
    {
      "cell_type": "code",
      "source": [
        "df[\"species\"].replace({\"setosa\": 0, \"versicolor\": 1, \"virginica\": 2}, inplace=True) # substituindo o nome das classes\n",
        "\n",
        "df.columns = [\"SepalLengthCm\", \"SepalWidthCm\", \"PetalLengthCm\", \"PetalWidthCm\", \"Class\"] # renomeando as colunas\n",
        "\n",
        "labels = df[\"Class\"].values # separando as classes do resto do dataset\n",
        "df.drop(\"Class\", axis=1, inplace=True) # removendo as classes do resto dos dados"
      ],
      "metadata": {
        "colab": {
          "base_uri": "https://localhost:8080/"
        },
        "id": "P4GVwp4gCn62",
        "outputId": "631d62f7-ab46-4e52-bd32-ccf8719414d7"
      },
      "execution_count": 105,
      "outputs": [
        {
          "output_type": "stream",
          "name": "stderr",
          "text": [
            "<ipython-input-105-bec1708fd776>:1: FutureWarning: A value is trying to be set on a copy of a DataFrame or Series through chained assignment using an inplace method.\n",
            "The behavior will change in pandas 3.0. This inplace method will never work because the intermediate object on which we are setting values always behaves as a copy.\n",
            "\n",
            "For example, when doing 'df[col].method(value, inplace=True)', try using 'df.method({col: value}, inplace=True)' or df[col] = df[col].method(value) instead, to perform the operation inplace on the original object.\n",
            "\n",
            "\n",
            "  df[\"species\"].replace({\"setosa\": 0, \"versicolor\": 1, \"virginica\": 2}, inplace=True) # substituindo o nome das classes\n",
            "<ipython-input-105-bec1708fd776>:1: FutureWarning: Downcasting behavior in `replace` is deprecated and will be removed in a future version. To retain the old behavior, explicitly call `result.infer_objects(copy=False)`. To opt-in to the future behavior, set `pd.set_option('future.no_silent_downcasting', True)`\n",
            "  df[\"species\"].replace({\"setosa\": 0, \"versicolor\": 1, \"virginica\": 2}, inplace=True) # substituindo o nome das classes\n"
          ]
        }
      ]
    },
    {
      "cell_type": "markdown",
      "source": [
        "### Transformando os dados em uma array"
      ],
      "metadata": {
        "id": "QSiEcgWTLeMM"
      }
    },
    {
      "cell_type": "code",
      "source": [
        "dados = df.to_numpy()\n",
        "dados"
      ],
      "metadata": {
        "colab": {
          "base_uri": "https://localhost:8080/"
        },
        "id": "b3sTO-IjDQ_D",
        "outputId": "d6eeb497-2332-4c21-8845-1fd7126ec286"
      },
      "execution_count": 106,
      "outputs": [
        {
          "output_type": "execute_result",
          "data": {
            "text/plain": [
              "array([[5.1, 3.5, 1.4, 0.2],\n",
              "       [4.9, 3. , 1.4, 0.2],\n",
              "       [4.7, 3.2, 1.3, 0.2],\n",
              "       [4.6, 3.1, 1.5, 0.2],\n",
              "       [5. , 3.6, 1.4, 0.2],\n",
              "       [5.4, 3.9, 1.7, 0.4],\n",
              "       [4.6, 3.4, 1.4, 0.3],\n",
              "       [5. , 3.4, 1.5, 0.2],\n",
              "       [4.4, 2.9, 1.4, 0.2],\n",
              "       [4.9, 3.1, 1.5, 0.1],\n",
              "       [5.4, 3.7, 1.5, 0.2],\n",
              "       [4.8, 3.4, 1.6, 0.2],\n",
              "       [4.8, 3. , 1.4, 0.1],\n",
              "       [4.3, 3. , 1.1, 0.1],\n",
              "       [5.8, 4. , 1.2, 0.2],\n",
              "       [5.7, 4.4, 1.5, 0.4],\n",
              "       [5.4, 3.9, 1.3, 0.4],\n",
              "       [5.1, 3.5, 1.4, 0.3],\n",
              "       [5.7, 3.8, 1.7, 0.3],\n",
              "       [5.1, 3.8, 1.5, 0.3],\n",
              "       [5.4, 3.4, 1.7, 0.2],\n",
              "       [5.1, 3.7, 1.5, 0.4],\n",
              "       [4.6, 3.6, 1. , 0.2],\n",
              "       [5.1, 3.3, 1.7, 0.5],\n",
              "       [4.8, 3.4, 1.9, 0.2],\n",
              "       [5. , 3. , 1.6, 0.2],\n",
              "       [5. , 3.4, 1.6, 0.4],\n",
              "       [5.2, 3.5, 1.5, 0.2],\n",
              "       [5.2, 3.4, 1.4, 0.2],\n",
              "       [4.7, 3.2, 1.6, 0.2],\n",
              "       [4.8, 3.1, 1.6, 0.2],\n",
              "       [5.4, 3.4, 1.5, 0.4],\n",
              "       [5.2, 4.1, 1.5, 0.1],\n",
              "       [5.5, 4.2, 1.4, 0.2],\n",
              "       [4.9, 3.1, 1.5, 0.2],\n",
              "       [5. , 3.2, 1.2, 0.2],\n",
              "       [5.5, 3.5, 1.3, 0.2],\n",
              "       [4.9, 3.6, 1.4, 0.1],\n",
              "       [4.4, 3. , 1.3, 0.2],\n",
              "       [5.1, 3.4, 1.5, 0.2],\n",
              "       [5. , 3.5, 1.3, 0.3],\n",
              "       [4.5, 2.3, 1.3, 0.3],\n",
              "       [4.4, 3.2, 1.3, 0.2],\n",
              "       [5. , 3.5, 1.6, 0.6],\n",
              "       [5.1, 3.8, 1.9, 0.4],\n",
              "       [4.8, 3. , 1.4, 0.3],\n",
              "       [5.1, 3.8, 1.6, 0.2],\n",
              "       [4.6, 3.2, 1.4, 0.2],\n",
              "       [5.3, 3.7, 1.5, 0.2],\n",
              "       [5. , 3.3, 1.4, 0.2],\n",
              "       [7. , 3.2, 4.7, 1.4],\n",
              "       [6.4, 3.2, 4.5, 1.5],\n",
              "       [6.9, 3.1, 4.9, 1.5],\n",
              "       [5.5, 2.3, 4. , 1.3],\n",
              "       [6.5, 2.8, 4.6, 1.5],\n",
              "       [5.7, 2.8, 4.5, 1.3],\n",
              "       [6.3, 3.3, 4.7, 1.6],\n",
              "       [4.9, 2.4, 3.3, 1. ],\n",
              "       [6.6, 2.9, 4.6, 1.3],\n",
              "       [5.2, 2.7, 3.9, 1.4],\n",
              "       [5. , 2. , 3.5, 1. ],\n",
              "       [5.9, 3. , 4.2, 1.5],\n",
              "       [6. , 2.2, 4. , 1. ],\n",
              "       [6.1, 2.9, 4.7, 1.4],\n",
              "       [5.6, 2.9, 3.6, 1.3],\n",
              "       [6.7, 3.1, 4.4, 1.4],\n",
              "       [5.6, 3. , 4.5, 1.5],\n",
              "       [5.8, 2.7, 4.1, 1. ],\n",
              "       [6.2, 2.2, 4.5, 1.5],\n",
              "       [5.6, 2.5, 3.9, 1.1],\n",
              "       [5.9, 3.2, 4.8, 1.8],\n",
              "       [6.1, 2.8, 4. , 1.3],\n",
              "       [6.3, 2.5, 4.9, 1.5],\n",
              "       [6.1, 2.8, 4.7, 1.2],\n",
              "       [6.4, 2.9, 4.3, 1.3],\n",
              "       [6.6, 3. , 4.4, 1.4],\n",
              "       [6.8, 2.8, 4.8, 1.4],\n",
              "       [6.7, 3. , 5. , 1.7],\n",
              "       [6. , 2.9, 4.5, 1.5],\n",
              "       [5.7, 2.6, 3.5, 1. ],\n",
              "       [5.5, 2.4, 3.8, 1.1],\n",
              "       [5.5, 2.4, 3.7, 1. ],\n",
              "       [5.8, 2.7, 3.9, 1.2],\n",
              "       [6. , 2.7, 5.1, 1.6],\n",
              "       [5.4, 3. , 4.5, 1.5],\n",
              "       [6. , 3.4, 4.5, 1.6],\n",
              "       [6.7, 3.1, 4.7, 1.5],\n",
              "       [6.3, 2.3, 4.4, 1.3],\n",
              "       [5.6, 3. , 4.1, 1.3],\n",
              "       [5.5, 2.5, 4. , 1.3],\n",
              "       [5.5, 2.6, 4.4, 1.2],\n",
              "       [6.1, 3. , 4.6, 1.4],\n",
              "       [5.8, 2.6, 4. , 1.2],\n",
              "       [5. , 2.3, 3.3, 1. ],\n",
              "       [5.6, 2.7, 4.2, 1.3],\n",
              "       [5.7, 3. , 4.2, 1.2],\n",
              "       [5.7, 2.9, 4.2, 1.3],\n",
              "       [6.2, 2.9, 4.3, 1.3],\n",
              "       [5.1, 2.5, 3. , 1.1],\n",
              "       [5.7, 2.8, 4.1, 1.3],\n",
              "       [6.3, 3.3, 6. , 2.5],\n",
              "       [5.8, 2.7, 5.1, 1.9],\n",
              "       [7.1, 3. , 5.9, 2.1],\n",
              "       [6.3, 2.9, 5.6, 1.8],\n",
              "       [6.5, 3. , 5.8, 2.2],\n",
              "       [7.6, 3. , 6.6, 2.1],\n",
              "       [4.9, 2.5, 4.5, 1.7],\n",
              "       [7.3, 2.9, 6.3, 1.8],\n",
              "       [6.7, 2.5, 5.8, 1.8],\n",
              "       [7.2, 3.6, 6.1, 2.5],\n",
              "       [6.5, 3.2, 5.1, 2. ],\n",
              "       [6.4, 2.7, 5.3, 1.9],\n",
              "       [6.8, 3. , 5.5, 2.1],\n",
              "       [5.7, 2.5, 5. , 2. ],\n",
              "       [5.8, 2.8, 5.1, 2.4],\n",
              "       [6.4, 3.2, 5.3, 2.3],\n",
              "       [6.5, 3. , 5.5, 1.8],\n",
              "       [7.7, 3.8, 6.7, 2.2],\n",
              "       [7.7, 2.6, 6.9, 2.3],\n",
              "       [6. , 2.2, 5. , 1.5],\n",
              "       [6.9, 3.2, 5.7, 2.3],\n",
              "       [5.6, 2.8, 4.9, 2. ],\n",
              "       [7.7, 2.8, 6.7, 2. ],\n",
              "       [6.3, 2.7, 4.9, 1.8],\n",
              "       [6.7, 3.3, 5.7, 2.1],\n",
              "       [7.2, 3.2, 6. , 1.8],\n",
              "       [6.2, 2.8, 4.8, 1.8],\n",
              "       [6.1, 3. , 4.9, 1.8],\n",
              "       [6.4, 2.8, 5.6, 2.1],\n",
              "       [7.2, 3. , 5.8, 1.6],\n",
              "       [7.4, 2.8, 6.1, 1.9],\n",
              "       [7.9, 3.8, 6.4, 2. ],\n",
              "       [6.4, 2.8, 5.6, 2.2],\n",
              "       [6.3, 2.8, 5.1, 1.5],\n",
              "       [6.1, 2.6, 5.6, 1.4],\n",
              "       [7.7, 3. , 6.1, 2.3],\n",
              "       [6.3, 3.4, 5.6, 2.4],\n",
              "       [6.4, 3.1, 5.5, 1.8],\n",
              "       [6. , 3. , 4.8, 1.8],\n",
              "       [6.9, 3.1, 5.4, 2.1],\n",
              "       [6.7, 3.1, 5.6, 2.4],\n",
              "       [6.9, 3.1, 5.1, 2.3],\n",
              "       [5.8, 2.7, 5.1, 1.9],\n",
              "       [6.8, 3.2, 5.9, 2.3],\n",
              "       [6.7, 3.3, 5.7, 2.5],\n",
              "       [6.7, 3. , 5.2, 2.3],\n",
              "       [6.3, 2.5, 5. , 1.9],\n",
              "       [6.5, 3. , 5.2, 2. ],\n",
              "       [6.2, 3.4, 5.4, 2.3],\n",
              "       [5.9, 3. , 5.1, 1.8]])"
            ]
          },
          "metadata": {},
          "execution_count": 106
        }
      ]
    },
    {
      "cell_type": "markdown",
      "source": [
        "## Clustering"
      ],
      "metadata": {
        "id": "edQmZIQ2LkBw"
      }
    },
    {
      "cell_type": "markdown",
      "source": [
        "### Inicialização da matriz de pertinência"
      ],
      "metadata": {
        "id": "nvOPdh_tVUPp"
      }
    },
    {
      "cell_type": "markdown",
      "source": [
        "A matriz de pertinência é inicializada aleatoriamente $u_{ijk}(i=1,...c$; $j=1,...,p$ e $k=1,...,n)$ do objeto $k$ pertencente ao grupo $C_i$ para a variável $j$ tal que:\n",
        "- $u_{ijk} \\in [0,1]$;\n",
        "- $0 < \\sum_{k=1}^nu_{ijk} < n$;\n",
        "- $\\sum_{i=1}^c\\sum_{j=1}^pu_{ijk} = 1$ para todo $k \\in \\Omega$."
      ],
      "metadata": {
        "id": "_CqIPvYFAuyT"
      }
    },
    {
      "cell_type": "code",
      "source": [
        "def inicializacao_matriz_pertinencia(num_amostras, num_clusters, num_variaveis):\n",
        "    matriz_pertinencia = np.random.rand(num_amostras, num_clusters, num_variaveis) # gera uma matriz inicial aleatória com valores entre 0 e 1\n",
        "    matriz_pertinencia = matriz_pertinencia / matriz_pertinencia.sum(axis=1, keepdims=True) # normalização da matriz pra garantir que a soma dos graus dê um\n",
        "    return matriz_pertinencia"
      ],
      "metadata": {
        "id": "NhJE6K_tU_99"
      },
      "execution_count": 107,
      "outputs": []
    },
    {
      "cell_type": "markdown",
      "source": [
        "### Atualização dos centroides"
      ],
      "metadata": {
        "id": "je_DpkCvBoJ4"
      }
    },
    {
      "cell_type": "markdown",
      "source": [
        "Fixo os graus de pertinência, os centroides são atualizados com base nessa equação:\n",
        "\n",
        "### $y_{ij} = \\frac{\\sum_{k=1}^n(u_{ijk})^mx_{kj}}{\\sum_{k=1}^n(u_{ijk})^m}$"
      ],
      "metadata": {
        "id": "EfLM7EroBxML"
      }
    },
    {
      "cell_type": "code",
      "source": [
        "def atualizacao_centroides(dados, matriz_pertinencia, m):\n",
        "    num_clusters = matriz_pertinencia.shape[1]\n",
        "    num_variaveis = dados.shape[1]\n",
        "\n",
        "    matriz_pertinencia_m = matriz_pertinencia ** m\n",
        "    centroides = np.zeros((num_clusters, num_variaveis)) # inicializando os centroides\n",
        "    # precisa porque como são duas dimensões não dá pra fazer a vetorização como no FCM\n",
        "\n",
        "    for j in range(num_variaveis):  # para cada variável\n",
        "        for i in range(num_clusters):  # para cada cluster\n",
        "            numerador = np.sum(matriz_pertinencia_m[:, i, j].reshape(-1, 1) * dados[:, j].reshape(-1, 1)) # reshape usado para garantir que não tenha problemas na operação\n",
        "            denominador = np.sum(matriz_pertinencia_m[:, i, j])\n",
        "            centroides[i, j] = numerador / denominador\n",
        "\n",
        "    return centroides"
      ],
      "metadata": {
        "id": "0WaI2ZKjBqUr"
      },
      "execution_count": 108,
      "outputs": []
    },
    {
      "cell_type": "markdown",
      "source": [
        "### Atualização da matriz de pertinência"
      ],
      "metadata": {
        "id": "m2Fot76XSmt2"
      }
    },
    {
      "cell_type": "markdown",
      "source": [
        "Fixo o protótipo, os graus de pertinência são atualizados com base nessa equação:\n",
        "\n",
        "### $u_{ijk} = [\\sum_{a=1}^c\\sum_{b=1}^p(\\frac{d_{ijk}}{d_{abk}})^\\frac{1}{m-1}]^{-1}$"
      ],
      "metadata": {
        "id": "vH42ozHqSqLT"
      }
    },
    {
      "cell_type": "code",
      "source": [
        "def atualizacao_matriz_pertinencia(dados, centroides, m):\n",
        "    num_amostras, num_clusters, num_variaveis = dados.shape[0], centroides.shape[0], dados.shape[1] # informações importantes\n",
        "    matriz_distancias = np.zeros((num_amostras, num_clusters, num_variaveis)) # inicializando a matriz de distâncias\n",
        "\n",
        "    for k in range(num_variaveis): # para cada variável\n",
        "        matriz_distancias[:, :, k] = np.square(dados[:, np.newaxis, k] - centroides[:, k]) # distância entre cada ponto de dados e cada centroide para cada variável\n",
        "\n",
        "    matriz_pertinencia_atualizada = np.zeros((num_amostras, num_clusters, num_variaveis)) # inicializando a matriz de pertinência multivariada\n",
        "    for k in range(num_variaveis): # precisa fazer pelo mesmo motivo da atualização de centroides\n",
        "        #cCalcula a nova pertinência usando uma soma direta (fórmula vetorizada)\n",
        "        dist_inv = np.fmax(matriz_distancias[:, :, k], np.finfo(np.float64).eps)  # evita divisões por zero\n",
        "        matriz_pertinencia_atualizada[:, :, k] = 1 / dist_inv ** (1 / (m - 1)) # cálculo da pertinência\n",
        "        matriz_pertinencia_atualizada[:, :, k] /= np.sum(1 / dist_inv ** (1 / (m - 1)), axis=1, keepdims=True) # normalização dos graus de pertinência para garantir as 3 regras\n",
        "\n",
        "    return matriz_pertinencia_atualizada\n"
      ],
      "metadata": {
        "id": "TuK43DRlZ5Jq"
      },
      "execution_count": 109,
      "outputs": []
    },
    {
      "cell_type": "markdown",
      "source": [
        "### Multivariate Fuzzy C-Means"
      ],
      "metadata": {
        "id": "9NfkzLZUowdz"
      }
    },
    {
      "cell_type": "markdown",
      "source": [
        "Ações:\n",
        "1. Inicialização da matriz de pertinência\n",
        "2. Atualização dos centroides\n",
        "3. Atualização da matriz de pertinência\n",
        "\n",
        "Critérios de parada:\n",
        "1. Número máximo de iterações atingido\n",
        "2. Pouca diferença (erro) entre as matrizes de pertinência de iterações consecutivas"
      ],
      "metadata": {
        "id": "_gVS6AHmoyfl"
      }
    },
    {
      "cell_type": "code",
      "source": [
        "def mfcm(dados, num_clusters, m=2, max_iter=1000, erro=1e-5):\n",
        "    num_amostras, num_variaveis = dados.shape # informações importantes para evitar aumentar o número de parâmetros\n",
        "    matriz_pertinencia = inicializacao_matriz_pertinencia(num_amostras, num_clusters, num_variaveis)\n",
        "\n",
        "    for _ in range(max_iter):  # critério de parada por número de iterações\n",
        "        centroides = atualizacao_centroides(dados, matriz_pertinencia, m)\n",
        "        nova_matriz_pertinencia = atualizacao_matriz_pertinencia(dados, centroides, m)\n",
        "\n",
        "        # critério de convergência\n",
        "        if np.linalg.norm(nova_matriz_pertinencia - matriz_pertinencia) < erro:\n",
        "            break\n",
        "        matriz_pertinencia = nova_matriz_pertinencia\n",
        "\n",
        "    return centroides, matriz_pertinencia"
      ],
      "metadata": {
        "id": "jly5b4tSozQ9"
      },
      "execution_count": 110,
      "outputs": []
    },
    {
      "cell_type": "markdown",
      "source": [
        "### Índice de Rand Ajustado (IRA)"
      ],
      "metadata": {
        "id": "TgfNNaFkpzwG"
      }
    },
    {
      "cell_type": "code",
      "source": [
        "def indice_rand(labels, predicted_labels):\n",
        "    return adjusted_rand_score(labels, predicted_labels)"
      ],
      "metadata": {
        "id": "XmEe-BFZp2DT"
      },
      "execution_count": 111,
      "outputs": []
    },
    {
      "cell_type": "markdown",
      "source": [
        "### Agregação dos graus de pertinência"
      ],
      "metadata": {
        "id": "7webzM865Ja8"
      }
    },
    {
      "cell_type": "markdown",
      "source": [
        "### $\\delta_{ik} = \\sum_{j=1}^pu_{ijk}$"
      ],
      "metadata": {
        "id": "D17WXeXT5Sor"
      }
    },
    {
      "cell_type": "code",
      "source": [
        "def calcular_delta(matriz_pertinencia): # para que os labels preditos sejam unidimensionais\n",
        "    delta = np.sum(matriz_pertinencia, axis=2)\n",
        "    return delta"
      ],
      "metadata": {
        "id": "9xCeraN63DIN"
      },
      "execution_count": 112,
      "outputs": []
    },
    {
      "cell_type": "markdown",
      "source": [
        "### Simulação de Monte Carlo"
      ],
      "metadata": {
        "id": "i5IJosPIp3mS"
      }
    },
    {
      "cell_type": "code",
      "source": [
        "def simulacao_monte_carlo(dados, labels, num_clusters, num_trials):\n",
        "    indices_rand = []\n",
        "    for _ in range(num_trials):\n",
        "        centroides, matriz_pertinencia = mfcm(dados, num_clusters)\n",
        "        delta = calcular_delta(matriz_pertinencia) # etapa adicional quando comparado ao FCM\n",
        "        predicted_labels = np.argmax(delta, axis=1)\n",
        "        idx_rand = indice_rand(labels, predicted_labels)\n",
        "        indices_rand.append(idx_rand)\n",
        "    mean_rand_index = np.mean(indices_rand)\n",
        "    std_rand_index = np.std(indices_rand)\n",
        "    return mean_rand_index, std_rand_index"
      ],
      "metadata": {
        "id": "_K_5H424p5eE"
      },
      "execution_count": 113,
      "outputs": []
    },
    {
      "cell_type": "markdown",
      "source": [
        "### Definição de parâmetros e execução do método"
      ],
      "metadata": {
        "id": "1yQz3BA0p-J8"
      }
    },
    {
      "cell_type": "code",
      "source": [
        "num_clusters = 3\n",
        "num_trials = 100\n",
        "media_indice_rand, dp_indice_rand = simulacao_monte_carlo(dados, labels, num_clusters, num_trials)\n",
        "\n",
        "print(f\"Monte Carlo MFCM Clustering Results ({num_trials} trials)\")\n",
        "print(f\"Mean Rand Index: {media_indice_rand:.4f}\") # resultado esperado: 0.1786\n",
        "print(f\"Standard Deviation of Rand Index: {dp_indice_rand:.4f}\") # esperado quase ou nenhum desvio padrão"
      ],
      "metadata": {
        "colab": {
          "base_uri": "https://localhost:8080/"
        },
        "id": "6XUtwFmaqAx9",
        "outputId": "aafaa78e-360f-4f87-977a-4f57bb397991"
      },
      "execution_count": 115,
      "outputs": [
        {
          "output_type": "stream",
          "name": "stdout",
          "text": [
            "Monte Carlo MFCM Clustering Results (100 trials)\n",
            "Mean Rand Index: 0.4158\n",
            "Standard Deviation of Rand Index: 0.1978\n"
          ]
        }
      ]
    }
  ]
}