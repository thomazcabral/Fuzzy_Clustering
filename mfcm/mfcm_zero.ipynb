{
 "cells": [
  {
   "cell_type": "markdown",
   "id": "bd815079",
   "metadata": {},
   "source": [
    "# Multivariate Fuzzy C-Means (MFCM)"
   ]
  },
  {
   "cell_type": "code",
   "execution_count": 3,
   "id": "3dc9492b",
   "metadata": {},
   "outputs": [],
   "source": [
    "import pandas as pd\n",
    "import numpy as np\n",
    "from sklearn.metrics import adjusted_rand_score\n",
    "import warnings\n",
    "warnings.filterwarnings('ignore')"
   ]
  },
  {
   "cell_type": "markdown",
   "id": "edb1ea60",
   "metadata": {},
   "source": [
    "### 0. Tratamento de dados"
   ]
  },
  {
   "cell_type": "code",
   "execution_count": 4,
   "id": "c7550d3f",
   "metadata": {},
   "outputs": [],
   "source": [
    "df = pd.read_csv('/Users/thomazaraujo/Documents/CIn - UFPE/PIBIC/datasets/iris.csv')\n",
    "df.head()\n",
    "df.drop(\"Id\", axis=1, inplace=True)\n",
    "df[\"Species\"].replace({\"Iris-setosa\": 0, \"Iris-versicolor\": 1, \"Iris-virginica\": 2}, inplace=True)\n",
    "df.columns = [\"SepalLengthCm\", \"SepalWidthCm\", \"PetalLengthCm\", \"PetalWidthCm\", \"Class\"]\n",
    "labels = df[\"Class\"].values\n",
    "df.drop(\"Class\", axis=1, inplace=True)\n",
    "dados = df.to_numpy()"
   ]
  },
  {
   "cell_type": "markdown",
   "id": "c5773c61",
   "metadata": {},
   "source": [
    "### 1. Inicialização da matriz de pertinência"
   ]
  },
  {
   "cell_type": "code",
   "execution_count": 5,
   "id": "0921852d",
   "metadata": {},
   "outputs": [],
   "source": [
    "def inicializacao_matriz_pertinencia(n, c, p):\n",
    "    matriz_pertinencia = np.random.rand(n, c, p) # gera uma matriz inicial aleatória com valores entre 0 e 1\n",
    "    matriz_pertinencia = matriz_pertinencia / matriz_pertinencia.sum(axis=(1, 2), keepdims=True) # normalização da matriz pra garantir que a soma dos graus dê um\n",
    "    return matriz_pertinencia"
   ]
  },
  {
   "cell_type": "markdown",
   "id": "bb2272d7",
   "metadata": {},
   "source": [
    "### 2. Atualização dos protótipos"
   ]
  },
  {
   "cell_type": "code",
   "execution_count": 12,
   "id": "4cf5c45a",
   "metadata": {},
   "outputs": [],
   "source": [
    "def atualizacao_prototipos(x, u, m):\n",
    "    n = u.shape[0]\n",
    "    c = u.shape[1]\n",
    "    p = u.shape[2]\n",
    "    u = u ** m\n",
    "    y = np.zeros((c, p))\n",
    "    for i in range(c):\n",
    "        for j in range(p):\n",
    "                soma_denominador = 0\n",
    "                soma_numerador = 0\n",
    "                for k in range(n):\n",
    "                    soma_numerador += u[k, i, j] * x[k, j]\n",
    "                    soma_denominador += u[k, i, j]\n",
    "                y[i, j] = soma_numerador / soma_denominador\n",
    "    return y"
   ]
  },
  {
   "cell_type": "markdown",
   "id": "7cee1833",
   "metadata": {},
   "source": [
    "### 3. Cálculo das distâncias"
   ]
  },
  {
   "cell_type": "code",
   "execution_count": 6,
   "id": "aa8ca18c",
   "metadata": {},
   "outputs": [],
   "source": [
    "def get_distancia(x, y):\n",
    "    n = x.shape[0]\n",
    "    c = y.shape[0]\n",
    "    p = x.shape[1]\n",
    "    d = np.zeros((n, c, p))\n",
    "    for k in range(n):\n",
    "        for i in range(c):\n",
    "            for j in range(p):\n",
    "                d[k, i, j] = (x[k, j] - y[i, j]) ** 2\n",
    "    return d"
   ]
  },
  {
   "cell_type": "markdown",
   "id": "07f6ca0f",
   "metadata": {},
   "source": [
    "### 4. Atualização da matriz de pertinência"
   ]
  },
  {
   "cell_type": "code",
   "execution_count": 7,
   "id": "2f8fca58",
   "metadata": {},
   "outputs": [],
   "source": [
    "def atualizacao_matriz_pertinencia(D, m=2):\n",
    "    eps = 1e-10 # if (a, b) == (i, j) then the division is zero; eps is there to avoid it\n",
    "    n = D.shape[0]\n",
    "    c = D.shape[1]\n",
    "    p = D.shape[2]\n",
    "    U = np.zeros((n, c, p))\n",
    "    for k in range(n):\n",
    "        for i in range(c):\n",
    "            for j in range(p):\n",
    "                dijk = max(D[k, i, j], eps)\n",
    "                soma = 0\n",
    "                for a in range(c):\n",
    "                    for b in range(p):\n",
    "                        dabk = max(D[k, a, b], eps)\n",
    "                        soma += (dijk / dabk) ** (1 / (m - 1))\n",
    "                U[k, i, j] = 1 / soma\n",
    "        soma_total = np.sum(U[k]) \n",
    "        U[k] /= soma_total # 3rd restriction\n",
    "    return U"
   ]
  },
  {
   "cell_type": "markdown",
   "id": "b9bf2615",
   "metadata": {},
   "source": [
    "### 5. Cálculo da função de perda"
   ]
  },
  {
   "cell_type": "code",
   "execution_count": 8,
   "id": "b155496d",
   "metadata": {},
   "outputs": [],
   "source": [
    "def loss_function(U, D, m=2):\n",
    "    n = D.shape[0]\n",
    "    c = D.shape[1]\n",
    "    p = D.shape[2]\n",
    "    U = U ** m\n",
    "    J = 0\n",
    "    for k in range(n):\n",
    "        for i in range(c):\n",
    "            for j in range(p):\n",
    "                J += U[k, i, j] * D[k, i, j]\n",
    "    return J"
   ]
  },
  {
   "cell_type": "markdown",
   "id": "1dc258f7",
   "metadata": {},
   "source": [
    "### 6. Algoritmo"
   ]
  },
  {
   "cell_type": "code",
   "execution_count": 16,
   "id": "31637dc4",
   "metadata": {},
   "outputs": [],
   "source": [
    "def mfcm(x, c, m=2, max_iter = 10**6, eps=1e-6):\n",
    "    n, p = x.shape\n",
    "    U = inicializacao_matriz_pertinencia(n, c, p)\n",
    "    loss = 10**6\n",
    "    for trial in range(max_iter):\n",
    "        prototipo = atualizacao_prototipos(x, U, m)\n",
    "        D = get_distancia(x, prototipo)\n",
    "        U = atualizacao_matriz_pertinencia(D, m)\n",
    "        new_loss = loss_function(U, D, m)\n",
    "        if (loss - new_loss < eps):\n",
    "            break\n",
    "        loss = new_loss\n",
    "    Delta = np.sum(U, axis=2)\n",
    "    print(U)\n",
    "    return Delta"
   ]
  },
  {
   "cell_type": "markdown",
   "id": "479c7dcc",
   "metadata": {},
   "source": [
    "### 7. Simulação de Monte Carlo"
   ]
  },
  {
   "cell_type": "code",
   "execution_count": 17,
   "id": "93c3f3a1",
   "metadata": {},
   "outputs": [],
   "source": [
    "def simulacao_monte_carlo(dados, labels, c, trials):\n",
    "    indices_rand = []\n",
    "    for trial in range(trials):\n",
    "        Delta = mfcm(dados, c)\n",
    "        predicted_labels = np.argmax(Delta, axis=1)\n",
    "        idx_rand = adjusted_rand_score(labels, predicted_labels)\n",
    "        indices_rand.append(idx_rand)\n",
    "    mean_idx_rand = np.mean(indices_rand)\n",
    "    std_idx_rand = np.std(indices_rand)\n",
    "    return mean_idx_rand, std_idx_rand"
   ]
  },
  {
   "cell_type": "markdown",
   "id": "09c30ba7",
   "metadata": {},
   "source": [
    "### 8. Chamada"
   ]
  },
  {
   "cell_type": "code",
   "execution_count": 18,
   "id": "f7913de0",
   "metadata": {},
   "outputs": [
    {
     "name": "stdout",
     "output_type": "stream",
     "text": [
      "[[[1.78586390e-04 2.52626687e-04 1.16491025e-05 2.27398084e-05]\n",
      "  [9.86633206e-01 1.13579512e-02 9.91990480e-06 4.04037959e-05]\n",
      "  [7.03023789e-04 6.74844918e-04 1.07370597e-05 1.04310915e-04]]\n",
      "\n",
      " [[3.66468256e-04 9.82904762e-01 4.20353250e-05 8.20556979e-05]\n",
      "  [6.59391041e-03 1.35438429e-03 3.57955836e-05 1.45795497e-04]\n",
      "  [9.35252159e-04 7.12439472e-03 3.87442547e-05 3.76401806e-04]]\n",
      "\n",
      " [[2.31812207e-04 5.11615943e-03 3.80400370e-05 8.05693957e-05]\n",
      "  [1.55114477e-03 4.78312051e-03 3.25942235e-05 1.43154655e-04]\n",
      "  [4.73370180e-04 9.87145277e-01 3.51740094e-05 3.69583914e-04]]\n",
      "\n",
      " ...\n",
      "\n",
      " [[3.80172195e-04 9.53755373e-01 1.20294991e-04 3.57577073e-02]\n",
      "  [1.18623062e-04 1.31421816e-03 1.64045624e-04 9.02781842e-04]\n",
      "  [1.97693534e-04 6.91311103e-03 1.39520623e-04 2.36458256e-04]]\n",
      "\n",
      " [[2.19909263e-03 3.01358881e-03 2.03829521e-04 3.58551882e-03]\n",
      "  [4.24011882e-04 9.76929570e-01 2.66648597e-04 7.92824474e-04]\n",
      "  [8.32638902e-04 1.12109877e-02 2.31918313e-04 3.09370656e-04]]\n",
      "\n",
      " [[6.82157365e-03 9.63364579e-01 1.40943656e-04 1.68112797e-02]\n",
      "  [3.63739066e-04 1.32745908e-03 1.97269078e-04 2.46509330e-03]\n",
      "  [9.86210411e-04 6.98276149e-03 1.65424290e-04 3.73667403e-04]]]\n",
      "Mean Adjusted Rand Index: 0.0706\n",
      "Standard Deviation of Adjusted Rand Index: 0.0000\n"
     ]
    }
   ],
   "source": [
    "c = 3\n",
    "trials = 1\n",
    "mean_idx_rand, std_idx_rand = simulacao_monte_carlo(dados, labels, c, trials)\n",
    "\n",
    "print(f\"Mean Adjusted Rand Index: {mean_idx_rand:.4f}\")\n",
    "print(f\"Standard Deviation of Adjusted Rand Index: {std_idx_rand:.4f}\")"
   ]
  }
 ],
 "metadata": {
  "kernelspec": {
   "display_name": ".venv",
   "language": "python",
   "name": "python3"
  },
  "language_info": {
   "codemirror_mode": {
    "name": "ipython",
    "version": 3
   },
   "file_extension": ".py",
   "mimetype": "text/x-python",
   "name": "python",
   "nbconvert_exporter": "python",
   "pygments_lexer": "ipython3",
   "version": "3.13.3"
  }
 },
 "nbformat": 4,
 "nbformat_minor": 5
}
