{
 "cells": [
  {
   "cell_type": "markdown",
   "metadata": {},
   "source": [
    "# Multivariate Fuzzy C-means method: Implementation\n",
    "\n",
    "## Equations\n",
    "\n",
    "### $J= \\sum_{i=1}^{c} \\sum_{k=1}^{n} \\sum_{j=1}^{p} \\left(u_{ijk} \\right)^{m} d_{ijk}$ - Objective function to minimize.\n",
    "\n",
    "### $d_{ijk} = \\left(x_{jk} - y_{ij} \\right)^{2}$ - euclidian distance squared.\n",
    "\n",
    "### $q = \\argmin_{1 \\le i \\le c} \\sum_{j=1}^p \\sum_{k=1}^n (u_{ijk})^m \\cdot d_{ijk}$ - prototype coordinate of a given cluster in feature j.\n",
    "\n",
    "### $ u_{ijk} =  \\left[\\sum_{h=1}^{c}\\sum_{l=1}^{p} \\left(\\frac{d_{ijk}}{d_{hlk}}\\right)^{(1/(m-1))}  \\right]^{-1} $ - membership degree of pattern k in cluster $C_{i}$ on the feature j.\n",
    "\n",
    "### $\\delta_{ik} = \\sum_{j=1}^{p} u_{ijk}$ - represents an aggregation measure for all the p features.\n",
    "\n",
    "## Constraints:\n",
    "\n",
    "### - $u_{ijk} \\in [0, 1]$ for all i, j and k;\n",
    "### - $0 < \\sum_{j=1}^{p} \\sum_{k=1}^{n} u_{ijk} < n$ for all i and\n",
    "### - $\\sum_{i=1}^{c}\\sum_{j=1}^{p}u_{ijk} = 1$ for all k."
   ]
  },
  {
   "cell_type": "markdown",
   "metadata": {},
   "source": [
    "## Importando bibliotecas"
   ]
  },
  {
   "cell_type": "code",
   "execution_count": 19,
   "metadata": {},
   "outputs": [],
   "source": [
    "import numpy as np\n",
    "import pandas as pd\n",
    "from sklearn.metrics import adjusted_rand_score\n",
    "from sklearn.preprocessing import MinMaxScaler\n",
    "import seaborn as sns"
   ]
  },
  {
   "cell_type": "markdown",
   "metadata": {},
   "source": [
    "## Tratamento dos dados"
   ]
  },
  {
   "cell_type": "code",
   "execution_count": 20,
   "metadata": {},
   "outputs": [],
   "source": [
    "df = sns.load_dataset('iris')\n",
    "df[\"species\"].replace({\"setosa\": 0, \"versicolor\": 1, \"virginica\": 2}, inplace=True)\n",
    "df.columns = [\"SepalLengthCm\", \"SepalWidthCm\", \"PetalLengthCm\", \"PetalWidthCm\", \"Class\"]\n",
    "labels = df[\"Class\"].values\n",
    "df.drop(\"Class\", axis=1, inplace=True)\n",
    "dados = df.to_numpy()"
   ]
  },
  {
   "cell_type": "markdown",
   "metadata": {},
   "source": [
    "## Método de agrupamento"
   ]
  },
  {
   "cell_type": "code",
   "execution_count": 21,
   "metadata": {},
   "outputs": [],
   "source": [
    "class MFCMdd():\n",
    "    def __init__(self, c, X, m):\n",
    "        self.c = c\n",
    "        self.n = X.shape[0]\n",
    "        self.p = X.shape[1]\n",
    "        self.m = m\n",
    "    \n",
    "    def initialize_u(self):\n",
    "        return np.random.dirichlet(alpha=np.ones(self.c * self.p),\n",
    "                                   size=self.n).reshape(self.n, self.c, self.p)\n",
    "    \n",
    "    def find_medoids(self, X, U, D):\n",
    "        medoids = np.zeros((self.c, self.p))  # matriz para armazenar os medoids\n",
    "        for i in range(self.c):  # para cada cluster\n",
    "            weighted_distances = np.sum(np.sum((U[:, i, :] ** self.m) * D[:, i, :], axis=2), axis=1) # soma ponderada das distâncias para cada ponto k, somando sobre todas as variáveis j\n",
    "            medoid_index = np.argmin(weighted_distances) # índice do ponto que minimiza a soma ponderada das distâncias\n",
    "            medoids[i, :] = X[medoid_index, :] # atribuir o ponto correspondente como medoid (para todas as variáveis simultaneamente)\n",
    "        return medoids\n",
    "\n",
    "    \n",
    "    def get_distances(self, X, V): # as vezes tem umas distâncias muito pequenas\n",
    "        return (X[:, np.newaxis, :] - V[np.newaxis, :, :]) ** 2\n",
    "    \n",
    "    def update_u(self, D):\n",
    "        ratio = (D[:, np.newaxis, np.newaxis, :, :] / D[:, :, :, np.newaxis, np.newaxis]) ** (1/(self.m-1))\n",
    "        return 1 / (np.sum(ratio, axis=(3, 4)))\n",
    "    \n",
    "    def get_objective_function(self, U, D):\n",
    "        return np.sum((U ** self.m)*D)"
   ]
  },
  {
   "cell_type": "markdown",
   "metadata": {},
   "source": [
    "# Clustering"
   ]
  },
  {
   "cell_type": "code",
   "execution_count": 33,
   "metadata": {},
   "outputs": [],
   "source": [
    "def mfcmdd_run(dados, num_clusters, m=2, max_iter=10**3, epsilon=1e-5): # MUDAR\n",
    "    mfcmdd = MFCMdd(c=num_clusters, X=dados, m=m) # create the MFCM object\n",
    "    \n",
    "    U = mfcmdd.initialize_u() # initialize the membership matrix\n",
    "    \n",
    "    for _ in range(max_iter):\n",
    "        medoids = mfcmdd.find_medoids(dados, U, D) # quem vem primeiro? medoids ou distância? como ficaria o outro?\n",
    "        D = mfcmdd.get_distances(dados, medoids)\n",
    "        new_U = mfcmdd.update_u(D)\n",
    "        if np.linalg.norm(U - new_U) < epsilon:\n",
    "            break\n",
    "        U = new_U\n",
    "    \n",
    "    Delta = np.sum(U, axis=2)  # summing over the second axis (variables `j`)\n",
    "    \n",
    "    return medoids, U, Delta"
   ]
  },
  {
   "cell_type": "markdown",
   "metadata": {},
   "source": [
    "## Simulação de Monte Carlo"
   ]
  },
  {
   "cell_type": "code",
   "execution_count": 23,
   "metadata": {},
   "outputs": [],
   "source": [
    "def monte_carlo_simulation(dados, labels, num_clusters, num_trials):\n",
    "    results = []\n",
    "    for _ in range(num_trials):\n",
    "        print(_)\n",
    "        centroids, U, Delta = mfcmdd_run(dados, num_clusters)\n",
    "        predicted_labels = np.argmax(Delta, axis=1)\n",
    "        ari = adjusted_rand_score(labels, predicted_labels)\n",
    "        results.append(ari)\n",
    "    mean_rand_index = np.mean(results)\n",
    "    std_rand_index = np.std(results)\n",
    "    return mean_rand_index, std_rand_index"
   ]
  },
  {
   "cell_type": "code",
   "execution_count": 32,
   "metadata": {},
   "outputs": [
    {
     "name": "stdout",
     "output_type": "stream",
     "text": [
      "0\n"
     ]
    },
    {
     "ename": "UnboundLocalError",
     "evalue": "cannot access local variable 'D' where it is not associated with a value",
     "output_type": "error",
     "traceback": [
      "\u001b[1;31m---------------------------------------------------------------------------\u001b[0m",
      "\u001b[1;31mUnboundLocalError\u001b[0m                         Traceback (most recent call last)",
      "Cell \u001b[1;32mIn[32], line 3\u001b[0m\n\u001b[0;32m      1\u001b[0m num_clusters \u001b[38;5;241m=\u001b[39m \u001b[38;5;241m3\u001b[39m\n\u001b[0;32m      2\u001b[0m num_trials \u001b[38;5;241m=\u001b[39m \u001b[38;5;241m100\u001b[39m\n\u001b[1;32m----> 3\u001b[0m mean_rand_index, std_rand_index \u001b[38;5;241m=\u001b[39m \u001b[43mmonte_carlo_simulation\u001b[49m\u001b[43m(\u001b[49m\u001b[43mdados\u001b[49m\u001b[43m,\u001b[49m\u001b[43m \u001b[49m\u001b[43mlabels\u001b[49m\u001b[43m,\u001b[49m\u001b[43m \u001b[49m\u001b[43mnum_clusters\u001b[49m\u001b[43m,\u001b[49m\u001b[43m \u001b[49m\u001b[43mnum_trials\u001b[49m\u001b[43m)\u001b[49m\n\u001b[0;32m      5\u001b[0m \u001b[38;5;28mprint\u001b[39m(\u001b[38;5;124mf\u001b[39m\u001b[38;5;124m\"\u001b[39m\u001b[38;5;124mMean ARI: \u001b[39m\u001b[38;5;132;01m{\u001b[39;00mmean_rand_index\u001b[38;5;132;01m}\u001b[39;00m\u001b[38;5;124m\"\u001b[39m)\n\u001b[0;32m      6\u001b[0m \u001b[38;5;28mprint\u001b[39m(\u001b[38;5;124mf\u001b[39m\u001b[38;5;124m\"\u001b[39m\u001b[38;5;124mStd ARI: \u001b[39m\u001b[38;5;132;01m{\u001b[39;00mstd_rand_index\u001b[38;5;132;01m}\u001b[39;00m\u001b[38;5;124m\"\u001b[39m)\n",
      "Cell \u001b[1;32mIn[23], line 5\u001b[0m, in \u001b[0;36mmonte_carlo_simulation\u001b[1;34m(dados, labels, num_clusters, num_trials)\u001b[0m\n\u001b[0;32m      3\u001b[0m \u001b[38;5;28;01mfor\u001b[39;00m _ \u001b[38;5;129;01min\u001b[39;00m \u001b[38;5;28mrange\u001b[39m(num_trials):\n\u001b[0;32m      4\u001b[0m     \u001b[38;5;28mprint\u001b[39m(_)\n\u001b[1;32m----> 5\u001b[0m     centroids, U, Delta \u001b[38;5;241m=\u001b[39m \u001b[43mmfcmdd_run\u001b[49m\u001b[43m(\u001b[49m\u001b[43mdados\u001b[49m\u001b[43m,\u001b[49m\u001b[43m \u001b[49m\u001b[43mnum_clusters\u001b[49m\u001b[43m)\u001b[49m\n\u001b[0;32m      6\u001b[0m     predicted_labels \u001b[38;5;241m=\u001b[39m np\u001b[38;5;241m.\u001b[39margmax(Delta, axis\u001b[38;5;241m=\u001b[39m\u001b[38;5;241m1\u001b[39m)\n\u001b[0;32m      7\u001b[0m     ari \u001b[38;5;241m=\u001b[39m adjusted_rand_score(labels, predicted_labels)\n",
      "Cell \u001b[1;32mIn[31], line 7\u001b[0m, in \u001b[0;36mmfcmdd_run\u001b[1;34m(dados, num_clusters, m, max_iter, epsilon)\u001b[0m\n\u001b[0;32m      4\u001b[0m U \u001b[38;5;241m=\u001b[39m mfcmdd\u001b[38;5;241m.\u001b[39minitialize_u() \u001b[38;5;66;03m# initialize the membership matrix\u001b[39;00m\n\u001b[0;32m      6\u001b[0m \u001b[38;5;28;01mfor\u001b[39;00m _ \u001b[38;5;129;01min\u001b[39;00m \u001b[38;5;28mrange\u001b[39m(max_iter):\n\u001b[1;32m----> 7\u001b[0m     medoids \u001b[38;5;241m=\u001b[39m mfcmdd\u001b[38;5;241m.\u001b[39mfind_medoids(dados, U, \u001b[43mD\u001b[49m)\n\u001b[0;32m      8\u001b[0m     D \u001b[38;5;241m=\u001b[39m mfcmdd\u001b[38;5;241m.\u001b[39mget_distances(dados, medoids)\n\u001b[0;32m      9\u001b[0m     new_U \u001b[38;5;241m=\u001b[39m mfcmdd\u001b[38;5;241m.\u001b[39mupdate_u(D)\n",
      "\u001b[1;31mUnboundLocalError\u001b[0m: cannot access local variable 'D' where it is not associated with a value"
     ]
    }
   ],
   "source": [
    "num_clusters = 3\n",
    "num_trials = 100\n",
    "mean_rand_index, std_rand_index = monte_carlo_simulation(dados, labels, num_clusters, num_trials)\n",
    "\n",
    "print(f\"Mean ARI: {mean_rand_index}\")\n",
    "print(f\"Std ARI: {std_rand_index}\")"
   ]
  }
 ],
 "metadata": {
  "kernelspec": {
   "display_name": "Python 3",
   "language": "python",
   "name": "python3"
  },
  "language_info": {
   "codemirror_mode": {
    "name": "ipython",
    "version": 3
   },
   "file_extension": ".py",
   "mimetype": "text/x-python",
   "name": "python",
   "nbconvert_exporter": "python",
   "pygments_lexer": "ipython3",
   "version": "3.11.3"
  }
 },
 "nbformat": 4,
 "nbformat_minor": 2
}
