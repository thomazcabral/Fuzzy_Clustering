{
  "cells": [
    {
      "cell_type": "markdown",
      "metadata": {
        "id": "X-5_kzR-_0cO"
      },
      "source": [
        "## Tratamento dos dados"
      ]
    },
    {
      "cell_type": "markdown",
      "metadata": {
        "id": "VnzujkKg_6xC"
      },
      "source": [
        "### Importando bibliotecas"
      ]
    },
    {
      "cell_type": "code",
      "execution_count": 1,
      "metadata": {
        "id": "v9xQo6eL_vTW"
      },
      "outputs": [],
      "source": [
        "import numpy as np\n",
        "from sklearn.metrics import adjusted_mutual_info_score\n",
        "import pandas as pd"
      ]
    },
    {
      "cell_type": "markdown",
      "metadata": {
        "id": "97ZB6HLiABGf"
      },
      "source": [
        "### Importando o dataset"
      ]
    },
    {
      "cell_type": "code",
      "execution_count": 2,
      "metadata": {
        "colab": {
          "base_uri": "https://localhost:8080/",
          "height": 206
        },
        "id": "HAoOUquR_vTX",
        "outputId": "3e977516-f60e-43ce-a906-433ba72bf836"
      },
      "outputs": [
        {
          "data": {
            "text/html": [
              "<div>\n",
              "<style scoped>\n",
              "    .dataframe tbody tr th:only-of-type {\n",
              "        vertical-align: middle;\n",
              "    }\n",
              "\n",
              "    .dataframe tbody tr th {\n",
              "        vertical-align: top;\n",
              "    }\n",
              "\n",
              "    .dataframe thead th {\n",
              "        text-align: right;\n",
              "    }\n",
              "</style>\n",
              "<table border=\"1\" class=\"dataframe\">\n",
              "  <thead>\n",
              "    <tr style=\"text-align: right;\">\n",
              "      <th></th>\n",
              "      <th>30</th>\n",
              "      <th>64</th>\n",
              "      <th>1</th>\n",
              "      <th>1.1</th>\n",
              "    </tr>\n",
              "  </thead>\n",
              "  <tbody>\n",
              "    <tr>\n",
              "      <th>0</th>\n",
              "      <td>30</td>\n",
              "      <td>62</td>\n",
              "      <td>3</td>\n",
              "      <td>1</td>\n",
              "    </tr>\n",
              "    <tr>\n",
              "      <th>1</th>\n",
              "      <td>30</td>\n",
              "      <td>65</td>\n",
              "      <td>0</td>\n",
              "      <td>1</td>\n",
              "    </tr>\n",
              "    <tr>\n",
              "      <th>2</th>\n",
              "      <td>31</td>\n",
              "      <td>59</td>\n",
              "      <td>2</td>\n",
              "      <td>1</td>\n",
              "    </tr>\n",
              "    <tr>\n",
              "      <th>3</th>\n",
              "      <td>31</td>\n",
              "      <td>65</td>\n",
              "      <td>4</td>\n",
              "      <td>1</td>\n",
              "    </tr>\n",
              "    <tr>\n",
              "      <th>4</th>\n",
              "      <td>33</td>\n",
              "      <td>58</td>\n",
              "      <td>10</td>\n",
              "      <td>1</td>\n",
              "    </tr>\n",
              "  </tbody>\n",
              "</table>\n",
              "</div>"
            ],
            "text/plain": [
              "   30  64   1  1.1\n",
              "0  30  62   3    1\n",
              "1  30  65   0    1\n",
              "2  31  59   2    1\n",
              "3  31  65   4    1\n",
              "4  33  58  10    1"
            ]
          },
          "execution_count": 2,
          "metadata": {},
          "output_type": "execute_result"
        }
      ],
      "source": [
        "df = pd.read_csv('/workspaces/Fuzzy_Clustering/datasets/haberman.csv')\n",
        "df.head()"
      ]
    },
    {
      "cell_type": "markdown",
      "metadata": {
        "id": "ELEbHnvio2vv"
      },
      "source": [
        "### Renaming the columns"
      ]
    },
    {
      "cell_type": "code",
      "execution_count": 3,
      "metadata": {
        "colab": {
          "base_uri": "https://localhost:8080/",
          "height": 206
        },
        "id": "anzj5gF2olPM",
        "outputId": "855ac2f4-9d14-4e48-add8-d3e66743a1e0"
      },
      "outputs": [
        {
          "data": {
            "text/html": [
              "<div>\n",
              "<style scoped>\n",
              "    .dataframe tbody tr th:only-of-type {\n",
              "        vertical-align: middle;\n",
              "    }\n",
              "\n",
              "    .dataframe tbody tr th {\n",
              "        vertical-align: top;\n",
              "    }\n",
              "\n",
              "    .dataframe thead th {\n",
              "        text-align: right;\n",
              "    }\n",
              "</style>\n",
              "<table border=\"1\" class=\"dataframe\">\n",
              "  <thead>\n",
              "    <tr style=\"text-align: right;\">\n",
              "      <th></th>\n",
              "      <th>Age</th>\n",
              "      <th>Op_year</th>\n",
              "      <th>Axil_nodes</th>\n",
              "      <th>Surv_status</th>\n",
              "    </tr>\n",
              "  </thead>\n",
              "  <tbody>\n",
              "    <tr>\n",
              "      <th>0</th>\n",
              "      <td>30</td>\n",
              "      <td>62</td>\n",
              "      <td>3</td>\n",
              "      <td>1</td>\n",
              "    </tr>\n",
              "    <tr>\n",
              "      <th>1</th>\n",
              "      <td>30</td>\n",
              "      <td>65</td>\n",
              "      <td>0</td>\n",
              "      <td>1</td>\n",
              "    </tr>\n",
              "    <tr>\n",
              "      <th>2</th>\n",
              "      <td>31</td>\n",
              "      <td>59</td>\n",
              "      <td>2</td>\n",
              "      <td>1</td>\n",
              "    </tr>\n",
              "    <tr>\n",
              "      <th>3</th>\n",
              "      <td>31</td>\n",
              "      <td>65</td>\n",
              "      <td>4</td>\n",
              "      <td>1</td>\n",
              "    </tr>\n",
              "    <tr>\n",
              "      <th>4</th>\n",
              "      <td>33</td>\n",
              "      <td>58</td>\n",
              "      <td>10</td>\n",
              "      <td>1</td>\n",
              "    </tr>\n",
              "  </tbody>\n",
              "</table>\n",
              "</div>"
            ],
            "text/plain": [
              "   Age  Op_year  Axil_nodes  Surv_status\n",
              "0   30       62           3            1\n",
              "1   30       65           0            1\n",
              "2   31       59           2            1\n",
              "3   31       65           4            1\n",
              "4   33       58          10            1"
            ]
          },
          "execution_count": 3,
          "metadata": {},
          "output_type": "execute_result"
        }
      ],
      "source": [
        "df.columns = [\"Age\", \"Op_year\", \"Axil_nodes\", \"Surv_status\"]\n",
        "df.head()"
      ]
    },
    {
      "cell_type": "markdown",
      "metadata": {
        "id": "0OgIuCvSAC-H"
      },
      "source": [
        "### Verificando as classes"
      ]
    },
    {
      "cell_type": "code",
      "execution_count": 4,
      "metadata": {
        "colab": {
          "base_uri": "https://localhost:8080/"
        },
        "id": "lAoGnG8I_vTY",
        "outputId": "edeb06f3-7e4d-4f70-e203-71bc72c5c5ea"
      },
      "outputs": [
        {
          "data": {
            "text/plain": [
              "array([1, 2])"
            ]
          },
          "execution_count": 4,
          "metadata": {},
          "output_type": "execute_result"
        }
      ],
      "source": [
        "df[\"Surv_status\"].unique()"
      ]
    },
    {
      "cell_type": "markdown",
      "metadata": {
        "id": "yM8ClaGCAFFe"
      },
      "source": [
        "### Verificando o nome exato das colunas"
      ]
    },
    {
      "cell_type": "code",
      "execution_count": 5,
      "metadata": {
        "colab": {
          "base_uri": "https://localhost:8080/"
        },
        "id": "aq_ASvf0_vTZ",
        "outputId": "860d7ad4-41d7-472f-bc01-1b630701404d"
      },
      "outputs": [
        {
          "data": {
            "text/plain": [
              "Index(['Age', 'Op_year', 'Axil_nodes', 'Surv_status'], dtype='object')"
            ]
          },
          "execution_count": 5,
          "metadata": {},
          "output_type": "execute_result"
        }
      ],
      "source": [
        "df.columns"
      ]
    },
    {
      "cell_type": "markdown",
      "metadata": {
        "id": "UgRt0wHhAJSV"
      },
      "source": [
        "### Retirando variáveis inúteis e transformando classes em números"
      ]
    },
    {
      "cell_type": "code",
      "execution_count": 6,
      "metadata": {
        "colab": {
          "base_uri": "https://localhost:8080/",
          "height": 347
        },
        "id": "lEgGq8A7_vTZ",
        "outputId": "6638bde7-9bbb-4cd7-f414-6ec3195c507a"
      },
      "outputs": [
        {
          "name": "stderr",
          "output_type": "stream",
          "text": [
            "/tmp/ipykernel_14828/2358004140.py:2: FutureWarning: A value is trying to be set on a copy of a DataFrame or Series through chained assignment using an inplace method.\n",
            "The behavior will change in pandas 3.0. This inplace method will never work because the intermediate object on which we are setting values always behaves as a copy.\n",
            "\n",
            "For example, when doing 'df[col].method(value, inplace=True)', try using 'df.method({col: value}, inplace=True)' or df[col] = df[col].method(value) instead, to perform the operation inplace on the original object.\n",
            "\n",
            "\n",
            "  df[\"Class\"].replace({1: 0, 2: 1}, inplace=True)\n"
          ]
        },
        {
          "data": {
            "text/html": [
              "<div>\n",
              "<style scoped>\n",
              "    .dataframe tbody tr th:only-of-type {\n",
              "        vertical-align: middle;\n",
              "    }\n",
              "\n",
              "    .dataframe tbody tr th {\n",
              "        vertical-align: top;\n",
              "    }\n",
              "\n",
              "    .dataframe thead th {\n",
              "        text-align: right;\n",
              "    }\n",
              "</style>\n",
              "<table border=\"1\" class=\"dataframe\">\n",
              "  <thead>\n",
              "    <tr style=\"text-align: right;\">\n",
              "      <th></th>\n",
              "      <th>Age</th>\n",
              "      <th>Op_year</th>\n",
              "      <th>Axil_nodes</th>\n",
              "      <th>Class</th>\n",
              "    </tr>\n",
              "  </thead>\n",
              "  <tbody>\n",
              "    <tr>\n",
              "      <th>0</th>\n",
              "      <td>30</td>\n",
              "      <td>62</td>\n",
              "      <td>3</td>\n",
              "      <td>0</td>\n",
              "    </tr>\n",
              "    <tr>\n",
              "      <th>1</th>\n",
              "      <td>30</td>\n",
              "      <td>65</td>\n",
              "      <td>0</td>\n",
              "      <td>0</td>\n",
              "    </tr>\n",
              "    <tr>\n",
              "      <th>2</th>\n",
              "      <td>31</td>\n",
              "      <td>59</td>\n",
              "      <td>2</td>\n",
              "      <td>0</td>\n",
              "    </tr>\n",
              "    <tr>\n",
              "      <th>3</th>\n",
              "      <td>31</td>\n",
              "      <td>65</td>\n",
              "      <td>4</td>\n",
              "      <td>0</td>\n",
              "    </tr>\n",
              "    <tr>\n",
              "      <th>4</th>\n",
              "      <td>33</td>\n",
              "      <td>58</td>\n",
              "      <td>10</td>\n",
              "      <td>0</td>\n",
              "    </tr>\n",
              "  </tbody>\n",
              "</table>\n",
              "</div>"
            ],
            "text/plain": [
              "   Age  Op_year  Axil_nodes  Class\n",
              "0   30       62           3      0\n",
              "1   30       65           0      0\n",
              "2   31       59           2      0\n",
              "3   31       65           4      0\n",
              "4   33       58          10      0"
            ]
          },
          "execution_count": 6,
          "metadata": {},
          "output_type": "execute_result"
        }
      ],
      "source": [
        "df = df.rename(columns={\"Surv_status\": \"Class\"})\n",
        "df[\"Class\"].replace({1: 0, 2: 1}, inplace=True)\n",
        "df.head()"
      ]
    },
    {
      "cell_type": "markdown",
      "metadata": {
        "id": "_F_lqJvUAMNS"
      },
      "source": [
        "### Verificando a corretude das classes"
      ]
    },
    {
      "cell_type": "code",
      "execution_count": 7,
      "metadata": {
        "colab": {
          "base_uri": "https://localhost:8080/"
        },
        "id": "qyG27x5r_vTZ",
        "outputId": "172b4454-69dc-427f-80fa-2f3a5a5b0e2c"
      },
      "outputs": [
        {
          "data": {
            "text/plain": [
              "array([0, 1])"
            ]
          },
          "execution_count": 7,
          "metadata": {},
          "output_type": "execute_result"
        }
      ],
      "source": [
        "df[\"Class\"].unique()"
      ]
    },
    {
      "cell_type": "markdown",
      "metadata": {
        "id": "JaUr6zV-APT_"
      },
      "source": [
        "### Armazenando as classes em uma variável separada"
      ]
    },
    {
      "cell_type": "code",
      "execution_count": 8,
      "metadata": {
        "colab": {
          "base_uri": "https://localhost:8080/"
        },
        "id": "DVYRw-XH_vTa",
        "outputId": "47085968-6e68-4c42-a5b3-c497c5b9da11"
      },
      "outputs": [
        {
          "data": {
            "text/plain": [
              "array([0, 0, 0, 0, 0, 0, 1, 1, 0, 0, 0, 0, 0, 0, 0, 0, 0, 0, 0, 0, 0, 0,\n",
              "       0, 1, 0, 0, 0, 0, 0, 0, 0, 0, 0, 1, 0, 0, 0, 0, 0, 0, 0, 0, 1, 1,\n",
              "       1, 0, 0, 0, 0, 0, 0, 0, 1, 1, 0, 0, 0, 0, 0, 0, 0, 1, 1, 1, 1, 0,\n",
              "       0, 0, 0, 0, 0, 0, 1, 1, 1, 0, 0, 0, 0, 1, 1, 1, 0, 0, 0, 0, 0, 0,\n",
              "       1, 1, 1, 1, 0, 0, 0, 1, 1, 1, 0, 0, 0, 0, 0, 0, 0, 0, 1, 1, 1, 0,\n",
              "       0, 0, 0, 1, 1, 0, 0, 0, 0, 0, 0, 0, 0, 1, 1, 0, 0, 0, 0, 0, 0, 0,\n",
              "       0, 0, 0, 1, 1, 0, 0, 0, 0, 1, 1, 1, 1, 0, 0, 0, 0, 0, 0, 0, 0, 0,\n",
              "       0, 1, 1, 1, 1, 1, 1, 0, 0, 0, 0, 0, 1, 1, 1, 1, 0, 0, 0, 0, 0, 0,\n",
              "       0, 0, 0, 1, 1, 0, 0, 0, 0, 0, 0, 0, 0, 1, 1, 0, 0, 0, 0, 0, 1, 1,\n",
              "       1, 0, 0, 0, 0, 0, 0, 0, 0, 0, 0, 0, 0, 0, 0, 0, 1, 0, 0, 0, 0, 0,\n",
              "       0, 0, 1, 1, 0, 0, 0, 0, 1, 1, 1, 0, 0, 0, 0, 0, 0, 1, 1, 1, 0, 0,\n",
              "       0, 0, 1, 0, 0, 0, 0, 0, 0, 0, 0, 0, 0, 0, 0, 1, 1, 1, 1, 0, 0, 0,\n",
              "       0, 0, 0, 1, 1, 0, 0, 0, 1, 1, 0, 0, 0, 0, 0, 0, 1, 0, 0, 0, 1, 1,\n",
              "       0, 0, 0, 0, 0, 0, 1, 0, 0, 0, 0, 0, 1, 0, 0, 0, 0, 1, 1])"
            ]
          },
          "execution_count": 8,
          "metadata": {},
          "output_type": "execute_result"
        }
      ],
      "source": [
        "labels = df[\"Class\"].values\n",
        "labels"
      ]
    },
    {
      "cell_type": "code",
      "execution_count": 9,
      "metadata": {
        "colab": {
          "base_uri": "https://localhost:8080/",
          "height": 206
        },
        "id": "ioHrpg_i_vTa",
        "outputId": "66941b2e-2adb-47fe-d429-2af1c9c86d31"
      },
      "outputs": [
        {
          "data": {
            "text/html": [
              "<div>\n",
              "<style scoped>\n",
              "    .dataframe tbody tr th:only-of-type {\n",
              "        vertical-align: middle;\n",
              "    }\n",
              "\n",
              "    .dataframe tbody tr th {\n",
              "        vertical-align: top;\n",
              "    }\n",
              "\n",
              "    .dataframe thead th {\n",
              "        text-align: right;\n",
              "    }\n",
              "</style>\n",
              "<table border=\"1\" class=\"dataframe\">\n",
              "  <thead>\n",
              "    <tr style=\"text-align: right;\">\n",
              "      <th></th>\n",
              "      <th>Age</th>\n",
              "      <th>Op_year</th>\n",
              "      <th>Axil_nodes</th>\n",
              "    </tr>\n",
              "  </thead>\n",
              "  <tbody>\n",
              "    <tr>\n",
              "      <th>0</th>\n",
              "      <td>30</td>\n",
              "      <td>62</td>\n",
              "      <td>3</td>\n",
              "    </tr>\n",
              "    <tr>\n",
              "      <th>1</th>\n",
              "      <td>30</td>\n",
              "      <td>65</td>\n",
              "      <td>0</td>\n",
              "    </tr>\n",
              "    <tr>\n",
              "      <th>2</th>\n",
              "      <td>31</td>\n",
              "      <td>59</td>\n",
              "      <td>2</td>\n",
              "    </tr>\n",
              "    <tr>\n",
              "      <th>3</th>\n",
              "      <td>31</td>\n",
              "      <td>65</td>\n",
              "      <td>4</td>\n",
              "    </tr>\n",
              "    <tr>\n",
              "      <th>4</th>\n",
              "      <td>33</td>\n",
              "      <td>58</td>\n",
              "      <td>10</td>\n",
              "    </tr>\n",
              "  </tbody>\n",
              "</table>\n",
              "</div>"
            ],
            "text/plain": [
              "   Age  Op_year  Axil_nodes\n",
              "0   30       62           3\n",
              "1   30       65           0\n",
              "2   31       59           2\n",
              "3   31       65           4\n",
              "4   33       58          10"
            ]
          },
          "execution_count": 9,
          "metadata": {},
          "output_type": "execute_result"
        }
      ],
      "source": [
        "df.drop(\"Class\", axis=1, inplace=True)\n",
        "df.head()"
      ]
    },
    {
      "cell_type": "markdown",
      "metadata": {
        "id": "8KVaor6pAX3k"
      },
      "source": [
        "### Retirando a classe para isolar as variáveis"
      ]
    },
    {
      "cell_type": "code",
      "execution_count": 10,
      "metadata": {
        "colab": {
          "base_uri": "https://localhost:8080/"
        },
        "id": "rL-WKL9K_vTa",
        "outputId": "c521c0a9-e765-4835-fbda-ddfb75657db4"
      },
      "outputs": [
        {
          "data": {
            "text/plain": [
              "array([[30, 62,  3],\n",
              "       [30, 65,  0],\n",
              "       [31, 59,  2],\n",
              "       [31, 65,  4],\n",
              "       [33, 58, 10],\n",
              "       [33, 60,  0],\n",
              "       [34, 59,  0],\n",
              "       [34, 66,  9],\n",
              "       [34, 58, 30],\n",
              "       [34, 60,  1],\n",
              "       [34, 61, 10],\n",
              "       [34, 67,  7],\n",
              "       [34, 60,  0],\n",
              "       [35, 64, 13],\n",
              "       [35, 63,  0],\n",
              "       [36, 60,  1],\n",
              "       [36, 69,  0],\n",
              "       [37, 60,  0],\n",
              "       [37, 63,  0],\n",
              "       [37, 58,  0],\n",
              "       [37, 59,  6],\n",
              "       [37, 60, 15],\n",
              "       [37, 63,  0],\n",
              "       [38, 69, 21],\n",
              "       [38, 59,  2],\n",
              "       [38, 60,  0],\n",
              "       [38, 60,  0],\n",
              "       [38, 62,  3],\n",
              "       [38, 64,  1],\n",
              "       [38, 66,  0],\n",
              "       [38, 66, 11],\n",
              "       [38, 60,  1],\n",
              "       [38, 67,  5],\n",
              "       [39, 66,  0],\n",
              "       [39, 63,  0],\n",
              "       [39, 67,  0],\n",
              "       [39, 58,  0],\n",
              "       [39, 59,  2],\n",
              "       [39, 63,  4],\n",
              "       [40, 58,  2],\n",
              "       [40, 58,  0],\n",
              "       [40, 65,  0],\n",
              "       [41, 60, 23],\n",
              "       [41, 64,  0],\n",
              "       [41, 67,  0],\n",
              "       [41, 58,  0],\n",
              "       [41, 59,  8],\n",
              "       [41, 59,  0],\n",
              "       [41, 64,  0],\n",
              "       [41, 69,  8],\n",
              "       [41, 65,  0],\n",
              "       [41, 65,  0],\n",
              "       [42, 69,  1],\n",
              "       [42, 59,  0],\n",
              "       [42, 58,  0],\n",
              "       [42, 60,  1],\n",
              "       [42, 59,  2],\n",
              "       [42, 61,  4],\n",
              "       [42, 62, 20],\n",
              "       [42, 65,  0],\n",
              "       [42, 63,  1],\n",
              "       [43, 58, 52],\n",
              "       [43, 59,  2],\n",
              "       [43, 64,  0],\n",
              "       [43, 64,  0],\n",
              "       [43, 63, 14],\n",
              "       [43, 64,  2],\n",
              "       [43, 64,  3],\n",
              "       [43, 60,  0],\n",
              "       [43, 63,  2],\n",
              "       [43, 65,  0],\n",
              "       [43, 66,  4],\n",
              "       [44, 64,  6],\n",
              "       [44, 58,  9],\n",
              "       [44, 63, 19],\n",
              "       [44, 61,  0],\n",
              "       [44, 63,  1],\n",
              "       [44, 61,  0],\n",
              "       [44, 67, 16],\n",
              "       [45, 65,  6],\n",
              "       [45, 66,  0],\n",
              "       [45, 67,  1],\n",
              "       [45, 60,  0],\n",
              "       [45, 67,  0],\n",
              "       [45, 59, 14],\n",
              "       [45, 64,  0],\n",
              "       [45, 68,  0],\n",
              "       [45, 67,  1],\n",
              "       [46, 58,  2],\n",
              "       [46, 69,  3],\n",
              "       [46, 62,  5],\n",
              "       [46, 65, 20],\n",
              "       [46, 62,  0],\n",
              "       [46, 58,  3],\n",
              "       [46, 63,  0],\n",
              "       [47, 63, 23],\n",
              "       [47, 62,  0],\n",
              "       [47, 65,  0],\n",
              "       [47, 61,  0],\n",
              "       [47, 63,  6],\n",
              "       [47, 66,  0],\n",
              "       [47, 67,  0],\n",
              "       [47, 58,  3],\n",
              "       [47, 60,  4],\n",
              "       [47, 68,  4],\n",
              "       [47, 66, 12],\n",
              "       [48, 58, 11],\n",
              "       [48, 58, 11],\n",
              "       [48, 67,  7],\n",
              "       [48, 61,  8],\n",
              "       [48, 62,  2],\n",
              "       [48, 64,  0],\n",
              "       [48, 66,  0],\n",
              "       [49, 63,  0],\n",
              "       [49, 64, 10],\n",
              "       [49, 61,  1],\n",
              "       [49, 62,  0],\n",
              "       [49, 66,  0],\n",
              "       [49, 60,  1],\n",
              "       [49, 62,  1],\n",
              "       [49, 63,  3],\n",
              "       [49, 61,  0],\n",
              "       [49, 67,  1],\n",
              "       [50, 63, 13],\n",
              "       [50, 64,  0],\n",
              "       [50, 59,  0],\n",
              "       [50, 61,  6],\n",
              "       [50, 61,  0],\n",
              "       [50, 63,  1],\n",
              "       [50, 58,  1],\n",
              "       [50, 59,  2],\n",
              "       [50, 61,  0],\n",
              "       [50, 64,  0],\n",
              "       [50, 65,  4],\n",
              "       [50, 66,  1],\n",
              "       [51, 59, 13],\n",
              "       [51, 59,  3],\n",
              "       [51, 64,  7],\n",
              "       [51, 59,  1],\n",
              "       [51, 65,  0],\n",
              "       [51, 66,  1],\n",
              "       [52, 69,  3],\n",
              "       [52, 59,  2],\n",
              "       [52, 62,  3],\n",
              "       [52, 66,  4],\n",
              "       [52, 61,  0],\n",
              "       [52, 63,  4],\n",
              "       [52, 69,  0],\n",
              "       [52, 60,  4],\n",
              "       [52, 60,  5],\n",
              "       [52, 62,  0],\n",
              "       [52, 62,  1],\n",
              "       [52, 64,  0],\n",
              "       [52, 65,  0],\n",
              "       [52, 68,  0],\n",
              "       [53, 58,  4],\n",
              "       [53, 65,  1],\n",
              "       [53, 59,  3],\n",
              "       [53, 60,  9],\n",
              "       [53, 63, 24],\n",
              "       [53, 65, 12],\n",
              "       [53, 58,  1],\n",
              "       [53, 60,  1],\n",
              "       [53, 60,  2],\n",
              "       [53, 61,  1],\n",
              "       [53, 63,  0],\n",
              "       [54, 60, 11],\n",
              "       [54, 65, 23],\n",
              "       [54, 65,  5],\n",
              "       [54, 68,  7],\n",
              "       [54, 59,  7],\n",
              "       [54, 60,  3],\n",
              "       [54, 66,  0],\n",
              "       [54, 67, 46],\n",
              "       [54, 62,  0],\n",
              "       [54, 69,  7],\n",
              "       [54, 63, 19],\n",
              "       [54, 58,  1],\n",
              "       [54, 62,  0],\n",
              "       [55, 63,  6],\n",
              "       [55, 68, 15],\n",
              "       [55, 58,  1],\n",
              "       [55, 58,  0],\n",
              "       [55, 58,  1],\n",
              "       [55, 66, 18],\n",
              "       [55, 66,  0],\n",
              "       [55, 69,  3],\n",
              "       [55, 69, 22],\n",
              "       [55, 67,  1],\n",
              "       [56, 65,  9],\n",
              "       [56, 66,  3],\n",
              "       [56, 60,  0],\n",
              "       [56, 66,  2],\n",
              "       [56, 66,  1],\n",
              "       [56, 67,  0],\n",
              "       [56, 60,  0],\n",
              "       [57, 61,  5],\n",
              "       [57, 62, 14],\n",
              "       [57, 64,  1],\n",
              "       [57, 64,  9],\n",
              "       [57, 69,  0],\n",
              "       [57, 61,  0],\n",
              "       [57, 62,  0],\n",
              "       [57, 63,  0],\n",
              "       [57, 64,  0],\n",
              "       [57, 64,  0],\n",
              "       [57, 67,  0],\n",
              "       [58, 59,  0],\n",
              "       [58, 60,  3],\n",
              "       [58, 61,  1],\n",
              "       [58, 67,  0],\n",
              "       [58, 58,  0],\n",
              "       [58, 58,  3],\n",
              "       [58, 61,  2],\n",
              "       [59, 62, 35],\n",
              "       [59, 60,  0],\n",
              "       [59, 63,  0],\n",
              "       [59, 64,  1],\n",
              "       [59, 64,  4],\n",
              "       [59, 64,  0],\n",
              "       [59, 64,  7],\n",
              "       [59, 67,  3],\n",
              "       [60, 59, 17],\n",
              "       [60, 65,  0],\n",
              "       [60, 61,  1],\n",
              "       [60, 67,  2],\n",
              "       [60, 61, 25],\n",
              "       [60, 64,  0],\n",
              "       [61, 62,  5],\n",
              "       [61, 65,  0],\n",
              "       [61, 68,  1],\n",
              "       [61, 59,  0],\n",
              "       [61, 59,  0],\n",
              "       [61, 64,  0],\n",
              "       [61, 65,  8],\n",
              "       [61, 68,  0],\n",
              "       [61, 59,  0],\n",
              "       [62, 59, 13],\n",
              "       [62, 58,  0],\n",
              "       [62, 65, 19],\n",
              "       [62, 62,  6],\n",
              "       [62, 66,  0],\n",
              "       [62, 66,  0],\n",
              "       [62, 58,  0],\n",
              "       [63, 60,  1],\n",
              "       [63, 61,  0],\n",
              "       [63, 62,  0],\n",
              "       [63, 63,  0],\n",
              "       [63, 63,  0],\n",
              "       [63, 66,  0],\n",
              "       [63, 61,  9],\n",
              "       [63, 61, 28],\n",
              "       [64, 58,  0],\n",
              "       [64, 65, 22],\n",
              "       [64, 66,  0],\n",
              "       [64, 61,  0],\n",
              "       [64, 68,  0],\n",
              "       [65, 58,  0],\n",
              "       [65, 61,  2],\n",
              "       [65, 62, 22],\n",
              "       [65, 66, 15],\n",
              "       [65, 58,  0],\n",
              "       [65, 64,  0],\n",
              "       [65, 67,  0],\n",
              "       [65, 59,  2],\n",
              "       [65, 64,  0],\n",
              "       [65, 67,  1],\n",
              "       [66, 58,  0],\n",
              "       [66, 61, 13],\n",
              "       [66, 58,  0],\n",
              "       [66, 58,  1],\n",
              "       [66, 68,  0],\n",
              "       [67, 64,  8],\n",
              "       [67, 63,  1],\n",
              "       [67, 66,  0],\n",
              "       [67, 66,  0],\n",
              "       [67, 61,  0],\n",
              "       [67, 65,  0],\n",
              "       [68, 67,  0],\n",
              "       [68, 68,  0],\n",
              "       [69, 67,  8],\n",
              "       [69, 60,  0],\n",
              "       [69, 65,  0],\n",
              "       [69, 66,  0],\n",
              "       [70, 58,  0],\n",
              "       [70, 58,  4],\n",
              "       [70, 66, 14],\n",
              "       [70, 67,  0],\n",
              "       [70, 68,  0],\n",
              "       [70, 59,  8],\n",
              "       [70, 63,  0],\n",
              "       [71, 68,  2],\n",
              "       [72, 63,  0],\n",
              "       [72, 58,  0],\n",
              "       [72, 64,  0],\n",
              "       [72, 67,  3],\n",
              "       [73, 62,  0],\n",
              "       [73, 68,  0],\n",
              "       [74, 65,  3],\n",
              "       [74, 63,  0],\n",
              "       [75, 62,  1],\n",
              "       [76, 67,  0],\n",
              "       [77, 65,  3],\n",
              "       [78, 65,  1],\n",
              "       [83, 58,  2]])"
            ]
          },
          "execution_count": 10,
          "metadata": {},
          "output_type": "execute_result"
        }
      ],
      "source": [
        "dados = df.to_numpy()\n",
        "dados"
      ]
    },
    {
      "cell_type": "markdown",
      "metadata": {
        "id": "d5iBHEpvAmkq"
      },
      "source": [
        "## Clustering"
      ]
    },
    {
      "cell_type": "markdown",
      "metadata": {
        "id": "7eqKU05YAn_b"
      },
      "source": [
        "### Inicialização da matriz de pertinência"
      ]
    },
    {
      "cell_type": "markdown",
      "metadata": {
        "id": "xgjmQE_OAp21"
      },
      "source": [
        "A matriz de pertinência é inicializada aleatoriamente $u_{ik}(i=1,...c$ e $k=1,...,n)$ do objeto $k$ pertencente ao grupo $C_i$ tal que:\n",
        "- $u_{ik} \\in [0,1]$;\n",
        "- $0 < \\sum_{k=1}^nu_{ik} < n$;\n",
        "- $\\sum_{i=1}^cu_{ik} = 1$ para todo $k \\in \\Omega$."
      ]
    },
    {
      "cell_type": "code",
      "execution_count": 11,
      "metadata": {
        "id": "-wfMM6QjAr71"
      },
      "outputs": [],
      "source": [
        "def inicializao_matriz_pertinencia(num_amostras, num_clusters):\n",
        "    matriz_pertinencia = np.random.rand(num_amostras, num_clusters) # gera uma matriz inicial aleatória com valores entre 0 e 1\n",
        "    matriz_pertinencia = matriz_pertinencia / matriz_pertinencia.sum(axis=1, keepdims=True) # normalização da matriz pra garantir que a soma dos graus dê um\n",
        "    return matriz_pertinencia"
      ]
    },
    {
      "cell_type": "markdown",
      "metadata": {
        "id": "pzZVWXpcAw61"
      },
      "source": [
        "### Atualização dos centroides"
      ]
    },
    {
      "cell_type": "markdown",
      "metadata": {
        "id": "Q-7TBwkIAy2H"
      },
      "source": [
        "Fixo os graus de pertinência, os centroides são atualizados com base nessa equação:\n",
        "\n",
        "### $y_i = \\frac{\\sum_{k=1}^n(u_{ik})^mx_k}{\\sum_{k=1}^n(u_{ik})^m}$"
      ]
    },
    {
      "cell_type": "code",
      "execution_count": 12,
      "metadata": {
        "id": "5UEHGtMMA7bD"
      },
      "outputs": [],
      "source": [
        "def atualizacao_centroides(dados, matriz_pertinencia, m):\n",
        "    matriz_pertinencia_m = matriz_pertinencia ** m # preparação dos graus de pertinência\n",
        "    centroides = np.dot(matriz_pertinencia_m.T, dados) / np.sum(matriz_pertinencia_m.T, axis=1, keepdims=True) # fórmula para o cálculo dos centroides\n",
        "    return centroides"
      ]
    },
    {
      "cell_type": "markdown",
      "metadata": {
        "id": "iwNFRpw_A81-"
      },
      "source": [
        "### Atualização da matriz de pertinência"
      ]
    },
    {
      "cell_type": "markdown",
      "metadata": {
        "id": "E-kg2pxRA9Te"
      },
      "source": [
        "Fixo o protótipo, os graus de pertinência são atualizados com base nessa equação:\n",
        "\n",
        "### $u_{ik}[\\sum_{h=1}^c\\{\\frac{d(x_k,y_i)}{d(x_k,y_h)}\\}^\\frac{1}{m-1}]^{-1}$\n",
        "\n",
        "onde\n",
        "\n",
        "$d(x_k,y_i) = \\sum_{j=1}^p(x_k^j-y_i^j)^2$"
      ]
    },
    {
      "cell_type": "code",
      "execution_count": 13,
      "metadata": {
        "id": "e75eiSY2BAeI"
      },
      "outputs": [],
      "source": [
        "def atualizacao_matriz_pertinencia(dados, centroides, m): # talvez a fórmula para calcular a matriz de pertinência esteja errada\n",
        "    # dados[:, np.newaxis] - centroides cria uma matriz de diferenças entre os pontos de dados e os centroides\n",
        "    # np.linalg.norm(..., axis=2) calcula a norma (distância euclidiana) das diferenças\n",
        "    # ** 2 para a distância ser a quadrada\n",
        "    matriz_distancias = np.linalg.norm(dados[:, np.newaxis] - centroides, axis=2) ** 2\n",
        "    matriz_distancias = np.fmax(matriz_distancias, np.finfo(np.float64).eps) # evita que matriz_distancias seja 0, np.finfo... é o menor número maior que zero aaqui\n",
        "    matriz_distancias_inversa = 1 / matriz_distancias\n",
        "    potencia = 1 / (m-1)\n",
        "    matriz_pertinencia_atualizada = matriz_distancias_inversa ** potencia/ np.sum(matriz_distancias_inversa ** potencia, axis=1, keepdims=True) # fórmula para atualizar os graus de pertinência\n",
        "    return matriz_pertinencia_atualizada"
      ]
    },
    {
      "cell_type": "markdown",
      "metadata": {
        "id": "GN4qqayDBCfP"
      },
      "source": [
        "### Fuzzy C-Means"
      ]
    },
    {
      "cell_type": "markdown",
      "metadata": {
        "id": "ES1PPCEYBDsv"
      },
      "source": [
        "Ações:\n",
        "1. Inicialização da matriz de pertinência\n",
        "2. Atualização dos centroides\n",
        "3. Atualização da matriz de pertinência\n",
        "\n",
        "Critérios de parada:\n",
        "1. Número máximo de iterações atingido\n",
        "2. Pouca diferença (erro) entre as matrizes de pertinência de iterações consecutivas"
      ]
    },
    {
      "cell_type": "code",
      "execution_count": 14,
      "metadata": {
        "id": "LGX-CxDmBF4l"
      },
      "outputs": [],
      "source": [
        "def fcm(dados, num_clusters, m=2, max_iter=1000, erro=1e-5):\n",
        "    num_amostras = dados.shape[0]\n",
        "    matriz_pertinencia = inicializao_matriz_pertinencia(num_amostras, num_clusters)\n",
        "    for _ in range(max_iter): # primeiro critério de parada\n",
        "        centroides = atualizacao_centroides(dados, matriz_pertinencia, m)\n",
        "        nova_matriz_pertinencia = atualizacao_matriz_pertinencia(dados, centroides, m)\n",
        "        if np.linalg.norm(nova_matriz_pertinencia - matriz_pertinencia) < erro: # segundo critério de parada\n",
        "            break\n",
        "        matriz_pertinencia = nova_matriz_pertinencia\n",
        "    return centroides, matriz_pertinencia"
      ]
    },
    {
      "cell_type": "markdown",
      "metadata": {
        "id": "0L2ILGCdBKAr"
      },
      "source": [
        "### Índice de Rand Ajustado (IRA)"
      ]
    },
    {
      "cell_type": "code",
      "execution_count": 15,
      "metadata": {
        "id": "yupjY7ZoBNpL"
      },
      "outputs": [],
      "source": [
        "def indice_ami(labels, predicted_labels):\n",
        "    return adjusted_mutual_info_score(labels, predicted_labels)"
      ]
    },
    {
      "cell_type": "markdown",
      "metadata": {
        "id": "NwsraaD_BOYI"
      },
      "source": [
        "### Simulação de Monte Carlo"
      ]
    },
    {
      "cell_type": "code",
      "execution_count": 16,
      "metadata": {
        "id": "iunOfj51_vTb"
      },
      "outputs": [],
      "source": [
        "def simulacao_monte_carlo(dados, labels, num_clusters, num_trials):\n",
        "    indices_rand = []\n",
        "    for _ in range(num_trials):\n",
        "        centroides, matriz_pertinencia = fcm(dados, num_clusters)\n",
        "        predicted_labels = np.argmax(matriz_pertinencia, axis=1)\n",
        "        idx_ami = indice_ami(labels, predicted_labels)\n",
        "        indices_rand.append(idx_ami)\n",
        "    mean_ami = np.mean(indices_rand)\n",
        "    std_ami = np.std(indices_rand)\n",
        "    return mean_ami, std_ami"
      ]
    },
    {
      "cell_type": "markdown",
      "metadata": {
        "id": "7njVCaopBW1L"
      },
      "source": [
        "### Definição de parâmetros e execução do método"
      ]
    },
    {
      "cell_type": "code",
      "execution_count": 17,
      "metadata": {
        "colab": {
          "base_uri": "https://localhost:8080/"
        },
        "id": "bwMeGgYu_vTb",
        "outputId": "a4bef276-0909-4136-c0ae-640831790bc3"
      },
      "outputs": [
        {
          "name": "stdout",
          "output_type": "stream",
          "text": [
            "Monte Carlo FCM Clustering Results (100 trials)\n",
            "Mean AMI: -0.0026\n",
            "Standard Deviation of AMI: 0.0000\n"
          ]
        }
      ],
      "source": [
        "num_clusters = 2\n",
        "num_trials = 100\n",
        "media_indice_ami, dp_indice_ami = simulacao_monte_carlo(dados, labels, num_clusters, num_trials)\n",
        "\n",
        "print(f\"Monte Carlo FCM Clustering Results ({num_trials} trials)\")\n",
        "print(f\"Mean AMI: {media_indice_ami:.4f}\")\n",
        "print(f\"Standard Deviation of AMI: {dp_indice_ami:.4f}\")"
      ]
    }
  ],
  "metadata": {
    "colab": {
      "provenance": []
    },
    "kernelspec": {
      "display_name": "Python 3",
      "language": "python",
      "name": "python3"
    },
    "language_info": {
      "codemirror_mode": {
        "name": "ipython",
        "version": 3
      },
      "file_extension": ".py",
      "mimetype": "text/x-python",
      "name": "python",
      "nbconvert_exporter": "python",
      "pygments_lexer": "ipython3",
      "version": "3.12.1"
    }
  },
  "nbformat": 4,
  "nbformat_minor": 0
}
