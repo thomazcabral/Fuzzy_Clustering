{
 "cells": [
  {
   "cell_type": "markdown",
   "metadata": {},
   "source": [
    "# Multivariate Fuzzy C-medoids method: Implementation\n",
    "\n",
    "## Equations\n",
    "\n",
    "### $J= \\sum_{i=1}^{c} \\sum_{k=1}^{n} \\sum_{j=1}^{p} \\left(u_{ijk} \\right)^{m} d_{ijk}$ - Objective function to minimize.\n",
    "\n",
    "### $d_{ijk} = \\left(x_{jk} - y_{ij} \\right)^{2}$ - euclidian distance squared.\n",
    "\n",
    "### $q = \\argmin_{1 \\le i \\le c} \\sum_{j=1}^p \\sum_{k=1}^n (u_{ijk})^m \\cdot d_{ijk}$ - prototype coordinate of a given cluster in feature j.\n",
    "\n",
    "### $ u_{ijk} =  \\left[\\sum_{h=1}^{c}\\sum_{l=1}^{p} \\left(\\frac{d_{ijk}}{d_{hlk}}\\right)^{(1/(m-1))}  \\right]^{-1} $ - membership degree of pattern k in cluster $C_{i}$ on the feature j.\n",
    "\n",
    "### $\\delta_{ik} = \\sum_{j=1}^{p} u_{ijk}$ - represents an aggregation measure for all the p features.\n",
    "\n",
    "## Constraints:\n",
    "\n",
    "### - $u_{ijk} \\in [0, 1]$ for all i, j and k;\n",
    "### - $0 < \\sum_{j=1}^{p} \\sum_{k=1}^{n} u_{ijk} < n$ for all i and\n",
    "### - $\\sum_{i=1}^{c}\\sum_{j=1}^{p}u_{ijk} = 1$ for all k."
   ]
  },
  {
   "cell_type": "markdown",
   "metadata": {},
   "source": [
    "## Importando bibliotecas"
   ]
  },
  {
   "cell_type": "code",
   "execution_count": 12,
   "metadata": {},
   "outputs": [],
   "source": [
    "import numpy as np\n",
    "import pandas as pd\n",
    "import seaborn as sns"
   ]
  },
  {
   "cell_type": "markdown",
   "metadata": {},
   "source": [
    "## Tratamento dos dados"
   ]
  },
  {
   "cell_type": "code",
   "execution_count": 13,
   "metadata": {},
   "outputs": [],
   "source": [
    "df = sns.load_dataset('iris')\n",
    "df[\"species\"].replace({\"setosa\": 0, \"versicolor\": 1, \"virginica\": 2}, inplace=True)\n",
    "df.columns = [\"SepalLengthCm\", \"SepalWidthCm\", \"PetalLengthCm\", \"PetalWidthCm\", \"Class\"]\n",
    "labels = df[\"Class\"].values\n",
    "df.drop(\"Class\", axis=1, inplace=True)\n",
    "dados = df.to_numpy()"
   ]
  },
  {
   "cell_type": "markdown",
   "metadata": {},
   "source": [
    "## Método de agrupamento"
   ]
  },
  {
   "cell_type": "code",
   "execution_count": 14,
   "metadata": {},
   "outputs": [],
   "source": [
    "class MFCMedoids:\n",
    "    def __init__(self, c, X, m):\n",
    "        self.c = c\n",
    "        self.n = X.shape[0]\n",
    "        self.p = X.shape[1]\n",
    "        self.m = m\n",
    "        self.epsilon = 1e-10  # To prevent division by zero\n",
    "\n",
    "    def initialize_u(self):\n",
    "        return np.random.dirichlet(alpha=np.ones(self.c * self.p),\n",
    "                                   size=self.n).reshape(self.n, self.c, self.p)\n",
    "\n",
    "    def find_medoids(self, X, U):\n",
    "        medoids = np.zeros((self.c, self.p))\n",
    "        \n",
    "        for i in range(self.c):\n",
    "            for j in range(self.p):\n",
    "                weighted_distances = np.sum(U[:, i, j][:, np.newaxis] ** self.m * (X[:, j][:, np.newaxis] - X[:, j]) ** 2, axis=0)\n",
    "                medoids[i, j] = X[np.argmin(weighted_distances), j]\n",
    "        \n",
    "        return medoids\n",
    "\n",
    "    def get_distances(self, X, medoids):\n",
    "        return (X[:, np.newaxis, :] - medoids[np.newaxis, :, :]) ** 2\n",
    "\n",
    "    def update_u(self, D):\n",
    "        D = np.maximum(D, self.epsilon)  # Avoid division by zero\n",
    "        ratio = (D[:, np.newaxis, np.newaxis, :, :] / D[:, :, :, np.newaxis, np.newaxis]) ** (1 / (self.m - 1))\n",
    "        return 1 / np.sum(ratio, axis=(3, 4))\n",
    "\n",
    "    def get_objective_function(self, U, D):\n",
    "        return np.sum((U ** self.m) * D)"
   ]
  },
  {
   "cell_type": "markdown",
   "metadata": {},
   "source": [
    "# Clustering"
   ]
  },
  {
   "cell_type": "code",
   "execution_count": 15,
   "metadata": {},
   "outputs": [],
   "source": [
    "def mfcm_run(dados, num_clusters, m=2, max_iter=1000, epsilon=1e-5):\n",
    "    mfcm = MFCMedoids(c=num_clusters, X=dados, m=m)  # Create the MFCMedoids object\n",
    "\n",
    "    U = mfcm.initialize_u()  # Initialize the membership matrix\n",
    "\n",
    "    for _ in range(max_iter):\n",
    "        medoids = mfcm.find_medoids(dados, U)\n",
    "        D = mfcm.get_distances(dados, medoids)\n",
    "        new_U = mfcm.update_u(D)\n",
    "        \n",
    "        # Check for convergence\n",
    "        if np.linalg.norm(U - new_U) < epsilon:\n",
    "            break\n",
    "        \n",
    "        U = new_U\n",
    "\n",
    "    Delta = np.sum(U, axis=2)  # Summing over the second axis (variables j)\n",
    "\n",
    "    return medoids, U, Delta"
   ]
  },
  {
   "cell_type": "markdown",
   "metadata": {},
   "source": [
    "## Fuzzyficação dos labels"
   ]
  },
  {
   "cell_type": "code",
   "execution_count": 16,
   "metadata": {},
   "outputs": [
    {
     "data": {
      "text/plain": [
       "array([[9.09918107e-12, 3.64649682e-01, 6.35350318e-01],\n",
       "       [6.36383586e-03, 3.68224709e-01, 6.25411455e-01],\n",
       "       [5.36082474e-03, 3.77113402e-01, 6.17525773e-01],\n",
       "       [9.06344411e-03, 3.76564523e-01, 6.14372033e-01],\n",
       "       [4.47027273e-04, 3.68573983e-01, 6.30978990e-01],\n",
       "       [1.01333333e-02, 3.48000000e-01, 6.41866667e-01],\n",
       "       [5.73613767e-03, 3.80284682e-01, 6.13979180e-01],\n",
       "       [6.97836709e-04, 3.65666434e-01, 6.33635729e-01],\n",
       "       [1.69154229e-02, 3.81691542e-01, 6.01393035e-01],\n",
       "       [4.93494841e-03, 3.66756393e-01, 6.28308659e-01],\n",
       "       [3.40301410e-03, 3.52211959e-01, 6.44385027e-01],\n",
       "       [3.25732899e-03, 3.70637506e-01, 6.26105165e-01],\n",
       "       [7.43573402e-03, 3.70936902e-01, 6.21627363e-01],\n",
       "       [1.74203766e-02, 3.86767552e-01, 5.95812071e-01],\n",
       "       [1.70977641e-02, 3.45681719e-01, 6.37220517e-01],\n",
       "       [2.91726447e-02, 3.43615495e-01, 6.27211860e-01],\n",
       "       [6.88389169e-03, 3.58191831e-01, 6.34924277e-01],\n",
       "       [2.31000238e-04, 3.64980365e-01, 6.34788635e-01],\n",
       "       [1.49659864e-02, 3.33605442e-01, 6.51428571e-01],\n",
       "       [2.59985819e-03, 3.64452848e-01, 6.32947294e-01],\n",
       "       [5.02246894e-03, 3.44699974e-01, 6.50277557e-01],\n",
       "       [2.17129071e-03, 3.64294331e-01, 6.33534379e-01],\n",
       "       [7.67263427e-03, 3.84545122e-01, 6.07782243e-01],\n",
       "       [5.85417776e-03, 3.57370942e-01, 6.36774880e-01],\n",
       "       [9.00437356e-03, 3.64291227e-01, 6.26704399e-01],\n",
       "       [7.17360115e-03, 3.60832138e-01, 6.31994261e-01],\n",
       "       [2.48632521e-03, 3.64246643e-01, 6.33267031e-01],\n",
       "       [4.78240081e-04, 3.58919177e-01, 6.40602582e-01],\n",
       "       [4.61893769e-04, 3.60508083e-01, 6.39030023e-01],\n",
       "       [6.61345496e-03, 3.72633979e-01, 6.20752566e-01],\n",
       "       [6.72385811e-03, 3.68652910e-01, 6.24623232e-01],\n",
       "       [3.80035470e-03, 3.50646060e-01, 6.45553585e-01],\n",
       "       [8.81754465e-03, 3.61293240e-01, 6.29889215e-01],\n",
       "       [1.47292092e-02, 3.53047813e-01, 6.32222978e-01],\n",
       "       [4.78905359e-03, 3.67160775e-01, 6.28050171e-01],\n",
       "       [2.92519850e-03, 3.69619724e-01, 6.27455077e-01],\n",
       "       [3.90176728e-03, 3.52077117e-01, 6.44021115e-01],\n",
       "       [1.29926375e-03, 3.71372889e-01, 6.27327848e-01],\n",
       "       [1.45264381e-02, 3.83497966e-01, 6.01975596e-01],\n",
       "       [4.72366561e-04, 3.62068966e-01, 6.37458668e-01],\n",
       "       [6.58616907e-04, 3.70142700e-01, 6.29198683e-01],\n",
       "       [3.44566452e-02, 3.75425975e-01, 5.90117380e-01],\n",
       "       [1.14897760e-02, 3.84810127e-01, 6.03700097e-01],\n",
       "       [5.35031847e-03, 3.65350318e-01, 6.29299363e-01],\n",
       "       [1.05263158e-02, 3.54847645e-01, 6.34626039e-01],\n",
       "       [7.66367419e-03, 3.71797679e-01, 6.20538647e-01],\n",
       "       [3.13328513e-03, 3.62014943e-01, 6.34851772e-01],\n",
       "       [7.11594810e-03, 3.78610297e-01, 6.14273755e-01],\n",
       "       [2.16294160e-03, 3.56164384e-01, 6.41672675e-01],\n",
       "       [1.12283854e-03, 3.66943634e-01, 6.31933528e-01],\n",
       "       [8.25012867e-01, 2.05867216e-11, 1.74987133e-01],\n",
       "       [7.80429594e-01, 2.44630072e-02, 1.95107399e-01],\n",
       "       [8.66133866e-01, 3.49650350e-03, 1.30369630e-01],\n",
       "       [4.73527956e-01, 1.76150421e-01, 3.50321623e-01],\n",
       "       [7.96234773e-01, 2.38095238e-02, 1.79955703e-01],\n",
       "       [6.53049804e-01, 1.06323447e-01, 2.40626749e-01],\n",
       "       [8.24985607e-01, 3.10880829e-02, 1.43926310e-01],\n",
       "       [2.20176141e-01, 2.87029624e-01, 4.92794235e-01],\n",
       "       [7.81979978e-01, 1.50166852e-02, 2.03003337e-01],\n",
       "       [4.24211597e-01, 2.10071211e-01, 3.65717192e-01],\n",
       "       [2.78688525e-01, 2.68394968e-01, 4.52916508e-01],\n",
       "       [6.34591961e-01, 9.19610231e-02, 2.73447016e-01],\n",
       "       [4.92537313e-01, 1.31840796e-01, 3.75621891e-01],\n",
       "       [7.73883550e-01, 5.08762013e-02, 1.75240249e-01],\n",
       "       [3.74578178e-01, 1.83914511e-01, 4.41507312e-01],\n",
       "       [7.59815242e-01, 1.09699769e-02, 2.29214781e-01],\n",
       "       [6.67420814e-01, 1.15950226e-01, 2.16628959e-01],\n",
       "       [5.10710259e-01, 1.24577227e-01, 3.64712514e-01],\n",
       "       [6.97445972e-01, 8.30058939e-02, 2.19548134e-01],\n",
       "       [4.37598736e-01, 1.67456556e-01, 3.94944708e-01],\n",
       "       [8.10147300e-01, 7.52864157e-02, 1.14566285e-01],\n",
       "       [5.67827131e-01, 8.82352941e-02, 3.43937575e-01],\n",
       "       [8.08489635e-01, 5.08390918e-02, 1.40671273e-01],\n",
       "       [7.40863787e-01, 5.59246955e-02, 2.03211517e-01],\n",
       "       [6.95056581e-01, 3.69267421e-02, 2.68016677e-01],\n",
       "       [7.53201397e-01, 1.68800931e-02, 2.29918510e-01],\n",
       "       [8.29787234e-01, 1.06382979e-02, 1.59574468e-01],\n",
       "       [8.91196835e-01, 1.53313551e-02, 9.34718101e-02],\n",
       "       [7.28813559e-01, 6.66277031e-02, 2.04558738e-01],\n",
       "       [3.23621228e-01, 1.89906348e-01, 4.86472425e-01],\n",
       "       [3.97397397e-01, 1.89689690e-01, 4.12912913e-01],\n",
       "       [3.58898722e-01, 1.99115044e-01, 4.41986234e-01],\n",
       "       [4.79954181e-01, 1.35738832e-01, 3.84306987e-01],\n",
       "       [8.29291950e-01, 7.03200776e-02, 1.00387973e-01],\n",
       "       [6.31236443e-01, 1.43709328e-01, 2.25054230e-01],\n",
       "       [7.43251350e-01, 6.71865627e-02, 1.89562088e-01],\n",
       "       [8.36065574e-01, 6.01092897e-03, 1.57923497e-01],\n",
       "       [6.71626475e-01, 7.18317086e-02, 2.56541816e-01],\n",
       "       [5.29411765e-01, 1.39411765e-01, 3.31176471e-01],\n",
       "       [4.78260870e-01, 1.69722368e-01, 3.52016763e-01],\n",
       "       [5.74646412e-01, 1.43530644e-01, 2.81822944e-01],\n",
       "       [7.56582797e-01, 5.03218256e-02, 1.93095377e-01],\n",
       "       [5.08417508e-01, 1.30751964e-01, 3.60830527e-01],\n",
       "       [2.29283990e-01, 2.78761062e-01, 4.91954948e-01],\n",
       "       [5.54069119e-01, 1.37681159e-01, 3.08249721e-01],\n",
       "       [5.60830861e-01, 1.19881306e-01, 3.19287834e-01],\n",
       "       [5.74368019e-01, 1.19929453e-01, 3.05702528e-01],\n",
       "       [6.74502712e-01, 5.42495479e-02, 2.71247740e-01],\n",
       "       [1.78440180e-01, 2.89097591e-01, 5.32462229e-01],\n",
       "       [5.42658154e-01, 1.28845038e-01, 3.28496808e-01],\n",
       "       [8.91477817e-01, 1.08522183e-01, 1.27673157e-11],\n",
       "       [8.20287170e-01, 9.72672534e-02, 8.24455767e-02],\n",
       "       [9.07066796e-01, 6.38915779e-02, 2.90416263e-02],\n",
       "       [9.03119869e-01, 6.36288998e-02, 3.32512315e-02],\n",
       "       [9.14193779e-01, 7.65105470e-02, 9.29567394e-03],\n",
       "       [8.45278726e-01, 1.02389078e-01, 5.23321957e-02],\n",
       "       [5.50811272e-01, 2.14773698e-01, 2.34415030e-01],\n",
       "       [8.72562483e-01, 7.96484482e-02, 4.77890689e-02],\n",
       "       [8.85952712e-01, 6.78025035e-02, 4.62447844e-02],\n",
       "       [8.81374723e-01, 9.34035477e-02, 2.52217295e-02],\n",
       "       [9.09875360e-01, 3.69127517e-02, 5.32118888e-02],\n",
       "       [8.93310013e-01, 5.33449934e-02, 5.33449934e-02],\n",
       "       [9.23197492e-01, 4.74137931e-02, 2.93887147e-02],\n",
       "       [7.82531194e-01, 1.17201426e-01, 1.00267380e-01],\n",
       "       [8.27045358e-01, 1.16998728e-01, 5.59559135e-02],\n",
       "       [9.11413969e-01, 6.51618399e-02, 2.34241908e-02],\n",
       "       [9.16737468e-01, 4.63041631e-02, 3.69583687e-02],\n",
       "       [8.24650572e-01, 1.16264295e-01, 5.90851334e-02],\n",
       "       [8.11647127e-01, 1.24927926e-01, 6.34249471e-02],\n",
       "       [7.60532151e-01, 9.31263858e-02, 1.46341463e-01],\n",
       "       [9.18739054e-01, 6.37478109e-02, 1.75131349e-02],\n",
       "       [7.74701671e-01, 1.20286396e-01, 1.05011933e-01],\n",
       "       [8.28964332e-01, 1.07649334e-01, 6.33863343e-02],\n",
       "       [8.49170437e-01, 4.72599296e-02, 1.03569633e-01],\n",
       "       [9.25093633e-01, 5.95505618e-02, 1.53558052e-02],\n",
       "       [8.98154042e-01, 6.01527689e-02, 4.16931891e-02],\n",
       "       [8.33508957e-01, 5.11064278e-02, 1.15384615e-01],\n",
       "       [8.47940866e-01, 5.54382260e-02, 9.66209081e-02],\n",
       "       [9.07084785e-01, 7.04607046e-02, 2.24545103e-02],\n",
       "       [8.94012388e-01, 4.57673778e-02, 6.02202340e-02],\n",
       "       [8.75854214e-01, 7.20387244e-02, 5.21070615e-02],\n",
       "       [8.25610591e-01, 1.00890208e-01, 7.34992011e-02],\n",
       "       [9.05703422e-01, 7.49049430e-02, 1.93916350e-02],\n",
       "       [8.57355126e-01, 4.06141654e-02, 1.02030708e-01],\n",
       "       [8.43358902e-01, 7.99354057e-02, 7.67056924e-02],\n",
       "       [8.61218196e-01, 8.48111025e-02, 5.39707016e-02],\n",
       "       [9.04725898e-01, 8.84688091e-02, 6.80529301e-03],\n",
       "       [9.15444349e-01, 5.04745470e-02, 3.40811044e-02],\n",
       "       [8.20540541e-01, 6.54054054e-02, 1.14054054e-01],\n",
       "       [9.22984356e-01, 4.01123145e-02, 3.69033293e-02],\n",
       "       [9.17030568e-01, 6.95050946e-02, 1.34643377e-02],\n",
       "       [9.05644482e-01, 4.17017692e-02, 5.26537489e-02],\n",
       "       [8.20287170e-01, 9.72672534e-02, 8.24455767e-02],\n",
       "       [9.14021164e-01, 7.57275132e-02, 1.02513228e-02],\n",
       "       [9.11541120e-01, 7.98203179e-02, 8.63856255e-03],\n",
       "       [9.10849453e-01, 5.00420521e-02, 3.91084945e-02],\n",
       "       [8.46367422e-01, 6.10828320e-02, 9.25497455e-02],\n",
       "       [9.11966988e-01, 4.12654746e-02, 4.67675378e-02],\n",
       "       [9.00124844e-01, 8.23970037e-02, 1.74781523e-02],\n",
       "       [8.46001974e-01, 7.74925962e-02, 7.65054294e-02]])"
      ]
     },
     "execution_count": 16,
     "metadata": {},
     "output_type": "execute_result"
    }
   ],
   "source": [
    "def crisp_to_fuzzy(dados, y, n_clusters, m=2):\n",
    "    mfcm = MFCMedoids(c=n_clusters, X=dados, m=m)  # Criar objeto MFCMedoids\n",
    "    \n",
    "    # Calcular os protótipos reais (medoids das amostras de cada classe)\n",
    "    medoids = np.array([dados[y == c][np.argmin(np.sum((dados[y == c] - dados[y == c][:, np.newaxis, :]) ** 2, axis=2))] for c in range(n_clusters)])\n",
    "    \n",
    "    # Garantir que os medoids tenham a forma correta (n_clusters, p)\n",
    "    medoids = medoids.reshape(n_clusters, dados.shape[1])\n",
    "    \n",
    "    # Calcular distâncias entre os pontos e os medoids\n",
    "    distancias = mfcm.get_distances(dados, medoids)\n",
    "    distancias = np.fmax(distancias, np.finfo(np.float64).eps)  # Evitar divisão por zero\n",
    "    \n",
    "    # Atualizar matriz de pertinência com a fórmula do MFCMedoids\n",
    "    matriz_pertinencia = mfcm.update_u(distancias)\n",
    "    \n",
    "    # Somar as pertinências sobre as variáveis (eixo 2) para obter pertinências por classe\n",
    "    matriz_pertinencia_final = np.sum(matriz_pertinencia, axis=2)  \n",
    "    \n",
    "    return matriz_pertinencia_final\n",
    "\n",
    "\n",
    "labels = crisp_to_fuzzy(dados, labels, 3)\n",
    "labels"
   ]
  },
  {
   "cell_type": "markdown",
   "metadata": {},
   "source": [
    "## Índice de Rand Difuso"
   ]
  },
  {
   "cell_type": "code",
   "execution_count": 17,
   "metadata": {},
   "outputs": [],
   "source": [
    "def pertinence_distance(delta_k, delta_k_linha, c):\n",
    "    # calcula a distância entre δ_k e δ_k' (matrizes de pertinência)\n",
    "    return (1/c) * np.sum((delta_k - delta_k_linha) ** 2)\n",
    "\n",
    "def fuzzy_rand_index(particao1, particao2, c):\n",
    "    n = particao1.shape[0]\n",
    "    total_sum = 0\n",
    "\n",
    "    for k in range(n):\n",
    "        for k_linha in range(k+1, n):\n",
    "            if k != k_linha:\n",
    "                # calcula a métrica para P\n",
    "                delta_k = particao1[k]\n",
    "                delta_k_prime = particao1[k_linha]\n",
    "                EP = 1 - pertinence_distance(delta_k, delta_k_prime, c)\n",
    "\n",
    "                # calcula a métrica para Q\n",
    "                delta_k_Q = particao2[k]\n",
    "                delta_k_prime_Q = particao2[k_linha]\n",
    "                EQ = 1 - pertinence_distance(delta_k_Q, delta_k_prime_Q, c)\n",
    "\n",
    "                total_sum += np.abs(EP - EQ) # soma a diferença absoluta entre EP e EQ\n",
    "\n",
    "    denominador = n * (n - 1) / 2\n",
    "    if denominador == 0:\n",
    "        raise ValueError\n",
    "\n",
    "    return 1- (total_sum / denominador)"
   ]
  },
  {
   "cell_type": "markdown",
   "metadata": {},
   "source": [
    "## Simulação de Monte Carlo"
   ]
  },
  {
   "cell_type": "code",
   "execution_count": 18,
   "metadata": {},
   "outputs": [],
   "source": [
    "def monte_carlo_simulation(dados, labels, num_clusters, num_trials):\n",
    "    results = []\n",
    "    for _ in range(num_trials):\n",
    "        medoids, U, Delta = mfcm_run(dados, num_clusters)\n",
    "        fr = fuzzy_rand_index(labels, Delta, num_clusters)\n",
    "        results.append(fr)\n",
    "    mean_fr = np.mean(results)\n",
    "    std_fr = np.std(results)\n",
    "    return mean_fr, std_fr"
   ]
  },
  {
   "cell_type": "code",
   "execution_count": 19,
   "metadata": {},
   "outputs": [
    {
     "name": "stdout",
     "output_type": "stream",
     "text": [
      "Mean ARI: 0.9189660070690455\n",
      "Std ARI: 0.02627879162514368\n"
     ]
    }
   ],
   "source": [
    "num_clusters = 3\n",
    "num_trials = 100\n",
    "mean_fr, std_fr = monte_carlo_simulation(dados, labels, num_clusters, num_trials)\n",
    "\n",
    "print(f\"Mean ARI: {mean_fr}\")\n",
    "print(f\"Std ARI: {std_fr}\")"
   ]
  }
 ],
 "metadata": {
  "kernelspec": {
   "display_name": "Python 3",
   "language": "python",
   "name": "python3"
  },
  "language_info": {
   "codemirror_mode": {
    "name": "ipython",
    "version": 3
   },
   "file_extension": ".py",
   "mimetype": "text/x-python",
   "name": "python",
   "nbconvert_exporter": "python",
   "pygments_lexer": "ipython3",
   "version": "3.11.3"
  }
 },
 "nbformat": 4,
 "nbformat_minor": 2
}
