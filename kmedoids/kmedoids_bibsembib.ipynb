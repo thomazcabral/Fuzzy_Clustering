{
  "nbformat": 4,
  "nbformat_minor": 0,
  "metadata": {
    "colab": {
      "provenance": []
    },
    "kernelspec": {
      "name": "python3",
      "display_name": "Python 3"
    },
    "language_info": {
      "name": "python"
    }
  },
  "cells": [
    {
      "cell_type": "code",
      "source": [
        "pip install numpy -q"
      ],
      "metadata": {
        "id": "K1i9IJusFVwN"
      },
      "execution_count": 64,
      "outputs": []
    },
    {
      "cell_type": "code",
      "source": [
        "pip install matplotlib -q"
      ],
      "metadata": {
        "id": "y2x9SjTaFXzB"
      },
      "execution_count": 65,
      "outputs": []
    },
    {
      "cell_type": "code",
      "source": [
        "pip install scikit-learn -q"
      ],
      "metadata": {
        "id": "W9AGcE4VFZ5-"
      },
      "execution_count": 66,
      "outputs": []
    },
    {
      "cell_type": "code",
      "source": [
        "pip install scikit-learn-extra -q"
      ],
      "metadata": {
        "id": "gzrI_3TnFcnp"
      },
      "execution_count": 67,
      "outputs": []
    },
    {
      "cell_type": "code",
      "execution_count": 62,
      "metadata": {
        "colab": {
          "base_uri": "https://localhost:8080/"
        },
        "id": "Ka3HmbyyE-lr",
        "outputId": "0361a279-d7f0-46fb-da67-808d1971ea77"
      },
      "outputs": [
        {
          "output_type": "stream",
          "name": "stdout",
          "text": [
            "\n",
            "Monte Carlo K-Medoids Clustering Results (1 trials)\n",
            "Mean Rand Index: 0.6023\n",
            "Standard Deviation of Rand Index: 0.0000\n",
            "Trial 1 medoids:\n",
            "[[3.8 3.8]\n",
            " [5.5 5.2]\n",
            " [1.5 2.5]]\n"
          ]
        }
      ],
      "source": [
        "# Import necessary libraries\n",
        "import numpy as np\n",
        "from sklearn_extra.cluster import KMedoids\n",
        "from sklearn.metrics import adjusted_rand_score\n",
        "\n",
        "# Custom data points\n",
        "X = np.array([\n",
        "    [1.0, 2.0], [1.5, 2.5], [1.2, 1.8],  # Cluster 0\n",
        "    [2.0, 3.0], [2.5, 2.7], [2.3, 3.2],  # Cluster 0 (overlapping with cluster 1)\n",
        "    [3.5, 3.5], [4.0, 4.0], [3.8, 3.8],  # Cluster 1\n",
        "    [5.0, 5.0], [5.5, 5.2], [4.9, 5.1],   # Cluster 1 (but overlapping with cluster 2)\n",
        "    [7.0, 8.0], [7.5, 7.8], [6.8, 8.1],  # Cluster 2\n",
        "])\n",
        "\n",
        "#true_labels = np.array([0, 0, 0, 1, 1, 1])\n",
        "true_labels = np.array([0, 0, 0, 0, 0, 0, 1, 1, 1, 1, 1, 1, 2, 2, 2])\n",
        "\n",
        "# Monte Carlo Experiment Function\n",
        "def monte_carlo_experiment(data, true_labels, n_clusters, num_trials):\n",
        "    rand_indices = []\n",
        "    final_medoids_list = []\n",
        "\n",
        "    for trial in range(num_trials):\n",
        "        # Initialize and fit K-Medoids\n",
        "        kmedoids = KMedoids(n_clusters=n_clusters, random_state=trial)\n",
        "        kmedoids.fit(data)\n",
        "\n",
        "        # Get the predicted labels and calculate the Adjusted Rand Index\n",
        "        predicted_labels = kmedoids.labels_\n",
        "        rand_idx = adjusted_rand_score(true_labels, predicted_labels)\n",
        "        rand_indices.append(rand_idx)\n",
        "\n",
        "        # Store the final medoids for this trial\n",
        "        final_medoids_list.append(kmedoids.cluster_centers_)\n",
        "\n",
        "        # Print predicted labels for this trial\n",
        "        #print(f\"Trial {trial + 1} - Predicted labels: {predicted_labels}\")\n",
        "\n",
        "    # Calculate mean and standard deviation of the Rand Index\n",
        "    mean_rand_index = np.mean(rand_indices)\n",
        "    std_rand_index = np.std(rand_indices)\n",
        "\n",
        "    return mean_rand_index, std_rand_index, final_medoids_list\n",
        "\n",
        "# Parameters\n",
        "num_trials = 1\n",
        "n_clusters = 3\n",
        "\n",
        "# Run Monte Carlo Experiment\n",
        "mean_rand_idx, std_rand_idx, medoids_list = monte_carlo_experiment(X, true_labels, n_clusters, num_trials)\n",
        "\n",
        "print(f\"\\nMonte Carlo K-Medoids Clustering Results ({num_trials} trials)\")\n",
        "print(f\"Mean Rand Index: {mean_rand_idx:.4f}\")\n",
        "print(f\"Standard Deviation of Rand Index: {std_rand_idx:.4f}\")\n",
        "#print(\"\\nFinal medoids for each trial:\")\n",
        "for i, medoids in enumerate(medoids_list):\n",
        "    print(f\"Trial {i + 1} medoids:\\n{medoids}\")"
      ]
    },
    {
      "cell_type": "code",
      "source": [
        "import numpy as np\n",
        "from sklearn.metrics import pairwise_distances\n",
        "from sklearn.metrics import adjusted_rand_score\n",
        "\n",
        "# Sample data\n",
        "X = np.array([\n",
        "    [1.0, 2.0], [1.5, 2.5], [1.2, 1.8],  # Cluster 0\n",
        "    [2.0, 3.0], [2.5, 2.7], [2.3, 3.2],  # Cluster 0 (overlapping with cluster 1)\n",
        "    [3.5, 3.5], [4.0, 4.0], [3.8, 3.8],  # Cluster 1\n",
        "    [5.0, 5.0], [5.5, 5.2], [4.9, 5.1],   # Cluster 1 (but overlapping with cluster 2)\n",
        "    [7.0, 8.0], [7.5, 7.8], [6.8, 8.1],  # Cluster 2\n",
        "])\n",
        "\n",
        "true_labels = np.array([0, 0, 0, 0, 0, 0, 1, 1, 1, 1, 1, 1, 2, 2, 2])\n",
        "\n",
        "def pam(X, k):\n",
        "    # Calcular todas as distâncias de um ponto a outro\n",
        "    # Os k pontos que tiverem a menor distância somada a todos os outros pontos são selecionados como os medoides iniciais\n",
        "    # É analisada a distância de cada um dos pontos a cada cada um dos medoides, a menor distância desse ponto pra um medoide específico, o ponto será selecionado para o cluster representado por esse medoide\n",
        "    # Após isso todos os pontos que não forem medoides já devem ter um cluster\n",
        "    # Dentro de cada cluster, para cada ponto, o medoide será trocado por esse ponto e será calculada a distância somada desse novo medoide para todos os outros pontos desse mesmo cluster\n",
        "    # Se essa distância for menor do que a do medoide original, substitua ele definitivamente. Faça isso com todos os pontos do cluster, para todos os clusters\n",
        "    # Depois de uma troca, cada ponto checa sua distâmncia para todos os medoides novamente e se realoca ao medoide mais próximo\n",
        "    # Após isso os clusters já devem estar definidos\n",
        "    # Crie uma label para cada um desses clusters (0 até k-1)\n",
        "    # Retorne essas labels\n",
        "\n",
        "    # Step 1: Greedy Initialization - choose k points with smallest summed distances to other points\n",
        "    m, n = X.shape\n",
        "    total_distances = np.sum(pairwise_distances(X), axis=1)\n",
        "    medoid_indices = np.argsort(total_distances)[:k]  # Select k points with smallest summed distances\n",
        "    medoids = X[medoid_indices]\n",
        "    print(medoids)\n",
        "\n",
        "    # Alocar os demais pontos aos medoides\n",
        "    clusters = [[] for _ in range(k)]\n",
        "\n",
        "    distances = pairwise_distances(X, metric='euclidean')\n",
        "    idx = 0\n",
        "    for point in X:\n",
        "      if point not in medoids:\n",
        "        mdd = 0\n",
        "        l_mdd = 0\n",
        "        l_dist = 0\n",
        "        l_medoid_idx = 0\n",
        "        for medoid_idx in medoid_indices:\n",
        "          distance = distances[0][medoid_idx]\n",
        "          if distance > l_dist:\n",
        "            l_dist = distance\n",
        "            l_medoid_idx = idx\n",
        "            l_mdd = mdd\n",
        "          mdd += 1\n",
        "        clusters[l_mdd].append(point)\n",
        "        idx += 1\n",
        "    print(clusters)\n",
        "\n",
        "    # Testar mudanças\n",
        "    summed_distances = np.sum(distances, axis=1)\n",
        "    summed_distances_medoids = []\n",
        "    for medoid_idx in medoid_indices:\n",
        "      summed_distances_medoids.append(summed_distances[medoid_idx])\n",
        "\n",
        "    for cluster in range(k):\n",
        "      if len(clusters[cluster]) > 0:\n",
        "        idx_point = 0\n",
        "        for point in clusters[cluster]:\n",
        "          medoid = medoids[cluster]\n",
        "          new_medoid = point\n",
        "          new_medoid_idx = idx_point\n",
        "          clusters[cluster].append(new_medoid)\n",
        "          clusters[cluster].remove(point)\n",
        "\n",
        "          ## TESTAR AS DIFERENÇAS\n",
        "          ## FAZER AS TROCAS NECESSÁRIAS\n",
        "          ## COLOCAR O MEDOIDE DENTRO DO CLUSTER\n",
        "          ## DAR UMA LABEL A CADA MEDOIDE\n",
        "\n",
        "\n",
        "\n",
        "# Apply PAM to find clusters\n",
        "k = 3  # Number of clusters\n",
        "pam(X, k)\n",
        "#predicted_labels, medoids = pam(X, k)\n",
        "#print(\"Predicted labels:\", predicted_labels)\n",
        "#print(\"Medoids:\", medoids)\n",
        "\n",
        "# Compute the Adjusted Rand Index (ARI)\n",
        "#ari = adjusted_rand_score(true_labels, predicted_labels)\n",
        "#print(f\"Adjusted Rand Index: {ari:.4f}\")"
      ],
      "metadata": {
        "colab": {
          "base_uri": "https://localhost:8080/"
        },
        "id": "QCes3BB3F7VM",
        "outputId": "a4a4e692-fbf0-44c2-ebf5-82f1e1cbadd5"
      },
      "execution_count": 77,
      "outputs": [
        {
          "output_type": "stream",
          "name": "stdout",
          "text": [
            "[[3.8 3.8]\n",
            " [4.  4. ]\n",
            " [3.5 3.5]]\n",
            "[[], [array([1., 2.]), array([1.5, 2.5]), array([1.2, 1.8]), array([2., 3.]), array([2.5, 2.7]), array([2.3, 3.2]), array([5., 5.]), array([5.5, 5.2]), array([4.9, 5.1]), array([7., 8.]), array([7.5, 7.8]), array([6.8, 8.1])], []]\n",
            "[[3.8 3.8]\n",
            " [4.  4. ]\n",
            " [3.5 3.5]]\n"
          ]
        }
      ]
    },
    {
      "cell_type": "code",
      "source": [
        "X = np.array([\n",
        "    [1.0, 2.0], [1.5, 2.5], [1.2, 1.8],\n",
        "    [2.0, 3.0], [2.5, 2.7], [2.3, 3.2],\n",
        "    [3.5, 3.5], [4.0, 4.0], [3.8, 3.8],\n",
        "    [5.0, 5.0], [5.5, 5.2], [4.9, 5.1],\n",
        "    [7.0, 8.0], [7.5, 7.8], [6.8, 8.1],\n",
        "])\n",
        "\n",
        "# Calculate pairwise distances\n",
        "distances = pairwise_distances(X, metric='euclidean')\n",
        "\n",
        "# Sum the distances for each point to every other point\n",
        "summed_distances = np.sum(distances, axis=1)\n",
        "\n",
        "print(\"Pairwise distances:\\n\", distances)\n",
        "print(\"Summed distances for each point:\\n\", summed_distances)"
      ],
      "metadata": {
        "colab": {
          "base_uri": "https://localhost:8080/"
        },
        "id": "xKDq_oKjMS-X",
        "outputId": "8a52a101-2950-4463-e051-91f633a20c77"
      },
      "execution_count": 58,
      "outputs": [
        {
          "output_type": "stream",
          "name": "stdout",
          "text": [
            "Pairwise distances:\n",
            " [[0.         0.70710678 0.28284271 1.41421356 1.65529454 1.7691806\n",
            "  2.91547595 3.60555128 3.3286634  5.         5.52177508 4.98196748\n",
            "  8.48528137 8.71148667 8.4172442 ]\n",
            " [0.70710678 0.         0.76157731 0.70710678 1.0198039  1.06301458\n",
            "  2.23606798 2.91547595 2.64196896 4.30116263 4.8259714  4.28018691\n",
            "  7.77817459 8.00562302 7.71038261]\n",
            " [0.28284271 0.76157731 0.         1.44222051 1.58113883 1.78044938\n",
            "  2.86006993 3.56089876 3.28024389 4.96789694 5.48178803 4.9578221\n",
            "  8.48999411 8.7        8.42911621]\n",
            " [1.41421356 0.70710678 1.44222051 0.         0.58309519 0.36055513\n",
            "  1.58113883 2.23606798 1.96977156 3.60555128 4.13400532 3.58050276\n",
            "  7.07106781 7.3        7.00357052]\n",
            " [1.65529454 1.0198039  1.58113883 0.58309519 0.         0.53851648\n",
            "  1.28062485 1.98494332 1.70293864 3.39705755 3.90512484 3.39411255\n",
            "  6.95269732 7.14212853 6.90289794]\n",
            " [1.7691806  1.06301458 1.78044938 0.36055513 0.53851648 0.\n",
            "  1.23693169 1.87882942 1.61554944 3.24499615 3.77359245 3.22024844\n",
            "  6.71788657 6.94262198 6.65281895]\n",
            " [2.91547595 2.23606798 2.86006993 1.58113883 1.28062485 1.23693169\n",
            "  0.         0.70710678 0.42426407 2.12132034 2.62488095 2.12602916\n",
            "  5.70087713 5.87281874 5.66127194]\n",
            " [3.60555128 2.91547595 3.56089876 2.23606798 1.98494332 1.87882942\n",
            "  0.70710678 0.         0.28284271 1.41421356 1.92093727 1.42126704\n",
            "  5.         5.16623654 4.96487663]\n",
            " [3.3286634  2.64196896 3.28024389 1.96977156 1.70293864 1.61554944\n",
            "  0.42426407 0.28284271 0.         1.69705627 2.20227155 1.70293864\n",
            "  5.28015151 5.44885309 5.24309069]\n",
            " [5.         4.30116263 4.96789694 3.60555128 3.39705755 3.24499615\n",
            "  2.12132034 1.41421356 1.69705627 0.         0.53851648 0.14142136\n",
            "  3.60555128 3.75366488 3.58468967]\n",
            " [5.52177508 4.8259714  5.48178803 4.13400532 3.90512484 3.77359245\n",
            "  2.62488095 1.92093727 2.20227155 0.53851648 0.         0.60827625\n",
            "  3.17647603 3.28024389 3.17804972]\n",
            " [4.98196748 4.28018691 4.9578221  3.58050276 3.39411255 3.22024844\n",
            "  2.12602916 1.42126704 1.70293864 0.14142136 0.60827625 0.\n",
            "  3.58050276 3.74833296 3.55105618]\n",
            " [8.48528137 7.77817459 8.48999411 7.07106781 6.95269732 6.71788657\n",
            "  5.70087713 5.         5.28015151 3.60555128 3.17647603 3.58050276\n",
            "  0.         0.53851648 0.2236068 ]\n",
            " [8.71148667 8.00562302 8.7        7.3        7.14212853 6.94262198\n",
            "  5.87281874 5.16623654 5.44885309 3.75366488 3.28024389 3.74833296\n",
            "  0.53851648 0.         0.76157731]\n",
            " [8.4172442  7.71038261 8.42911621 7.00357052 6.90289794 6.65281895\n",
            "  5.66127194 4.96487663 5.24309069 3.58468967 3.17804972 3.55105618\n",
            "  0.2236068  0.76157731 0.        ]]\n",
            "Summed distances for each point:\n",
            " [56.79608362 48.95362342 56.57605872 42.98886722 42.04037448 40.79519127\n",
            " 37.34887834 37.05924725 36.82060443 41.37309838 45.17190928 41.29466459\n",
            " 72.60078377 75.37210411 72.28424937]\n"
          ]
        }
      ]
    }
  ]
}