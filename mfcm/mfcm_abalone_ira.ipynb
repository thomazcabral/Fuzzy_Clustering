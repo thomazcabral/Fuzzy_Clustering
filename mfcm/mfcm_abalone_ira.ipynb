{
 "cells": [
  {
   "cell_type": "markdown",
   "id": "e1fa0c66e1e20fab",
   "metadata": {},
   "source": [
    "# Multivariate Fuzzy C-means method: Implementation\n",
    "\n",
    "## Equations\n",
    "\n",
    "### $J= \\sum_{i=1}^{c} \\sum_{k=1}^{n} \\sum_{j=1}^{p} \\left(u_{ijk} \\right)^{m} d_{ijk}$ - Objective function to minimize.\n",
    "\n",
    "### $d_{ijk} = \\left(x_{jk} - y_{ij} \\right)^{2}$ - euclidian distance squared.\n",
    "\n",
    "### $ y_{ij} = \\frac{\\sum_{k=1}^{n} \\left(u_{ijk} \\right)^{m} x_{jk}} {\\sum_{k=1}^{n} \\left(u_{ijk}\\right)^{m}}$ - prototype coordinate of a given cluster in feature j.\n",
    "\n",
    "### $ u_{ijk} =  \\left[\\sum_{h=1}^{c}\\sum_{l=1}^{p} \\left(\\frac{d_{ijk}}{d_{hlk}}\\right)^{(1/(m-1))}  \\right]^{-1} $ - membership degree of pattern k in cluster $C_{i}$ on the feature j.\n",
    "\n",
    "### $\\delta_{ik} = \\sum_{j=1}^{p} u_{ijk}$ - represents an aggregation measure for all the p features.\n",
    "\n",
    "## Constraints:\n",
    "\n",
    "### - $u_{ijk} \\in [0, 1]$ for all i, j and k;\n",
    "### - $0 < \\sum_{j=1}^{p} \\sum_{k=1}^{n} u_{ijk} < n$ for all i and\n",
    "### - $\\sum_{i=1}^{c}\\sum_{j=1}^{p}u_{ijk} = 1$ for all k."
   ]
  },
  {
   "cell_type": "markdown",
   "id": "609b96ac",
   "metadata": {},
   "source": [
    "## Importando bibliotecas"
   ]
  },
  {
   "cell_type": "code",
   "execution_count": 8,
   "id": "d24bcb9352fbc662",
   "metadata": {
    "ExecuteTime": {
     "end_time": "2024-07-23T22:47:35.174123Z",
     "start_time": "2024-07-23T22:47:33.507128Z"
    }
   },
   "outputs": [],
   "source": [
    "import numpy as np\n",
    "import pandas as pd\n",
    "from sklearn.metrics import adjusted_rand_score"
   ]
  },
  {
   "cell_type": "markdown",
   "id": "614723f2",
   "metadata": {},
   "source": [
    "## Tratamento dos dados"
   ]
  },
  {
   "cell_type": "code",
   "execution_count": 9,
   "id": "0615bda0",
   "metadata": {},
   "outputs": [
    {
     "data": {
      "text/plain": [
       "array([[ 0.455 ,  0.365 ,  0.095 , ...,  0.101 ,  0.15  , 15.    ],\n",
       "       [ 0.35  ,  0.265 ,  0.09  , ...,  0.0485,  0.07  ,  7.    ],\n",
       "       [ 0.53  ,  0.42  ,  0.135 , ...,  0.1415,  0.21  ,  9.    ],\n",
       "       ...,\n",
       "       [ 0.6   ,  0.475 ,  0.205 , ...,  0.2875,  0.308 ,  9.    ],\n",
       "       [ 0.625 ,  0.485 ,  0.15  , ...,  0.261 ,  0.296 , 10.    ],\n",
       "       [ 0.71  ,  0.555 ,  0.195 , ...,  0.3765,  0.495 , 12.    ]])"
      ]
     },
     "execution_count": 9,
     "metadata": {},
     "output_type": "execute_result"
    }
   ],
   "source": [
    "df = pd.read_csv('abalone.csv')\n",
    "df = df.rename(columns={'Sex': 'Class'})\n",
    "df[\"Class\"].replace({\"M\": 0, \"F\": 1, \"I\": 2}, inplace=True)\n",
    "labels = df[\"Class\"].values\n",
    "df.drop(\"Class\", axis=1, inplace=True)\n",
    "dados = df.to_numpy()\n",
    "dados"
   ]
  },
  {
   "cell_type": "markdown",
   "id": "b8e68412",
   "metadata": {},
   "source": [
    "## Método de agrupamento"
   ]
  },
  {
   "cell_type": "code",
   "execution_count": 10,
   "id": "549c38ec38602e04",
   "metadata": {},
   "outputs": [],
   "source": [
    "class MFCM():\n",
    "    def __init__(self, c, X, m):\n",
    "        self.c = c\n",
    "        self.n = X.shape[0]\n",
    "        self.p = X.shape[1]\n",
    "        self.m = m\n",
    "    \n",
    "    def initialize_u(self):\n",
    "        return np.random.dirichlet(alpha=np.ones(self.c * self.p),\n",
    "                                   size=self.n).reshape(self.n, self.c, self.p)\n",
    "    \n",
    "    def find_centroides(self, X, U):\n",
    "        return np.sum((U ** self.m) * X[:, np.newaxis, :], axis=0) / np.sum(U ** self.m, axis=0)\n",
    "    \n",
    "    def get_distances(self, X, V): # as vezes tem umas distâncias muito pequenas\n",
    "        return (X[:, np.newaxis, :] - V[np.newaxis, :, :]) ** 2\n",
    "    \n",
    "    def update_u(self, D):\n",
    "        ratio = (D[:, np.newaxis, np.newaxis, :, :] / D[:, :, :, np.newaxis, np.newaxis]) ** (1/(self.m-1))\n",
    "        return 1 / (np.sum(ratio, axis=(3, 4)))\n",
    "    \n",
    "    def get_objective_function(self, U, D):\n",
    "        return np.sum((U ** self.m)*D)"
   ]
  },
  {
   "cell_type": "markdown",
   "id": "69a5722d",
   "metadata": {},
   "source": [
    "## Clustering"
   ]
  },
  {
   "cell_type": "code",
   "execution_count": 11,
   "id": "024b9c00",
   "metadata": {},
   "outputs": [],
   "source": [
    "def mfcm_run(dados, num_clusters, m=2, max_iter=10**3, epsilon=1e-5):\n",
    "    mfcm = MFCM(c=num_clusters, X=dados, m=m) # create the MFCM object\n",
    "    \n",
    "    U = mfcm.initialize_u() # initialize the membership matrix\n",
    "    \n",
    "    for _ in range(max_iter):\n",
    "        centroids = mfcm.find_centroides(dados, U)\n",
    "        D = mfcm.get_distances(dados, centroids)\n",
    "        new_U = mfcm.update_u(D)\n",
    "        if np.linalg.norm(U - new_U) < epsilon:\n",
    "            break\n",
    "        U = new_U\n",
    "    \n",
    "    Delta = np.sum(U, axis=2)  # summing over the second axis (variables `j`)\n",
    "    \n",
    "    return centroids, U, Delta"
   ]
  },
  {
   "cell_type": "markdown",
   "id": "f037a9b7",
   "metadata": {},
   "source": [
    "## Simulação de Monte Carlo"
   ]
  },
  {
   "cell_type": "code",
   "execution_count": 16,
   "id": "eb6ea49f",
   "metadata": {},
   "outputs": [],
   "source": [
    "def monte_carlo_simulation(dados, labels, num_clusters, num_trials):\n",
    "    results = []\n",
    "    for _ in range(num_trials):\n",
    "        centroids, U, Delta = mfcm_run(dados, num_clusters)\n",
    "        predicted_labels = np.argmax(Delta, axis=1)\n",
    "        ari = adjusted_rand_score(labels, predicted_labels)\n",
    "        results.append(ari)\n",
    "    mean_rand_index = np.mean(results)\n",
    "    std_rand_index = np.std(results)\n",
    "    return mean_rand_index, std_rand_index"
   ]
  },
  {
   "cell_type": "code",
   "execution_count": 17,
   "id": "db4a1eec",
   "metadata": {},
   "outputs": [
    {
     "ename": "KeyboardInterrupt",
     "evalue": "",
     "output_type": "error",
     "traceback": [
      "\u001b[1;31m---------------------------------------------------------------------------\u001b[0m",
      "\u001b[1;31mKeyboardInterrupt\u001b[0m                         Traceback (most recent call last)",
      "Cell \u001b[1;32mIn[17], line 3\u001b[0m\n\u001b[0;32m      1\u001b[0m num_clusters \u001b[38;5;241m=\u001b[39m \u001b[38;5;241m3\u001b[39m\n\u001b[0;32m      2\u001b[0m num_trials \u001b[38;5;241m=\u001b[39m \u001b[38;5;241m100\u001b[39m\n\u001b[1;32m----> 3\u001b[0m mean_rand_index, std_rand_index \u001b[38;5;241m=\u001b[39m \u001b[43mmonte_carlo_simulation\u001b[49m\u001b[43m(\u001b[49m\u001b[43mdados\u001b[49m\u001b[43m,\u001b[49m\u001b[43m \u001b[49m\u001b[43mlabels\u001b[49m\u001b[43m,\u001b[49m\u001b[43m \u001b[49m\u001b[43mnum_clusters\u001b[49m\u001b[43m,\u001b[49m\u001b[43m \u001b[49m\u001b[43mnum_trials\u001b[49m\u001b[43m)\u001b[49m\n\u001b[0;32m      5\u001b[0m \u001b[38;5;28mprint\u001b[39m(\u001b[38;5;124mf\u001b[39m\u001b[38;5;124m\"\u001b[39m\u001b[38;5;124mMean ARI: \u001b[39m\u001b[38;5;132;01m{\u001b[39;00mmean_rand_index\u001b[38;5;132;01m}\u001b[39;00m\u001b[38;5;124m\"\u001b[39m)\n\u001b[0;32m      6\u001b[0m \u001b[38;5;28mprint\u001b[39m(\u001b[38;5;124mf\u001b[39m\u001b[38;5;124m\"\u001b[39m\u001b[38;5;124mStd ARI: \u001b[39m\u001b[38;5;132;01m{\u001b[39;00mstd_rand_index\u001b[38;5;132;01m}\u001b[39;00m\u001b[38;5;124m\"\u001b[39m)\n",
      "Cell \u001b[1;32mIn[16], line 4\u001b[0m, in \u001b[0;36mmonte_carlo_simulation\u001b[1;34m(dados, labels, num_clusters, num_trials)\u001b[0m\n\u001b[0;32m      2\u001b[0m results \u001b[38;5;241m=\u001b[39m []\n\u001b[0;32m      3\u001b[0m \u001b[38;5;28;01mfor\u001b[39;00m _ \u001b[38;5;129;01min\u001b[39;00m \u001b[38;5;28mrange\u001b[39m(num_trials):\n\u001b[1;32m----> 4\u001b[0m     centroids, U, Delta \u001b[38;5;241m=\u001b[39m \u001b[43mmfcm_run\u001b[49m\u001b[43m(\u001b[49m\u001b[43mdados\u001b[49m\u001b[43m,\u001b[49m\u001b[43m \u001b[49m\u001b[43mnum_clusters\u001b[49m\u001b[43m)\u001b[49m\n\u001b[0;32m      5\u001b[0m     predicted_labels \u001b[38;5;241m=\u001b[39m np\u001b[38;5;241m.\u001b[39margmax(Delta, axis\u001b[38;5;241m=\u001b[39m\u001b[38;5;241m1\u001b[39m)\n\u001b[0;32m      6\u001b[0m     ari \u001b[38;5;241m=\u001b[39m adjusted_rand_score(labels, predicted_labels)\n",
      "Cell \u001b[1;32mIn[11], line 10\u001b[0m, in \u001b[0;36mmfcm_run\u001b[1;34m(dados, num_clusters, m, max_iter, epsilon)\u001b[0m\n\u001b[0;32m      8\u001b[0m D \u001b[38;5;241m=\u001b[39m mfcm\u001b[38;5;241m.\u001b[39mget_distances(dados, centroids)\n\u001b[0;32m      9\u001b[0m new_U \u001b[38;5;241m=\u001b[39m mfcm\u001b[38;5;241m.\u001b[39mupdate_u(D)\n\u001b[1;32m---> 10\u001b[0m \u001b[38;5;28;01mif\u001b[39;00m \u001b[43mnp\u001b[49m\u001b[38;5;241;43m.\u001b[39;49m\u001b[43mlinalg\u001b[49m\u001b[38;5;241;43m.\u001b[39;49m\u001b[43mnorm\u001b[49m\u001b[43m(\u001b[49m\u001b[43mU\u001b[49m\u001b[43m \u001b[49m\u001b[38;5;241;43m-\u001b[39;49m\u001b[43m \u001b[49m\u001b[43mnew_U\u001b[49m\u001b[43m)\u001b[49m \u001b[38;5;241m<\u001b[39m epsilon:\n\u001b[0;32m     11\u001b[0m     \u001b[38;5;28;01mbreak\u001b[39;00m\n\u001b[0;32m     12\u001b[0m U \u001b[38;5;241m=\u001b[39m new_U\n",
      "File \u001b[1;32m<__array_function__ internals>:177\u001b[0m, in \u001b[0;36mnorm\u001b[1;34m(*args, **kwargs)\u001b[0m\n",
      "\u001b[1;31mKeyboardInterrupt\u001b[0m: "
     ]
    }
   ],
   "source": [
    "num_clusters = 3\n",
    "num_trials = 100\n",
    "mean_rand_index, std_rand_index = monte_carlo_simulation(dados, labels, num_clusters, num_trials)\n",
    "\n",
    "print(f\"Mean ARI: {mean_rand_index}\")\n",
    "print(f\"Std ARI: {std_rand_index}\")"
   ]
  }
 ],
 "metadata": {
  "kernelspec": {
   "display_name": "Python 3",
   "language": "python",
   "name": "python3"
  },
  "language_info": {
   "codemirror_mode": {
    "name": "ipython",
    "version": 3
   },
   "file_extension": ".py",
   "mimetype": "text/x-python",
   "name": "python",
   "nbconvert_exporter": "python",
   "pygments_lexer": "ipython3",
   "version": "3.11.3"
  }
 },
 "nbformat": 4,
 "nbformat_minor": 5
}
