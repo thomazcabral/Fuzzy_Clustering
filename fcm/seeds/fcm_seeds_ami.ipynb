{
  "cells": [
    {
      "cell_type": "markdown",
      "metadata": {
        "id": "X-5_kzR-_0cO"
      },
      "source": [
        "## Tratamento dos dados"
      ]
    },
    {
      "cell_type": "markdown",
      "metadata": {
        "id": "VnzujkKg_6xC"
      },
      "source": [
        "### Importando bibliotecas"
      ]
    },
    {
      "cell_type": "code",
      "execution_count": 1,
      "metadata": {
        "id": "v9xQo6eL_vTW"
      },
      "outputs": [],
      "source": [
        "import numpy as np\n",
        "from sklearn.metrics import adjusted_mutual_info_score\n",
        "import pandas as pd"
      ]
    },
    {
      "cell_type": "markdown",
      "metadata": {
        "id": "97ZB6HLiABGf"
      },
      "source": [
        "### Importando o dataset"
      ]
    },
    {
      "cell_type": "code",
      "execution_count": 2,
      "metadata": {
        "colab": {
          "base_uri": "https://localhost:8080/",
          "height": 206
        },
        "id": "HAoOUquR_vTX",
        "outputId": "fead88ad-66d1-4cb3-cee0-55dc8386a879"
      },
      "outputs": [
        {
          "data": {
            "text/html": [
              "<div>\n",
              "<style scoped>\n",
              "    .dataframe tbody tr th:only-of-type {\n",
              "        vertical-align: middle;\n",
              "    }\n",
              "\n",
              "    .dataframe tbody tr th {\n",
              "        vertical-align: top;\n",
              "    }\n",
              "\n",
              "    .dataframe thead th {\n",
              "        text-align: right;\n",
              "    }\n",
              "</style>\n",
              "<table border=\"1\" class=\"dataframe\">\n",
              "  <thead>\n",
              "    <tr style=\"text-align: right;\">\n",
              "      <th></th>\n",
              "      <th>V1</th>\n",
              "      <th>V2</th>\n",
              "      <th>V3</th>\n",
              "      <th>V4</th>\n",
              "      <th>V5</th>\n",
              "      <th>V6</th>\n",
              "      <th>V7</th>\n",
              "      <th>V8</th>\n",
              "    </tr>\n",
              "  </thead>\n",
              "  <tbody>\n",
              "    <tr>\n",
              "      <th>0</th>\n",
              "      <td>15.26</td>\n",
              "      <td>14.84</td>\n",
              "      <td>0.8710</td>\n",
              "      <td>5.763</td>\n",
              "      <td>3.312</td>\n",
              "      <td>2.221</td>\n",
              "      <td>5.220</td>\n",
              "      <td>1</td>\n",
              "    </tr>\n",
              "    <tr>\n",
              "      <th>1</th>\n",
              "      <td>14.88</td>\n",
              "      <td>14.57</td>\n",
              "      <td>0.8811</td>\n",
              "      <td>5.554</td>\n",
              "      <td>3.333</td>\n",
              "      <td>1.018</td>\n",
              "      <td>4.956</td>\n",
              "      <td>1</td>\n",
              "    </tr>\n",
              "    <tr>\n",
              "      <th>2</th>\n",
              "      <td>14.29</td>\n",
              "      <td>14.09</td>\n",
              "      <td>0.9050</td>\n",
              "      <td>5.291</td>\n",
              "      <td>3.337</td>\n",
              "      <td>2.699</td>\n",
              "      <td>4.825</td>\n",
              "      <td>1</td>\n",
              "    </tr>\n",
              "    <tr>\n",
              "      <th>3</th>\n",
              "      <td>13.84</td>\n",
              "      <td>13.94</td>\n",
              "      <td>0.8955</td>\n",
              "      <td>5.324</td>\n",
              "      <td>3.379</td>\n",
              "      <td>2.259</td>\n",
              "      <td>4.805</td>\n",
              "      <td>1</td>\n",
              "    </tr>\n",
              "    <tr>\n",
              "      <th>4</th>\n",
              "      <td>16.14</td>\n",
              "      <td>14.99</td>\n",
              "      <td>0.9034</td>\n",
              "      <td>5.658</td>\n",
              "      <td>3.562</td>\n",
              "      <td>1.355</td>\n",
              "      <td>5.175</td>\n",
              "      <td>1</td>\n",
              "    </tr>\n",
              "  </tbody>\n",
              "</table>\n",
              "</div>"
            ],
            "text/plain": [
              "      V1     V2      V3     V4     V5     V6     V7  V8\n",
              "0  15.26  14.84  0.8710  5.763  3.312  2.221  5.220   1\n",
              "1  14.88  14.57  0.8811  5.554  3.333  1.018  4.956   1\n",
              "2  14.29  14.09  0.9050  5.291  3.337  2.699  4.825   1\n",
              "3  13.84  13.94  0.8955  5.324  3.379  2.259  4.805   1\n",
              "4  16.14  14.99  0.9034  5.658  3.562  1.355  5.175   1"
            ]
          },
          "execution_count": 2,
          "metadata": {},
          "output_type": "execute_result"
        }
      ],
      "source": [
        "df = pd.read_csv('/workspaces/Fuzzy_Clustering/datasets/seeds.csv')\n",
        "df.head()"
      ]
    },
    {
      "cell_type": "markdown",
      "metadata": {
        "id": "0OgIuCvSAC-H"
      },
      "source": [
        "### Verificando as classes"
      ]
    },
    {
      "cell_type": "code",
      "execution_count": 3,
      "metadata": {
        "colab": {
          "base_uri": "https://localhost:8080/"
        },
        "id": "lAoGnG8I_vTY",
        "outputId": "d0e0153f-7c28-437b-a410-f864c4f91690"
      },
      "outputs": [
        {
          "data": {
            "text/plain": [
              "array([1, 2, 3])"
            ]
          },
          "execution_count": 3,
          "metadata": {},
          "output_type": "execute_result"
        }
      ],
      "source": [
        "df[\"V8\"].unique()"
      ]
    },
    {
      "cell_type": "markdown",
      "metadata": {
        "id": "yM8ClaGCAFFe"
      },
      "source": [
        "### Verificando o nome exato das colunas"
      ]
    },
    {
      "cell_type": "code",
      "execution_count": 4,
      "metadata": {
        "colab": {
          "base_uri": "https://localhost:8080/"
        },
        "id": "aq_ASvf0_vTZ",
        "outputId": "2776bff8-05e0-4c41-e107-14dbc89e2ffa"
      },
      "outputs": [
        {
          "data": {
            "text/plain": [
              "Index(['V1', 'V2', 'V3', 'V4', 'V5', 'V6', 'V7', 'V8'], dtype='object')"
            ]
          },
          "execution_count": 4,
          "metadata": {},
          "output_type": "execute_result"
        }
      ],
      "source": [
        "df.columns"
      ]
    },
    {
      "cell_type": "markdown",
      "metadata": {
        "id": "UgRt0wHhAJSV"
      },
      "source": [
        "### Retirando variáveis inúteis e transformando classes em números"
      ]
    },
    {
      "cell_type": "code",
      "execution_count": 5,
      "metadata": {
        "colab": {
          "base_uri": "https://localhost:8080/",
          "height": 347
        },
        "id": "lEgGq8A7_vTZ",
        "outputId": "84553f65-ab56-4154-c6c5-7d4655f9f8c3"
      },
      "outputs": [
        {
          "name": "stderr",
          "output_type": "stream",
          "text": [
            "/tmp/ipykernel_19096/411401851.py:2: FutureWarning: A value is trying to be set on a copy of a DataFrame or Series through chained assignment using an inplace method.\n",
            "The behavior will change in pandas 3.0. This inplace method will never work because the intermediate object on which we are setting values always behaves as a copy.\n",
            "\n",
            "For example, when doing 'df[col].method(value, inplace=True)', try using 'df.method({col: value}, inplace=True)' or df[col] = df[col].method(value) instead, to perform the operation inplace on the original object.\n",
            "\n",
            "\n",
            "  df[\"Class\"].replace({1: 0, 2: 1, 3: 2}, inplace=True)\n"
          ]
        },
        {
          "data": {
            "text/html": [
              "<div>\n",
              "<style scoped>\n",
              "    .dataframe tbody tr th:only-of-type {\n",
              "        vertical-align: middle;\n",
              "    }\n",
              "\n",
              "    .dataframe tbody tr th {\n",
              "        vertical-align: top;\n",
              "    }\n",
              "\n",
              "    .dataframe thead th {\n",
              "        text-align: right;\n",
              "    }\n",
              "</style>\n",
              "<table border=\"1\" class=\"dataframe\">\n",
              "  <thead>\n",
              "    <tr style=\"text-align: right;\">\n",
              "      <th></th>\n",
              "      <th>V1</th>\n",
              "      <th>V2</th>\n",
              "      <th>V3</th>\n",
              "      <th>V4</th>\n",
              "      <th>V5</th>\n",
              "      <th>V6</th>\n",
              "      <th>V7</th>\n",
              "      <th>Class</th>\n",
              "    </tr>\n",
              "  </thead>\n",
              "  <tbody>\n",
              "    <tr>\n",
              "      <th>0</th>\n",
              "      <td>15.26</td>\n",
              "      <td>14.84</td>\n",
              "      <td>0.8710</td>\n",
              "      <td>5.763</td>\n",
              "      <td>3.312</td>\n",
              "      <td>2.221</td>\n",
              "      <td>5.220</td>\n",
              "      <td>0</td>\n",
              "    </tr>\n",
              "    <tr>\n",
              "      <th>1</th>\n",
              "      <td>14.88</td>\n",
              "      <td>14.57</td>\n",
              "      <td>0.8811</td>\n",
              "      <td>5.554</td>\n",
              "      <td>3.333</td>\n",
              "      <td>1.018</td>\n",
              "      <td>4.956</td>\n",
              "      <td>0</td>\n",
              "    </tr>\n",
              "    <tr>\n",
              "      <th>2</th>\n",
              "      <td>14.29</td>\n",
              "      <td>14.09</td>\n",
              "      <td>0.9050</td>\n",
              "      <td>5.291</td>\n",
              "      <td>3.337</td>\n",
              "      <td>2.699</td>\n",
              "      <td>4.825</td>\n",
              "      <td>0</td>\n",
              "    </tr>\n",
              "    <tr>\n",
              "      <th>3</th>\n",
              "      <td>13.84</td>\n",
              "      <td>13.94</td>\n",
              "      <td>0.8955</td>\n",
              "      <td>5.324</td>\n",
              "      <td>3.379</td>\n",
              "      <td>2.259</td>\n",
              "      <td>4.805</td>\n",
              "      <td>0</td>\n",
              "    </tr>\n",
              "    <tr>\n",
              "      <th>4</th>\n",
              "      <td>16.14</td>\n",
              "      <td>14.99</td>\n",
              "      <td>0.9034</td>\n",
              "      <td>5.658</td>\n",
              "      <td>3.562</td>\n",
              "      <td>1.355</td>\n",
              "      <td>5.175</td>\n",
              "      <td>0</td>\n",
              "    </tr>\n",
              "  </tbody>\n",
              "</table>\n",
              "</div>"
            ],
            "text/plain": [
              "      V1     V2      V3     V4     V5     V6     V7  Class\n",
              "0  15.26  14.84  0.8710  5.763  3.312  2.221  5.220      0\n",
              "1  14.88  14.57  0.8811  5.554  3.333  1.018  4.956      0\n",
              "2  14.29  14.09  0.9050  5.291  3.337  2.699  4.825      0\n",
              "3  13.84  13.94  0.8955  5.324  3.379  2.259  4.805      0\n",
              "4  16.14  14.99  0.9034  5.658  3.562  1.355  5.175      0"
            ]
          },
          "execution_count": 5,
          "metadata": {},
          "output_type": "execute_result"
        }
      ],
      "source": [
        "df = df.rename(columns={'V8': 'Class'})\n",
        "df[\"Class\"].replace({1: 0, 2: 1, 3: 2}, inplace=True)\n",
        "df.head()"
      ]
    },
    {
      "cell_type": "markdown",
      "metadata": {
        "id": "_F_lqJvUAMNS"
      },
      "source": [
        "### Verificando a corretude das classes"
      ]
    },
    {
      "cell_type": "code",
      "execution_count": 6,
      "metadata": {
        "colab": {
          "base_uri": "https://localhost:8080/"
        },
        "id": "qyG27x5r_vTZ",
        "outputId": "0b0b25d3-fd0e-4ba1-d04f-739fcc749ee1"
      },
      "outputs": [
        {
          "data": {
            "text/plain": [
              "array([0, 1, 2])"
            ]
          },
          "execution_count": 6,
          "metadata": {},
          "output_type": "execute_result"
        }
      ],
      "source": [
        "df[\"Class\"].unique()"
      ]
    },
    {
      "cell_type": "markdown",
      "metadata": {
        "id": "JaUr6zV-APT_"
      },
      "source": [
        "### Armazenando as classes em uma variável separada"
      ]
    },
    {
      "cell_type": "code",
      "execution_count": 7,
      "metadata": {
        "colab": {
          "base_uri": "https://localhost:8080/"
        },
        "id": "DVYRw-XH_vTa",
        "outputId": "61e29dd0-e59d-4361-a0cf-5340d91c7a1a"
      },
      "outputs": [
        {
          "data": {
            "text/plain": [
              "array([0, 0, 0, 0, 0, 0, 0, 0, 0, 0, 0, 0, 0, 0, 0, 0, 0, 0, 0, 0, 0, 0,\n",
              "       0, 0, 0, 0, 0, 0, 0, 0, 0, 0, 0, 0, 0, 0, 0, 0, 0, 0, 0, 0, 0, 0,\n",
              "       0, 0, 0, 0, 0, 0, 0, 0, 0, 0, 0, 0, 0, 0, 0, 0, 0, 0, 0, 0, 0, 0,\n",
              "       0, 0, 0, 0, 1, 1, 1, 1, 1, 1, 1, 1, 1, 1, 1, 1, 1, 1, 1, 1, 1, 1,\n",
              "       1, 1, 1, 1, 1, 1, 1, 1, 1, 1, 1, 1, 1, 1, 1, 1, 1, 1, 1, 1, 1, 1,\n",
              "       1, 1, 1, 1, 1, 1, 1, 1, 1, 1, 1, 1, 1, 1, 1, 1, 1, 1, 1, 1, 1, 1,\n",
              "       1, 1, 1, 1, 1, 1, 1, 1, 2, 2, 2, 2, 2, 2, 2, 2, 2, 2, 2, 2, 2, 2,\n",
              "       2, 2, 2, 2, 2, 2, 2, 2, 2, 2, 2, 2, 2, 2, 2, 2, 2, 2, 2, 2, 2, 2,\n",
              "       2, 2, 2, 2, 2, 2, 2, 2, 2, 2, 2, 2, 2, 2, 2, 2, 2, 2, 2, 2, 2, 2,\n",
              "       2, 2, 2, 2, 2, 2, 2, 2, 2, 2, 2, 2])"
            ]
          },
          "execution_count": 7,
          "metadata": {},
          "output_type": "execute_result"
        }
      ],
      "source": [
        "labels = df[\"Class\"].values\n",
        "labels"
      ]
    },
    {
      "cell_type": "code",
      "execution_count": 8,
      "metadata": {
        "colab": {
          "base_uri": "https://localhost:8080/",
          "height": 206
        },
        "id": "ioHrpg_i_vTa",
        "outputId": "99165883-16c8-45c1-d6b0-3e0dc0ca0edc"
      },
      "outputs": [
        {
          "data": {
            "text/html": [
              "<div>\n",
              "<style scoped>\n",
              "    .dataframe tbody tr th:only-of-type {\n",
              "        vertical-align: middle;\n",
              "    }\n",
              "\n",
              "    .dataframe tbody tr th {\n",
              "        vertical-align: top;\n",
              "    }\n",
              "\n",
              "    .dataframe thead th {\n",
              "        text-align: right;\n",
              "    }\n",
              "</style>\n",
              "<table border=\"1\" class=\"dataframe\">\n",
              "  <thead>\n",
              "    <tr style=\"text-align: right;\">\n",
              "      <th></th>\n",
              "      <th>V1</th>\n",
              "      <th>V2</th>\n",
              "      <th>V3</th>\n",
              "      <th>V4</th>\n",
              "      <th>V5</th>\n",
              "      <th>V6</th>\n",
              "      <th>V7</th>\n",
              "    </tr>\n",
              "  </thead>\n",
              "  <tbody>\n",
              "    <tr>\n",
              "      <th>0</th>\n",
              "      <td>15.26</td>\n",
              "      <td>14.84</td>\n",
              "      <td>0.8710</td>\n",
              "      <td>5.763</td>\n",
              "      <td>3.312</td>\n",
              "      <td>2.221</td>\n",
              "      <td>5.220</td>\n",
              "    </tr>\n",
              "    <tr>\n",
              "      <th>1</th>\n",
              "      <td>14.88</td>\n",
              "      <td>14.57</td>\n",
              "      <td>0.8811</td>\n",
              "      <td>5.554</td>\n",
              "      <td>3.333</td>\n",
              "      <td>1.018</td>\n",
              "      <td>4.956</td>\n",
              "    </tr>\n",
              "    <tr>\n",
              "      <th>2</th>\n",
              "      <td>14.29</td>\n",
              "      <td>14.09</td>\n",
              "      <td>0.9050</td>\n",
              "      <td>5.291</td>\n",
              "      <td>3.337</td>\n",
              "      <td>2.699</td>\n",
              "      <td>4.825</td>\n",
              "    </tr>\n",
              "    <tr>\n",
              "      <th>3</th>\n",
              "      <td>13.84</td>\n",
              "      <td>13.94</td>\n",
              "      <td>0.8955</td>\n",
              "      <td>5.324</td>\n",
              "      <td>3.379</td>\n",
              "      <td>2.259</td>\n",
              "      <td>4.805</td>\n",
              "    </tr>\n",
              "    <tr>\n",
              "      <th>4</th>\n",
              "      <td>16.14</td>\n",
              "      <td>14.99</td>\n",
              "      <td>0.9034</td>\n",
              "      <td>5.658</td>\n",
              "      <td>3.562</td>\n",
              "      <td>1.355</td>\n",
              "      <td>5.175</td>\n",
              "    </tr>\n",
              "  </tbody>\n",
              "</table>\n",
              "</div>"
            ],
            "text/plain": [
              "      V1     V2      V3     V4     V5     V6     V7\n",
              "0  15.26  14.84  0.8710  5.763  3.312  2.221  5.220\n",
              "1  14.88  14.57  0.8811  5.554  3.333  1.018  4.956\n",
              "2  14.29  14.09  0.9050  5.291  3.337  2.699  4.825\n",
              "3  13.84  13.94  0.8955  5.324  3.379  2.259  4.805\n",
              "4  16.14  14.99  0.9034  5.658  3.562  1.355  5.175"
            ]
          },
          "execution_count": 8,
          "metadata": {},
          "output_type": "execute_result"
        }
      ],
      "source": [
        "df.drop(\"Class\", axis=1, inplace=True)\n",
        "df.head()"
      ]
    },
    {
      "cell_type": "markdown",
      "metadata": {
        "id": "8KVaor6pAX3k"
      },
      "source": [
        "### Retirando a classe para isolar as variáveis"
      ]
    },
    {
      "cell_type": "code",
      "execution_count": 9,
      "metadata": {
        "colab": {
          "base_uri": "https://localhost:8080/"
        },
        "id": "rL-WKL9K_vTa",
        "outputId": "cbcf04f1-2ba3-4b1c-f81c-80e749038375"
      },
      "outputs": [
        {
          "data": {
            "text/plain": [
              "array([[15.26  , 14.84  ,  0.871 , ...,  3.312 ,  2.221 ,  5.22  ],\n",
              "       [14.88  , 14.57  ,  0.8811, ...,  3.333 ,  1.018 ,  4.956 ],\n",
              "       [14.29  , 14.09  ,  0.905 , ...,  3.337 ,  2.699 ,  4.825 ],\n",
              "       ...,\n",
              "       [13.2   , 13.66  ,  0.8883, ...,  3.232 ,  8.315 ,  5.056 ],\n",
              "       [11.84  , 13.21  ,  0.8521, ...,  2.836 ,  3.598 ,  5.044 ],\n",
              "       [12.3   , 13.34  ,  0.8684, ...,  2.974 ,  5.637 ,  5.063 ]],\n",
              "      shape=(210, 7))"
            ]
          },
          "execution_count": 9,
          "metadata": {},
          "output_type": "execute_result"
        }
      ],
      "source": [
        "dados = df.to_numpy()\n",
        "dados"
      ]
    },
    {
      "cell_type": "markdown",
      "metadata": {
        "id": "d5iBHEpvAmkq"
      },
      "source": [
        "## Clustering"
      ]
    },
    {
      "cell_type": "markdown",
      "metadata": {
        "id": "7eqKU05YAn_b"
      },
      "source": [
        "### Inicialização da matriz de pertinência"
      ]
    },
    {
      "cell_type": "markdown",
      "metadata": {
        "id": "xgjmQE_OAp21"
      },
      "source": [
        "A matriz de pertinência é inicializada aleatoriamente $u_{ik}(i=1,...c$ e $k=1,...,n)$ do objeto $k$ pertencente ao grupo $C_i$ tal que:\n",
        "- $u_{ik} \\in [0,1]$;\n",
        "- $0 < \\sum_{k=1}^nu_{ik} < n$;\n",
        "- $\\sum_{i=1}^cu_{ik} = 1$ para todo $k \\in \\Omega$."
      ]
    },
    {
      "cell_type": "code",
      "execution_count": 10,
      "metadata": {
        "id": "-wfMM6QjAr71"
      },
      "outputs": [],
      "source": [
        "def inicializao_matriz_pertinencia(num_amostras, num_clusters):\n",
        "    matriz_pertinencia = np.random.rand(num_amostras, num_clusters) # gera uma matriz inicial aleatória com valores entre 0 e 1\n",
        "    matriz_pertinencia = matriz_pertinencia / matriz_pertinencia.sum(axis=1, keepdims=True) # normalização da matriz pra garantir que a soma dos graus dê um\n",
        "    return matriz_pertinencia"
      ]
    },
    {
      "cell_type": "markdown",
      "metadata": {
        "id": "pzZVWXpcAw61"
      },
      "source": [
        "### Atualização dos centroides"
      ]
    },
    {
      "cell_type": "markdown",
      "metadata": {
        "id": "Q-7TBwkIAy2H"
      },
      "source": [
        "Fixo os graus de pertinência, os centroides são atualizados com base nessa equação:\n",
        "\n",
        "### $y_i = \\frac{\\sum_{k=1}^n(u_{ik})^mx_k}{\\sum_{k=1}^n(u_{ik})^m}$"
      ]
    },
    {
      "cell_type": "code",
      "execution_count": 11,
      "metadata": {
        "id": "5UEHGtMMA7bD"
      },
      "outputs": [],
      "source": [
        "def atualizacao_centroides(dados, matriz_pertinencia, m):\n",
        "    matriz_pertinencia_m = matriz_pertinencia ** m # preparação dos graus de pertinência\n",
        "    centroides = np.dot(matriz_pertinencia_m.T, dados) / np.sum(matriz_pertinencia_m.T, axis=1, keepdims=True) # fórmula para o cálculo dos centroides\n",
        "    return centroides"
      ]
    },
    {
      "cell_type": "markdown",
      "metadata": {
        "id": "iwNFRpw_A81-"
      },
      "source": [
        "### Atualização da matriz de pertinência"
      ]
    },
    {
      "cell_type": "markdown",
      "metadata": {
        "id": "E-kg2pxRA9Te"
      },
      "source": [
        "Fixo o protótipo, os graus de pertinência são atualizados com base nessa equação:\n",
        "\n",
        "### $u_{ik}[\\sum_{h=1}^c\\{\\frac{d(x_k,y_i)}{d(x_k,y_h)}\\}^\\frac{1}{m-1}]^{-1}$\n",
        "\n",
        "onde\n",
        "\n",
        "$d(x_k,y_i) = \\sum_{j=1}^p(x_k^j-y_i^j)^2$"
      ]
    },
    {
      "cell_type": "code",
      "execution_count": 12,
      "metadata": {
        "id": "e75eiSY2BAeI"
      },
      "outputs": [],
      "source": [
        "def atualizacao_matriz_pertinencia(dados, centroides, m): # talvez a fórmula para calcular a matriz de pertinência esteja errada\n",
        "    # dados[:, np.newaxis] - centroides cria uma matriz de diferenças entre os pontos de dados e os centroides\n",
        "    # np.linalg.norm(..., axis=2) calcula a norma (distância euclidiana) das diferenças\n",
        "    # ** 2 para a distância ser a quadrada\n",
        "    matriz_distancias = np.linalg.norm(dados[:, np.newaxis] - centroides, axis=2) ** 2\n",
        "    matriz_distancias = np.fmax(matriz_distancias, np.finfo(np.float64).eps) # evita que matriz_distancias seja 0, np.finfo... é o menor número maior que zero aaqui\n",
        "    matriz_distancias_inversa = 1 / matriz_distancias\n",
        "    potencia = 1 / (m-1)\n",
        "    matriz_pertinencia_atualizada = matriz_distancias_inversa ** potencia/ np.sum(matriz_distancias_inversa ** potencia, axis=1, keepdims=True) # fórmula para atualizar os graus de pertinência\n",
        "    return matriz_pertinencia_atualizada"
      ]
    },
    {
      "cell_type": "markdown",
      "metadata": {
        "id": "GN4qqayDBCfP"
      },
      "source": [
        "### Fuzzy C-Means"
      ]
    },
    {
      "cell_type": "markdown",
      "metadata": {
        "id": "ES1PPCEYBDsv"
      },
      "source": [
        "Ações:\n",
        "1. Inicialização da matriz de pertinência\n",
        "2. Atualização dos centroides\n",
        "3. Atualização da matriz de pertinência\n",
        "\n",
        "Critérios de parada:\n",
        "1. Número máximo de iterações atingido\n",
        "2. Pouca diferença (erro) entre as matrizes de pertinência de iterações consecutivas"
      ]
    },
    {
      "cell_type": "code",
      "execution_count": 13,
      "metadata": {
        "id": "LGX-CxDmBF4l"
      },
      "outputs": [],
      "source": [
        "def fcm(dados, num_clusters, m=2, max_iter=1000, erro=1e-5):\n",
        "    num_amostras = dados.shape[0]\n",
        "    matriz_pertinencia = inicializao_matriz_pertinencia(num_amostras, num_clusters)\n",
        "    for _ in range(max_iter): # primeiro critério de parada\n",
        "        centroides = atualizacao_centroides(dados, matriz_pertinencia, m)\n",
        "        nova_matriz_pertinencia = atualizacao_matriz_pertinencia(dados, centroides, m)\n",
        "        if np.linalg.norm(nova_matriz_pertinencia - matriz_pertinencia) < erro: # segundo critério de parada\n",
        "            break\n",
        "        matriz_pertinencia = nova_matriz_pertinencia\n",
        "    return centroides, matriz_pertinencia"
      ]
    },
    {
      "cell_type": "markdown",
      "metadata": {
        "id": "0L2ILGCdBKAr"
      },
      "source": [
        "### Índice de Rand Ajustado (IRA)"
      ]
    },
    {
      "cell_type": "code",
      "execution_count": 14,
      "metadata": {
        "id": "yupjY7ZoBNpL"
      },
      "outputs": [],
      "source": [
        "def indice_ami(labels, predicted_labels):\n",
        "    return adjusted_mutual_info_score(labels, predicted_labels)"
      ]
    },
    {
      "cell_type": "markdown",
      "metadata": {
        "id": "NwsraaD_BOYI"
      },
      "source": [
        "### Simulação de Monte Carlo"
      ]
    },
    {
      "cell_type": "code",
      "execution_count": 15,
      "metadata": {
        "id": "iunOfj51_vTb"
      },
      "outputs": [],
      "source": [
        "def simulacao_monte_carlo(dados, labels, num_clusters, num_trials):\n",
        "    indices_rand = []\n",
        "    for _ in range(num_trials):\n",
        "        centroides, matriz_pertinencia = fcm(dados, num_clusters)\n",
        "        predicted_labels = np.argmax(matriz_pertinencia, axis=1)\n",
        "        idx_ami = indice_ami(labels, predicted_labels)\n",
        "        indices_rand.append(idx_ami)\n",
        "    mean_ami = np.mean(indices_rand)\n",
        "    std_ami = np.std(indices_rand)\n",
        "    return mean_ami, std_ami"
      ]
    },
    {
      "cell_type": "markdown",
      "metadata": {
        "id": "7njVCaopBW1L"
      },
      "source": [
        "### Definição de parâmetros e execução do método"
      ]
    },
    {
      "cell_type": "code",
      "execution_count": 16,
      "metadata": {
        "colab": {
          "base_uri": "https://localhost:8080/"
        },
        "id": "bwMeGgYu_vTb",
        "outputId": "86ad1d30-bec0-46ed-c801-a44d1bfbc099"
      },
      "outputs": [
        {
          "name": "stdout",
          "output_type": "stream",
          "text": [
            "Monte Carlo FCM Clustering Results (100 trials)\n",
            "Mean Rand Index: 0.6922\n",
            "Standard Deviation of Rand Index: 0.0000\n"
          ]
        }
      ],
      "source": [
        "num_clusters = 3\n",
        "num_trials = 100\n",
        "media_indice_ami, dp_indice_ami = simulacao_monte_carlo(dados, labels, num_clusters, num_trials)\n",
        "\n",
        "print(f\"Monte Carlo FCM Clustering Results ({num_trials} trials)\")\n",
        "print(f\"Mean Rand Index: {media_indice_ami:.4f}\")\n",
        "print(f\"Standard Deviation of Rand Index: {dp_indice_ami:.4f}\")"
      ]
    }
  ],
  "metadata": {
    "colab": {
      "provenance": []
    },
    "kernelspec": {
      "display_name": "Python 3",
      "language": "python",
      "name": "python3"
    },
    "language_info": {
      "codemirror_mode": {
        "name": "ipython",
        "version": 3
      },
      "file_extension": ".py",
      "mimetype": "text/x-python",
      "name": "python",
      "nbconvert_exporter": "python",
      "pygments_lexer": "ipython3",
      "version": "3.12.1"
    }
  },
  "nbformat": 4,
  "nbformat_minor": 0
}
