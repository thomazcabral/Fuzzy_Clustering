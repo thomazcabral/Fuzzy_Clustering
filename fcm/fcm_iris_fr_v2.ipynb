{
 "cells": [
  {
   "cell_type": "markdown",
   "metadata": {
    "id": "tJsG3H__M7UL"
   },
   "source": [
    "# Fuzzy C-Means (FCM)"
   ]
  },
  {
   "cell_type": "code",
   "execution_count": 21,
   "metadata": {
    "id": "GAzys-jYM7UN"
   },
   "outputs": [],
   "source": [
    "import numpy as np\n",
    "import pandas as pd\n",
    "import seaborn as sns"
   ]
  },
  {
   "cell_type": "markdown",
   "metadata": {
    "id": "Dqs0lrF-M7UO"
   },
   "source": [
    "## Tratamento dos dados"
   ]
  },
  {
   "cell_type": "code",
   "execution_count": 22,
   "metadata": {
    "colab": {
     "base_uri": "https://localhost:8080/",
     "height": 73
    },
    "id": "9akebLpLNOvC",
    "outputId": "10afd9b1-573d-4e28-82e0-8fd2ce5a52dc"
   },
   "outputs": [
    {
     "data": {
      "text/html": [
       "<div>\n",
       "<style scoped>\n",
       "    .dataframe tbody tr th:only-of-type {\n",
       "        vertical-align: middle;\n",
       "    }\n",
       "\n",
       "    .dataframe tbody tr th {\n",
       "        vertical-align: top;\n",
       "    }\n",
       "\n",
       "    .dataframe thead th {\n",
       "        text-align: right;\n",
       "    }\n",
       "</style>\n",
       "<table border=\"1\" class=\"dataframe\">\n",
       "  <thead>\n",
       "    <tr style=\"text-align: right;\">\n",
       "      <th></th>\n",
       "      <th>Id</th>\n",
       "      <th>SepalLengthCm</th>\n",
       "      <th>SepalWidthCm</th>\n",
       "      <th>PetalLengthCm</th>\n",
       "      <th>PetalWidthCm</th>\n",
       "      <th>Species</th>\n",
       "    </tr>\n",
       "  </thead>\n",
       "  <tbody>\n",
       "    <tr>\n",
       "      <th>0</th>\n",
       "      <td>1</td>\n",
       "      <td>5.1</td>\n",
       "      <td>3.5</td>\n",
       "      <td>1.4</td>\n",
       "      <td>0.2</td>\n",
       "      <td>Iris-setosa</td>\n",
       "    </tr>\n",
       "    <tr>\n",
       "      <th>1</th>\n",
       "      <td>2</td>\n",
       "      <td>4.9</td>\n",
       "      <td>3.0</td>\n",
       "      <td>1.4</td>\n",
       "      <td>0.2</td>\n",
       "      <td>Iris-setosa</td>\n",
       "    </tr>\n",
       "    <tr>\n",
       "      <th>2</th>\n",
       "      <td>3</td>\n",
       "      <td>4.7</td>\n",
       "      <td>3.2</td>\n",
       "      <td>1.3</td>\n",
       "      <td>0.2</td>\n",
       "      <td>Iris-setosa</td>\n",
       "    </tr>\n",
       "    <tr>\n",
       "      <th>3</th>\n",
       "      <td>4</td>\n",
       "      <td>4.6</td>\n",
       "      <td>3.1</td>\n",
       "      <td>1.5</td>\n",
       "      <td>0.2</td>\n",
       "      <td>Iris-setosa</td>\n",
       "    </tr>\n",
       "    <tr>\n",
       "      <th>4</th>\n",
       "      <td>5</td>\n",
       "      <td>5.0</td>\n",
       "      <td>3.6</td>\n",
       "      <td>1.4</td>\n",
       "      <td>0.2</td>\n",
       "      <td>Iris-setosa</td>\n",
       "    </tr>\n",
       "  </tbody>\n",
       "</table>\n",
       "</div>"
      ],
      "text/plain": [
       "   Id  SepalLengthCm  SepalWidthCm  PetalLengthCm  PetalWidthCm      Species\n",
       "0   1            5.1           3.5            1.4           0.2  Iris-setosa\n",
       "1   2            4.9           3.0            1.4           0.2  Iris-setosa\n",
       "2   3            4.7           3.2            1.3           0.2  Iris-setosa\n",
       "3   4            4.6           3.1            1.5           0.2  Iris-setosa\n",
       "4   5            5.0           3.6            1.4           0.2  Iris-setosa"
      ]
     },
     "execution_count": 22,
     "metadata": {},
     "output_type": "execute_result"
    }
   ],
   "source": [
    "df = pd.read_csv(\"Iris.csv\")\n",
    "df.head()"
   ]
  },
  {
   "cell_type": "markdown",
   "metadata": {
    "id": "3uWXyt4TM7UP"
   },
   "source": [
    "### Verificando as classes"
   ]
  },
  {
   "cell_type": "code",
   "execution_count": 23,
   "metadata": {
    "colab": {
     "base_uri": "https://localhost:8080/"
    },
    "id": "blQ09J4eM7UP",
    "outputId": "84ae0899-866e-4b95-aaa5-ca7b795dc0c0"
   },
   "outputs": [
    {
     "data": {
      "text/plain": [
       "array(['Iris-setosa', 'Iris-versicolor', 'Iris-virginica'], dtype=object)"
      ]
     },
     "execution_count": 23,
     "metadata": {},
     "output_type": "execute_result"
    }
   ],
   "source": [
    "df[\"Species\"].unique()"
   ]
  },
  {
   "cell_type": "markdown",
   "metadata": {
    "id": "dlNEkEQqM7UP"
   },
   "source": [
    "### Verificando o nome exato das colunas"
   ]
  },
  {
   "cell_type": "code",
   "execution_count": 24,
   "metadata": {
    "colab": {
     "base_uri": "https://localhost:8080/"
    },
    "id": "AV7-c8NKM7UP",
    "outputId": "e0268fc4-b821-4734-ab4e-9df770b8df0c"
   },
   "outputs": [
    {
     "data": {
      "text/plain": [
       "Index(['Id', 'SepalLengthCm', 'SepalWidthCm', 'PetalLengthCm', 'PetalWidthCm',\n",
       "       'Species'],\n",
       "      dtype='object')"
      ]
     },
     "execution_count": 24,
     "metadata": {},
     "output_type": "execute_result"
    }
   ],
   "source": [
    "df.columns"
   ]
  },
  {
   "cell_type": "markdown",
   "metadata": {
    "id": "zZUi099PM7UQ"
   },
   "source": [
    "### Retirando variáveis inúteis e transformando classes em números"
   ]
  },
  {
   "cell_type": "code",
   "execution_count": 25,
   "metadata": {
    "colab": {
     "base_uri": "https://localhost:8080/",
     "height": 382
    },
    "id": "PcRlg4pxM7UQ",
    "outputId": "d3ecdf9e-3c75-41b0-8c73-1bca8fa8ff2a"
   },
   "outputs": [
    {
     "data": {
      "text/html": [
       "<div>\n",
       "<style scoped>\n",
       "    .dataframe tbody tr th:only-of-type {\n",
       "        vertical-align: middle;\n",
       "    }\n",
       "\n",
       "    .dataframe tbody tr th {\n",
       "        vertical-align: top;\n",
       "    }\n",
       "\n",
       "    .dataframe thead th {\n",
       "        text-align: right;\n",
       "    }\n",
       "</style>\n",
       "<table border=\"1\" class=\"dataframe\">\n",
       "  <thead>\n",
       "    <tr style=\"text-align: right;\">\n",
       "      <th></th>\n",
       "      <th>SepalLengthCm</th>\n",
       "      <th>SepalWidthCm</th>\n",
       "      <th>PetalLengthCm</th>\n",
       "      <th>PetalWidthCm</th>\n",
       "      <th>Species</th>\n",
       "    </tr>\n",
       "  </thead>\n",
       "  <tbody>\n",
       "    <tr>\n",
       "      <th>0</th>\n",
       "      <td>5.1</td>\n",
       "      <td>3.5</td>\n",
       "      <td>1.4</td>\n",
       "      <td>0.2</td>\n",
       "      <td>0</td>\n",
       "    </tr>\n",
       "    <tr>\n",
       "      <th>1</th>\n",
       "      <td>4.9</td>\n",
       "      <td>3.0</td>\n",
       "      <td>1.4</td>\n",
       "      <td>0.2</td>\n",
       "      <td>0</td>\n",
       "    </tr>\n",
       "    <tr>\n",
       "      <th>2</th>\n",
       "      <td>4.7</td>\n",
       "      <td>3.2</td>\n",
       "      <td>1.3</td>\n",
       "      <td>0.2</td>\n",
       "      <td>0</td>\n",
       "    </tr>\n",
       "    <tr>\n",
       "      <th>3</th>\n",
       "      <td>4.6</td>\n",
       "      <td>3.1</td>\n",
       "      <td>1.5</td>\n",
       "      <td>0.2</td>\n",
       "      <td>0</td>\n",
       "    </tr>\n",
       "    <tr>\n",
       "      <th>4</th>\n",
       "      <td>5.0</td>\n",
       "      <td>3.6</td>\n",
       "      <td>1.4</td>\n",
       "      <td>0.2</td>\n",
       "      <td>0</td>\n",
       "    </tr>\n",
       "  </tbody>\n",
       "</table>\n",
       "</div>"
      ],
      "text/plain": [
       "   SepalLengthCm  SepalWidthCm  PetalLengthCm  PetalWidthCm  Species\n",
       "0            5.1           3.5            1.4           0.2        0\n",
       "1            4.9           3.0            1.4           0.2        0\n",
       "2            4.7           3.2            1.3           0.2        0\n",
       "3            4.6           3.1            1.5           0.2        0\n",
       "4            5.0           3.6            1.4           0.2        0"
      ]
     },
     "execution_count": 25,
     "metadata": {},
     "output_type": "execute_result"
    }
   ],
   "source": [
    "df.drop(\"Id\", axis=1, inplace=True)\n",
    "df[\"Species\"].replace({\"Iris-setosa\": 0, \"Iris-versicolor\": 1, \"Iris-virginica\": 2}, inplace=True)\n",
    "df.head()"
   ]
  },
  {
   "cell_type": "markdown",
   "metadata": {
    "id": "jmzUqmD2M7UQ"
   },
   "source": [
    "### Verificando a corretude das classes"
   ]
  },
  {
   "cell_type": "code",
   "execution_count": 26,
   "metadata": {
    "colab": {
     "base_uri": "https://localhost:8080/"
    },
    "id": "ys2VDC7oM7UQ",
    "outputId": "e3980e16-7e3d-4fae-ecf2-f369ed364626"
   },
   "outputs": [
    {
     "data": {
      "text/plain": [
       "array([0, 1, 2], dtype=int64)"
      ]
     },
     "execution_count": 26,
     "metadata": {},
     "output_type": "execute_result"
    }
   ],
   "source": [
    "df[\"Species\"].unique()"
   ]
  },
  {
   "cell_type": "markdown",
   "metadata": {
    "id": "nGXHoYn5M7UQ"
   },
   "source": [
    "### Renomeando a coluna da classe"
   ]
  },
  {
   "cell_type": "code",
   "execution_count": 27,
   "metadata": {
    "colab": {
     "base_uri": "https://localhost:8080/",
     "height": 206
    },
    "id": "9BAtQPEWM7UQ",
    "outputId": "40b6e213-f0a7-4098-fed3-5d3eca2b5f1d"
   },
   "outputs": [
    {
     "data": {
      "text/html": [
       "<div>\n",
       "<style scoped>\n",
       "    .dataframe tbody tr th:only-of-type {\n",
       "        vertical-align: middle;\n",
       "    }\n",
       "\n",
       "    .dataframe tbody tr th {\n",
       "        vertical-align: top;\n",
       "    }\n",
       "\n",
       "    .dataframe thead th {\n",
       "        text-align: right;\n",
       "    }\n",
       "</style>\n",
       "<table border=\"1\" class=\"dataframe\">\n",
       "  <thead>\n",
       "    <tr style=\"text-align: right;\">\n",
       "      <th></th>\n",
       "      <th>SepalLengthCm</th>\n",
       "      <th>SepalWidthCm</th>\n",
       "      <th>PetalLengthCm</th>\n",
       "      <th>PetalWidthCm</th>\n",
       "      <th>Class</th>\n",
       "    </tr>\n",
       "  </thead>\n",
       "  <tbody>\n",
       "    <tr>\n",
       "      <th>0</th>\n",
       "      <td>5.1</td>\n",
       "      <td>3.5</td>\n",
       "      <td>1.4</td>\n",
       "      <td>0.2</td>\n",
       "      <td>0</td>\n",
       "    </tr>\n",
       "    <tr>\n",
       "      <th>1</th>\n",
       "      <td>4.9</td>\n",
       "      <td>3.0</td>\n",
       "      <td>1.4</td>\n",
       "      <td>0.2</td>\n",
       "      <td>0</td>\n",
       "    </tr>\n",
       "    <tr>\n",
       "      <th>2</th>\n",
       "      <td>4.7</td>\n",
       "      <td>3.2</td>\n",
       "      <td>1.3</td>\n",
       "      <td>0.2</td>\n",
       "      <td>0</td>\n",
       "    </tr>\n",
       "    <tr>\n",
       "      <th>3</th>\n",
       "      <td>4.6</td>\n",
       "      <td>3.1</td>\n",
       "      <td>1.5</td>\n",
       "      <td>0.2</td>\n",
       "      <td>0</td>\n",
       "    </tr>\n",
       "    <tr>\n",
       "      <th>4</th>\n",
       "      <td>5.0</td>\n",
       "      <td>3.6</td>\n",
       "      <td>1.4</td>\n",
       "      <td>0.2</td>\n",
       "      <td>0</td>\n",
       "    </tr>\n",
       "  </tbody>\n",
       "</table>\n",
       "</div>"
      ],
      "text/plain": [
       "   SepalLengthCm  SepalWidthCm  PetalLengthCm  PetalWidthCm  Class\n",
       "0            5.1           3.5            1.4           0.2      0\n",
       "1            4.9           3.0            1.4           0.2      0\n",
       "2            4.7           3.2            1.3           0.2      0\n",
       "3            4.6           3.1            1.5           0.2      0\n",
       "4            5.0           3.6            1.4           0.2      0"
      ]
     },
     "execution_count": 27,
     "metadata": {},
     "output_type": "execute_result"
    }
   ],
   "source": [
    "df.columns = [\"SepalLengthCm\", \"SepalWidthCm\", \"PetalLengthCm\", \"PetalWidthCm\", \"Class\"]\n",
    "df.head()"
   ]
  },
  {
   "cell_type": "markdown",
   "metadata": {
    "id": "StLwNgiHM7UQ"
   },
   "source": [
    "### Armazenando as classes em uma variável separada"
   ]
  },
  {
   "cell_type": "code",
   "execution_count": 28,
   "metadata": {
    "colab": {
     "base_uri": "https://localhost:8080/"
    },
    "id": "EhHtgDlEM7UQ",
    "outputId": "d31cdb19-7dbe-4ff8-f632-2c00ce189ff8"
   },
   "outputs": [
    {
     "data": {
      "text/plain": [
       "array([0, 0, 0, 0, 0, 0, 0, 0, 0, 0, 0, 0, 0, 0, 0, 0, 0, 0, 0, 0, 0, 0,\n",
       "       0, 0, 0, 0, 0, 0, 0, 0, 0, 0, 0, 0, 0, 0, 0, 0, 0, 0, 0, 0, 0, 0,\n",
       "       0, 0, 0, 0, 0, 0, 1, 1, 1, 1, 1, 1, 1, 1, 1, 1, 1, 1, 1, 1, 1, 1,\n",
       "       1, 1, 1, 1, 1, 1, 1, 1, 1, 1, 1, 1, 1, 1, 1, 1, 1, 1, 1, 1, 1, 1,\n",
       "       1, 1, 1, 1, 1, 1, 1, 1, 1, 1, 1, 1, 2, 2, 2, 2, 2, 2, 2, 2, 2, 2,\n",
       "       2, 2, 2, 2, 2, 2, 2, 2, 2, 2, 2, 2, 2, 2, 2, 2, 2, 2, 2, 2, 2, 2,\n",
       "       2, 2, 2, 2, 2, 2, 2, 2, 2, 2, 2, 2, 2, 2, 2, 2, 2, 2], dtype=int64)"
      ]
     },
     "execution_count": 28,
     "metadata": {},
     "output_type": "execute_result"
    }
   ],
   "source": [
    "part_dif = df[\"Class\"].values\n",
    "part_dif"
   ]
  },
  {
   "cell_type": "markdown",
   "metadata": {
    "id": "wmPgSUoMM7UR"
   },
   "source": [
    "### Retirando a classe para isolar as variáveis"
   ]
  },
  {
   "cell_type": "code",
   "execution_count": 29,
   "metadata": {
    "colab": {
     "base_uri": "https://localhost:8080/",
     "height": 206
    },
    "id": "IYRnEpFnM7UR",
    "outputId": "8b2ca5b0-87bc-4d6f-9d62-3fd5b1ddc696"
   },
   "outputs": [
    {
     "data": {
      "text/html": [
       "<div>\n",
       "<style scoped>\n",
       "    .dataframe tbody tr th:only-of-type {\n",
       "        vertical-align: middle;\n",
       "    }\n",
       "\n",
       "    .dataframe tbody tr th {\n",
       "        vertical-align: top;\n",
       "    }\n",
       "\n",
       "    .dataframe thead th {\n",
       "        text-align: right;\n",
       "    }\n",
       "</style>\n",
       "<table border=\"1\" class=\"dataframe\">\n",
       "  <thead>\n",
       "    <tr style=\"text-align: right;\">\n",
       "      <th></th>\n",
       "      <th>SepalLengthCm</th>\n",
       "      <th>SepalWidthCm</th>\n",
       "      <th>PetalLengthCm</th>\n",
       "      <th>PetalWidthCm</th>\n",
       "    </tr>\n",
       "  </thead>\n",
       "  <tbody>\n",
       "    <tr>\n",
       "      <th>0</th>\n",
       "      <td>5.1</td>\n",
       "      <td>3.5</td>\n",
       "      <td>1.4</td>\n",
       "      <td>0.2</td>\n",
       "    </tr>\n",
       "    <tr>\n",
       "      <th>1</th>\n",
       "      <td>4.9</td>\n",
       "      <td>3.0</td>\n",
       "      <td>1.4</td>\n",
       "      <td>0.2</td>\n",
       "    </tr>\n",
       "    <tr>\n",
       "      <th>2</th>\n",
       "      <td>4.7</td>\n",
       "      <td>3.2</td>\n",
       "      <td>1.3</td>\n",
       "      <td>0.2</td>\n",
       "    </tr>\n",
       "    <tr>\n",
       "      <th>3</th>\n",
       "      <td>4.6</td>\n",
       "      <td>3.1</td>\n",
       "      <td>1.5</td>\n",
       "      <td>0.2</td>\n",
       "    </tr>\n",
       "    <tr>\n",
       "      <th>4</th>\n",
       "      <td>5.0</td>\n",
       "      <td>3.6</td>\n",
       "      <td>1.4</td>\n",
       "      <td>0.2</td>\n",
       "    </tr>\n",
       "  </tbody>\n",
       "</table>\n",
       "</div>"
      ],
      "text/plain": [
       "   SepalLengthCm  SepalWidthCm  PetalLengthCm  PetalWidthCm\n",
       "0            5.1           3.5            1.4           0.2\n",
       "1            4.9           3.0            1.4           0.2\n",
       "2            4.7           3.2            1.3           0.2\n",
       "3            4.6           3.1            1.5           0.2\n",
       "4            5.0           3.6            1.4           0.2"
      ]
     },
     "execution_count": 29,
     "metadata": {},
     "output_type": "execute_result"
    }
   ],
   "source": [
    "df.drop(\"Class\", axis=1, inplace=True)\n",
    "df.head()"
   ]
  },
  {
   "cell_type": "markdown",
   "metadata": {
    "id": "5XkEBdCWM7UR"
   },
   "source": [
    "### Transformando o dataframe em uma matriz"
   ]
  },
  {
   "cell_type": "code",
   "execution_count": 30,
   "metadata": {
    "colab": {
     "base_uri": "https://localhost:8080/"
    },
    "id": "aun0sO1oM7UR",
    "outputId": "2d668fda-a1ce-44b9-f2bd-9cc958c39412"
   },
   "outputs": [
    {
     "data": {
      "text/plain": [
       "array([[5.1, 3.5, 1.4, 0.2],\n",
       "       [4.9, 3. , 1.4, 0.2],\n",
       "       [4.7, 3.2, 1.3, 0.2],\n",
       "       [4.6, 3.1, 1.5, 0.2],\n",
       "       [5. , 3.6, 1.4, 0.2],\n",
       "       [5.4, 3.9, 1.7, 0.4],\n",
       "       [4.6, 3.4, 1.4, 0.3],\n",
       "       [5. , 3.4, 1.5, 0.2],\n",
       "       [4.4, 2.9, 1.4, 0.2],\n",
       "       [4.9, 3.1, 1.5, 0.1],\n",
       "       [5.4, 3.7, 1.5, 0.2],\n",
       "       [4.8, 3.4, 1.6, 0.2],\n",
       "       [4.8, 3. , 1.4, 0.1],\n",
       "       [4.3, 3. , 1.1, 0.1],\n",
       "       [5.8, 4. , 1.2, 0.2],\n",
       "       [5.7, 4.4, 1.5, 0.4],\n",
       "       [5.4, 3.9, 1.3, 0.4],\n",
       "       [5.1, 3.5, 1.4, 0.3],\n",
       "       [5.7, 3.8, 1.7, 0.3],\n",
       "       [5.1, 3.8, 1.5, 0.3],\n",
       "       [5.4, 3.4, 1.7, 0.2],\n",
       "       [5.1, 3.7, 1.5, 0.4],\n",
       "       [4.6, 3.6, 1. , 0.2],\n",
       "       [5.1, 3.3, 1.7, 0.5],\n",
       "       [4.8, 3.4, 1.9, 0.2],\n",
       "       [5. , 3. , 1.6, 0.2],\n",
       "       [5. , 3.4, 1.6, 0.4],\n",
       "       [5.2, 3.5, 1.5, 0.2],\n",
       "       [5.2, 3.4, 1.4, 0.2],\n",
       "       [4.7, 3.2, 1.6, 0.2],\n",
       "       [4.8, 3.1, 1.6, 0.2],\n",
       "       [5.4, 3.4, 1.5, 0.4],\n",
       "       [5.2, 4.1, 1.5, 0.1],\n",
       "       [5.5, 4.2, 1.4, 0.2],\n",
       "       [4.9, 3.1, 1.5, 0.1],\n",
       "       [5. , 3.2, 1.2, 0.2],\n",
       "       [5.5, 3.5, 1.3, 0.2],\n",
       "       [4.9, 3.1, 1.5, 0.1],\n",
       "       [4.4, 3. , 1.3, 0.2],\n",
       "       [5.1, 3.4, 1.5, 0.2],\n",
       "       [5. , 3.5, 1.3, 0.3],\n",
       "       [4.5, 2.3, 1.3, 0.3],\n",
       "       [4.4, 3.2, 1.3, 0.2],\n",
       "       [5. , 3.5, 1.6, 0.6],\n",
       "       [5.1, 3.8, 1.9, 0.4],\n",
       "       [4.8, 3. , 1.4, 0.3],\n",
       "       [5.1, 3.8, 1.6, 0.2],\n",
       "       [4.6, 3.2, 1.4, 0.2],\n",
       "       [5.3, 3.7, 1.5, 0.2],\n",
       "       [5. , 3.3, 1.4, 0.2],\n",
       "       [7. , 3.2, 4.7, 1.4],\n",
       "       [6.4, 3.2, 4.5, 1.5],\n",
       "       [6.9, 3.1, 4.9, 1.5],\n",
       "       [5.5, 2.3, 4. , 1.3],\n",
       "       [6.5, 2.8, 4.6, 1.5],\n",
       "       [5.7, 2.8, 4.5, 1.3],\n",
       "       [6.3, 3.3, 4.7, 1.6],\n",
       "       [4.9, 2.4, 3.3, 1. ],\n",
       "       [6.6, 2.9, 4.6, 1.3],\n",
       "       [5.2, 2.7, 3.9, 1.4],\n",
       "       [5. , 2. , 3.5, 1. ],\n",
       "       [5.9, 3. , 4.2, 1.5],\n",
       "       [6. , 2.2, 4. , 1. ],\n",
       "       [6.1, 2.9, 4.7, 1.4],\n",
       "       [5.6, 2.9, 3.6, 1.3],\n",
       "       [6.7, 3.1, 4.4, 1.4],\n",
       "       [5.6, 3. , 4.5, 1.5],\n",
       "       [5.8, 2.7, 4.1, 1. ],\n",
       "       [6.2, 2.2, 4.5, 1.5],\n",
       "       [5.6, 2.5, 3.9, 1.1],\n",
       "       [5.9, 3.2, 4.8, 1.8],\n",
       "       [6.1, 2.8, 4. , 1.3],\n",
       "       [6.3, 2.5, 4.9, 1.5],\n",
       "       [6.1, 2.8, 4.7, 1.2],\n",
       "       [6.4, 2.9, 4.3, 1.3],\n",
       "       [6.6, 3. , 4.4, 1.4],\n",
       "       [6.8, 2.8, 4.8, 1.4],\n",
       "       [6.7, 3. , 5. , 1.7],\n",
       "       [6. , 2.9, 4.5, 1.5],\n",
       "       [5.7, 2.6, 3.5, 1. ],\n",
       "       [5.5, 2.4, 3.8, 1.1],\n",
       "       [5.5, 2.4, 3.7, 1. ],\n",
       "       [5.8, 2.7, 3.9, 1.2],\n",
       "       [6. , 2.7, 5.1, 1.6],\n",
       "       [5.4, 3. , 4.5, 1.5],\n",
       "       [6. , 3.4, 4.5, 1.6],\n",
       "       [6.7, 3.1, 4.7, 1.5],\n",
       "       [6.3, 2.3, 4.4, 1.3],\n",
       "       [5.6, 3. , 4.1, 1.3],\n",
       "       [5.5, 2.5, 4. , 1.3],\n",
       "       [5.5, 2.6, 4.4, 1.2],\n",
       "       [6.1, 3. , 4.6, 1.4],\n",
       "       [5.8, 2.6, 4. , 1.2],\n",
       "       [5. , 2.3, 3.3, 1. ],\n",
       "       [5.6, 2.7, 4.2, 1.3],\n",
       "       [5.7, 3. , 4.2, 1.2],\n",
       "       [5.7, 2.9, 4.2, 1.3],\n",
       "       [6.2, 2.9, 4.3, 1.3],\n",
       "       [5.1, 2.5, 3. , 1.1],\n",
       "       [5.7, 2.8, 4.1, 1.3],\n",
       "       [6.3, 3.3, 6. , 2.5],\n",
       "       [5.8, 2.7, 5.1, 1.9],\n",
       "       [7.1, 3. , 5.9, 2.1],\n",
       "       [6.3, 2.9, 5.6, 1.8],\n",
       "       [6.5, 3. , 5.8, 2.2],\n",
       "       [7.6, 3. , 6.6, 2.1],\n",
       "       [4.9, 2.5, 4.5, 1.7],\n",
       "       [7.3, 2.9, 6.3, 1.8],\n",
       "       [6.7, 2.5, 5.8, 1.8],\n",
       "       [7.2, 3.6, 6.1, 2.5],\n",
       "       [6.5, 3.2, 5.1, 2. ],\n",
       "       [6.4, 2.7, 5.3, 1.9],\n",
       "       [6.8, 3. , 5.5, 2.1],\n",
       "       [5.7, 2.5, 5. , 2. ],\n",
       "       [5.8, 2.8, 5.1, 2.4],\n",
       "       [6.4, 3.2, 5.3, 2.3],\n",
       "       [6.5, 3. , 5.5, 1.8],\n",
       "       [7.7, 3.8, 6.7, 2.2],\n",
       "       [7.7, 2.6, 6.9, 2.3],\n",
       "       [6. , 2.2, 5. , 1.5],\n",
       "       [6.9, 3.2, 5.7, 2.3],\n",
       "       [5.6, 2.8, 4.9, 2. ],\n",
       "       [7.7, 2.8, 6.7, 2. ],\n",
       "       [6.3, 2.7, 4.9, 1.8],\n",
       "       [6.7, 3.3, 5.7, 2.1],\n",
       "       [7.2, 3.2, 6. , 1.8],\n",
       "       [6.2, 2.8, 4.8, 1.8],\n",
       "       [6.1, 3. , 4.9, 1.8],\n",
       "       [6.4, 2.8, 5.6, 2.1],\n",
       "       [7.2, 3. , 5.8, 1.6],\n",
       "       [7.4, 2.8, 6.1, 1.9],\n",
       "       [7.9, 3.8, 6.4, 2. ],\n",
       "       [6.4, 2.8, 5.6, 2.2],\n",
       "       [6.3, 2.8, 5.1, 1.5],\n",
       "       [6.1, 2.6, 5.6, 1.4],\n",
       "       [7.7, 3. , 6.1, 2.3],\n",
       "       [6.3, 3.4, 5.6, 2.4],\n",
       "       [6.4, 3.1, 5.5, 1.8],\n",
       "       [6. , 3. , 4.8, 1.8],\n",
       "       [6.9, 3.1, 5.4, 2.1],\n",
       "       [6.7, 3.1, 5.6, 2.4],\n",
       "       [6.9, 3.1, 5.1, 2.3],\n",
       "       [5.8, 2.7, 5.1, 1.9],\n",
       "       [6.8, 3.2, 5.9, 2.3],\n",
       "       [6.7, 3.3, 5.7, 2.5],\n",
       "       [6.7, 3. , 5.2, 2.3],\n",
       "       [6.3, 2.5, 5. , 1.9],\n",
       "       [6.5, 3. , 5.2, 2. ],\n",
       "       [6.2, 3.4, 5.4, 2.3],\n",
       "       [5.9, 3. , 5.1, 1.8]])"
      ]
     },
     "execution_count": 30,
     "metadata": {},
     "output_type": "execute_result"
    }
   ],
   "source": [
    "dados = df.to_numpy()\n",
    "dados"
   ]
  },
  {
   "cell_type": "markdown",
   "metadata": {
    "id": "f2quvflEM7UR"
   },
   "source": [
    "### Fuzzyficando o dataset"
   ]
  },
  {
   "cell_type": "code",
   "execution_count": 31,
   "metadata": {},
   "outputs": [
    {
     "data": {
      "text/plain": [
       "array([[9.97050694e-01, 2.01589758e-03, 9.33408425e-04],\n",
       "       [9.74322565e-01, 1.76913127e-02, 7.98612233e-03],\n",
       "       [9.79174078e-01, 1.41756719e-02, 6.65024970e-03],\n",
       "       [9.64951633e-01, 2.40978482e-02, 1.09505189e-02],\n",
       "       [9.94799643e-01, 3.54036656e-03, 1.65999011e-03],\n",
       "       [9.29564453e-01, 4.84282707e-02, 2.20072758e-02],\n",
       "       [9.78298701e-01, 1.47756970e-02, 6.92560179e-03],\n",
       "       [9.99486711e-01, 3.53414989e-04, 1.59873722e-04],\n",
       "       [9.26306285e-01, 5.02644781e-02, 2.34292366e-02],\n",
       "       [9.81461240e-01, 1.28023078e-02, 5.73645215e-03],\n",
       "       [9.66480895e-01, 2.29151462e-02, 1.06039592e-02],\n",
       "       [9.90953055e-01, 6.24275790e-03, 2.80418725e-03],\n",
       "       [9.69021165e-01, 2.12673534e-02, 9.71148130e-03],\n",
       "       [9.20089043e-01, 5.34780120e-02, 2.64329446e-02],\n",
       "       [8.85714412e-01, 7.57916777e-02, 3.84939107e-02],\n",
       "       [8.34181283e-01, 1.09725643e-01, 5.60930747e-02],\n",
       "       [9.44893040e-01, 3.70742576e-02, 1.80327027e-02],\n",
       "       [9.96828317e-01, 2.17121126e-03, 1.00047166e-03],\n",
       "       [8.97444036e-01, 7.06187603e-02, 3.19372042e-02],\n",
       "       [9.78087608e-01, 1.49283459e-02, 6.98404619e-03],\n",
       "       [9.65389786e-01, 2.41971921e-02, 1.04130220e-02],\n",
       "       [9.83687374e-01, 1.11698298e-02, 5.14279581e-03],\n",
       "       [9.58300156e-01, 2.76895419e-02, 1.40103017e-02],\n",
       "       [9.75690063e-01, 1.71004348e-02, 7.20950190e-03],\n",
       "       [9.62230122e-01, 2.65017392e-02, 1.12681391e-02],\n",
       "       [9.70741875e-01, 2.04347932e-02, 8.82333169e-03],\n",
       "       [9.93293439e-01, 4.66022102e-03, 2.04633969e-03],\n",
       "       [9.93102045e-01, 4.74531836e-03, 2.15263627e-03],\n",
       "       [9.93862664e-01, 4.20967680e-03, 1.92765907e-03],\n",
       "       [9.77298088e-01, 1.57042981e-02, 6.99761402e-03],\n",
       "       [9.76342674e-01, 1.64337977e-02, 7.22352801e-03],\n",
       "       [9.72238228e-01, 1.92331649e-02, 8.52860700e-03],\n",
       "       [9.35970372e-01, 4.29689507e-02, 2.10606778e-02],\n",
       "       [9.00258312e-01, 6.63947972e-02, 3.33468912e-02],\n",
       "       [9.81461240e-01, 1.28023078e-02, 5.73645215e-03],\n",
       "       [9.85230462e-01, 1.00433500e-02, 4.72618784e-03],\n",
       "       [9.63181791e-01, 2.50452104e-02, 1.17729985e-02],\n",
       "       [9.81461240e-01, 1.28023078e-02, 5.73645215e-03],\n",
       "       [9.36626105e-01, 4.29700034e-02, 2.04038916e-02],\n",
       "       [9.98202219e-01, 1.23929314e-03, 5.58487755e-04],\n",
       "       [9.95202747e-01, 3.26246209e-03, 1.53479061e-03],\n",
       "       [8.42930355e-01, 1.07026963e-01, 5.00426815e-02],\n",
       "       [9.50410653e-01, 3.35299475e-02, 1.60593993e-02],\n",
       "       [9.76277982e-01, 1.64660280e-02, 7.25598982e-03],\n",
       "       [9.39273202e-01, 4.23570995e-02, 1.83696988e-02],\n",
       "       [9.70119651e-01, 2.05837595e-02, 9.29658985e-03],\n",
       "       [9.75268714e-01, 1.69112815e-02, 7.82000442e-03],\n",
       "       [9.72749031e-01, 1.86069497e-02, 8.64401937e-03],\n",
       "       [9.76206820e-01, 1.62647431e-02, 7.52843722e-03],\n",
       "       [9.97260610e-01, 1.88007796e-03, 8.59311685e-04],\n",
       "       [4.29747387e-02, 4.48763996e-01, 5.08261265e-01],\n",
       "       [2.78590459e-02, 7.29798871e-01, 2.42342084e-01],\n",
       "       [2.98530582e-02, 3.44808082e-01, 6.25338860e-01],\n",
       "       [4.57889737e-02, 8.63706354e-01, 9.05046726e-02],\n",
       "       [2.34416968e-02, 7.07276524e-01, 2.69281779e-01],\n",
       "       [9.70592191e-03, 9.45987047e-01, 4.43070309e-02],\n",
       "       [2.91634013e-02, 5.98547351e-01, 3.72289248e-01],\n",
       "       [2.65535183e-01, 5.92035662e-01, 1.42429156e-01],\n",
       "       [2.89616906e-02, 6.94125261e-01, 2.76913048e-01],\n",
       "       [7.14064761e-02, 8.19536573e-01, 1.09056951e-01],\n",
       "       [2.04280409e-01, 6.38363658e-01, 1.57355933e-01],\n",
       "       [8.41338303e-03, 9.58837551e-01, 3.27490657e-02],\n",
       "       [4.54735517e-02, 8.56747352e-01, 9.77790964e-02],\n",
       "       [1.52903702e-02, 8.35633664e-01, 1.49075965e-01],\n",
       "       [7.51235876e-02, 8.35914605e-01, 8.89618072e-02],\n",
       "       [3.78635386e-02, 6.82023589e-01, 2.80112872e-01],\n",
       "       [1.98289943e-02, 8.85047014e-01, 9.51239921e-02],\n",
       "       [1.69323616e-02, 9.45023638e-01, 3.80440006e-02],\n",
       "       [2.79107770e-02, 7.92769455e-01, 1.79319768e-01],\n",
       "       [4.14996531e-02, 8.90345077e-01, 6.81552703e-02],\n",
       "       [2.93150529e-02, 6.00796500e-01, 3.69888448e-01],\n",
       "       [1.01183103e-02, 9.61065909e-01, 2.88157805e-02],\n",
       "       [2.41576730e-02, 5.95293354e-01, 3.80548973e-01],\n",
       "       [1.57798604e-02, 8.62201592e-01, 1.22018547e-01],\n",
       "       [1.82433384e-02, 8.84622957e-01, 9.71337051e-02],\n",
       "       [3.04966501e-02, 7.44795067e-01, 2.24708283e-01],\n",
       "       [3.13087700e-02, 4.81577222e-01, 4.87114008e-01],\n",
       "       [1.78595091e-02, 2.38306165e-01, 7.43834326e-01],\n",
       "       [8.42893754e-03, 9.33010735e-01, 5.85603279e-02],\n",
       "       [1.04351017e-01, 7.96761876e-01, 9.88871075e-02],\n",
       "       [6.64842526e-02, 8.42225568e-01, 9.12901796e-02],\n",
       "       [8.83669472e-02, 8.10653322e-01, 1.00979731e-01],\n",
       "       [1.98871118e-02, 9.41407768e-01, 3.87051206e-02],\n",
       "       [2.35247889e-02, 4.93415223e-01, 4.83059988e-01],\n",
       "       [3.22915948e-02, 8.39198255e-01, 1.28510151e-01],\n",
       "       [3.31087783e-02, 7.47228831e-01, 2.19662391e-01],\n",
       "       [3.12917562e-02, 5.12838284e-01, 4.55869959e-01],\n",
       "       [2.48925340e-02, 8.43331383e-01, 1.31776083e-01],\n",
       "       [2.07868226e-02, 9.29774169e-01, 4.94390079e-02],\n",
       "       [3.44257458e-02, 8.97160260e-01, 6.84139942e-02],\n",
       "       [2.21293487e-02, 9.08506848e-01, 6.93638028e-02],\n",
       "       [1.39664746e-02, 8.72062804e-01, 1.13970722e-01],\n",
       "       [1.44300826e-02, 9.53183744e-01, 3.23861735e-02],\n",
       "       [2.49115282e-01, 6.08744524e-01, 1.42140194e-01],\n",
       "       [1.22924821e-02, 9.53534577e-01, 3.41729414e-02],\n",
       "       [1.34309491e-02, 9.49704601e-01, 3.68644504e-02],\n",
       "       [7.96111703e-03, 9.68398759e-01, 2.36401237e-02],\n",
       "       [7.81677894e-03, 9.54492106e-01, 3.76911146e-02],\n",
       "       [3.29157104e-01, 5.38509190e-01, 1.32333706e-01],\n",
       "       [8.98415267e-03, 9.67796793e-01, 2.32190539e-02],\n",
       "       [1.95383192e-02, 1.10895463e-01, 8.69566218e-01],\n",
       "       [2.79038776e-02, 4.51029066e-01, 5.21067057e-01],\n",
       "       [1.28231175e-02, 7.55832388e-02, 9.11593644e-01],\n",
       "       [6.16109208e-03, 6.09682303e-02, 9.32870678e-01],\n",
       "       [3.87633708e-03, 2.76741525e-02, 9.68449510e-01],\n",
       "       [4.46783439e-02, 1.84443029e-01, 7.70878627e-01],\n",
       "       [7.74185558e-02, 7.02421780e-01, 2.20159664e-01],\n",
       "       [2.94901937e-02, 1.47547165e-01, 8.22962641e-01],\n",
       "       [1.25082556e-02, 9.58801168e-02, 8.91611628e-01],\n",
       "       [3.35630403e-02, 1.49613503e-01, 8.16823457e-01],\n",
       "       [1.21034074e-02, 1.35262837e-01, 8.52633755e-01],\n",
       "       [8.46450944e-03, 1.03342117e-01, 8.88193373e-01],\n",
       "       [2.27920034e-03, 1.79530692e-02, 9.79767730e-01],\n",
       "       [3.47408960e-02, 5.19703240e-01, 4.45555864e-01],\n",
       "       [3.33113440e-02, 3.34824198e-01, 6.31864458e-01],\n",
       "       [9.74209974e-03, 8.39052446e-02, 9.06352656e-01],\n",
       "       [2.85385145e-03, 2.82501851e-02, 9.68895963e-01],\n",
       "       [6.10589461e-02, 2.16677603e-01, 7.22263451e-01],\n",
       "       [5.70448506e-02, 2.15121216e-01, 7.27833933e-01],\n",
       "       [3.32251583e-02, 6.06431607e-01, 3.60343234e-01],\n",
       "       [8.89712860e-03, 5.55051915e-02, 9.35597680e-01],\n",
       "       [3.58543928e-02, 5.72996964e-01, 3.91148644e-01],\n",
       "       [5.06134884e-02, 2.02756471e-01, 7.46630040e-01],\n",
       "       [2.07635633e-02, 4.41741317e-01, 5.37495120e-01],\n",
       "       [5.75106361e-03, 3.94625491e-02, 9.54786387e-01],\n",
       "       [2.09831810e-02, 1.16098462e-01, 8.62918357e-01],\n",
       "       [2.15386625e-02, 5.63635666e-01, 4.14825672e-01],\n",
       "       [2.23907313e-02, 4.89122051e-01, 4.88487218e-01],\n",
       "       [3.11110271e-03, 2.72594003e-02, 9.69629497e-01],\n",
       "       [2.05293627e-02, 1.28408937e-01, 8.51061700e-01],\n",
       "       [2.75084469e-02, 1.42479497e-01, 8.30012056e-01],\n",
       "       [6.19958539e-02, 2.24065498e-01, 7.13938648e-01],\n",
       "       [4.06143971e-03, 3.40311491e-02, 9.61907411e-01],\n",
       "       [2.05111646e-02, 3.97692792e-01, 5.81796043e-01],\n",
       "       [2.61526722e-02, 2.86034352e-01, 6.87812976e-01],\n",
       "       [3.84925835e-02, 1.70173037e-01, 7.91334380e-01],\n",
       "       [1.53001594e-02, 1.03055736e-01, 8.81644104e-01],\n",
       "       [4.79358810e-03, 4.76833258e-02, 9.47523086e-01],\n",
       "       [2.38420665e-02, 6.11896910e-01, 3.64261023e-01],\n",
       "       [5.94315116e-03, 4.57850856e-02, 9.48271763e-01],\n",
       "       [6.54781267e-03, 4.44572012e-02, 9.48994986e-01],\n",
       "       [1.59525311e-02, 1.25227883e-01, 8.58819586e-01],\n",
       "       [2.79038776e-02, 4.51029066e-01, 5.21067057e-01],\n",
       "       [1.00065723e-02, 5.94989090e-02, 9.30494519e-01],\n",
       "       [1.28318078e-02, 7.70442373e-02, 9.10123955e-01],\n",
       "       [9.12058756e-03, 7.84255743e-02, 9.12453838e-01],\n",
       "       [2.18889432e-02, 3.59185961e-01, 6.18925096e-01],\n",
       "       [6.30492752e-03, 7.17538703e-02, 9.21941202e-01],\n",
       "       [1.72590385e-02, 1.34424637e-01, 8.48316325e-01],\n",
       "       [2.45957223e-02, 4.15118445e-01, 5.60285832e-01]])"
      ]
     },
     "execution_count": 31,
     "metadata": {},
     "output_type": "execute_result"
    }
   ],
   "source": [
    "def crisp_to_fuzzy(dados, y, n_clusters, m=2):\n",
    "    prototipos = np.array([dados[y == c].mean(axis=0) for c in range(n_clusters)]) # calcula os protótipos reais (um por classe)\n",
    "    \n",
    "    distancias = np.linalg.norm(dados[:, np.newaxis] - prototipos, axis=2) ** 2 # distâncias das amostras aos protótipos\n",
    "    distancias = np.fmax(distancias, np.finfo(np.float64).eps)  # evita divisões por zero\n",
    "    \n",
    "    distancias_inversa = 1 / distancias\n",
    "    potencia = 1 / (m-1)\n",
    "    matriz_pertinencia = distancias_inversa ** potencia / np.sum(distancias_inversa ** potencia, axis=1, keepdims=True) # calcula os graus de pertinência\n",
    "\n",
    "    return matriz_pertinencia\n",
    "\n",
    "part_dif = crisp_to_fuzzy(dados, part_dif, 3)\n",
    "part_dif"
   ]
  },
  {
   "cell_type": "code",
   "execution_count": 32,
   "metadata": {
    "colab": {
     "base_uri": "https://localhost:8080/"
    },
    "id": "M8h-2GLqM7UR",
    "outputId": "e36a7bc1-a156-427c-d9c0-64e561c59ebb"
   },
   "outputs": [
    {
     "data": {
      "text/plain": [
       "'def crisp_to_fuzzy(y, n_clusters): # transforma o dataset em fuzzy\\n    fuzzy_labels = np.zeros((len(y), n_clusters)) # cria uma array do dataset preenchida só com zeros\\n    for i, label in enumerate(y):\\n        fuzzy_labels[i, label] = 1 # com base na classe, o zero é substituído por um\\n    return fuzzy_labels\\n\\npart_dif = crisp_to_fuzzy(part_dif, 3)\\npart_dif'"
      ]
     },
     "execution_count": 32,
     "metadata": {},
     "output_type": "execute_result"
    }
   ],
   "source": [
    "'''def crisp_to_fuzzy(y, n_clusters): # transforma o dataset em fuzzy\n",
    "    fuzzy_labels = np.zeros((len(y), n_clusters)) # cria uma array do dataset preenchida só com zeros\n",
    "    for i, label in enumerate(y):\n",
    "        fuzzy_labels[i, label] = 1 # com base na classe, o zero é substituído por um\n",
    "    return fuzzy_labels\n",
    "\n",
    "part_dif = crisp_to_fuzzy(part_dif, 3)\n",
    "part_dif'''"
   ]
  },
  {
   "cell_type": "markdown",
   "metadata": {
    "id": "nRA1uoEQM7UR"
   },
   "source": [
    "## Clustering"
   ]
  },
  {
   "cell_type": "markdown",
   "metadata": {
    "id": "LiEPrE-EM7UR"
   },
   "source": [
    "### Inicialização da matriz de pertinência"
   ]
  },
  {
   "cell_type": "markdown",
   "metadata": {
    "id": "_kx8rQF1M7US"
   },
   "source": [
    "A matriz de pertinência é inicializada aleatoriamente $u_{ik}(i=1,...c$ e $k=1,...,n)$ do objeto $k$ pertencente ao grupo $C_i$ tal que:\n",
    "- $u_{ik} \\in [0,1]$;\n",
    "- $0 < \\sum_{k=1}^nu_{ik} < n$;\n",
    "- $\\sum_{i=1}^cu_{ik} = 1$ para todo $k \\in \\Omega$."
   ]
  },
  {
   "cell_type": "code",
   "execution_count": 33,
   "metadata": {
    "id": "2-K1HG5xM7US"
   },
   "outputs": [],
   "source": [
    "def inicializao_matriz_pertinencia(num_amostras, num_clusters):\n",
    "    matriz_pertinencia = np.random.rand(num_amostras, num_clusters) # gera uma matriz inicial aleatória com valores entre 0 e 1\n",
    "    matriz_pertinencia = matriz_pertinencia / matriz_pertinencia.sum(axis=1, keepdims=True) # normalização da matriz pra garantir que a soma dos graus dê um\n",
    "    return matriz_pertinencia"
   ]
  },
  {
   "cell_type": "markdown",
   "metadata": {
    "id": "mbccKOuXM7US"
   },
   "source": [
    "### Atualização dos centroides"
   ]
  },
  {
   "cell_type": "markdown",
   "metadata": {
    "id": "ZAWaWpTBM7US"
   },
   "source": [
    "Fixo os graus de pertinência, os centroides são atualizados com base nessa equação:\n",
    "\n",
    "### $y_i = \\frac{\\sum_{k=1}^n(u_{ik})^mx_k}{\\sum_{k=1}^n(u_{ik})^m}$"
   ]
  },
  {
   "cell_type": "code",
   "execution_count": 34,
   "metadata": {
    "id": "TV-Q8q9QM7US"
   },
   "outputs": [],
   "source": [
    "def atualizacao_centroides(dados, matriz_pertinencia, m):\n",
    "    matriz_pertinencia_m = matriz_pertinencia ** m # preparação dos graus de pertinência\n",
    "    centroides = np.dot(matriz_pertinencia_m.T, dados) / np.sum(matriz_pertinencia_m.T, axis=1, keepdims=True) # fórmula para o cálculo dos centroides\n",
    "    return centroides"
   ]
  },
  {
   "cell_type": "markdown",
   "metadata": {
    "id": "r_PSyBVgM7US"
   },
   "source": [
    "### Atualização da matriz de pertinência"
   ]
  },
  {
   "cell_type": "markdown",
   "metadata": {
    "id": "pkJtqg31M7US"
   },
   "source": [
    "Fixo o protótipo, os graus de pertinência são atualizados com base nessa equação:\n",
    "\n",
    "### $u_{ik}[\\sum_{h=1}^c\\{\\frac{d(x_k,y_i)}{d(x_k,y_h)}\\}^\\frac{1}{m-1}]^{-1}$\n",
    "\n",
    "onde\n",
    "\n",
    "$d(x_k,y_i) = \\sum_{j=1}^p(x_k^j-y_i^j)^2$"
   ]
  },
  {
   "cell_type": "code",
   "execution_count": 35,
   "metadata": {
    "id": "K7qzgQ96M7US"
   },
   "outputs": [],
   "source": [
    "def atualizacao_matriz_pertinencia(dados, centroides, m):\n",
    "    matriz_distancias = np.linalg.norm(dados[:, np.newaxis] - centroides, axis=2) ** 2\n",
    "    matriz_distancias = np.fmax(matriz_distancias, np.finfo(np.float64).eps) # evita que matriz_distancias seja 0, np.finfo... é o menor número maior que zero aaqui\n",
    "    matriz_distancias_inversa = 1 / matriz_distancias\n",
    "    potencia = 1 / (m-1)\n",
    "    matriz_pertinencia_atualizada = matriz_distancias_inversa ** potencia / np.sum(matriz_distancias_inversa ** potencia, axis=1, keepdims=True) # fórmula para atualizar os graus de pertinência\n",
    "    return matriz_pertinencia_atualizada"
   ]
  },
  {
   "cell_type": "markdown",
   "metadata": {
    "id": "OwK99InqM7US"
   },
   "source": [
    "### Fuzzy C-Means"
   ]
  },
  {
   "cell_type": "markdown",
   "metadata": {
    "id": "wXCGpL8pM7US"
   },
   "source": [
    "Ações:\n",
    "1. Inicialização da matriz de pertinência\n",
    "2. Atualização dos centroides\n",
    "3. Atualização da matriz de pertinência\n",
    "\n",
    "Critérios de parada:\n",
    "1. Número máximo de iterações atingido\n",
    "2. Pouca diferença (erro) entre as matrizes de pertinência de iterações consecutivas"
   ]
  },
  {
   "cell_type": "code",
   "execution_count": 36,
   "metadata": {
    "id": "dhll6-JAM7UT"
   },
   "outputs": [],
   "source": [
    "def fcm(dados, num_clusters, m=2, max_iter=1000, erro=1e-5):\n",
    "    num_amostras = dados.shape[0]\n",
    "    matriz_pertinencia = inicializao_matriz_pertinencia(num_amostras, num_clusters)\n",
    "    for _ in range(max_iter): # primeiro critério de parada\n",
    "        centroides = atualizacao_centroides(dados, matriz_pertinencia, m)\n",
    "        nova_matriz_pertinencia = atualizacao_matriz_pertinencia(dados, centroides, m)\n",
    "        if np.linalg.norm(nova_matriz_pertinencia - matriz_pertinencia) < erro: # segundo critério de parada\n",
    "            break\n",
    "        matriz_pertinencia = nova_matriz_pertinencia\n",
    "    return centroides, matriz_pertinencia"
   ]
  },
  {
   "cell_type": "markdown",
   "metadata": {
    "id": "mSuCQaRKM7UT"
   },
   "source": [
    "### Distância de pertinência"
   ]
  },
  {
   "cell_type": "markdown",
   "metadata": {
    "id": "gf07rGqKM7UW"
   },
   "source": [
    "Distância a ser utilizada no cálculo do índice de rand difuso:\n",
    "\n",
    "### $d(\\delta_k,\\delta_{k'}) = \\frac{1}{c}\\sum_{i=1}^c(\\delta_{ik}-\\delta_{ik'})^2$\n",
    "\n",
    "onde\n",
    "\n",
    "$\\delta_k = (\\delta_{1k},...,\\delta_{ik},...,\\delta_{ck})$ é um vetor de graus de pertinência por grupo do objeto $x_k$"
   ]
  },
  {
   "cell_type": "code",
   "execution_count": 37,
   "metadata": {
    "id": "jN1_YQXtM7UW"
   },
   "outputs": [],
   "source": [
    "def pertinence_distance(delta_k, delta_k_linha, c):\n",
    "    # calcula a distância entre δ_k e δ_k' (matrizes de pertinência)\n",
    "    return (1/c) * np.sum((delta_k - delta_k_linha) ** 2)"
   ]
  },
  {
   "cell_type": "markdown",
   "metadata": {
    "id": "Jjg_Ux2GM7UW"
   },
   "source": [
    "### Índice de Rand Difuso"
   ]
  },
  {
   "cell_type": "markdown",
   "metadata": {
    "id": "c11U8w1tM7UW"
   },
   "source": [
    "Índice de Rand Difuso para partições difusas $P$ e $Q$:\n",
    "\n",
    "### $FR(P,Q) = 1 - \\frac{\\sum_{k=1}^n\\sum_{k'=1}^n|E_P(x_k,x_{k'})-E_Q(x_k,x_{k'})|}{n(n-1)/2}$\n",
    "\n",
    "onde\n",
    "\n",
    "$E_P(x_k,x_{k'})=1-d(\\delta_k,\\delta_{k'})$"
   ]
  },
  {
   "cell_type": "code",
   "execution_count": 38,
   "metadata": {
    "id": "HIRPrz0tM7UW"
   },
   "outputs": [],
   "source": [
    "def fuzzy_rand_index(particao1, particao2, c):\n",
    "    n = particao1.shape[0]\n",
    "    total_sum = 0\n",
    "\n",
    "    for k in range(n):\n",
    "        for k_linha in range(k+1, n):\n",
    "            if k != k_linha:\n",
    "                # calcula a métrica para P\n",
    "                delta_k = particao1[k]\n",
    "                delta_k_prime = particao1[k_linha]\n",
    "                EP = 1 - pertinence_distance(delta_k, delta_k_prime, c)\n",
    "\n",
    "                # calcula a métrica para Q\n",
    "                delta_k_Q = particao2[k]\n",
    "                delta_k_prime_Q = particao2[k_linha]\n",
    "                EQ = 1 - pertinence_distance(delta_k_Q, delta_k_prime_Q, c)\n",
    "\n",
    "                total_sum += np.abs(EP - EQ) # soma a diferença absoluta entre EP e EQ\n",
    "\n",
    "    denominador = n * (n - 1) / 2\n",
    "    if denominador == 0:\n",
    "        raise ValueError\n",
    "\n",
    "    return 1- (total_sum / denominador)"
   ]
  },
  {
   "cell_type": "markdown",
   "metadata": {
    "id": "TNv4faGvM7UW"
   },
   "source": [
    "### Simulação de Monte Carlo"
   ]
  },
  {
   "cell_type": "code",
   "execution_count": 39,
   "metadata": {
    "id": "XyzxbatRM7UX"
   },
   "outputs": [],
   "source": [
    "def simulacao_monte_carlo(dados, part_dif, num_clusters, num_trials):\n",
    "    indices_rand = []\n",
    "    for _ in range(num_trials):\n",
    "        centroides, matriz_pertinencia = fcm(dados, num_clusters)\n",
    "        predicted_labels = np.argmax(matriz_pertinencia, axis=1)\n",
    "        #print(predicted_labels)\n",
    "        idx_rand = fuzzy_rand_index(part_dif, predicted_labels, num_clusters)\n",
    "        indices_rand.append(idx_rand)\n",
    "    mean_rand_index = np.mean(indices_rand)\n",
    "    std_rand_index = np.std(indices_rand)\n",
    "    return mean_rand_index, std_rand_index"
   ]
  },
  {
   "cell_type": "markdown",
   "metadata": {
    "id": "zBKoc5ZZM7UX"
   },
   "source": [
    "### Definição de parâmetros e execução do método"
   ]
  },
  {
   "cell_type": "code",
   "execution_count": 40,
   "metadata": {
    "colab": {
     "base_uri": "https://localhost:8080/"
    },
    "id": "HKYKT-M0M7UX",
    "outputId": "618ebf95-f92d-40f4-d66b-4d29d7828301"
   },
   "outputs": [
    {
     "name": "stdout",
     "output_type": "stream",
     "text": [
      "Monte Carlo FCM Clustering Results (100 trials)\n",
      "Mean Rand Index: 0.7174\n",
      "Standard Deviation of Rand Index: 0.0389\n"
     ]
    }
   ],
   "source": [
    "num_clusters = 3\n",
    "num_trials = 100\n",
    "media_indice_rand, dp_indice_rand = simulacao_monte_carlo(dados, part_dif, num_clusters, num_trials)\n",
    "\n",
    "print(f\"Monte Carlo FCM Clustering Results ({num_trials} trials)\")\n",
    "print(f\"Mean Rand Index: {media_indice_rand:.4f}\") # 4 casas decimais\n",
    "print(f\"Standard Deviation of Rand Index: {dp_indice_rand:.4f}\") # 4 casas decimais"
   ]
  }
 ],
 "metadata": {
  "colab": {
   "provenance": []
  },
  "kernelspec": {
   "display_name": "Python 3",
   "language": "python",
   "name": "python3"
  },
  "language_info": {
   "codemirror_mode": {
    "name": "ipython",
    "version": 3
   },
   "file_extension": ".py",
   "mimetype": "text/x-python",
   "name": "python",
   "nbconvert_exporter": "python",
   "pygments_lexer": "ipython3",
   "version": "3.11.3"
  }
 },
 "nbformat": 4,
 "nbformat_minor": 0
}
