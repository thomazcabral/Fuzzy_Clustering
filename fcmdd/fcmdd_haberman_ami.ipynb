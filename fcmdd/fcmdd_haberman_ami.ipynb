{
 "cells": [
  {
   "cell_type": "markdown",
   "metadata": {},
   "source": [
    "## Tratamento dos dados"
   ]
  },
  {
   "cell_type": "markdown",
   "metadata": {},
   "source": [
    "### Importando bibliotecas"
   ]
  },
  {
   "cell_type": "code",
   "execution_count": 19,
   "metadata": {},
   "outputs": [],
   "source": [
    "import numpy as np\n",
    "from sklearn.metrics import adjusted_mutual_info_score\n",
    "import pandas as pd\n",
    "from sklearn.metrics import pairwise_distances"
   ]
  },
  {
   "cell_type": "markdown",
   "metadata": {},
   "source": [
    "### Carregando o dataset"
   ]
  },
  {
   "cell_type": "code",
   "execution_count": 20,
   "metadata": {},
   "outputs": [
    {
     "data": {
      "text/html": [
       "<div>\n",
       "<style scoped>\n",
       "    .dataframe tbody tr th:only-of-type {\n",
       "        vertical-align: middle;\n",
       "    }\n",
       "\n",
       "    .dataframe tbody tr th {\n",
       "        vertical-align: top;\n",
       "    }\n",
       "\n",
       "    .dataframe thead th {\n",
       "        text-align: right;\n",
       "    }\n",
       "</style>\n",
       "<table border=\"1\" class=\"dataframe\">\n",
       "  <thead>\n",
       "    <tr style=\"text-align: right;\">\n",
       "      <th></th>\n",
       "      <th>30</th>\n",
       "      <th>64</th>\n",
       "      <th>1</th>\n",
       "      <th>1.1</th>\n",
       "    </tr>\n",
       "  </thead>\n",
       "  <tbody>\n",
       "    <tr>\n",
       "      <th>0</th>\n",
       "      <td>30</td>\n",
       "      <td>62</td>\n",
       "      <td>3</td>\n",
       "      <td>1</td>\n",
       "    </tr>\n",
       "    <tr>\n",
       "      <th>1</th>\n",
       "      <td>30</td>\n",
       "      <td>65</td>\n",
       "      <td>0</td>\n",
       "      <td>1</td>\n",
       "    </tr>\n",
       "    <tr>\n",
       "      <th>2</th>\n",
       "      <td>31</td>\n",
       "      <td>59</td>\n",
       "      <td>2</td>\n",
       "      <td>1</td>\n",
       "    </tr>\n",
       "    <tr>\n",
       "      <th>3</th>\n",
       "      <td>31</td>\n",
       "      <td>65</td>\n",
       "      <td>4</td>\n",
       "      <td>1</td>\n",
       "    </tr>\n",
       "    <tr>\n",
       "      <th>4</th>\n",
       "      <td>33</td>\n",
       "      <td>58</td>\n",
       "      <td>10</td>\n",
       "      <td>1</td>\n",
       "    </tr>\n",
       "  </tbody>\n",
       "</table>\n",
       "</div>"
      ],
      "text/plain": [
       "   30  64   1  1.1\n",
       "0  30  62   3    1\n",
       "1  30  65   0    1\n",
       "2  31  59   2    1\n",
       "3  31  65   4    1\n",
       "4  33  58  10    1"
      ]
     },
     "execution_count": 20,
     "metadata": {},
     "output_type": "execute_result"
    }
   ],
   "source": [
    "df = pd.read_csv('/workspaces/Fuzzy_Clustering/datasets/haberman.csv')\n",
    "df.head()"
   ]
  },
  {
   "cell_type": "markdown",
   "metadata": {},
   "source": [
    "### Renomeando as colunas"
   ]
  },
  {
   "cell_type": "code",
   "execution_count": 21,
   "metadata": {},
   "outputs": [
    {
     "data": {
      "text/html": [
       "<div>\n",
       "<style scoped>\n",
       "    .dataframe tbody tr th:only-of-type {\n",
       "        vertical-align: middle;\n",
       "    }\n",
       "\n",
       "    .dataframe tbody tr th {\n",
       "        vertical-align: top;\n",
       "    }\n",
       "\n",
       "    .dataframe thead th {\n",
       "        text-align: right;\n",
       "    }\n",
       "</style>\n",
       "<table border=\"1\" class=\"dataframe\">\n",
       "  <thead>\n",
       "    <tr style=\"text-align: right;\">\n",
       "      <th></th>\n",
       "      <th>Age</th>\n",
       "      <th>Op_year</th>\n",
       "      <th>Axil_nodes</th>\n",
       "      <th>Surv_status</th>\n",
       "    </tr>\n",
       "  </thead>\n",
       "  <tbody>\n",
       "    <tr>\n",
       "      <th>0</th>\n",
       "      <td>30</td>\n",
       "      <td>62</td>\n",
       "      <td>3</td>\n",
       "      <td>1</td>\n",
       "    </tr>\n",
       "    <tr>\n",
       "      <th>1</th>\n",
       "      <td>30</td>\n",
       "      <td>65</td>\n",
       "      <td>0</td>\n",
       "      <td>1</td>\n",
       "    </tr>\n",
       "    <tr>\n",
       "      <th>2</th>\n",
       "      <td>31</td>\n",
       "      <td>59</td>\n",
       "      <td>2</td>\n",
       "      <td>1</td>\n",
       "    </tr>\n",
       "    <tr>\n",
       "      <th>3</th>\n",
       "      <td>31</td>\n",
       "      <td>65</td>\n",
       "      <td>4</td>\n",
       "      <td>1</td>\n",
       "    </tr>\n",
       "    <tr>\n",
       "      <th>4</th>\n",
       "      <td>33</td>\n",
       "      <td>58</td>\n",
       "      <td>10</td>\n",
       "      <td>1</td>\n",
       "    </tr>\n",
       "  </tbody>\n",
       "</table>\n",
       "</div>"
      ],
      "text/plain": [
       "   Age  Op_year  Axil_nodes  Surv_status\n",
       "0   30       62           3            1\n",
       "1   30       65           0            1\n",
       "2   31       59           2            1\n",
       "3   31       65           4            1\n",
       "4   33       58          10            1"
      ]
     },
     "execution_count": 21,
     "metadata": {},
     "output_type": "execute_result"
    }
   ],
   "source": [
    "df.columns = [\"Age\", \"Op_year\", \"Axil_nodes\", \"Surv_status\"]\n",
    "df.head()"
   ]
  },
  {
   "cell_type": "markdown",
   "metadata": {},
   "source": [
    "### Verificando as classes"
   ]
  },
  {
   "cell_type": "code",
   "execution_count": 22,
   "metadata": {},
   "outputs": [
    {
     "data": {
      "text/plain": [
       "array([1, 2])"
      ]
     },
     "execution_count": 22,
     "metadata": {},
     "output_type": "execute_result"
    }
   ],
   "source": [
    "df[\"Surv_status\"].unique()"
   ]
  },
  {
   "cell_type": "markdown",
   "metadata": {},
   "source": [
    "### Verificando o nome exato das colunas"
   ]
  },
  {
   "cell_type": "code",
   "execution_count": 23,
   "metadata": {},
   "outputs": [
    {
     "data": {
      "text/plain": [
       "Index(['Age', 'Op_year', 'Axil_nodes', 'Surv_status'], dtype='object')"
      ]
     },
     "execution_count": 23,
     "metadata": {},
     "output_type": "execute_result"
    }
   ],
   "source": [
    "df.columns"
   ]
  },
  {
   "cell_type": "markdown",
   "metadata": {},
   "source": [
    "### Transformando classes em números"
   ]
  },
  {
   "cell_type": "code",
   "execution_count": 24,
   "metadata": {},
   "outputs": [
    {
     "name": "stderr",
     "output_type": "stream",
     "text": [
      "/tmp/ipykernel_35637/2358004140.py:2: FutureWarning: A value is trying to be set on a copy of a DataFrame or Series through chained assignment using an inplace method.\n",
      "The behavior will change in pandas 3.0. This inplace method will never work because the intermediate object on which we are setting values always behaves as a copy.\n",
      "\n",
      "For example, when doing 'df[col].method(value, inplace=True)', try using 'df.method({col: value}, inplace=True)' or df[col] = df[col].method(value) instead, to perform the operation inplace on the original object.\n",
      "\n",
      "\n",
      "  df[\"Class\"].replace({1: 0, 2: 1}, inplace=True)\n"
     ]
    },
    {
     "data": {
      "text/html": [
       "<div>\n",
       "<style scoped>\n",
       "    .dataframe tbody tr th:only-of-type {\n",
       "        vertical-align: middle;\n",
       "    }\n",
       "\n",
       "    .dataframe tbody tr th {\n",
       "        vertical-align: top;\n",
       "    }\n",
       "\n",
       "    .dataframe thead th {\n",
       "        text-align: right;\n",
       "    }\n",
       "</style>\n",
       "<table border=\"1\" class=\"dataframe\">\n",
       "  <thead>\n",
       "    <tr style=\"text-align: right;\">\n",
       "      <th></th>\n",
       "      <th>Age</th>\n",
       "      <th>Op_year</th>\n",
       "      <th>Axil_nodes</th>\n",
       "      <th>Class</th>\n",
       "    </tr>\n",
       "  </thead>\n",
       "  <tbody>\n",
       "    <tr>\n",
       "      <th>0</th>\n",
       "      <td>30</td>\n",
       "      <td>62</td>\n",
       "      <td>3</td>\n",
       "      <td>0</td>\n",
       "    </tr>\n",
       "    <tr>\n",
       "      <th>1</th>\n",
       "      <td>30</td>\n",
       "      <td>65</td>\n",
       "      <td>0</td>\n",
       "      <td>0</td>\n",
       "    </tr>\n",
       "    <tr>\n",
       "      <th>2</th>\n",
       "      <td>31</td>\n",
       "      <td>59</td>\n",
       "      <td>2</td>\n",
       "      <td>0</td>\n",
       "    </tr>\n",
       "    <tr>\n",
       "      <th>3</th>\n",
       "      <td>31</td>\n",
       "      <td>65</td>\n",
       "      <td>4</td>\n",
       "      <td>0</td>\n",
       "    </tr>\n",
       "    <tr>\n",
       "      <th>4</th>\n",
       "      <td>33</td>\n",
       "      <td>58</td>\n",
       "      <td>10</td>\n",
       "      <td>0</td>\n",
       "    </tr>\n",
       "  </tbody>\n",
       "</table>\n",
       "</div>"
      ],
      "text/plain": [
       "   Age  Op_year  Axil_nodes  Class\n",
       "0   30       62           3      0\n",
       "1   30       65           0      0\n",
       "2   31       59           2      0\n",
       "3   31       65           4      0\n",
       "4   33       58          10      0"
      ]
     },
     "execution_count": 24,
     "metadata": {},
     "output_type": "execute_result"
    }
   ],
   "source": [
    "df = df.rename(columns={\"Surv_status\": \"Class\"})\n",
    "df[\"Class\"].replace({1: 0, 2: 1}, inplace=True)\n",
    "df.head()"
   ]
  },
  {
   "cell_type": "markdown",
   "metadata": {},
   "source": [
    "### Verificando a corretude das classes"
   ]
  },
  {
   "cell_type": "code",
   "execution_count": 25,
   "metadata": {},
   "outputs": [
    {
     "data": {
      "text/plain": [
       "array([0, 1])"
      ]
     },
     "execution_count": 25,
     "metadata": {},
     "output_type": "execute_result"
    }
   ],
   "source": [
    "df[\"Class\"].unique()"
   ]
  },
  {
   "cell_type": "markdown",
   "metadata": {},
   "source": [
    "### Armazenando as classes em uma variável separada"
   ]
  },
  {
   "cell_type": "code",
   "execution_count": 26,
   "metadata": {},
   "outputs": [
    {
     "data": {
      "text/plain": [
       "array([0, 0, 0, 0, 0, 0, 1, 1, 0, 0, 0, 0, 0, 0, 0, 0, 0, 0, 0, 0, 0, 0,\n",
       "       0, 1, 0, 0, 0, 0, 0, 0, 0, 0, 0, 1, 0, 0, 0, 0, 0, 0, 0, 0, 1, 1,\n",
       "       1, 0, 0, 0, 0, 0, 0, 0, 1, 1, 0, 0, 0, 0, 0, 0, 0, 1, 1, 1, 1, 0,\n",
       "       0, 0, 0, 0, 0, 0, 1, 1, 1, 0, 0, 0, 0, 1, 1, 1, 0, 0, 0, 0, 0, 0,\n",
       "       1, 1, 1, 1, 0, 0, 0, 1, 1, 1, 0, 0, 0, 0, 0, 0, 0, 0, 1, 1, 1, 0,\n",
       "       0, 0, 0, 1, 1, 0, 0, 0, 0, 0, 0, 0, 0, 1, 1, 0, 0, 0, 0, 0, 0, 0,\n",
       "       0, 0, 0, 1, 1, 0, 0, 0, 0, 1, 1, 1, 1, 0, 0, 0, 0, 0, 0, 0, 0, 0,\n",
       "       0, 1, 1, 1, 1, 1, 1, 0, 0, 0, 0, 0, 1, 1, 1, 1, 0, 0, 0, 0, 0, 0,\n",
       "       0, 0, 0, 1, 1, 0, 0, 0, 0, 0, 0, 0, 0, 1, 1, 0, 0, 0, 0, 0, 1, 1,\n",
       "       1, 0, 0, 0, 0, 0, 0, 0, 0, 0, 0, 0, 0, 0, 0, 0, 1, 0, 0, 0, 0, 0,\n",
       "       0, 0, 1, 1, 0, 0, 0, 0, 1, 1, 1, 0, 0, 0, 0, 0, 0, 1, 1, 1, 0, 0,\n",
       "       0, 0, 1, 0, 0, 0, 0, 0, 0, 0, 0, 0, 0, 0, 0, 1, 1, 1, 1, 0, 0, 0,\n",
       "       0, 0, 0, 1, 1, 0, 0, 0, 1, 1, 0, 0, 0, 0, 0, 0, 1, 0, 0, 0, 1, 1,\n",
       "       0, 0, 0, 0, 0, 0, 1, 0, 0, 0, 0, 0, 1, 0, 0, 0, 0, 1, 1])"
      ]
     },
     "execution_count": 26,
     "metadata": {},
     "output_type": "execute_result"
    }
   ],
   "source": [
    "labels = df[\"Class\"].values\n",
    "labels"
   ]
  },
  {
   "cell_type": "markdown",
   "metadata": {},
   "source": [
    "### Isolando os dados da classe"
   ]
  },
  {
   "cell_type": "code",
   "execution_count": 27,
   "metadata": {},
   "outputs": [
    {
     "data": {
      "text/html": [
       "<div>\n",
       "<style scoped>\n",
       "    .dataframe tbody tr th:only-of-type {\n",
       "        vertical-align: middle;\n",
       "    }\n",
       "\n",
       "    .dataframe tbody tr th {\n",
       "        vertical-align: top;\n",
       "    }\n",
       "\n",
       "    .dataframe thead th {\n",
       "        text-align: right;\n",
       "    }\n",
       "</style>\n",
       "<table border=\"1\" class=\"dataframe\">\n",
       "  <thead>\n",
       "    <tr style=\"text-align: right;\">\n",
       "      <th></th>\n",
       "      <th>Age</th>\n",
       "      <th>Op_year</th>\n",
       "      <th>Axil_nodes</th>\n",
       "    </tr>\n",
       "  </thead>\n",
       "  <tbody>\n",
       "    <tr>\n",
       "      <th>0</th>\n",
       "      <td>30</td>\n",
       "      <td>62</td>\n",
       "      <td>3</td>\n",
       "    </tr>\n",
       "    <tr>\n",
       "      <th>1</th>\n",
       "      <td>30</td>\n",
       "      <td>65</td>\n",
       "      <td>0</td>\n",
       "    </tr>\n",
       "    <tr>\n",
       "      <th>2</th>\n",
       "      <td>31</td>\n",
       "      <td>59</td>\n",
       "      <td>2</td>\n",
       "    </tr>\n",
       "    <tr>\n",
       "      <th>3</th>\n",
       "      <td>31</td>\n",
       "      <td>65</td>\n",
       "      <td>4</td>\n",
       "    </tr>\n",
       "    <tr>\n",
       "      <th>4</th>\n",
       "      <td>33</td>\n",
       "      <td>58</td>\n",
       "      <td>10</td>\n",
       "    </tr>\n",
       "  </tbody>\n",
       "</table>\n",
       "</div>"
      ],
      "text/plain": [
       "   Age  Op_year  Axil_nodes\n",
       "0   30       62           3\n",
       "1   30       65           0\n",
       "2   31       59           2\n",
       "3   31       65           4\n",
       "4   33       58          10"
      ]
     },
     "execution_count": 27,
     "metadata": {},
     "output_type": "execute_result"
    }
   ],
   "source": [
    "df.drop(\"Class\", axis=1, inplace=True)\n",
    "df.head()"
   ]
  },
  {
   "cell_type": "markdown",
   "metadata": {},
   "source": [
    "### Transformando os dados em uma array"
   ]
  },
  {
   "cell_type": "code",
   "execution_count": 28,
   "metadata": {},
   "outputs": [
    {
     "data": {
      "text/plain": [
       "array([[30, 62,  3],\n",
       "       [30, 65,  0],\n",
       "       [31, 59,  2],\n",
       "       [31, 65,  4],\n",
       "       [33, 58, 10],\n",
       "       [33, 60,  0],\n",
       "       [34, 59,  0],\n",
       "       [34, 66,  9],\n",
       "       [34, 58, 30],\n",
       "       [34, 60,  1],\n",
       "       [34, 61, 10],\n",
       "       [34, 67,  7],\n",
       "       [34, 60,  0],\n",
       "       [35, 64, 13],\n",
       "       [35, 63,  0],\n",
       "       [36, 60,  1],\n",
       "       [36, 69,  0],\n",
       "       [37, 60,  0],\n",
       "       [37, 63,  0],\n",
       "       [37, 58,  0],\n",
       "       [37, 59,  6],\n",
       "       [37, 60, 15],\n",
       "       [37, 63,  0],\n",
       "       [38, 69, 21],\n",
       "       [38, 59,  2],\n",
       "       [38, 60,  0],\n",
       "       [38, 60,  0],\n",
       "       [38, 62,  3],\n",
       "       [38, 64,  1],\n",
       "       [38, 66,  0],\n",
       "       [38, 66, 11],\n",
       "       [38, 60,  1],\n",
       "       [38, 67,  5],\n",
       "       [39, 66,  0],\n",
       "       [39, 63,  0],\n",
       "       [39, 67,  0],\n",
       "       [39, 58,  0],\n",
       "       [39, 59,  2],\n",
       "       [39, 63,  4],\n",
       "       [40, 58,  2],\n",
       "       [40, 58,  0],\n",
       "       [40, 65,  0],\n",
       "       [41, 60, 23],\n",
       "       [41, 64,  0],\n",
       "       [41, 67,  0],\n",
       "       [41, 58,  0],\n",
       "       [41, 59,  8],\n",
       "       [41, 59,  0],\n",
       "       [41, 64,  0],\n",
       "       [41, 69,  8],\n",
       "       [41, 65,  0],\n",
       "       [41, 65,  0],\n",
       "       [42, 69,  1],\n",
       "       [42, 59,  0],\n",
       "       [42, 58,  0],\n",
       "       [42, 60,  1],\n",
       "       [42, 59,  2],\n",
       "       [42, 61,  4],\n",
       "       [42, 62, 20],\n",
       "       [42, 65,  0],\n",
       "       [42, 63,  1],\n",
       "       [43, 58, 52],\n",
       "       [43, 59,  2],\n",
       "       [43, 64,  0],\n",
       "       [43, 64,  0],\n",
       "       [43, 63, 14],\n",
       "       [43, 64,  2],\n",
       "       [43, 64,  3],\n",
       "       [43, 60,  0],\n",
       "       [43, 63,  2],\n",
       "       [43, 65,  0],\n",
       "       [43, 66,  4],\n",
       "       [44, 64,  6],\n",
       "       [44, 58,  9],\n",
       "       [44, 63, 19],\n",
       "       [44, 61,  0],\n",
       "       [44, 63,  1],\n",
       "       [44, 61,  0],\n",
       "       [44, 67, 16],\n",
       "       [45, 65,  6],\n",
       "       [45, 66,  0],\n",
       "       [45, 67,  1],\n",
       "       [45, 60,  0],\n",
       "       [45, 67,  0],\n",
       "       [45, 59, 14],\n",
       "       [45, 64,  0],\n",
       "       [45, 68,  0],\n",
       "       [45, 67,  1],\n",
       "       [46, 58,  2],\n",
       "       [46, 69,  3],\n",
       "       [46, 62,  5],\n",
       "       [46, 65, 20],\n",
       "       [46, 62,  0],\n",
       "       [46, 58,  3],\n",
       "       [46, 63,  0],\n",
       "       [47, 63, 23],\n",
       "       [47, 62,  0],\n",
       "       [47, 65,  0],\n",
       "       [47, 61,  0],\n",
       "       [47, 63,  6],\n",
       "       [47, 66,  0],\n",
       "       [47, 67,  0],\n",
       "       [47, 58,  3],\n",
       "       [47, 60,  4],\n",
       "       [47, 68,  4],\n",
       "       [47, 66, 12],\n",
       "       [48, 58, 11],\n",
       "       [48, 58, 11],\n",
       "       [48, 67,  7],\n",
       "       [48, 61,  8],\n",
       "       [48, 62,  2],\n",
       "       [48, 64,  0],\n",
       "       [48, 66,  0],\n",
       "       [49, 63,  0],\n",
       "       [49, 64, 10],\n",
       "       [49, 61,  1],\n",
       "       [49, 62,  0],\n",
       "       [49, 66,  0],\n",
       "       [49, 60,  1],\n",
       "       [49, 62,  1],\n",
       "       [49, 63,  3],\n",
       "       [49, 61,  0],\n",
       "       [49, 67,  1],\n",
       "       [50, 63, 13],\n",
       "       [50, 64,  0],\n",
       "       [50, 59,  0],\n",
       "       [50, 61,  6],\n",
       "       [50, 61,  0],\n",
       "       [50, 63,  1],\n",
       "       [50, 58,  1],\n",
       "       [50, 59,  2],\n",
       "       [50, 61,  0],\n",
       "       [50, 64,  0],\n",
       "       [50, 65,  4],\n",
       "       [50, 66,  1],\n",
       "       [51, 59, 13],\n",
       "       [51, 59,  3],\n",
       "       [51, 64,  7],\n",
       "       [51, 59,  1],\n",
       "       [51, 65,  0],\n",
       "       [51, 66,  1],\n",
       "       [52, 69,  3],\n",
       "       [52, 59,  2],\n",
       "       [52, 62,  3],\n",
       "       [52, 66,  4],\n",
       "       [52, 61,  0],\n",
       "       [52, 63,  4],\n",
       "       [52, 69,  0],\n",
       "       [52, 60,  4],\n",
       "       [52, 60,  5],\n",
       "       [52, 62,  0],\n",
       "       [52, 62,  1],\n",
       "       [52, 64,  0],\n",
       "       [52, 65,  0],\n",
       "       [52, 68,  0],\n",
       "       [53, 58,  4],\n",
       "       [53, 65,  1],\n",
       "       [53, 59,  3],\n",
       "       [53, 60,  9],\n",
       "       [53, 63, 24],\n",
       "       [53, 65, 12],\n",
       "       [53, 58,  1],\n",
       "       [53, 60,  1],\n",
       "       [53, 60,  2],\n",
       "       [53, 61,  1],\n",
       "       [53, 63,  0],\n",
       "       [54, 60, 11],\n",
       "       [54, 65, 23],\n",
       "       [54, 65,  5],\n",
       "       [54, 68,  7],\n",
       "       [54, 59,  7],\n",
       "       [54, 60,  3],\n",
       "       [54, 66,  0],\n",
       "       [54, 67, 46],\n",
       "       [54, 62,  0],\n",
       "       [54, 69,  7],\n",
       "       [54, 63, 19],\n",
       "       [54, 58,  1],\n",
       "       [54, 62,  0],\n",
       "       [55, 63,  6],\n",
       "       [55, 68, 15],\n",
       "       [55, 58,  1],\n",
       "       [55, 58,  0],\n",
       "       [55, 58,  1],\n",
       "       [55, 66, 18],\n",
       "       [55, 66,  0],\n",
       "       [55, 69,  3],\n",
       "       [55, 69, 22],\n",
       "       [55, 67,  1],\n",
       "       [56, 65,  9],\n",
       "       [56, 66,  3],\n",
       "       [56, 60,  0],\n",
       "       [56, 66,  2],\n",
       "       [56, 66,  1],\n",
       "       [56, 67,  0],\n",
       "       [56, 60,  0],\n",
       "       [57, 61,  5],\n",
       "       [57, 62, 14],\n",
       "       [57, 64,  1],\n",
       "       [57, 64,  9],\n",
       "       [57, 69,  0],\n",
       "       [57, 61,  0],\n",
       "       [57, 62,  0],\n",
       "       [57, 63,  0],\n",
       "       [57, 64,  0],\n",
       "       [57, 64,  0],\n",
       "       [57, 67,  0],\n",
       "       [58, 59,  0],\n",
       "       [58, 60,  3],\n",
       "       [58, 61,  1],\n",
       "       [58, 67,  0],\n",
       "       [58, 58,  0],\n",
       "       [58, 58,  3],\n",
       "       [58, 61,  2],\n",
       "       [59, 62, 35],\n",
       "       [59, 60,  0],\n",
       "       [59, 63,  0],\n",
       "       [59, 64,  1],\n",
       "       [59, 64,  4],\n",
       "       [59, 64,  0],\n",
       "       [59, 64,  7],\n",
       "       [59, 67,  3],\n",
       "       [60, 59, 17],\n",
       "       [60, 65,  0],\n",
       "       [60, 61,  1],\n",
       "       [60, 67,  2],\n",
       "       [60, 61, 25],\n",
       "       [60, 64,  0],\n",
       "       [61, 62,  5],\n",
       "       [61, 65,  0],\n",
       "       [61, 68,  1],\n",
       "       [61, 59,  0],\n",
       "       [61, 59,  0],\n",
       "       [61, 64,  0],\n",
       "       [61, 65,  8],\n",
       "       [61, 68,  0],\n",
       "       [61, 59,  0],\n",
       "       [62, 59, 13],\n",
       "       [62, 58,  0],\n",
       "       [62, 65, 19],\n",
       "       [62, 62,  6],\n",
       "       [62, 66,  0],\n",
       "       [62, 66,  0],\n",
       "       [62, 58,  0],\n",
       "       [63, 60,  1],\n",
       "       [63, 61,  0],\n",
       "       [63, 62,  0],\n",
       "       [63, 63,  0],\n",
       "       [63, 63,  0],\n",
       "       [63, 66,  0],\n",
       "       [63, 61,  9],\n",
       "       [63, 61, 28],\n",
       "       [64, 58,  0],\n",
       "       [64, 65, 22],\n",
       "       [64, 66,  0],\n",
       "       [64, 61,  0],\n",
       "       [64, 68,  0],\n",
       "       [65, 58,  0],\n",
       "       [65, 61,  2],\n",
       "       [65, 62, 22],\n",
       "       [65, 66, 15],\n",
       "       [65, 58,  0],\n",
       "       [65, 64,  0],\n",
       "       [65, 67,  0],\n",
       "       [65, 59,  2],\n",
       "       [65, 64,  0],\n",
       "       [65, 67,  1],\n",
       "       [66, 58,  0],\n",
       "       [66, 61, 13],\n",
       "       [66, 58,  0],\n",
       "       [66, 58,  1],\n",
       "       [66, 68,  0],\n",
       "       [67, 64,  8],\n",
       "       [67, 63,  1],\n",
       "       [67, 66,  0],\n",
       "       [67, 66,  0],\n",
       "       [67, 61,  0],\n",
       "       [67, 65,  0],\n",
       "       [68, 67,  0],\n",
       "       [68, 68,  0],\n",
       "       [69, 67,  8],\n",
       "       [69, 60,  0],\n",
       "       [69, 65,  0],\n",
       "       [69, 66,  0],\n",
       "       [70, 58,  0],\n",
       "       [70, 58,  4],\n",
       "       [70, 66, 14],\n",
       "       [70, 67,  0],\n",
       "       [70, 68,  0],\n",
       "       [70, 59,  8],\n",
       "       [70, 63,  0],\n",
       "       [71, 68,  2],\n",
       "       [72, 63,  0],\n",
       "       [72, 58,  0],\n",
       "       [72, 64,  0],\n",
       "       [72, 67,  3],\n",
       "       [73, 62,  0],\n",
       "       [73, 68,  0],\n",
       "       [74, 65,  3],\n",
       "       [74, 63,  0],\n",
       "       [75, 62,  1],\n",
       "       [76, 67,  0],\n",
       "       [77, 65,  3],\n",
       "       [78, 65,  1],\n",
       "       [83, 58,  2]])"
      ]
     },
     "execution_count": 28,
     "metadata": {},
     "output_type": "execute_result"
    }
   ],
   "source": [
    "data = df.to_numpy()\n",
    "data"
   ]
  },
  {
   "cell_type": "markdown",
   "metadata": {},
   "source": [
    "## Clustering"
   ]
  },
  {
   "cell_type": "markdown",
   "metadata": {},
   "source": [
    "### Inicialização da matriz de pertinência"
   ]
  },
  {
   "cell_type": "markdown",
   "metadata": {},
   "source": [
    "A matriz de pertinência é inicializada aleatoriamente $u_{ik}(i=1,...c$ e $k=1,...,n)$ do objeto $k$ pertencente ao grupo $C_i$ tal que:\n",
    "- $u_{ik} \\in [0,1]$;\n",
    "- $0 < \\sum_{k=1}^nu_{ik} < n$;\n",
    "- $\\sum_{i=1}^cu_{ik}=1$ para todo $k \\in \\Omega$."
   ]
  },
  {
   "cell_type": "code",
   "execution_count": 29,
   "metadata": {},
   "outputs": [],
   "source": [
    "def init_membership_matrix(n, k):\n",
    "    membership_matrix = np.random.rand(n, k) # gera uma matriz inicial aleatória com valores entre 0 e 1\n",
    "    membership_matrix = membership_matrix / membership_matrix.sum(axis=1, keepdims=True) # normalização da matriz pra garantir que a soma dos graus dê um\n",
    "    return membership_matrix"
   ]
  },
  {
   "cell_type": "markdown",
   "metadata": {},
   "source": [
    "### Inicialização dos medoides"
   ]
  },
  {
   "cell_type": "markdown",
   "metadata": {},
   "source": [
    "#### 1. Primeiro Medoide\n",
    "Selecione o primeiro medoide $m_1$ como o ponto com a menor distância total para todos os outros pontos no conjunto de dados $X$, com $n$ amostras:\n",
    "\n",
    "\n",
    "$m_1 = \\arg \\min_i \\left( \\sum_{j=1}^{n} d(x_i, x_j) \\right)$\n",
    "\n",
    "\n",
    "onde $d(x_i, x_j)$ representa a dissimilaridade entre os pontos $x_i$ e $x_j$.\n",
    "\n",
    "#### 2. Próximos Medoides\n",
    "Para cada próximo medoide $m_k$, com $k = 2, \\dots, c$, encontre o ponto $x$ que maximize a menor distância em relação aos medoides já selecionados. Para cada ponto candidato $x$ (ainda não selecionado como medoide), calcule:\n",
    "\n",
    "\n",
    "$\\text{dist\\_mínima}(x) = \\min_{m_j \\in \\{m_1, \\dots, m_{k-1}\\}} d(x, m_j)$\n",
    "\n",
    "\n",
    "Então, selecione o ponto $x$ com a maior distância mínima como o próximo medoide:\n",
    "\n",
    "\n",
    "$m_k = \\arg \\max_{x \\in X \\setminus \\{m_1, \\dots, m_{k-1}\\}} \\left( \\min_{m_j \\in \\{m_1, \\dots, m_{k-1}\\}} d(x, m_j) \\right)$"
   ]
  },
  {
   "cell_type": "code",
   "execution_count": 30,
   "metadata": {},
   "outputs": [],
   "source": [
    "def init_medoids(X, c):\n",
    "    distances = pairwise_distances(X) # calcula todas as distâncias entre os pontos uma vez só\n",
    "\n",
    "    total_distances = np.sum(distances, axis=1) # primeiro medoide: menor soma de distâncias\n",
    "    first_medoid_idx = np.argmin(total_distances)\n",
    "\n",
    "    medoids_indices = [first_medoid_idx] # armazena os índices dos medoides\n",
    "\n",
    "    for _ in range(1, c): # para os outros medoides\n",
    "        max_min_dist = -np.inf # armazena a distância\n",
    "        next_medoid_idx = -1 # armazena o índice do medoide escolhido\n",
    "\n",
    "        for i in range(len(X)):\n",
    "            if i in medoids_indices: # se o ponto já for um medoide\n",
    "                continue\n",
    "\n",
    "            min_dist_to_medoids = np.min(distances[i, medoids_indices]) # calcula a menor distância deste ponto para qualquer medoide já escolhido\n",
    "\n",
    "            if min_dist_to_medoids > max_min_dist:\n",
    "                max_min_dist = min_dist_to_medoids\n",
    "                next_medoid_idx = i\n",
    "\n",
    "        medoids_indices.append(next_medoid_idx)\n",
    "\n",
    "    return X[medoids_indices]"
   ]
  },
  {
   "cell_type": "markdown",
   "metadata": {},
   "source": [
    "### Atualização da matriz de pertinência"
   ]
  },
  {
   "cell_type": "markdown",
   "metadata": {},
   "source": [
    "Fixo o protótipo, os graus de pertinência são atualizados com base nessa equação:\n",
    "\n",
    "#### $u_{ik} = [\\sum_{l=1}^c(\\frac{d(x_k,v_i)}{d(x_k,v_l)})^{\\frac{1}{m-1}}]^{-1}$"
   ]
  },
  {
   "cell_type": "code",
   "execution_count": 31,
   "metadata": {},
   "outputs": [],
   "source": [
    "def update_membership_matrix(data, medoids, m):\n",
    "    distance_matrix = pairwise_distances(data, medoids, metric='euclidean') ** 2\n",
    "    distance_matrix = np.fmax(distance_matrix, np.finfo(np.float64).eps)  # evita que matriz_distancias seja 0, np.finfo... é o menor número maior que zero aqui\n",
    "    \n",
    "    inverse_distance_matrix = 1 / distance_matrix\n",
    "    power = 1 / (m - 1)\n",
    "    updated_membership_matrix = (inverse_distance_matrix ** power) / np.sum(inverse_distance_matrix ** power, axis=1, keepdims=True) # fórmula para atualizar os graus de pertinência\n",
    "    \n",
    "    return updated_membership_matrix"
   ]
  },
  {
   "cell_type": "markdown",
   "metadata": {},
   "source": [
    "### Atualização dos medoides"
   ]
  },
  {
   "cell_type": "markdown",
   "metadata": {},
   "source": [
    "Fixo os graus de pertinência, os centroides são atualizados com base nessa equação:\n",
    "\n",
    "#### $q = \\arg \\min_{1 \\leq j \\leq n} \\sum_{k=1}^{n} \\left( u_{ik} \\right)^m \\cdot d(x_j, x_k)$\n",
    "\n",
    "Essa fórmula busca, para cada medoide $m_i$, o ponto $p \\in C_i$ que minimiza a soma das distâncias dentro do cluster, garantindo que o novo medoide minimize o custo de distância."
   ]
  },
  {
   "cell_type": "code",
   "execution_count": 32,
   "metadata": {},
   "outputs": [],
   "source": [
    "def update_medoids(X, membership_matrix, m=2):\n",
    "    n, c = X.shape[0], membership_matrix.shape[1]\n",
    "    distances = pairwise_distances(X, X)\n",
    "    updated_medoids_indices = []\n",
    "\n",
    "    for i in range(c):  # para cada cluster\n",
    "        # custo ponderado total para cada possível medoide j\n",
    "        costs = np.array([\n",
    "            np.sum((membership_matrix[:, i] ** m) * distances[j, :])\n",
    "            for j in range(n)\n",
    "        ])\n",
    "\n",
    "        # seleciona o ponto com menor custo como novo medoide\n",
    "        best_medoid_idx = np.argmin(costs)\n",
    "        updated_medoids_indices.append(best_medoid_idx)\n",
    "\n",
    "    return X[updated_medoids_indices]"
   ]
  },
  {
   "cell_type": "markdown",
   "metadata": {},
   "source": [
    "### Fuzzy C-Medoids (FCMdd)"
   ]
  },
  {
   "cell_type": "markdown",
   "metadata": {},
   "source": [
    "Etapas:\n",
    "- Inicialização da matriz de pertinência\n",
    "- Inicialização dos medoides\n",
    "- Atualização da matriz de pertinência\n",
    "- Atualização dos medoides\n",
    "\n",
    "Critérios de parada:\n",
    "- Convergência (entre os medoides)\n",
    "- Número máximo de iterações"
   ]
  },
  {
   "cell_type": "code",
   "execution_count": 33,
   "metadata": {},
   "outputs": [],
   "source": [
    "def fcmdd(data, k, m=2, max_iter=1000000):\n",
    "    n = data.shape[0]\n",
    "    membership_matrix = init_membership_matrix(n, k)\n",
    "    medoids = init_medoids(data, k)\n",
    "    for _ in range(max_iter):\n",
    "        membership_matrix = update_membership_matrix(data, medoids, m)\n",
    "        new_medoids = update_medoids(data, membership_matrix, m)\n",
    "        if np.array_equal(medoids, new_medoids): # se os medoides não mudaram, para\n",
    "            break\n",
    "        medoids = new_medoids\n",
    "    return medoids, membership_matrix"
   ]
  },
  {
   "cell_type": "markdown",
   "metadata": {},
   "source": [
    "### Índice de Rand Ajustado (IRA)"
   ]
  },
  {
   "cell_type": "code",
   "execution_count": 34,
   "metadata": {},
   "outputs": [],
   "source": [
    "def indice_ami(labels, predicted_labels):\n",
    "    return adjusted_mutual_info_score(labels, predicted_labels)"
   ]
  },
  {
   "cell_type": "markdown",
   "metadata": {},
   "source": [
    "### Simulação de Monte Carlo"
   ]
  },
  {
   "cell_type": "code",
   "execution_count": 35,
   "metadata": {},
   "outputs": [],
   "source": [
    "def monte_carlo_fuzzy_simulation(X, true_labels, k, m=2, num_trials=100):\n",
    "    results = []\n",
    "    for trial in range(num_trials):\n",
    "        medoids, membership_matrix = fcmdd(X, k, m)\n",
    "        predicted_labels = np.argmax(membership_matrix, axis=1)\n",
    "        ami_idx = indice_ami(true_labels, predicted_labels)\n",
    "        results.append(ami_idx)\n",
    "\n",
    "    mean_ami = np.mean(results)\n",
    "    std_ami = np.std(results)\n",
    "    return mean_ami, std_ami"
   ]
  },
  {
   "cell_type": "markdown",
   "metadata": {},
   "source": [
    "### Definição de parâmetros e execução do método"
   ]
  },
  {
   "cell_type": "code",
   "execution_count": 36,
   "metadata": {},
   "outputs": [
    {
     "name": "stdout",
     "output_type": "stream",
     "text": [
      "Monte Carlo FCMdd Clustering Results (100 trials)\n",
      "Mean Adjusted Mutual Information: 0.0733\n",
      "Standard Deviation of Adjusted Mutual Information: 0.0000\n"
     ]
    }
   ],
   "source": [
    "k = 2\n",
    "num_trials = 100\n",
    "m = 2\n",
    "mean_ami, std_ami = monte_carlo_fuzzy_simulation(data, labels, k, m, num_trials)\n",
    "\n",
    "print(f\"Monte Carlo FCMdd Clustering Results ({num_trials} trials)\")\n",
    "print(f\"Mean Adjusted Mutual Information: {mean_ami:.4f}\")\n",
    "print(f\"Standard Deviation of Adjusted Mutual Information: {std_ami:.4f}\")"
   ]
  }
 ],
 "metadata": {
  "kernelspec": {
   "display_name": "Python 3",
   "language": "python",
   "name": "python3"
  },
  "language_info": {
   "codemirror_mode": {
    "name": "ipython",
    "version": 3
   },
   "file_extension": ".py",
   "mimetype": "text/x-python",
   "name": "python",
   "nbconvert_exporter": "python",
   "pygments_lexer": "ipython3",
   "version": "3.12.1"
  }
 },
 "nbformat": 4,
 "nbformat_minor": 2
}
